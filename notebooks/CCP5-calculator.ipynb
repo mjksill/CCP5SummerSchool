{
 "cells": [
  {
   "cell_type": "markdown",
   "metadata": {},
   "source": [
    "# Python is a Calculator\n",
    "\n",
    "In this notebook, we take the view (and use) Python as a calculator.  We start by looking at what mathematical operations look like in Python, and then we tackle an example you should be familiar with from basic chemistry."
   ]
  },
  {
   "cell_type": "markdown",
   "metadata": {},
   "source": [
    "Python has all the basic arithmetic operations you'd expect in a calculator.\n",
    "\n",
    "You can add:"
   ]
  },
  {
   "cell_type": "code",
   "execution_count": null,
   "metadata": {},
   "outputs": [],
   "source": [
    "85 + 14"
   ]
  },
  {
   "cell_type": "markdown",
   "metadata": {},
   "source": [
    "You can subtract:"
   ]
  },
  {
   "cell_type": "code",
   "execution_count": null,
   "metadata": {},
   "outputs": [],
   "source": [
    "1298 - 537"
   ]
  },
  {
   "cell_type": "markdown",
   "metadata": {},
   "source": [
    "You can multiply:"
   ]
  },
  {
   "cell_type": "code",
   "execution_count": null,
   "metadata": {},
   "outputs": [],
   "source": [
    "42*53"
   ]
  },
  {
   "cell_type": "markdown",
   "metadata": {},
   "source": [
    "You can divide:"
   ]
  },
  {
   "cell_type": "code",
   "execution_count": null,
   "metadata": {},
   "outputs": [],
   "source": [
    "15527 / 93"
   ]
  },
  {
   "cell_type": "markdown",
   "metadata": {},
   "source": [
    "You can also raise a number to a power:"
   ]
  },
  {
   "cell_type": "code",
   "execution_count": null,
   "metadata": {},
   "outputs": [],
   "source": [
    "5**32"
   ]
  },
  {
   "cell_type": "markdown",
   "metadata": {},
   "source": [
    "And you can get the modulo (like a remainder) of a number and a divisor:"
   ]
  },
  {
   "cell_type": "code",
   "execution_count": null,
   "metadata": {},
   "outputs": [],
   "source": [
    "27 % 5"
   ]
  },
  {
   "cell_type": "markdown",
   "metadata": {},
   "source": [
    "You can string operations together following the normal order of operations (brackets, power, multiplication and division, addition and subtraction):"
   ]
  },
  {
   "cell_type": "code",
   "execution_count": null,
   "metadata": {},
   "outputs": [],
   "source": [
    "5 + 2*3 - 6/2"
   ]
  },
  {
   "cell_type": "markdown",
   "metadata": {},
   "source": [
    "And, of course, like with a calculator you can use brackets to group calculations:"
   ]
  },
  {
   "cell_type": "code",
   "execution_count": null,
   "metadata": {},
   "outputs": [],
   "source": [
    "((5 + 2)*3 - 6)/2"
   ]
  },
  {
   "cell_type": "markdown",
   "metadata": {},
   "source": [
    "Another thing to mention is that numbers can be multiplied by factors of ten, in order to write them in scientific notation, by following a number by a letter `e` and an integer.  For example, the numbers $1.56\\times10^4$ can be written as"
   ]
  },
  {
   "cell_type": "code",
   "execution_count": null,
   "metadata": {},
   "outputs": [],
   "source": [
    "1.56e4\n"
   ]
  },
  {
   "cell_type": "markdown",
   "metadata": {},
   "source": [
    "and $2.5\\times10^{-3}$ can be written as"
   ]
  },
  {
   "cell_type": "code",
   "execution_count": null,
   "metadata": {},
   "outputs": [],
   "source": [
    "2.5e-3"
   ]
  },
  {
   "cell_type": "markdown",
   "metadata": {},
   "source": [
    "## Summary of mathematical operators\n",
    "\n",
    "A summary of all the available mathematical operators is given in the table below:\n",
    "\n",
    "\n",
    "| Symbol | Task Performed |\n",
    "|----|---|\n",
    "| +  | Addition |\n",
    "| -  | Subtraction |\n",
    "| /  | division |\n",
    "| %  | modulus (think remainder of division) |\n",
    "| *  | multiplication |\n",
    "| //  | floor division (divide and round down) |\n",
    "| **  | to the power of |\n",
    "\n",
    "Later, we will discuss the use of external libraries.  Some of these, such as `pandas`, really expand on the operators, with bitwise/element-wise and (&), or (|), not (~) becoming important.   We will discuss those later. "
   ]
  },
  {
   "cell_type": "markdown",
   "metadata": {
    "jp-MarkdownHeadingCollapsed": true
   },
   "source": [
    "## Example exercise\n",
    "\n",
    "The following is the composition of a gas expressed as a weight percent.  Express the molar composition.\n",
    "\n",
    "\n",
    "| gas | weight % | molecular mass           |\n",
    "|:--- | --- | --- |\n",
    "|             |          | g mol$^{-1}$ |\n",
    "| O$_2$       |     16.0 |       32.0 |\n",
    "| CO          |      4.0 |       28.0 |\n",
    "| CO$_2$      |     17.0 |       44.0 |\n",
    "| N$_2$       |     63.0 |       28.0 |\n"
   ]
  },
  {
   "cell_type": "markdown",
   "metadata": {},
   "source": [
    "We can use Python to calculate the moles of each component.\n",
    "\n",
    "Moles of O$_2$:"
   ]
  },
  {
   "cell_type": "code",
   "execution_count": null,
   "metadata": {},
   "outputs": [],
   "source": [
    "16.0 / 32.0"
   ]
  },
  {
   "cell_type": "markdown",
   "metadata": {},
   "source": [
    "Moles of CO:"
   ]
  },
  {
   "cell_type": "code",
   "execution_count": null,
   "metadata": {},
   "outputs": [],
   "source": [
    "4.0 / 28.0"
   ]
  },
  {
   "cell_type": "markdown",
   "metadata": {},
   "source": [
    "Moles of CO$_2$"
   ]
  },
  {
   "cell_type": "code",
   "execution_count": null,
   "metadata": {},
   "outputs": [],
   "source": [
    "14.0/ 44.0"
   ]
  },
  {
   "cell_type": "markdown",
   "metadata": {},
   "source": [
    "Moles of N$_2$"
   ]
  },
  {
   "cell_type": "code",
   "execution_count": null,
   "metadata": {},
   "outputs": [],
   "source": [
    "63.0 / 28.0"
   ]
  },
  {
   "cell_type": "markdown",
   "metadata": {},
   "source": [
    "With the number of moles of each component, we can now calculate the total number of moles for our basis unit mass.\n",
    "\n",
    "Total number of moles:"
   ]
  },
  {
   "cell_type": "code",
   "execution_count": null,
   "metadata": {},
   "outputs": [],
   "source": [
    "0.5 + 0.14285714285714285 + 0.3181818181818182 + 2.25"
   ]
  },
  {
   "cell_type": "markdown",
   "metadata": {},
   "source": [
    "The mole fraction is then simply obtained by dividing the number of moles of each component by the total. Percent is obtained by multiplying the fraction by 100%.\n",
    "\n",
    "Mole percent of O$_2$:"
   ]
  },
  {
   "cell_type": "code",
   "execution_count": null,
   "metadata": {},
   "outputs": [],
   "source": [
    "0.5 / 3.2110389610389607 * 100.0"
   ]
  },
  {
   "cell_type": "markdown",
   "metadata": {},
   "source": [
    "Mole percent of CO:"
   ]
  },
  {
   "cell_type": "code",
   "execution_count": null,
   "metadata": {},
   "outputs": [],
   "source": [
    "0.14285714285714285 / 3.2110389610389607 * 100.0"
   ]
  },
  {
   "cell_type": "markdown",
   "metadata": {},
   "source": [
    "Mole percent of CO$_2$:"
   ]
  },
  {
   "cell_type": "code",
   "execution_count": null,
   "metadata": {},
   "outputs": [],
   "source": [
    "0.3181818181818182 / 3.2110389610389607 * 100.0"
   ]
  },
  {
   "cell_type": "markdown",
   "metadata": {},
   "source": [
    "Mole percent of N$_2$:"
   ]
  },
  {
   "cell_type": "code",
   "execution_count": null,
   "metadata": {},
   "outputs": [],
   "source": [
    "2.25 / 3.2110389610389607 * 100.0"
   ]
  },
  {
   "cell_type": "markdown",
   "metadata": {},
   "source": [
    "## Conclusion\n",
    "\n",
    "We've seen in this notebook, that Python can be used as a simple calculator. However, this is not much better than using a normal calculator. In fact, its a little cumbersome. However, Python has features which elevate it far above any old calculator as you'll see in the [next notebook](python_variables.ipynb) on **variables**."
   ]
  }
 ],
 "metadata": {
  "kernelspec": {
   "display_name": "Python 3 (ipykernel)",
   "language": "python",
   "name": "python3"
  },
  "language_info": {
   "codemirror_mode": {
    "name": "ipython",
    "version": 3
   },
   "file_extension": ".py",
   "mimetype": "text/x-python",
   "name": "python",
   "nbconvert_exporter": "python",
   "pygments_lexer": "ipython3",
   "version": "3.12.3"
  }
 },
 "nbformat": 4,
 "nbformat_minor": 4
}
