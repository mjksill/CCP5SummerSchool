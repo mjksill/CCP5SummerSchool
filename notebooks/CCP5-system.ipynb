{
 "cells": [
  {
   "cell_type": "code",
   "execution_count": 3,
   "id": "d9b77b84-2266-49d9-a59b-cd2851d57238",
   "metadata": {},
   "outputs": [
    {
     "name": "stdout",
     "output_type": "stream",
     "text": [
      "/home/mjksill/idrive/Teaching/CCP5SummerSchool-instructor\n",
      "/home/mjksill/idrive/Teaching\n"
     ]
    }
   ],
   "source": [
    "import os\n",
    "\n",
    "\n",
    "DIR = os.getcwd()\n",
    "print(DIR)\n",
    "\n",
    "os.chdir('../')\n",
    "DIR = os.getcwd()\n",
    "print(DIR)\n",
    "\n"
   ]
  },
  {
   "cell_type": "code",
   "execution_count": 14,
   "id": "d8df4926-dbab-4f45-8fa2-65f3d5b6fe9a",
   "metadata": {},
   "outputs": [
    {
     "name": "stdout",
     "output_type": "stream",
     "text": [
      "functions.csv\n",
      "functions.xlsx\n",
      "gridwatch.csv\n",
      "midas-open_uk-radiation-obs_dv-202107_lanarkshire_00987_drumalbin_qcv-1_1995.csv\n",
      "0\n"
     ]
    }
   ],
   "source": [
    "#os.chdir('/home/mjksill/Downloads')\n",
    "os.chdir('/home/mjksill/idrive/Teaching/CCP5SummerSchool/data/')\n",
    "\n",
    "from subprocess import check_call\n",
    "\n",
    "cmd = ['ls']\n",
    "flag = check_call(cmd)\n",
    "\n"
   ]
  },
  {
   "cell_type": "code",
   "execution_count": 15,
   "id": "d2ae4be8-1209-4478-9e5f-8f28f87360bd",
   "metadata": {},
   "outputs": [
    {
     "data": {
      "text/html": [
       "<div>\n",
       "<style scoped>\n",
       "    .dataframe tbody tr th:only-of-type {\n",
       "        vertical-align: middle;\n",
       "    }\n",
       "\n",
       "    .dataframe tbody tr th {\n",
       "        vertical-align: top;\n",
       "    }\n",
       "\n",
       "    .dataframe thead th {\n",
       "        text-align: right;\n",
       "    }\n",
       "</style>\n",
       "<table border=\"1\" class=\"dataframe\">\n",
       "  <thead>\n",
       "    <tr style=\"text-align: right;\">\n",
       "      <th></th>\n",
       "      <th>Unnamed: 0</th>\n",
       "      <th>x</th>\n",
       "      <th>sin x</th>\n",
       "      <th>cos x</th>\n",
       "      <th>exp(-x)</th>\n",
       "    </tr>\n",
       "  </thead>\n",
       "  <tbody>\n",
       "    <tr>\n",
       "      <th>count</th>\n",
       "      <td>50.00000</td>\n",
       "      <td>50.000000</td>\n",
       "      <td>5.000000e+01</td>\n",
       "      <td>50.000000</td>\n",
       "      <td>50.000000</td>\n",
       "    </tr>\n",
       "    <tr>\n",
       "      <th>mean</th>\n",
       "      <td>24.50000</td>\n",
       "      <td>3.141593</td>\n",
       "      <td>-1.655593e-17</td>\n",
       "      <td>0.020000</td>\n",
       "      <td>0.165913</td>\n",
       "    </tr>\n",
       "    <tr>\n",
       "      <th>std</th>\n",
       "      <td>14.57738</td>\n",
       "      <td>1.869232</td>\n",
       "      <td>7.071068e-01</td>\n",
       "      <td>0.721110</td>\n",
       "      <td>0.249255</td>\n",
       "    </tr>\n",
       "    <tr>\n",
       "      <th>min</th>\n",
       "      <td>0.00000</td>\n",
       "      <td>0.000000</td>\n",
       "      <td>-9.994862e-01</td>\n",
       "      <td>-0.997945</td>\n",
       "      <td>0.001867</td>\n",
       "    </tr>\n",
       "    <tr>\n",
       "      <th>25%</th>\n",
       "      <td>12.25000</td>\n",
       "      <td>1.570796</td>\n",
       "      <td>-6.838190e-01</td>\n",
       "      <td>-0.672301</td>\n",
       "      <td>0.008997</td>\n",
       "    </tr>\n",
       "    <tr>\n",
       "      <th>50%</th>\n",
       "      <td>24.50000</td>\n",
       "      <td>3.141593</td>\n",
       "      <td>-1.224647e-16</td>\n",
       "      <td>0.032052</td>\n",
       "      <td>0.043303</td>\n",
       "    </tr>\n",
       "    <tr>\n",
       "      <th>75%</th>\n",
       "      <td>36.75000</td>\n",
       "      <td>4.712389</td>\n",
       "      <td>6.838190e-01</td>\n",
       "      <td>0.718349</td>\n",
       "      <td>0.208193</td>\n",
       "    </tr>\n",
       "    <tr>\n",
       "      <th>max</th>\n",
       "      <td>49.00000</td>\n",
       "      <td>6.283185</td>\n",
       "      <td>9.994862e-01</td>\n",
       "      <td>1.000000</td>\n",
       "      <td>1.000000</td>\n",
       "    </tr>\n",
       "  </tbody>\n",
       "</table>\n",
       "</div>"
      ],
      "text/plain": [
       "       Unnamed: 0          x         sin x      cos x    exp(-x)\n",
       "count    50.00000  50.000000  5.000000e+01  50.000000  50.000000\n",
       "mean     24.50000   3.141593 -1.655593e-17   0.020000   0.165913\n",
       "std      14.57738   1.869232  7.071068e-01   0.721110   0.249255\n",
       "min       0.00000   0.000000 -9.994862e-01  -0.997945   0.001867\n",
       "25%      12.25000   1.570796 -6.838190e-01  -0.672301   0.008997\n",
       "50%      24.50000   3.141593 -1.224647e-16   0.032052   0.043303\n",
       "75%      36.75000   4.712389  6.838190e-01   0.718349   0.208193\n",
       "max      49.00000   6.283185  9.994862e-01   1.000000   1.000000"
      ]
     },
     "execution_count": 15,
     "metadata": {},
     "output_type": "execute_result"
    }
   ],
   "source": [
    "import pandas as pd\n",
    "\n",
    "df = pd.read_csv('functions.csv')\n",
    "df.describe()\n",
    "\n"
   ]
  }
 ],
 "metadata": {
  "kernelspec": {
   "display_name": "Python 3 (ipykernel)",
   "language": "python",
   "name": "python3"
  },
  "language_info": {
   "codemirror_mode": {
    "name": "ipython",
    "version": 3
   },
   "file_extension": ".py",
   "mimetype": "text/x-python",
   "name": "python",
   "nbconvert_exporter": "python",
   "pygments_lexer": "ipython3",
   "version": "3.12.3"
  }
 },
 "nbformat": 4,
 "nbformat_minor": 5
}
