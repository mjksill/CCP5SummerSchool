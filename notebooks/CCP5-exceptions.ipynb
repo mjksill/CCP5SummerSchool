{
 "cells": [
  {
   "cell_type": "markdown",
   "metadata": {},
   "source": [
    "# Error handling\n",
    "\n",
    "*Many of the examples in this notebook have deliberate errors.  When Jupyter encounters an error in a cell, it stops running all further cells, so you will have to rerun each cell yourself. A shortcut is to select the cell and press shift-enter.* \n",
    "\n"
   ]
  },
  {
   "cell_type": "markdown",
   "metadata": {},
   "source": [
    "## Exceptions/Errors\n",
    "\n",
    "As you're new programmers, you will spend most of your time handling errors. Sometimes, you even want to make errors of your own. Fortunately, you can teach python to handle errors or make them for you. Let's deliberately try something stupid and see what happens,"
   ]
  },
  {
   "cell_type": "code",
   "execution_count": null,
   "metadata": {},
   "outputs": [],
   "source": [
    "import math\n",
    "#logarithms of negative numbers are not valid\n",
    "math.log(-1) "
   ]
  },
  {
   "cell_type": "markdown",
   "metadata": {},
   "source": [
    "Here we see something called `ValueError`, which has a `math domain error` message associated with it. Where did this come from?\n",
    "\n",
    "When bad values are passed to a function, the designer of the function can't get it to return a value as that might be misinterpreted as a normal answer by accident. Instead, we design the functions to raise an exception. Exceptions are not return values but instead bubble up the stack until they are caught or they come out of the main scope where they cause python to exit.\n",
    "\n",
    "The stack is all the functions that python has had to enter to get to the current line of execution, its how python tracks where return values should actually be sent. Going up the stack, python looks for anything that might catch the exception. Lets see how an exception can be caught, "
   ]
  },
  {
   "cell_type": "code",
   "execution_count": null,
   "metadata": {},
   "outputs": [],
   "source": [
    "import math\n",
    "try:\n",
    "    math.log(-1)\n",
    "except Exception as e:\n",
    "    print(\"Exception has been caught! Details below\")\n",
    "    print(e)\n",
    "    print(type(e))\n",
    "    print(repr(e))"
   ]
  },
  {
   "cell_type": "markdown",
   "metadata": {},
   "source": [
    "If any commands within a `try` block raise an exception, and the exception rises up to the `try` block then it will be caught and the code in the `except:` block is run. Above, we just print the exception, the type of the exception, and we use the `repr` command which returns the a python command which will generate the object passed as an argument.\n",
    "\n",
    "The `try...catch` block above catches all exceptions (as all exceptions must be built/inherited from the `Exception` class). Generally its \"bad practice\" to catch all exceptions this way, as maybe we will catch the wrong type of error by mistake which we don't know how to handle. We can actually catch specfic exceptions and deal with them in a special way,"
   ]
  },
  {
   "cell_type": "code",
   "execution_count": null,
   "metadata": {},
   "outputs": [],
   "source": [
    "try:\n",
    "    math.log(0)\n",
    "except ValueError as e:\n",
    "    print(\"Bad value used, did you use log(x) where x <= 0?\")"
   ]
  },
  {
   "cell_type": "markdown",
   "metadata": {},
   "source": [
    "How do we raise exceptions ourselves? We just write raise, then use an exception type:"
   ]
  },
  {
   "cell_type": "code",
   "execution_count": null,
   "metadata": {},
   "outputs": [],
   "source": [
    "def f():\n",
    "    raise RuntimeError(\"My own exception\")\n",
    "    \n",
    "def g():\n",
    "    f()\n",
    "\n",
    "g()"
   ]
  },
  {
   "cell_type": "markdown",
   "metadata": {},
   "source": [
    "A `RuntimeError` is a generic exception that takes an error message. Most of the time you should use a more specific one like `ValueError` (or make your own, but we need classes for that). Notice that the exception shows you the stack where the interpreter/python was when the exception was raised, from top to bottom function scope.\n",
    "\n",
    "Lets look how you might use it to improve our prime number function,"
   ]
  },
  {
   "cell_type": "code",
   "execution_count": null,
   "metadata": {},
   "outputs": [],
   "source": [
    "import math\n",
    "def isPrime(n):\n",
    "    # Perform sanity checks on the input, if its a float, try to convert it into an int\n",
    "    if isinstance(n, float):\n",
    "        if n.is_integer():\n",
    "            n = int(n)\n",
    "        else:\n",
    "            raise ValueError(\"isPrime cannot accept fractional floating values\")\n",
    "    \n",
    "    if not isinstance(n, int):\n",
    "        raise ValueError(\"isPrime can only accept integer arguments\")\n",
    "        \n",
    "    for div in range(2,int(math.sqrt(n))):\n",
    "        if n % div == 0:\n",
    "            return False\n",
    "    return True\n",
    "\n",
    "print(2**31-1, isPrime(2**31-1))\n",
    "print(3.0, isPrime(3.0))\n",
    "\n",
    "#Bad usages of isPrime() which raise exceptions! Comment out the first line to see the second error\n",
    "isPrime(2.2)\n",
    "#isPrime(\"Not an integer\")"
   ]
  },
  {
   "cell_type": "code",
   "execution_count": null,
   "metadata": {},
   "outputs": [],
   "source": [
    "We now get nice error messages when we abuse our `isPrime` function.\n"
   ]
  }
 ],
 "metadata": {
  "kernelspec": {
   "display_name": "Python 3 (ipykernel)",
   "language": "python",
   "name": "python3"
  },
  "language_info": {
   "codemirror_mode": {
    "name": "ipython",
    "version": 3
   },
   "file_extension": ".py",
   "mimetype": "text/x-python",
   "name": "python",
   "nbconvert_exporter": "python",
   "pygments_lexer": "ipython3",
   "version": "3.12.3"
  }
 },
 "nbformat": 4,
 "nbformat_minor": 4
}
