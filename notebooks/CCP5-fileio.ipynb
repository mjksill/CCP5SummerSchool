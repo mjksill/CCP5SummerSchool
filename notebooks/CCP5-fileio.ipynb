{
 "cells": [
  {
   "cell_type": "markdown",
   "metadata": {},
   "source": [
    "# File I/O\n",
    "\n",
    "Now we take a look at file input/output.\n",
    "\n",
    "Opening a file is very easy, and once its open we can even write to it:"
   ]
  },
  {
   "cell_type": "code",
   "execution_count": null,
   "metadata": {},
   "outputs": [],
   "source": [
    "# Open a file called myfile.txt for (w)riting\n",
    "with open('myfile.txt', 'w') as output:\n",
    "    print(\"The first line in the file\", file=output)\n",
    "    print(\"The second line in the file\", file=output)"
   ]
  },
  {
   "cell_type": "markdown",
   "metadata": {},
   "source": [
    "The `with` block is a way of making sure that the next bit of code ONLY happens if the file can be opened. Also, it guarantees that if anything goes wrong inside the `with` block (and an exception is raised), the file will be closed before the exception escapes the `with` block (although the file will be closed anyway by garbage collection if python eventually exits). \n",
    "\n",
    "We could just write `output = open('myfile.txt')` and it would work, but the use of with is better at handling errors. Good programming is all about robust code that fails gracefully.\n",
    "\n",
    "If you want to see the file that you've written out by running the above code, then go to the home page of the notes/jupyter notebook and take a look.\n",
    "\n",
    "Now we have a file written out, how do we read it?"
   ]
  },
  {
   "cell_type": "code",
   "execution_count": null,
   "metadata": {},
   "outputs": [],
   "source": [
    "# Now its open for (r)eading\n",
    "with open('myfile.txt', 'r') as lines:\n",
    "    try:\n",
    "        while True:\n",
    "            print(next(lines))\n",
    "    except StopIteration:\n",
    "        print('EOF!')"
   ]
  },
  {
   "cell_type": "markdown",
   "metadata": {},
   "source": [
    "The `while` statement repeats the block as long as the expression to its right is `True`. Here, the expression is `True` so the block is repeated indefinitely. The only way that block can end is if an exception is raised. Fortunately, when the file runs out of lines, the `next()` function will throw a `StopIteration` exception, which we catch to say End Of File (EOF)! This is a case where we MUST use exceptions as part of our normal program execution (its not an error to get a `StopIteration`).\n",
    "\n",
    "If you notice the results from the above code, we have extra lines appearing, where do these come from? Lets take another look but this time using `repr`"
   ]
  },
  {
   "cell_type": "code",
   "execution_count": null,
   "metadata": {},
   "outputs": [],
   "source": [
    "with open('myfile.txt', 'r') as lines:\n",
    "    try:\n",
    "        while True:\n",
    "            print(repr(next(lines)))\n",
    "    except StopIteration:\n",
    "        print('EOF!')"
   ]
  },
  {
   "cell_type": "markdown",
   "metadata": {},
   "source": [
    "Here we can see that each line is being read from the file including its terminating newline character. When we print this, both the terminating newline `\\n` and one automatically added by `print` is being output resulting in a double line break. We can fix this by telling print not to end the line that way:"
   ]
  },
  {
   "cell_type": "code",
   "execution_count": null,
   "metadata": {},
   "outputs": [],
   "source": [
    "with open('myfile.txt', 'r') as lines:\n",
    "    try:\n",
    "        while True:\n",
    "            print(next(lines), end='')\n",
    "    except StopIteration:\n",
    "        print('EOF!')"
   ]
  },
  {
   "cell_type": "markdown",
   "metadata": {},
   "source": [
    "There is another way to access the lines of a file, a bit neater, and useful if every line in your file can be processed identically:"
   ]
  },
  {
   "cell_type": "code",
   "execution_count": null,
   "metadata": {},
   "outputs": [],
   "source": [
    "with open('myfile.txt', 'r') as lines:\n",
    "    for line in lines:\n",
    "        print(line, end='')"
   ]
  },
  {
   "cell_type": "markdown",
   "metadata": {},
   "source": [
    "## Better file IO with pickle\n",
    "\n",
    "Often you don't want to save text, you want to save the array or list you've been working on. Python has a cool library for that called pickle. "
   ]
  },
  {
   "cell_type": "code",
   "execution_count": null,
   "metadata": {},
   "outputs": [],
   "source": [
    "import pickle\n",
    "favorite_color = { \"lion\": \"golden\", \"kitty\": \"ginger\" }\n",
    "pickle.dump( favorite_color, open(\"save.p\", \"wb\"))"
   ]
  },
  {
   "cell_type": "markdown",
   "metadata": {},
   "source": [
    "We've been fast and loose here, not using a `with`, but sometimes we like to program dangerously as time is short. You might notice the `'b'` added to the `open` command, this opens the file in binary mode, which is very space efficient but not readable by humans. You probably should only do this if you're pickling lots of data.\n",
    "\n",
    "Now, if we want to reload this, we just do the following:"
   ]
  },
  {
   "cell_type": "code",
   "execution_count": null,
   "metadata": {},
   "outputs": [],
   "source": [
    "favorite_color_loaded = pickle.load( open( \"save.p\", \"rb\" ) )\n",
    "print(favorite_color_loaded)"
   ]
  }
 ],
 "metadata": {
  "kernelspec": {
   "display_name": "Python 3 (ipykernel)",
   "language": "python",
   "name": "python3"
  },
  "language_info": {
   "codemirror_mode": {
    "name": "ipython",
    "version": 3
   },
   "file_extension": ".py",
   "mimetype": "text/x-python",
   "name": "python",
   "nbconvert_exporter": "python",
   "pygments_lexer": "ipython3",
   "version": "3.12.3"
  }
 },
 "nbformat": 4,
 "nbformat_minor": 4
}
