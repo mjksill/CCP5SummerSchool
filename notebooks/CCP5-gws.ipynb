{
 "cells": [
  {
   "cell_type": "markdown",
   "id": "f9bd42f4-7e37-4a49-89e9-db8fb45bfc94",
   "metadata": {},
   "source": [
    "# The gas-water shift reaction\n",
    "\n",
    "Consider the gas-water shift reaction\n",
    "\\begin{align*}\n",
    "{\\rm \n",
    "CO(g) + H_2O(g) \\leftrightarrows CO_2(g) + H_2(g)\n",
    "}\n",
    "\\end{align*}\n",
    "\n",
    "| gas       | $M_w$        | $H_f$         | $G_f$         |\n",
    "| :--       | --:        | --:           | --:           |\n",
    "|           | ${\\rm g\\,mol^{-1}}$ | ${\\rm kJ\\,mol^{-1}}$ | ${\\rm kJ\\,mol^{-1}}$ |\n",
    "| CO(g)     | $28.01$    | $ -110.5$     | $ -137.2$     |\n",
    "| CO$_2$(g) | $44.01$    | $ -393.3$     | $ -394.6$     |\n",
    "| H$_2$(g)  | $ 2.02$    | $    0.0$     | $    0.0$     |\n",
    "| H$_2$O(g) | $18.02$    | $ -241.8$     | $ -228.4$     |\n",
    "|           |            |               |               |\n",
    "\n",
    "\n",
    "The data in the table have been summarized in the dictionary `data`.  The stoichiometric coefficients (the stoichiometric coefficient for species $k$ is typically denoted by the symbol $\\nu_k$) of the reaction are held in the dictionary `nu`.  Note that product species have a positive stoichiometric coefficient, and reactant species have a negative stoichiometric coefficient."
   ]
  },
  {
   "cell_type": "code",
   "execution_count": null,
   "id": "b4b092c7-4b24-49b1-9f3a-0b385e51814f",
   "metadata": {},
   "outputs": [],
   "source": [
    "R = 8.314e-3  # ideal gas constant / kJ mol^{-1} K^{-1}\n",
    "T0 = 298.15   # reference temperature / K\n",
    "p0 = 1.0e5    # reference pressure / Pa\n",
    "\n",
    "\n",
    "# Data about the gases: \n",
    "#  Mw - molecular weight g/mol\n",
    "#  Hf - heat of formation \n",
    "#  Gf - Gibbs free energy \n",
    "data = {}\n",
    "data['CO']  = {'Mw':28.01, 'Hf':-110.5, 'Gf':-137.2 }\n",
    "data['CO2'] = {'Mw':44.01, 'Hf':-393.3, 'Gf':-394.6 }\n",
    "data['H2']  = {'Mw': 2.02, 'Hf':   0.0, 'Gf':   0.0 }\n",
    "data['H2O'] = {'Mw':18.02, 'Hf':-241.8, 'Gf':-228.4 }\n",
    "\n",
    "\n",
    "# stoichiometric coefficients\n",
    "nu = {} \n",
    "nu['CO']  = -1.0\n",
    "nu['CO2'] =  1.0 \n",
    "nu['H2']  =  1.0\n",
    "nu['H2O'] = -1.0"
   ]
  },
  {
   "cell_type": "markdown",
   "id": "fcce2728-1de3-467b-b0e9-7520cb0e721f",
   "metadata": {},
   "source": [
    "## Part 1: Standard reaction enthalpy and Gibbs energy\n",
    "\n",
    "The standard enthalpy of reaction $\\Delta H_{\\rm rxn}$ is defined by\n",
    "\\begin{align*}\n",
    "\\Delta H_{\\rm rxn}\n",
    "&= \\sum_k \\nu_k H_{f,k}\n",
    "\\end{align*}\n",
    "where $H_{f,k}$ is the standard enthalpy of formation of species $k$.  The standard Gibbs energy of reaction $\\Delta G_{\\rm rxn}$ is given by\n",
    "\\begin{align*}\n",
    "\\Delta G_{\\rm rxn}\n",
    "&= \\sum_k \\nu_k G_{f,k}\n",
    "\\end{align*}\n",
    "where $G_{f,k}$ is the standard enthalpy of formation of species $k$.\n",
    "\n",
    "**Task:** Calculate the standard enthalpy of reaction and the standard Gibbs energy of reaction."
   ]
  },
  {
   "cell_type": "code",
   "execution_count": null,
   "id": "7094ed17-d984-451a-8f9c-53cdf9273011",
   "metadata": {},
   "outputs": [],
   "source": [
    "Hrxn = 0.0 # Heat of reaction\n",
    "Grxn = 0.0 # Gibbs free energy of reaction\n",
    "for gas, coeff in nu.items():\n",
    "    # TODO sum up Hrxn and Grxn here <---------------------------------\n",
    "\n",
    "print(f'standard enthalpy of reaction: {Hrxn} kJ mol^{{-1}}')    \n",
    "print(f'standard Gibbs energy of reaction: {Grxn} kJ mol^{{-1}}')"
   ]
  },
  {
   "cell_type": "markdown",
   "id": "d7ba286c-4938-480f-802d-fa9a09f44b58",
   "metadata": {},
   "source": [
    "## Part 2: Conversion between mole numbers and mole fractions\n",
    "\n",
    "The mole fraction of species $k$, denoted by $x_k$, in a system is given by\n",
    "\\begin{align*}\n",
    "x_k = \\frac{N_k}{N}\n",
    "\\end{align*}\n",
    "where $N_k$ is the number of moles of species $k$, and $N=\\sum_j N_j$ is the total moles in the system.\n",
    "\n",
    "**Task:** From the dictionary with the mole numbers as an input, create a dictionary of mole fractions."
   ]
  },
  {
   "cell_type": "code",
   "execution_count": null,
   "id": "4b5aaac7-1c08-43ae-994a-ae2244dea2ad",
   "metadata": {},
   "outputs": [],
   "source": [
    "# some test data - mole numbers of some gases\n",
    "mole = {}\n",
    "mole['CO']  = 1.0\n",
    "mole['CO2'] = 1.0 \n",
    "mole['H2']  = 1.0\n",
    "mole['H2O'] = 1.0\n",
    "\n",
    "\n",
    "total_moles = # ???\n",
    "\n",
    "x_dict = {}\n",
    "for name, N in mole.items():\n",
    "    \n",
    "    # TODO main body goes here <-----------------------------\n",
    "\n",
    "\n",
    "# output your answer\n",
    "for name, x in x_dict.items():\n",
    "    print(f'{name}: mole fraction = {x}')\n"
   ]
  },
  {
   "cell_type": "markdown",
   "id": "4c72f3c6-d899-47dc-8fd7-da4c3b18d14a",
   "metadata": {},
   "source": [
    "## Part 3: Heat capacity\n",
    "\n",
    "The heat capacity of the gases can be described by the equation\n",
    "\\begin{align*}\n",
    "\\frac{C_p}{R}\n",
    "&= a_0 + a_1 T + a_2 T^2 + a_3 T^3 + a_4 T^4\n",
    "\\end{align*}\n",
    "where $T$ is the absolute temperature in kelvin,\n",
    "$R=8.314$\\,J$^{-1}$\\,mol\\,K$^{-1}$ is the ideal gas constant, and the\n",
    "coefficients $a_k$ are given in the table below.\n",
    "\n",
    "\n",
    "| gas       | $a_0$   | $a_1\\times10^3$ | $a_2\\times10^5$ | $a_3\\times10^8$ | $a_4\\times10^{11}$ |\n",
    "| :--       | --:     | --:             | --:             | --:             | --:                |\n",
    "|           |         | ${\\rm K^{-1}}$  | ${\\rm K^{-2}}$    | ${\\rm K^{-3}}$  |  ${\\rm K^{-4}}$  |\n",
    "| CO(g)     | $3.912$ | $ -3.913$| $1.182$  | $ -1.302$       | $  0.515$          |\n",
    "| CO$_2$(g) | $3.259$ | $  1.356$| $1.502$  | $ -2.374$       | $  1.056$          |\n",
    "| H$_2$(g)  | $2.883$ | $  3.681$| $-0.772$ | $  0.692$       | $ -0.213$          |\n",
    "| H$_2$O(g) | $4.395$ | $ -4.186$| $1.405$ | $ -1.564$       | $  0.632$          |\n",
    "\n",
    "\n",
    "The coefficients of the heat capacity have been added to the dictionary `data` (see below).  In what follows below, assume that the mixtures behave as an ideal gas.\n"
   ]
  },
  {
   "cell_type": "code",
   "execution_count": null,
   "id": "e71db07a-c26e-4298-ae0c-6f1ae87141d7",
   "metadata": {},
   "outputs": [],
   "source": [
    "data['CO'] ['Cp_coeff'] = [3.912, -3.913e-3,  1.182e-5, -1.302e-8,  0.515e-11]      \n",
    "data['CO2']['Cp_coeff'] = [3.259,  1.356e-3,  1.502e-5, -2.374e-8,  1.056e-11]      \n",
    "data['H2'] ['Cp_coeff'] = [2.883,  3.681e-3, -0.772e-5,  0.692e-8, -0.213e-11]      \n",
    "data['H2O']['Cp_coeff'] = [4.395, -4.186e-3,  1.405e-5, -1.564e-8,  0.632e-11]\n",
    "\n",
    "R = 8.314  # J mol^{-1} K^{-1}"
   ]
  },
  {
   "cell_type": "markdown",
   "id": "152b5e7d-555a-44ab-a90e-95d87b97f55a",
   "metadata": {},
   "source": [
    "**Task:**\n",
    "Plot the molar heat capacity of the mixture and of each of the individual components as a function of temperature."
   ]
  },
  {
   "cell_type": "code",
   "execution_count": null,
   "id": "649b06c1-b9ef-44a8-8533-ab739cafc899",
   "metadata": {},
   "outputs": [],
   "source": [
    "moles = {'CO':1, 'CO2':2, 'H2':0, 'H2O':1}\n",
    "T_data = np.arange(200.0, 600.0, 10.0)\n",
    "\n",
    "# TODO <--- your work here\n",
    "\n",
    "plt.legend()\n",
    "plt.xlabel('temperature / K')\n",
    "plt.ylabel(r'molar heat capacity / J mol$^{-1}$ K$^{-1}$')\n",
    "plt.show()"
   ]
  },
  {
   "cell_type": "markdown",
   "id": "a0c291c2-2fdf-4d42-a33d-637a92f8246c",
   "metadata": {},
   "source": [
    "**Task:**\n",
    "Plot the heat capacity of reaction $\\Delta C_{p,{\\rm rxn}}(T)$ of the gas-water shift reaction as a function of temperature.\n",
    "\n",
    "Note that the heat capacity of reaction is defined as\n",
    "\\begin{align*}\n",
    "\\Delta C_{p,{\\rm rxn}}\n",
    "&= \\sum_k \\nu_k C_{p,k}(T)\n",
    "\\end{align*}\n",
    "where $T$ is the absolute temperature of the system, and $C_{p,k}(T)$ is the molar heat capacity of species $k$ at temperature $T$."
   ]
  },
  {
   "cell_type": "code",
   "execution_count": null,
   "id": "11ef1f8e-9cc6-4420-85d7-1b5cbe9aacd4",
   "metadata": {},
   "outputs": [],
   "source": [
    "T_data = np.arange(200.0, 600.0, 10.0)\n",
    "\n",
    "# TODO <--- your work here\n",
    "\n",
    "plt.xlabel('temperature / K')\n",
    "plt.ylabel(r'$\\Delta C_{p,{\\rm rxn}}$ / J mol$^{-1}$ K$^{-1}$')\n",
    "plt.show()"
   ]
  },
  {
   "cell_type": "markdown",
   "id": "c4351d25-ff56-4730-bbaf-23c83f6261e7",
   "metadata": {},
   "source": [
    "## Part 4: Enthalpy and Gibbs free energy\n",
    "\n",
    "The enthalpy can be determined from the heat capacity:\n",
    "\\begin{align*}\n",
    "H(T) &= H_f + \\int_{T_f}^{T} dT' C_p(T')\n",
    "\\end{align*}\n",
    "\n",
    "The Gibbs energy can be determined from the enthalpy:\n",
    "\\begin{align*}\n",
    "\\frac{G(T)}{RT}\n",
    "%&= \\frac{G_f}{RT_f}\n",
    "%+ \\int_{T_f}^{T} d\\frac{1}{RT'} H(T')\n",
    "%\\\\\n",
    "&= \\frac{G_f}{RT_f}\n",
    "- \\int_{T_f}^{T} dT'\\, \\frac{H(T')}{RT'^2} \n",
    "\\end{align*}\n",
    "where $T_f=298.15\\,{\\rm K}$.\n",
    "\n",
    "**Task:** \n",
    "Plot the variation of the enthalpy of reaction and Gibbs free energy of reaction with temperature."
   ]
  },
  {
   "cell_type": "code",
   "execution_count": null,
   "id": "e0640098-1338-45f1-be74-c9845158d8d7",
   "metadata": {},
   "outputs": [],
   "source": []
  },
  {
   "cell_type": "markdown",
   "id": "e2863dba-2780-4737-82b7-7f7ac667d1d2",
   "metadata": {},
   "source": [
    "## Part 5: Chemical reaction equilibrium\n",
    "\n",
    "The Gibbs free energy $G$ of an ideal gas mixture is given by:\n",
    "\\begin{align*}\n",
    "G(T) &= \\sum_k N_k [ G_{f,k}(T) + RT\\ln y_k ]\n",
    "\\end{align*}\n",
    "where $N_k$ is the number of moles of species $k$ in the mixture, and $y_k$ is the mole fraction of $k$ species $k$ in the mixture.\n",
    "\n",
    "The extent of reaction $\\xi$ quantifies how far a reaction has proceeded.  Positive values correspond to the reaction proceeding forward, while negative values correspond to the reaction proceeding backward.\n",
    "The variation of the number of moles of species $k$ in the system with the extent of reaction is \n",
    "give by\n",
    "\\begin{align*}\n",
    "N_k &= N_k^{(0)} + \\nu_k \\xi\n",
    "\\end{align*}\n",
    "where $N_k^{(0)}$ is the initial number of moles of species $k$ in the system.\n",
    "The equilibrium value of the extent of reaction minimizes the Gibbs free energy.\n",
    "\n",
    "**Task:**\n",
    "Write a code to determine variation of the equilibrium extent of reaction with temperature.  Note that you might want to use the `minimize` routine from `scipy.optimize` (see [here](https://docs.scipy.org/doc/scipy/reference/generated/scipy.optimize.minimize.html)).\n",
    "\n"
   ]
  },
  {
   "cell_type": "code",
   "execution_count": null,
   "id": "92bc56e3-5a13-4a8e-96d8-2cc16ebac495",
   "metadata": {},
   "outputs": [],
   "source": [
    "# some test data - mole numbers of some gases\n",
    "N0 = {}\n",
    "N0['CO']  = 1.0\n",
    "N0['CO2'] = 1.0 \n",
    "N0['H2']  = 1.0\n",
    "N0['H2O'] = 1.0\n",
    "\n",
    "def get_G(xi):\n",
    "    # YOUR CODE HERE\n",
    "    return G\n",
    "\n",
    "xi0 = 0.0\n",
    "sol = minimize(get_G, xi0, ...)\n"
   ]
  }
 ],
 "metadata": {
  "kernelspec": {
   "display_name": "Python 3 (ipykernel)",
   "language": "python",
   "name": "python3"
  },
  "language_info": {
   "codemirror_mode": {
    "name": "ipython",
    "version": 3
   },
   "file_extension": ".py",
   "mimetype": "text/x-python",
   "name": "python",
   "nbconvert_exporter": "python",
   "pygments_lexer": "ipython3",
   "version": "3.12.3"
  }
 },
 "nbformat": 4,
 "nbformat_minor": 5
}
