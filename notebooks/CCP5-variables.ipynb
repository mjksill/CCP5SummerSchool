{
 "cells": [
  {
   "cell_type": "markdown",
   "metadata": {
    "id": "HgAxpdWWSiXd"
   },
   "source": [
    "# Python is a calculator *with variables*\n",
    "\n",
    "In the [last notebook](https://colab.research.google.com/github/mjksill/CCP5SummerSchool/blob/master/notebooks/CCP5-calculator.ipynb), we used Python as a simple calculator.  Now, we can accelerate things with ***variables***!"
   ]
  },
  {
   "cell_type": "markdown",
   "metadata": {
    "id": "GlTOkWJVSiXf"
   },
   "source": [
    "A *variable* is a piece of information that you give a name, so you can use it later.\n",
    "\n",
    "For example, we can create a variable to store the digits of $\\pi$:"
   ]
  },
  {
   "cell_type": "code",
   "execution_count": null,
   "metadata": {
    "id": "2oo7MP4ZSiXg"
   },
   "outputs": [],
   "source": [
    "pi = 3.1415926"
   ]
  },
  {
   "cell_type": "markdown",
   "metadata": {
    "id": "4aJzwzbESiXh"
   },
   "source": [
    "Notice the lack of output, however we can now use `pi` elsewhere:"
   ]
  },
  {
   "cell_type": "code",
   "execution_count": null,
   "metadata": {
    "id": "MIq1zAyUSiXh"
   },
   "outputs": [],
   "source": [
    "pi /2"
   ]
  },
  {
   "cell_type": "markdown",
   "metadata": {
    "id": "6MErwsAgSiXi"
   },
   "source": [
    "There are a few rules around variable naming:\n",
    " - variables cannot contain spaces or non-alphanumeric symbols, apart from underscores '_'\n",
    " - variables cannot start with a number\n",
    " \n",
    "Apart from this, you can assign any name you like."
   ]
  },
  {
   "cell_type": "markdown",
   "metadata": {
    "id": "yD5T3ecMSiXi"
   },
   "source": [
    "To see the value of a variable, we could execute it alone in Python:"
   ]
  },
  {
   "cell_type": "code",
   "execution_count": null,
   "metadata": {
    "id": "ibNySmnnSiXj"
   },
   "outputs": [],
   "source": [
    "pi"
   ]
  },
  {
   "cell_type": "markdown",
   "metadata": {
    "id": "7NPPO0gdSiXk"
   },
   "source": [
    "However, there is a better way.\n",
    "\n",
    "We can use the `print` function (more on functions later). To see the value of something, you `print` it to the screen simply by writing `print(` followed by a comma separated list of things you want to see, with a `)` tacked on the end."
   ]
  },
  {
   "cell_type": "code",
   "execution_count": null,
   "metadata": {
    "id": "c0hX8PfaSiXk"
   },
   "outputs": [],
   "source": [
    "print('The value of pi is:', pi)"
   ]
  },
  {
   "cell_type": "markdown",
   "metadata": {
    "id": "DvL0rQGBSiXl"
   },
   "source": [
    "We can use this knowledge to simplify the example from the previous notebook."
   ]
  },
  {
   "cell_type": "markdown",
   "metadata": {
    "id": "baEdSFBWSiXl"
   },
   "source": [
    "## Example exercise\n",
    "\n",
    "The following is the composition of a gas expressed as a weight percent.  Express the molar composition.\n",
    "\n",
    "\n",
    "| gas | weight % | molecular mass           |\n",
    "|:--- | --- | --- |\n",
    "|             |          | g mol$^{-1}$ |\n",
    "| O$_2$       |     16.0 |       32.0 |\n",
    "| CO          |      4.0 |       28.0 |\n",
    "| CO$_2$      |     17.0 |       44.0 |\n",
    "| N$_2$       |     63.0 |       28.0 |\n"
   ]
  },
  {
   "cell_type": "markdown",
   "metadata": {
    "id": "VCU8RBPRSiXl"
   },
   "source": [
    "We can use Python to calculate the moles of each component.\n",
    "\n",
    "Moles of O$_2$:"
   ]
  },
  {
   "cell_type": "code",
   "execution_count": null,
   "metadata": {
    "id": "WOuT6BCeSiXm"
   },
   "outputs": [],
   "source": [
    "n_O2 = 16.0 / 32.0"
   ]
  },
  {
   "cell_type": "markdown",
   "metadata": {
    "id": "nm6STAbLSiXm"
   },
   "source": [
    "Moles of CO:"
   ]
  },
  {
   "cell_type": "code",
   "execution_count": null,
   "metadata": {
    "id": "bF4ATd2zSiXm"
   },
   "outputs": [],
   "source": [
    "n_CO = 4.0 / 28.0"
   ]
  },
  {
   "cell_type": "markdown",
   "metadata": {
    "id": "pmvQZ29cSiXm"
   },
   "source": [
    "Moles of CO$_2$"
   ]
  },
  {
   "cell_type": "code",
   "execution_count": null,
   "metadata": {
    "id": "UwuNgs-DSiXm"
   },
   "outputs": [],
   "source": [
    "n_CO2 = 14.0 / 44.0"
   ]
  },
  {
   "cell_type": "markdown",
   "metadata": {
    "id": "4dOBQkWmSiXm"
   },
   "source": [
    "Moles of N$_2$"
   ]
  },
  {
   "cell_type": "code",
   "execution_count": null,
   "metadata": {
    "id": "i7fUdipESiXm"
   },
   "outputs": [],
   "source": [
    "n_N2 = 63.0 / 28.0"
   ]
  },
  {
   "cell_type": "markdown",
   "metadata": {
    "id": "rdMlsSYwSiXn"
   },
   "source": [
    "With the number of moles of each component, we can now calculate the total number of moles for our basis unit mass.\n",
    "\n",
    "Total number of moles:"
   ]
  },
  {
   "cell_type": "code",
   "execution_count": null,
   "metadata": {
    "id": "B6Z7m5rTSiXn"
   },
   "outputs": [],
   "source": [
    "n_total = n_O2 + n_CO + n_CO2 + n_N2"
   ]
  },
  {
   "cell_type": "markdown",
   "metadata": {
    "id": "lQgR6zf4SiXn"
   },
   "source": [
    "The mole fraction is then simply obtained by dividing the number of moles of each component by the total. Percent is obtained by multiplying the fraction by 100%.\n",
    "\n",
    "Mole percentages:"
   ]
  },
  {
   "cell_type": "code",
   "execution_count": null,
   "metadata": {
    "id": "N2B3UKcDSiXn"
   },
   "outputs": [],
   "source": [
    "mol_perc_O2 = n_O2 / n_total * 100.0\n",
    "mol_perc_CO = n_CO / n_total * 100.0\n",
    "mol_perc_CO2 = n_CO2 / n_total * 100.0\n",
    "mol_perc_N2 = n_N2 / n_total * 100.0"
   ]
  },
  {
   "cell_type": "markdown",
   "metadata": {
    "id": "-G4da_YWSiXn"
   },
   "source": [
    "Finally, we can print the values of the variables so we can se the answer:"
   ]
  },
  {
   "cell_type": "code",
   "execution_count": null,
   "metadata": {
    "id": "UGg4HOSCSiXn"
   },
   "outputs": [],
   "source": [
    "print('mol% O2  = ', mol_perc_O2, '%')\n",
    "print('mol% CO  = ', mol_perc_CO, '%')\n",
    "print('mol% CO2 = ', mol_perc_CO2, '%')\n",
    "print('mol% N2  = ', mol_perc_N2, '%')"
   ]
  },
  {
   "cell_type": "markdown",
   "metadata": {
    "id": "8HafbKlBSiXo"
   },
   "source": [
    "We haven't had to retype the mol values as we did in the last notebook. Now if we wanted to alter our input composition, it would be as simple as changing the four values at the start of this section, and hitting the re-run button on this notebook (⏩). Much easier!"
   ]
  },
  {
   "cell_type": "markdown",
   "metadata": {
    "id": "IGzmiON5SiXo"
   },
   "source": [
    "## An aside: f-strings\n",
    "\n",
    "We've used the print function here to join our number to a text string, resulting in numbers with entirely too many decimal places and extra spacing where we might not want it. However there is a much better way: format-strings (AKA f-strings). This is a string, with an f prepended. In this string, we can include special format tags which allow us to include *any* variable within the string."
   ]
  },
  {
   "cell_type": "code",
   "execution_count": null,
   "metadata": {
    "id": "ka-x7pj8SiXo"
   },
   "outputs": [],
   "source": [
    "f'The value of pi is {pi}'"
   ]
  },
  {
   "cell_type": "markdown",
   "metadata": {
    "id": "cWXzJv1ASiXo"
   },
   "source": [
    "The bit in the curly braces is the special tag that lets us include a variable directly in the string. If you want to include a curly brace in the string, you can 'escape' it by doubling it up:"
   ]
  },
  {
   "cell_type": "code",
   "execution_count": null,
   "metadata": {
    "id": "sdjXu2sqSiXo"
   },
   "outputs": [],
   "source": [
    "f'The syntax of an f-string is f\"text {{variable}}\". The value of pi is {pi}.'"
   ]
  },
  {
   "cell_type": "markdown",
   "metadata": {
    "id": "H_H3G8KMSiXo"
   },
   "source": [
    "This format tag can include information about *how* to represent the data too. For example, $\\pi$ is a floating point number and has parts after the decimal point. We can restrict this to only 2 places as follows:"
   ]
  },
  {
   "cell_type": "code",
   "execution_count": null,
   "metadata": {
    "id": "GXWZscScSiXo"
   },
   "outputs": [],
   "source": [
    "f'The value of pi to 2dp is {pi:.2f}'"
   ]
  },
  {
   "cell_type": "markdown",
   "metadata": {
    "id": "A7tcZPyaSiXo"
   },
   "source": [
    "Using the power of f-strings, we can re-write the output section above a bit more nicely:"
   ]
  },
  {
   "cell_type": "code",
   "execution_count": null,
   "metadata": {
    "id": "PcPo0GwpSiXp"
   },
   "outputs": [],
   "source": [
    "print(f'mol% O2  = {mol_perc_O2:.2f}%')\n",
    "print(f'mol% CO  = {mol_perc_CO:.2f}%')\n",
    "print(f'mol% CO2 = {mol_perc_CO2:.2f}%')\n",
    "print(f'mol% N2  = {mol_perc_N2:.2f}%')"
   ]
  },
  {
   "cell_type": "markdown",
   "metadata": {
    "id": "3ALkn9iQSiXp"
   },
   "source": [
    "## Another aside: types\n",
    "\n",
    "Variables explained another way, are a *name* given to an *object*. An object in python is anything and everything. A number is an object, a function is an object, a string is an object. Those things are just *types* of object. Types tell you what an object can do or what to do with it.\n",
    "\n",
    "For example, a `float` object is a number expressed as a floating point number (don't worry too much about it - it's a number with decimal places) which can have arithmetic performed on it. A `str` (string) is piece of text - arithmetic makes no sense for text. If you try to add two strings, what do you think happens?"
   ]
  },
  {
   "cell_type": "code",
   "execution_count": null,
   "metadata": {
    "id": "oavRZeKISiXp"
   },
   "outputs": [],
   "source": [
    "'string 1' + 'string 2'"
   ]
  },
  {
   "cell_type": "markdown",
   "metadata": {
    "id": "Vl9ApRFsSiXp"
   },
   "source": [
    "You get a new string of the initial two added together!  However, you can't do things like add a `str` to a `float` or to an `int`.  Types are something to be aware of, but Python will tell you when you are doing something nonsensical. \n",
    "\n",
    "The basic types of variables that we will use in this class are:\n",
    "- float: float\n",
    "- integer: int\n",
    "- strings: str\n",
    "- list: list\n",
    "- dictionary: dict\n",
    "\n",
    "Note that Python also offers the ability for us to define our own types!"
   ]
  },
  {
   "cell_type": "markdown",
   "metadata": {
    "id": "u19C1RoJXFUu"
   },
   "source": [
    "## Additional exercise\n",
    "Calculate and print the heat of combustion for $100.0\\,{\\rm g}$ of propanol, given the following heats of formation:\n",
    "\n",
    "| Compound | Molecular mass / ${\\rm g\\, mol^{-1}}$ | $\\Delta H^\\circ_f$ / ${\\rm kJ\\, mol^{-1}}$ |\n",
    "|:---|---|---|\n",
    "| CO$_{2(g)}$   | $44.01$ | $-393.50$ |\n",
    "|H$_2$O$_{(l)}$ | $18.02$ | $-285.86$|\n",
    "|C$_3$H$_7$OH$_{(g)}$ | $60.10$ | $-303.00$|\n",
    "\n",
    "Solution:"
   ]
  },
  {
   "cell_type": "code",
   "execution_count": null,
   "metadata": {
    "id": "nw8KAf9WbDR9"
   },
   "outputs": [],
   "source": [
    "prop_mass = 100 \n",
    "prop_mw = 60.10\n",
    "CO2_heat = -393.5\n",
    "H2O_heat = -285.86\n",
    "C3H7OH_heat = -303.0\n",
    "\n",
    "CO2_coeff = 3\n",
    "H2O_coeff = 4\n",
    "C3H7OH_coeff = -1\n",
    "\n",
    "combust_heat_permole =  CO2_coeff*CO2_heat + H2O_coeff*H2O_heat + C3H7OH_coeff*C3H7OH_heat \n",
    "combust_heat = combust_heat_permole * prop_mass / prop_mw\n",
    "\n",
    "print(f'The heat of combustion for {prop_mass}g of propanol is {combust_heat:.2f}kJ/mol')"
   ]
  },
  {
   "cell_type": "markdown",
   "metadata": {
    "id": "DE9BD7pOSiXp"
   },
   "source": [
    "## Conclusions\n",
    "\n",
    "In this notebook, we've seen the power of variables and how they're useful to drastically reduce the amount of retyping required in the process of a calculation. We've touch slightly on the function syntax in python, which we'll go into much more detail later. In the [next notebook](https://colab.research.google.com/github/mjksill/CCP5SummerSchool/blob/master/notebooks/CCP5-lists.ipynb) we'll talk about structuring data."
   ]
  }
 ],
 "metadata": {
  "colab": {
   "collapsed_sections": [],
   "name": "python_variables.ipynb",
   "provenance": []
  },
  "kernelspec": {
   "display_name": "Python 3 (ipykernel)",
   "language": "python",
   "name": "python3"
  },
  "language_info": {
   "codemirror_mode": {
    "name": "ipython",
    "version": 3
   },
   "file_extension": ".py",
   "mimetype": "text/x-python",
   "name": "python",
   "nbconvert_exporter": "python",
   "pygments_lexer": "ipython3",
   "version": "3.12.3"
  }
 },
 "nbformat": 4,
 "nbformat_minor": 4
}
