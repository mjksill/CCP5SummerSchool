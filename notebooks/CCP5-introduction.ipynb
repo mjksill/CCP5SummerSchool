{
 "cells": [
  {
   "cell_type": "markdown",
   "metadata": {
    "id": "Jx7T4CcZaUzV"
   },
   "source": [
    "# Introduction to Python\n",
    "\n",
    "## Preliminaries\n",
    "\n",
    "- https://colab.research.google.com/github/mjksill/CCP5SummerSchool/blob/master/notebooks/CCP5-introduction.ipynb\n",
    "- logging into Colab"
   ]
  },
  {
   "cell_type": "code",
   "execution_count": null,
   "metadata": {
    "id": "XxtJOYCfMgaz"
   },
   "outputs": [],
   "source": []
  },
  {
   "cell_type": "markdown",
   "metadata": {
    "id": "0TI4XRUFRA32"
   },
   "source": [
    "## Live lecture chat\n",
    "\n",
    "To allow anonymous chat, response and polling, I'm going to try the jit.si chatroom here:\n",
    "\n",
    "https://meet.jit.si/CCP5SummerSchool\n",
    "\n",
    "Join if you want to respond to the polls, or anonymously ask questions (choose a funny username if you go anonymous). You can ignore the camera/microphone permission if you like. Alternatively, you can of course just talk in the class, although my experience shows this is rare in large classes."
   ]
  },
  {
   "cell_type": "markdown",
   "metadata": {
    "id": "FeaneynRRfbE"
   },
   "source": [
    "# Tutorial contents\n",
    "\n",
    "Every programming tutorial is like this:\n",
    "![How to draw an owl. Draw two circles. Then draw the rest of the owl.](owlanomics.png)\n",
    "\n",
    "This is no different, it is the nature of the problem. Learning programming is exactly like playing music, the good and the bad.\n",
    "As you start to learn music/code, your music/code will not work at first, then it will sound/run terrible, but you must practice and learn to \"fail upwards\" by learning what \"sounds\"/runs nice.\n",
    "\n",
    "A massive aspect is learning how you fail, coding is 1/3rds programming, then 2/3rds finding the errors/unconsidered-complications. Good programmers still make many mistakes, they just write code so the mistakes are obvious and easy to find.\n",
    "\n",
    "Eventually you will become a maestro with practice, and will be able to improv code that makes your non-programmer friends stare in amazement. Fair warning though, music might help you make more friends, but programming will make computers do your work for you so you have more time for the finer aspects of life.\n",
    "\n",
    "I cannot hope to teach you everything about programming in two-days, so I hope to show you a quick overview, teach you very carefully the hardest part of python (the reference/side-affects/spooky action at a distance).  Finally, we will talk about examples, as you will probably eventually learn programming from Googling your problem, using a LLM, like Gemini or ChatGPT, and reading other people's code.\n",
    "\n",
    "<br/>\n",
    "<center><b>Please give me suggestions of interesting things to code! I will code them for you as an example.</b></center>\n",
    "<br/>\n",
    "\n",
    "\n",
    "\n",
    "Everything in here is code/an-example, you can edit these pages, change them, rerun the code. You must do this, break it, learn how to understand your errors, then learn how to put it back together in interesting ways.\n",
    "\n",
    "## Drawing two circles\n",
    "\n",
    "* [Python as a calculator](https://colab.research.google.com/github/mjksill/CCP5SummerSchool/blob/master/notebooks/CCP5-calculator.ipynb)\n",
    "* [Python as an advanced calculator](https://colab.research.google.com/github/mjksill/CCP5SummerSchool/blob/master/notebooks/CCP5-variables.ipynb)\n",
    "* [Lists in Python](https://colab.research.google.com/github/mjksill/CCP5SummerSchool/blob/master/notebooks/CCP5-lists.ipynb)\n",
    "* [Dictionaries in Python](https://colab.research.google.com/github/mjksill/CCP5SummerSchool/blob/master/notebooks/CCP5-dictionaries.ipynb)\n",
    "* [Importing libraries & Numpy](https://colab.research.google.com/github/mjksill/CCP5SummerSchool/blob/master/notebooks/CCP5-numpy.ipynb)\n",
    "* [Plotting with Python](https://colab.research.google.com/github/mjksill/CCP5SummerSchool/blob/master/notebooks/CCP5-plotting.ipynb)\n",
    "* [Functions in Python](https://colab.research.google.com/github/mjksill/CCP5SummerSchool/blob/master/notebooks/CCP5-functions.ipynb)\n",
    "* [Conditionals](https://colab.research.google.com/github/mjksill/CCP5SummerSchool/blob/master/notebooks/CCP5-conditionals.ipynb)\n",
    "* [Symbolic algebra](https://colab.research.google.com/github/mjksill/CCP5SummerSchool/blob/master/notebooks/CCP5-sympy.ipynb)\n",
    "* [Numerically solving algebraic equations](https://colab.research.google.com/github/mjksill/CCP5SummerSchool/blob/master/notebooks/CCP5-solver.ipynb)\n",
    "* [Error handling](https://colab.research.google.com/github/mjksill/CCP5SummerSchool/blob/master/notebooks/CCP5-exceptions.ipynb)\n",
    "* [File input/output](https://colab.research.google.com/github/mjksill/CCP5SummerSchool/blob/master/notebooks/CCP5-fileio.ipynb)\n",
    "* [Introduction to Pandas and data frames](https://colab.research.google.com/github/mjksill/CCP5SummerSchool/blob/master/notebooks/CCP5-pandas1.ipynb)\n",
    "* [Working with Pandas data frames](https://colab.research.google.com/github/mjksill/CCP5SummerSchool/blob/master/notebooks/CCP5-pandas2.ipynb)\n",
    "* [Importing data into Pandas directly from websites](https://colab.research.google.com/github/mjksill/CCP5SummerSchool/blob/master/notebooks/CCP5-pandas3.ipynb)\n",
    "* [Filtering and exploring data with Pandas](https://colab.research.google.com/github/mjksill/CCP5SummerSchool/blob/master/notebooks/CCP5-pandas4.ipynb)\n",
    "\n",
    "\n",
    "<!---\n",
    "# * [Numerically solving ordinary differential equations with `odeint`](https://colab.research.google.com/github/mjksill/CP213-online/blob/master/notebooks/ode-odeint.ipynb)\n",
    "# * [Linear regression](https://colab.research.google.com/github/mjksill/CP213-online/blob/master/notebooks/fit_line.ipynb)\n",
    "\n",
    "\n",
    "* [Introduction to python](https://colab.research.google.com/github/toastedcrumpets/CCP5_Python_examples/blob/master/01-Introduction.ipynb)\n",
    "\n",
    "* [Handling errors (AKA Fantastic Exceptions and where to find them)](https://colab.research.google.com/github/toastedcrumpets/CCP5_Python_examples/blob/master/04-Errors%20(Fantastic%20Exceptions%20and%20where%20to%20find%20them).ipynb)\n",
    "--->\n",
    "\n",
    "<!---\n",
    "* [Variable scope (and calculating prime numbers)](https://colab.research.google.com/github/toastedcrumpets/CCP5_Python_examples/blob/master/02-Variable%20scope%20(calclulating%20prime%20numbers).ipynb)\n",
    "* [Calculating $\\pi$](https://colab.research.google.com/github/toastedcrumpets/CCP5_Python_examples/blob/master/03-Calculating%20pi.ipynb)\n",
    "\n",
    "* [List comprehensions, lambdas, and running other programs](https://colab.research.google.com/github/toastedcrumpets/CCP5_Python_examples/blob/master/07-List%20comprehensions%2C%20lambdas%2C%20and%20running%20other%20programs.ipynb)\n",
    "--->\n",
    "\n",
    "## The rest of Python\n",
    "\n",
    "* [Gas-water shift reaction](https://colab.research.google.com/github/mjksill/CCP5SummerSchool/blob/master/notebooks/CCP5-gws.ipynb)\n",
    "* [Molecular dynamics in Python](https://colab.research.google.com/github/mjksill/CCP5SummerSchool/blob/master/notebooks/CCP5-MD.ipynb)\n",
    "* [Appendix: Snippets of Python code (request anything you like!)](https://colab.research.google.com/github/toastedcrumpets/CCP5_Python_examples/blob/master/Appendix-A-Snippets.ipynb)\n",
    "* [Appendix: Monte Carlo calculation of PI with animation](https://colab.research.google.com/github/toastedcrumpets/CCP5_Python_examples/blob/master/Appendix-B-%20Monte%20Carlo%20class%20examples.ipynb)\n",
    "* [Dall-E notebooks for image generation](https://alpha2phi.medium.com/generate-image-from-text-c84daaddd75b)\n",
    "* [Music generation from facebook](https://huggingface.co/spaces/facebook/MusicGen) (see the repo for the Colab links)\n",
    "\n",
    "\n",
    "<!---\n",
    "* [Example: Stock/Data analysis using Pandas](https://colab.research.google.com/github/toastedcrumpets/CCP5_Python_examples/blob/master/05-%20Example%2C%20Stock%20analysis%20using%20pandas.ipynb)\n",
    "--->\n",
    "\n",
    "\n",
    "\n",
    "## Beyond this class\n",
    "\n",
    "* [Installing python](https://colab.research.google.com/github/toastedcrumpets/CCP5_Python_examples/blob/master/00-Installing_python.ipynb)\n",
    "\n",
    "## For more examples, ask me to program something you need!"
   ]
  },
  {
   "cell_type": "markdown",
   "metadata": {},
   "source": [
    "## Acknowledgements\n",
    "\n",
    "Thanks for Dr Marcus Bannerman for all his help with these tutorials!"
   ]
  }
 ],
 "metadata": {
  "colab": {
   "authorship_tag": "ABX9TyOGew6Mf1m4bJ7QEeDtRqJz",
   "provenance": []
  },
  "kernelspec": {
   "display_name": "Python 3 (ipykernel)",
   "language": "python",
   "name": "python3"
  },
  "language_info": {
   "codemirror_mode": {
    "name": "ipython",
    "version": 3
   },
   "file_extension": ".py",
   "mimetype": "text/x-python",
   "name": "python",
   "nbconvert_exporter": "python",
   "pygments_lexer": "ipython3",
   "version": "3.12.3"
  }
 },
 "nbformat": 4,
 "nbformat_minor": 4
}
