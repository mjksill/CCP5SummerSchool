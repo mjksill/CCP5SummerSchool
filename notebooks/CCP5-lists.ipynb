{
 "cells": [
  {
   "cell_type": "markdown",
   "metadata": {
    "id": "2kYNgL0TjVbm"
   },
   "source": [
    "# Lists in Python\n",
    "\n",
    "Previously, we have learned that [variables](https://colab.research.google.com/github/mjksill/CCP5SummerSchool/blob/master/notebooks/CCP5-variables.ipynb) in Python can take on values that are either numbers (e.g., integer or floating point numbers) or strings.  However, we only considered variables as having a single value.  Lists are variables that are collections of variables.\n"
   ]
  },
  {
   "cell_type": "markdown",
   "metadata": {
    "id": "OqaPo9U3jVbn"
   },
   "source": [
    "## Creating and modifying lists\n",
    "\n",
    "We can create a list in Python by simply entering a sequence of values or variables, separated by commas, between two square brackets.  We can enter any number of values, and the values do not even need to have the same type.  In the following, we create a list consiting of the values `2.0`, `1.3e-2`, `'hello'`, and the letter `'B'` and assign it to the variable `x`."
   ]
  },
  {
   "cell_type": "code",
   "execution_count": null,
   "metadata": {
    "id": "if4TJycwjVbo"
   },
   "outputs": [],
   "source": [
    "x = [2.0, 1.3e-2, 'hello', 'B']\n",
    "\n",
    "print(x)"
   ]
  },
  {
   "cell_type": "markdown",
   "metadata": {
    "id": "E9Hq626tjVbp"
   },
   "source": [
    "Lists can also be empty.  Below we create an empty list and assign it to the variable `a_list`."
   ]
  },
  {
   "cell_type": "code",
   "execution_count": null,
   "metadata": {
    "id": "I0a1yXvNjVbp"
   },
   "outputs": [],
   "source": [
    "a_list = []\n",
    "\n",
    "print(a_list)"
   ]
  },
  {
   "cell_type": "markdown",
   "metadata": {
    "id": "1VcSdLRtjVbq"
   },
   "source": [
    "We can append a value to the end of a list by simply using the \"append\" member function of the list.  That is, to append the value `4.8` to the list `x` that we created above, we simply write:"
   ]
  },
  {
   "cell_type": "code",
   "execution_count": null,
   "metadata": {
    "id": "IozRLTwWjVbq",
    "scrolled": true
   },
   "outputs": [],
   "source": [
    "x.append(4.8)\n",
    "\n",
    "print(x)"
   ]
  },
  {
   "cell_type": "markdown",
   "metadata": {
    "id": "HQ1nL5rMjVbr"
   },
   "source": [
    "We can perform this process repeatedly to successively add items to a list.  In the example below, we build upon the empty list `a_list` that we created above:"
   ]
  },
  {
   "cell_type": "code",
   "execution_count": null,
   "metadata": {
    "id": "NjT9hqOojVbr"
   },
   "outputs": [],
   "source": [
    "a_list.append('a')\n",
    "a_list.append('b')\n",
    "a_list.append('c')\n",
    "a_list.append('d')\n",
    "a_list.append('e')\n",
    "\n",
    "print(a_list)"
   ]
  },
  {
   "cell_type": "markdown",
   "metadata": {
    "id": "933n2dXOjVbs"
   },
   "source": [
    "Finally, we note that there are functions in Python that automatically generate lists for us.  An important function is `range`.  This function creates an `iterator` for us, which we can easily convert to a list, using the function `list`:"
   ]
  },
  {
   "cell_type": "code",
   "execution_count": null,
   "metadata": {
    "id": "ojtNj1gUjVbt"
   },
   "outputs": [],
   "source": [
    "b_list = range(10)\n",
    "print(b_list)\n",
    "print( list(b_list) )\n",
    "\n",
    "b_list = list( range(3, 9) )\n",
    "print(b_list)\n",
    "\n",
    "b_list = list( range(2, 20, 5) )\n",
    "print(b_list)"
   ]
  },
  {
   "cell_type": "markdown",
   "metadata": {
    "id": "HqKhEtODjVbt"
   },
   "source": [
    "## Accessing lists\n",
    "\n",
    "The items in a list maintain their order.  Each is assigned an integer, starting from zero.  We can access each item from a list using this integer:"
   ]
  },
  {
   "cell_type": "code",
   "execution_count": null,
   "metadata": {
    "id": "kNSdipE_jVbt"
   },
   "outputs": [],
   "source": [
    "print(x)\n",
    "\n",
    "print(x[0])\n",
    "print(x[1])"
   ]
  },
  {
   "cell_type": "markdown",
   "metadata": {
    "id": "qNjQEexbjVbu"
   },
   "source": [
    "Note that we can conveniently access elements from the back of the list using negative numbers.  The last element of a list is associated with the integer `-1`, the second to last element is associated with `-2`, etc."
   ]
  },
  {
   "cell_type": "code",
   "execution_count": null,
   "metadata": {
    "id": "MnY3MzbwjVbu"
   },
   "outputs": [],
   "source": [
    "print(x)\n",
    "\n",
    "print(x[-1])\n",
    "print(x[-2])"
   ]
  },
  {
   "cell_type": "markdown",
   "metadata": {
    "id": "KT87YUrmjVbu"
   },
   "source": [
    "## Unpacking lists\n",
    "\n",
    "Sometimes holding values in a list is not convenient, and we want to \"unpack\" a list in to a set of individual variables that contain a single value.  We can do this as show below:"
   ]
  },
  {
   "cell_type": "code",
   "execution_count": null,
   "metadata": {
    "id": "0tkIxpYijVbu"
   },
   "outputs": [],
   "source": [
    "print(x)\n",
    "\n",
    "\n",
    "A, B, C, D, E = x\n",
    "print(A)\n",
    "print(B)\n",
    "print(C)\n",
    "print(D)\n",
    "print(E)"
   ]
  },
  {
   "cell_type": "markdown",
   "metadata": {
    "id": "SlHrroQyjVbu"
   },
   "source": [
    "Note that the number of variables on the left of the equal sign needs to be the same as the number of item in the list on the right, otherwise an error will occur"
   ]
  },
  {
   "cell_type": "code",
   "execution_count": null,
   "metadata": {
    "id": "i96yrC4HjVbu"
   },
   "outputs": [],
   "source": [
    "A, B = x\n"
   ]
  },
  {
   "cell_type": "markdown",
   "metadata": {
    "id": "B9ncwb_njVbv"
   },
   "source": [
    "We can remedy this by adding an asterix `*` in front of the final variable on the left.  This puts the rest of the items of the list into the final variable."
   ]
  },
  {
   "cell_type": "code",
   "execution_count": null,
   "metadata": {
    "id": "a9FTtKRsjVbv"
   },
   "outputs": [],
   "source": [
    "A, B, *C = x\n",
    "\n",
    "print(A)\n",
    "print(B)\n",
    "print(C)"
   ]
  },
  {
   "cell_type": "markdown",
   "metadata": {
    "id": "E6Y4UytzjVbv"
   },
   "source": [
    "## List functions\n",
    "\n",
    "There are some built-in functions for lists that we can use to perform operations that we frequently need.  The function `len` returns the number of items in a list, while the function `sum` returns the sum of all the items in a list of numbers."
   ]
  },
  {
   "cell_type": "code",
   "execution_count": null,
   "metadata": {
    "id": "arJ7Fry5jVbv"
   },
   "outputs": [],
   "source": [
    "x_list = list(range(10))\n",
    "print(x_list)\n",
    "\n",
    "length = len(x_list)\n",
    "print(length)\n",
    "\n",
    "N = sum(x_list)\n",
    "print(N)"
   ]
  },
  {
   "cell_type": "markdown",
   "metadata": {
    "id": "2gUq-3lKjVbv"
   },
   "source": [
    "## List comprehensions\n",
    "\n",
    "We can construct a list from another list by using something called a list comprehension.  In the example below, we create a list `x_list`, which contains the integers from 0 to 9.  We construct a list `y_list` using a list comprehension, which iterates, in order, over every element in `x_list`, and puts the square of that element in the corresponding position in the list `y_list`."
   ]
  },
  {
   "cell_type": "code",
   "execution_count": null,
   "metadata": {
    "id": "ec-rcedFjVbv"
   },
   "outputs": [],
   "source": [
    "x_list = range(10)\n",
    "print(list(x_list))\n",
    "\n",
    "y_list = [x**2  for x in x_list]\n",
    "print(y_list)"
   ]
  },
  {
   "cell_type": "markdown",
   "metadata": {
    "id": "jj1ihk6XjVbw"
   },
   "source": [
    "## Looping\n",
    "\n",
    "Probably one of the most important aspects of lists is that it allows us to perform repetitive operations for each item in the list.  This is known as a loop.  \n",
    "\n",
    "As an example, let us assume that we have a four component system, and the mass of each component is kept in the variable `mass_list`. We can access each component in the list sequentially by using a loop. The `for` statement means that we iterate over every element of `mass_list`, placing each element in the variable `mass`."
   ]
  },
  {
   "cell_type": "code",
   "execution_count": null,
   "metadata": {
    "id": "CLB9XkGG6YHl"
   },
   "outputs": [],
   "source": [
    "mass_list = [2.3, 6.2, 2.8, 5.6]\n",
    "element = 0\n",
    "\n",
    "for mass in mass_list:\n",
    "    print(element, mass)\n",
    "    element += 1"
   ]
  },
  {
   "cell_type": "markdown",
   "metadata": {
    "id": "oT3QcwqCB6FG"
   },
   "source": [
    "Alternatively, we can loop through a list using an `iterator` variable. We can do so with the combination of previously discussed functions: `range()` and `len()`. "
   ]
  },
  {
   "cell_type": "code",
   "execution_count": null,
   "metadata": {
    "id": "-nf4ELFRB5qt"
   },
   "outputs": [],
   "source": [
    "mass_list = [2.3, 6.2, 2.8, 5.6]\n",
    "\n",
    "for i in range(len(mass_list)):\n",
    "    print(i, mass_list[i])"
   ]
  },
  {
   "cell_type": "markdown",
   "metadata": {
    "id": "twao4buxDpPA"
   },
   "source": [
    "This method has the advantage of allowing you to access not just one element in a list, but also the elements next to it. For example, if we wanted to find the difference between the elements in `mass_list`, we can do so as follows."
   ]
  },
  {
   "cell_type": "code",
   "execution_count": null,
   "metadata": {
    "id": "-tJHnBj5Egb0"
   },
   "outputs": [],
   "source": [
    "mass_list = [2.3, 6.2, 2.8, 5.6]\n",
    "\n",
    "for i in range(len(mass_list) - 1):\n",
    "    diff = mass_list[i+1]-mass_list[i] \n",
    "    print(diff)"
   ]
  },
  {
   "cell_type": "markdown",
   "metadata": {
    "id": "m5YeZJwP6eVU"
   },
   "source": [
    "Demonstrated above, we can also perform mathematical operations inside of the loop. If we want to know the total mass of the system, we just need to sum over all the elements of `mass_list`."
   ]
  },
  {
   "cell_type": "code",
   "execution_count": null,
   "metadata": {
    "id": "FFlIex8_jVbw"
   },
   "outputs": [],
   "source": [
    "mass_list = [2.3, 6.2, 2.8, 5.6]\n",
    "\n",
    "total_mass = 0.0\n",
    "for mass in mass_list:\n",
    "    print(f'Cummulative mass: {total_mass}')\n",
    "    total_mass += mass\n",
    "    \n",
    "print(f'Total mass: {total_mass}')"
   ]
  },
  {
   "cell_type": "markdown",
   "metadata": {
    "id": "Ux_WvIuvjVbw"
   },
   "source": [
    "  We initialize the variable `total_mass` to zero, and in the loop, we increment its value by the value of each item in the list (i.e. the value of `mass`).  Note that the symbol `+=` means we increment the value of the variable on the left of the symbol, by the value of the variable on the right. i.e. `total_mass += mass` is equivalent to `total_mass = total_mass + mass`.\n",
    "\n",
    "Additionally, we can also use loops to construct lists.  In the code below, we construct a list of mass fractions of each of the species."
   ]
  },
  {
   "cell_type": "code",
   "execution_count": null,
   "metadata": {
    "id": "suf00FxQjVbw"
   },
   "outputs": [],
   "source": [
    "mass_frac = []\n",
    "for x in mass_list:\n",
    "    mass_frac.append(x/total_mass)\n",
    "print(mass_frac)"
   ]
  },
  {
   "cell_type": "markdown",
   "metadata": {
    "id": "aGzZ8MTu_kWf"
   },
   "source": [
    "`mass_frac` is initialised as an empty list. With each iteration of the loop, a component of `mass_list` is assigned to the variable `x`, `x` is then used to calculate the respective mass fraction. The calculated result is then added to the end of the list.\\\n",
    "\\\n",
    "We can confirm the result is correct by summing the mass fractions in `mass_frac`."
   ]
  },
  {
   "cell_type": "code",
   "execution_count": null,
   "metadata": {
    "id": "PObTjhYyBBnH"
   },
   "outputs": [],
   "source": [
    "print(sum(mass_frac))"
   ]
  },
  {
   "cell_type": "markdown",
   "metadata": {
    "id": "U4Nlxf5-FiQ9"
   },
   "source": [
    "## Worked Example: Rectangle/Mid-point Rule Integration\n",
    "\n",
    "Combining what we've learned so far, consider the following integral:\n",
    "\\begin{equation}\n",
    "  I = \\int_0^{10} dx\\, (x^2 + 2x + 1)\n",
    "\\end{equation}\n",
    "We can approximate the integral by using the midpoint rule and 10 rectangles of equal width $\\Delta x=1$.  If we number the rectangles from 0 to 9, the center of rectangle $i$ is $x_i=(i+1/2)\\Delta x$.  Then the approximation is\n",
    "\\begin{align*}\n",
    "I &\\approx  \\sum_{i=0}^{9} \\Delta x\\, (x_i^2 + 2x_i + 1)\n",
    "\\\\\n",
    "&\\approx \\sum_{i=0}^9 \\Delta x\\,f_i\n",
    "\\end{align*}\n",
    "where $f_i = x_i^2 + 2x_i + 1$.\n",
    "\n",
    "To do so, we must first create a list that corresponds to the center point of each rectangle, from which we will find the height of the rectangle."
   ]
  },
  {
   "cell_type": "code",
   "execution_count": 2,
   "metadata": {
    "id": "f8zrhmylHCJ9"
   },
   "outputs": [
    {
     "name": "stdout",
     "output_type": "stream",
     "text": [
      "[0.5, 1.5, 2.5, 3.5, 4.5, 5.5, 6.5, 7.5, 8.5, 9.5]\n",
      "[2.25, 6.25, 12.25, 20.25, 30.25, 42.25, 56.25, 72.25, 90.25, 110.25]\n"
     ]
    }
   ],
   "source": [
    "N = 10 # number of rectangles\n",
    "a = 0 # lower limit\n",
    "b = 10 # upper limit\n",
    "\n",
    "dx = (b-a)/N\n",
    "\n",
    "x_list = [(i+0.5)*dx for i in range(N)] # list with the center of each rectangle\n",
    "f_list = [x**2 + 2*x + 1 for x in x_list]\n",
    "\n",
    "print(x_list)\n",
    "print(f_list)\n",
    "\n"
   ]
  },
  {
   "cell_type": "markdown",
   "metadata": {
    "id": "wqbkIvdTI54z"
   },
   "source": [
    "Note that we could have also constructed the required lists using a loop:"
   ]
  },
  {
   "cell_type": "code",
   "execution_count": 3,
   "metadata": {
    "id": "PyD4JjidJkc4"
   },
   "outputs": [
    {
     "name": "stdout",
     "output_type": "stream",
     "text": [
      "[0.5, 1.5, 2.5, 3.5, 4.5, 5.5, 6.5, 7.5, 8.5, 9.5]\n",
      "[2.25, 6.25, 12.25, 20.25, 30.25, 42.25, 56.25, 72.25, 90.25, 110.25]\n"
     ]
    }
   ],
   "source": [
    "x_list = []\n",
    "f_list = []\n",
    "for i in range(N):\n",
    "    x = dx*(i+0.5)\n",
    "    x_list.append(x)\n",
    "    f_list.append(x**2+2*x+1)\n",
    "    \n",
    "print(x_list)\n",
    "print(f_list)"
   ]
  },
  {
   "cell_type": "markdown",
   "metadata": {
    "id": "7Q6ygeQsKnxx"
   },
   "source": [
    "Finally, we can multiply the heights by the bar width to get the area of each bar, then sum them up to find the approximate area under the curve.  This is just the physical content of the approximation:\n",
    "\\begin{align*}\n",
    "I &\\approx  \\sum_{i=0}^{9} \\Delta x\\, (x_i^2 + 2x_i + 1)\n",
    "\\approx \\sum_{i=0}^9 \\Delta x\\,f_i\n",
    ".\n",
    "\\end{align*}\n",
    "We will perform this sum with a `for` loop.  Note that the index $i$ runs over the number of the rectangle.  The area of each rectangle, which is equal to $\\Delta x\\,f_i$, is sequentially added to the variable $I$, in a manner that is very similar to what is shown mathematically in the equation above.  \n",
    "\n",
    "The answer below should be compared to the exact value $I=443.333$."
   ]
  },
  {
   "cell_type": "code",
   "execution_count": 4,
   "metadata": {
    "id": "91nnI3cFK9Le"
   },
   "outputs": [
    {
     "name": "stdout",
     "output_type": "stream",
     "text": [
      "442.5\n"
     ]
    }
   ],
   "source": [
    "I = 0\n",
    "for i in range(N):\n",
    "    I += f_list[i]\n",
    "I *= dx    \n",
    "print(I)"
   ]
  },
  {
   "cell_type": "markdown",
   "metadata": {},
   "source": [
    "As we increase the number of rectangles, the accuracy of the approximation should increase. "
   ]
  },
  {
   "cell_type": "markdown",
   "metadata": {
    "id": "mtnDOg5_Oz6m"
   },
   "source": [
    "The following code block can be ran to visualize the process we just completed. Don't worry if the code looks a bit complicated, it is purely for demonstration purposes."
   ]
  },
  {
   "cell_type": "code",
   "execution_count": 5,
   "metadata": {
    "id": "lgJ4gBAxNTkG"
   },
   "outputs": [
    {
     "data": {
      "image/png": "[encoded data removed]",
      "text/plain": [
       "<Figure size 640x480 with 1 Axes>"
      ]
     },
     "metadata": {},
     "output_type": "display_data"
    }
   ],
   "source": [
    "import numpy as np\n",
    "import pylab as plt\n",
    "import matplotlib.patches as mpatches\n",
    "from matplotlib.patches import Rectangle\n",
    "x_exact = np.arange(0.0, 10.0, 0.01)\n",
    "f_exact = [x**2 + 2*x + 1 for x in x_exact]\n",
    "#plt.figure()\n",
    "plt.plot(x_exact, f_exact, color='black')\n",
    "plt.plot(x_list, [0 for x in x_list], 'o', color='black', label='Mid-points')\n",
    "currentAxis = plt.gca()\n",
    "for x, f in zip(x_list, f_list):\n",
    "    xleft = x - 0.5*dx\n",
    "    xright = x + 0.5*dx\n",
    "    currentAxis.add_patch(Rectangle((x-0.5*dx, 0), dx, f, alpha=0.5, edgecolor='blue'))    \n",
    "    #plt.plot([xleft, xleft, xright, xright], [0.0, f, f, 0.0], color='blue')\n",
    "plt.xlabel(r'$x$')\n",
    "plt.ylabel(r'$f(x)=x^2+2x+1$')\n",
    "plt.legend()\n",
    "plt.show()\n",
    "\n",
    "\n",
    "\n",
    "#plt.plot(x_list, f_list, label='x^2 + 2x + 1')\n",
    "#plt.plot(x_list, [0 for x in x_list], 'x', label='Mid-points')\n",
    "#plt.xlabel('x')\n",
    "#plt.ylabel('f(x)')\n",
    "#for i in range(N):\n",
    "#  rect=mpatches.Rectangle((x_list[i]-0.5*dx,0), dx,f_list[i], color=\"green\", alpha=0.1)\n",
    "#  plt.gca().add_patch(rect)\n",
    "#plt.legend()"
   ]
  },
  {
   "cell_type": "markdown",
   "metadata": {
    "id": "hLkg6CqAcgrL"
   },
   "source": [
    "## Looping with multiple lists\n",
    "Python's `zip()` function allows for the simultaneous iteration of multiple lists. `zip()` takes in two or more `list` arguements, and returns a new list, whose elements comprise of the pairing of the input lists. For example:  "
   ]
  },
  {
   "cell_type": "code",
   "execution_count": null,
   "metadata": {
    "id": "aQqfR48rfl_U"
   },
   "outputs": [],
   "source": [
    "list_1 = [1, 3, 5]\n",
    "list_2 = [2, 4, 6]\n",
    "\n",
    "print(list(zip(list_1, list_2)))"
   ]
  },
  {
   "cell_type": "markdown",
   "metadata": {
    "id": "SrNUZM-SgKOs"
   },
   "source": [
    "Note that if the input arguements are lists of different sizes, the returned list will have size equal to the smallest inputted list, the 'extra' elements will be ignored. In practise, `zip()` is very useful when multiple lists are used within the same loop\n",
    "\n",
    "Consider the folllwing table of materials, if we want to calculate the density of each material, we can do so with a loop.\n",
    "\n",
    "| Material | Mass  | Volume           |\n",
    "|:--- | --- | --- |\n",
    "|             |kg          | m$^3$ |\n",
    "| Water     | 837 |       0.84 |\n",
    "| Ethanol  | 205 |       0.26 |\n",
    "| Steel     | 629 |       0.08 |"
   ]
  },
  {
   "cell_type": "code",
   "execution_count": null,
   "metadata": {
    "id": "Lc8BK5gMhlht"
   },
   "outputs": [],
   "source": [
    "mass_list = [837, 205, 629]\n",
    "volume_list = [0.84, 0.26, 0.08]\n",
    "\n",
    "density_list =[]\n",
    "for mass, volume in zip(mass_list, volume_list):\n",
    "  density_list.append(mass/volume)\n",
    "\n",
    "print(density_list)"
   ]
  },
  {
   "cell_type": "markdown",
   "metadata": {
    "id": "oUu_8CTR2j8Y"
   },
   "source": [
    "With each iteration of the loop, a component of `mass_list` and its corresponding component in `volume_list`, is assigned to `mass` and `volume` respectively, from which the density is calculated and added to the bottom of `density_list`. \n",
    "\n",
    "Alternatively an iterable index, a list of integers that corresponds to a \n",
    "position in a list, can be used to access elements sequentially. Returning to the previously seen problem, it can also be solved as such:"
   ]
  },
  {
   "cell_type": "code",
   "execution_count": null,
   "metadata": {
    "id": "90_IhB4Y4aiB"
   },
   "outputs": [],
   "source": [
    "mass_list = [837, 205, 629]\n",
    "volume_list = [0.84, 0.26, 0.08]\n",
    "\n",
    "density_list =[]\n",
    "for index in range(len(mass_list)):\n",
    "  density_list.append(mass_list[index] / volume_list[index])\n",
    "\n",
    "print(density_list)"
   ]
  },
  {
   "cell_type": "markdown",
   "metadata": {
    "id": "cktSgYLS4tR2"
   },
   "source": [
    "`len()` is a function that returns the size of a list. While `range()` returns a sequence of numbers (starting at 0), with size equal to its input. In this scenario `len(mass_list)` would give the integer `3`, consequently `range(len(mass_list))` would give the list `[0, 1, 2]`. Each element of the aforementioned list would then be assigned to the variable `index` and used to access elements in `mass_list` and `volume_list`."
   ]
  },
  {
   "cell_type": "markdown",
   "metadata": {
    "id": "asf9E_-Dd3zG"
   },
   "source": [
    "### Practice Exercises\n",
    "\n",
    "**Q1**. Calculate the sum of integers from 1 to 100, i.e.\n",
    "\\begin{equation}\n",
    "  = 1 + 2 + 3.... +99 + 100\n",
    "\\end{equation\n",
    "Note that this problem is so easy that even a [seven year old](https://www.americanscientist.org/article/gausss-day-of-reckoning) can do it in his head."
   ]
  },
  {
   "cell_type": "code",
   "execution_count": null,
   "metadata": {},
   "outputs": [],
   "source": []
  },
  {
   "cell_type": "markdown",
   "metadata": {
    "id": "XWGSW2-Hmdtw"
   },
   "source": [
    "**Q2**. Returning to the the same exercise from the previous notebook, complete the exercise by utilising lists and loops.\n",
    "\n",
    "Calculate and print the heat of combustion for 100.0g of propanol, given the following heats of formation:\n",
    "\n",
    "| Compound | Molecular mass / ${\\rm g\\, mol^{-1}}$ | $\\Delta H^\\circ_f$ / ${\\rm kJ\\, mol^{-1}}$ |\n",
    "|:---|---|---|\n",
    "| CO$_{2(g)}$   | $44.01$ | $-393.50$ |\n",
    "|H$_2$O$_{(l)}$ | $18.02$ | $-285.86$|\n",
    "|C$_3$H$_7$OH$_{(g)}$ | $60.10$ | $-303.00$|\n",
    "\n",
    "**Hint**: create a list for both the heats of formation, and the coefficients of each compound."
   ]
  },
  {
   "cell_type": "code",
   "execution_count": null,
   "metadata": {},
   "outputs": [],
   "source": []
  },
  {
   "cell_type": "markdown",
   "metadata": {
    "id": "gjqtkEtvgC6q"
   },
   "source": [
    "**Solutions to practise exercises.**\n",
    "\n",
    "**Q1**."
   ]
  },
  {
   "cell_type": "code",
   "execution_count": 6,
   "metadata": {
    "id": "QPeo1hsRedf6"
   },
   "outputs": [
    {
     "name": "stdout",
     "output_type": "stream",
     "text": [
      "5050\n"
     ]
    }
   ],
   "source": [
    "sum = 0\n",
    "for i in range(100):\n",
    "  sum +=i+1\n",
    "print(sum)"
   ]
  },
  {
   "cell_type": "markdown",
   "metadata": {},
   "source": [
    "**Q2**."
   ]
  },
  {
   "cell_type": "code",
   "execution_count": null,
   "metadata": {
    "id": "UaOd7cCknOZo"
   },
   "outputs": [],
   "source": [
    "prop_mass = 100 \n",
    "prop_mw = 60.10 \n",
    "\n",
    "heats = []\n",
    "heats.append(-393.5) \n",
    "heats.append(-285.86)\n",
    "heats.append(-303.0)\n",
    "\n",
    "coeffs = [3, 4, -1]\n",
    "\n",
    "combust_heat_permole = 0\n",
    "for heat, coeff in zip(heats, coeffs):\n",
    "  combust_heat_permole += heat*coeff\n",
    "\n",
    "combust_heat = combust_heat_permole * prop_mass / prop_mw\n",
    "\n",
    "print(f'The heat of combustion for {prop_mass}g of propanol is {combust_heat:.2f}kJ/mol')"
   ]
  },
  {
   "cell_type": "markdown",
   "metadata": {
    "id": "UpArs9gjjVbw"
   },
   "source": [
    "### Conclusion\n",
    "\n",
    "[Next up](https://colab.research.google.com/github/mjksill/CCP5SummerSchool/blob/master/notebooks/CCP5-dictionaries.ipynb), we will look at another Python datatype, dictionaries."
   ]
  }
 ],
 "metadata": {
  "colab": {
   "name": "python_lists.ipynb",
   "provenance": []
  },
  "kernelspec": {
   "display_name": "Python 3 (ipykernel)",
   "language": "python",
   "name": "python3"
  },
  "language_info": {
   "codemirror_mode": {
    "name": "ipython",
    "version": 3
   },
   "file_extension": ".py",
   "mimetype": "text/x-python",
   "name": "python",
   "nbconvert_exporter": "python",
   "pygments_lexer": "ipython3",
   "version": "3.12.3"
  }
 },
 "nbformat": 4,
 "nbformat_minor": 4
}
