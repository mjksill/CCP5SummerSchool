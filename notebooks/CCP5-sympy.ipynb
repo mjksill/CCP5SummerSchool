{
 "cells": [
  {
   "cell_type": "markdown",
   "metadata": {
    "id": "oWM0IxaRv2yW"
   },
   "source": [
    "# Symbolic algebra with Sympy\n",
    "\n",
    "Previously, we learned about defining our own [functions](https://colab.research.google.com/github/mjksill/CCP5SummerSchool/blob/master/notebooks/CCP5-functions.ipynb).\n",
    "\n",
    "So far the only mathematical computations we have done with Python have been numerical.  That is, we used Python to give us numerical answers to our problems.  However, Python is also capable of performing symbolic calculations, such as simplifying algebra, factoring polynomials, differentiation, integration, etc.  This is known as symbolic algebra.  In this notebook, we will look at how we can perform symbolic calculations with the library `Sympy`.\n",
    "\n",
    "The first step in performing symbolic calculation is to define the variables which we will manipulate.  This is done through the Sympy function `symbols`:"
   ]
  },
  {
   "cell_type": "code",
   "execution_count": null,
   "metadata": {
    "id": "jeEFEqUnv2yY"
   },
   "outputs": [],
   "source": [
    "import sympy as sp\n",
    "\n",
    "x = sp.symbols('x')\n",
    "a, b, c = sp.symbols('a b c')\n",
    "\n",
    "f = sp.sin(x)\n",
    "\n",
    "y = a*x**2 + b*x + c"
   ]
  },
  {
   "cell_type": "markdown",
   "metadata": {
    "id": "GInMQO_6v2yZ"
   },
   "source": [
    "It is important not to confuse the variables `x` or `f` with a number or a variable that is a number.  These variables are symbolic expressions of type `symbol` that do not evalute to a numerical value."
   ]
  },
  {
   "cell_type": "markdown",
   "metadata": {
    "id": "jLnn54upv2yZ"
   },
   "source": [
    "## Simplifying expressions\n",
    "\n",
    "We can try to simplify algebraic expression using the Sympy function `simplify`"
   ]
  },
  {
   "cell_type": "code",
   "execution_count": null,
   "metadata": {
    "id": "FmNn9Xquv2ya"
   },
   "outputs": [],
   "source": [
    "f = sp.sin(x)**2 + sp.cos(x)**2\n",
    "print(f)\n",
    "\n",
    "F = sp.simplify(f)\n",
    "print(F)\n",
    "\n",
    "f = (x**3 + x**2 - x - 1)/(x**2 + 2*x + 1)\n",
    "print(f)\n",
    "\n",
    "F = sp.simplify(f)\n",
    "print(F)"
   ]
  },
  {
   "cell_type": "markdown",
   "metadata": {
    "id": "Ujuu5UkOv2yb"
   },
   "source": [
    "We can expand expressions using the function `expand`"
   ]
  },
  {
   "cell_type": "code",
   "execution_count": null,
   "metadata": {
    "id": "WR7P3Cgiv2yb"
   },
   "outputs": [],
   "source": [
    "f = (x+2)*(x-3)\n",
    "print(f)\n",
    "\n",
    "F = sp.expand(f)\n",
    "print(F)"
   ]
  },
  {
   "cell_type": "markdown",
   "metadata": {
    "id": "rjGhYYmOv2yc"
   },
   "source": [
    "We can also use Sympy to factor polynomials using the function `factor`:"
   ]
  },
  {
   "cell_type": "code",
   "execution_count": null,
   "metadata": {
    "id": "BLipwvkkv2yd"
   },
   "outputs": [],
   "source": [
    "f = x**2 + 2*x + 1\n",
    "\n",
    "F = sp.factor(f)\n",
    "print(F)"
   ]
  },
  {
   "cell_type": "markdown",
   "metadata": {
    "id": "IR68Vfbqv2ye"
   },
   "source": [
    "## Partial fractions decomposition\n",
    "\n",
    "The function `apart` can be used to perform partial fractions decomposition of rational functions:"
   ]
  },
  {
   "cell_type": "code",
   "execution_count": null,
   "metadata": {
    "id": "ZUZhOxMsv2ye"
   },
   "outputs": [],
   "source": [
    "f = 1/((x+2)*(x+5))\n",
    "F = sp.apart(f, x)\n",
    "print(F)"
   ]
  },
  {
   "cell_type": "markdown",
   "metadata": {
    "id": "KYwOZNcAv2ye"
   },
   "source": [
    "## Differentiation\n",
    "The function `diff()` returns the derivative of a sympy expression. Called with the expression to be evaluated, and the respective variable."
   ]
  },
  {
   "cell_type": "code",
   "execution_count": null,
   "metadata": {
    "id": "KkAwT3BAv2ye"
   },
   "outputs": [],
   "source": [
    "print(sp.diff(sp.sin(x), x))"
   ]
  },
  {
   "cell_type": "markdown",
   "metadata": {
    "id": "302j_c8L1KC5"
   },
   "source": [
    "`diff()` can also be used to take multiple derivatives at once, by simply adding another arguement. The following two snippets both produce the same output."
   ]
  },
  {
   "cell_type": "code",
   "execution_count": null,
   "metadata": {
    "id": "Mf5fhV7V1JxD"
   },
   "outputs": [],
   "source": [
    "x = sp.symbols('x')\n",
    "f = 2*x**5 \n",
    "\n",
    "print(sp.diff(f, x, x, x))\n",
    "\n",
    "print(sp.diff(f, x, 3))"
   ]
  },
  {
   "cell_type": "markdown",
   "metadata": {
    "id": "Wk_b4h5sv2yf"
   },
   "source": [
    "## Integration\n",
    "The function `integrate()` returns the integral of a sympy expression. Similarly to `diff()`, it is also called with a sympy expression, and the respective variable. "
   ]
  },
  {
   "cell_type": "code",
   "execution_count": null,
   "metadata": {
    "id": "rTyMdqDAv2yf"
   },
   "outputs": [],
   "source": [
    "print(sp.integrate(sp.sin(x), x))"
   ]
  },
  {
   "cell_type": "markdown",
   "metadata": {
    "id": "HUo1X2fhv2yf"
   },
   "source": [
    "`integrate()` can also be used to evaluate definite integrals, by simply swapping the integration variable with the new arguement: `(integrationVariable, lowerLimit, UpperLimit)`. For example, to solve the following problem:\n",
    "\n",
    "\\begin{align*}\n",
    "I = \\int_{a}^{b} dx\\,\\sin(x)\n",
    "\\end{align*}"
   ]
  },
  {
   "cell_type": "code",
   "execution_count": null,
   "metadata": {
    "id": "r8BT9pWIv2yf"
   },
   "outputs": [],
   "source": [
    "a, b = sp.symbols('a b')\n",
    "\n",
    "I = sp.integrate(sp.sin(x), (x, a, b))\n",
    "print(I)"
   ]
  },
  {
   "cell_type": "markdown",
   "metadata": {
    "id": "sZkkKLzDv2yg"
   },
   "source": [
    "## Converting symbolic expressions to numeric functions\n",
    "\n",
    "While symbolic expressions are convenient for performing manipulations, often we require numeric values.  Sympy allows us to convert expressions into functions that can be evaluated numerically with the =lambdify= method. `lambdify()` must be called with a variable, and the sympy expression to be evaluated. \n"
   ]
  },
  {
   "cell_type": "code",
   "execution_count": null,
   "metadata": {
    "id": "zKwNoYeQv2yg"
   },
   "outputs": [],
   "source": [
    "import sympy as sp\n",
    "import numpy as np\n",
    "\n",
    "x = sp.symbols('x')\n",
    "eqn = sp.diff(sp.sin(x**2),x)\n",
    "func = sp.lambdify(x, eqn)\n",
    "\n",
    "\n",
    "import numpy as np\n",
    "\n",
    "x_data = np.arange(0.0, 1.0, 0.01)\n",
    "y_data = [func(x) for x in x_data]\n",
    "\n",
    "import pylab as plt\n",
    "\n",
    "plt.plot(x_data, y_data)\n",
    "plt.show()\n"
   ]
  },
  {
   "cell_type": "markdown",
   "metadata": {
    "id": "86Z2EyBdv2yj"
   },
   "source": [
    "## Additional resources\n",
    "\n",
    "- [Sympy documentation page](https://docs.sympy.org/latest/tutorial/index.html)"
   ]
  },
  {
   "cell_type": "markdown",
   "metadata": {
    "id": "qnUNu8RZv2yg"
   },
   "source": [
    "## Example: Enthalpy of the Shomate equation\n",
    "\n",
    "We have seen previously that the\n",
    "The molar heat capacity is given by\n",
    "\\begin{align*}\n",
    "C_p(T)\n",
    "&= A + B t + C t^2 + D t^3 + E t^{-2}\n",
    "\\end{align*}\n",
    "where $T$ is absolute temperature in kelvin, $t=T/1000$, $C_p$ is molar heat capacity in ${\\rm J\\,mol^{-1}\\,K^{-1}}$, and $A$, $B$, $C$, $D$, and $E$ are constants\n",
    "\n",
    "\n",
    "The parameters of the Shomate equation for nitrogen are given below (taken from the [NIST webbook](https://webbook.nist.gov/cgi/cbook.cgi?ID=C7727379&Type=JANAFG&Table=on#JANAFG)):\n",
    "\n",
    "| Temperature / K | $100.$ - $500.$ | $500.$ - $2000.$ | $2000.$ - $6000.$ |\n",
    "|:--- | ---:| ---:| ---:|\n",
    "| $A$             |   $ 28.98641$ |    $ 19.50583$ |     $ 35.51872$ |\n",
    "| $B$             |   $ 1.853978$ |    $ 19.88705$ |     $ 1.128728$ |\n",
    "| $C$             |   $-9.647459$ |    $-8.598535$ |     $-0.196103$ |\n",
    "| $D$             |   $ 16.63537$ |    $ 1.369784$ |     $ 0.014662$ |\n",
    "| $E$             |   $ 0.000117$ |    $ 0.527601$ |     $-4.553760$ |\n",
    "\n"
   ]
  },
  {
   "cell_type": "code",
   "execution_count": null,
   "metadata": {
    "id": "XVdIuA2hv2yh"
   },
   "outputs": [],
   "source": [
    "R = 8.314\n",
    "T0 = 298.15\n",
    "\n",
    "Hf = 0.0\n",
    "Gf = 0.0\n",
    "A =  28.98641\n",
    "B =  1.853978\n",
    "C = -9.647459\n",
    "D =  16.63537\n",
    "E =  0.000117 \n",
    "\n",
    "T = sp.symbols('T')\n",
    "A, B, C, D, E = sp.symbols('A B C D E')\n",
    "Hf, Gf, Tf = sp.symbols('Hf, Gf, Tf')\n",
    "\n",
    "t = T / 1000\n",
    "\n",
    "Cp = A + B*t + C*t**2 + D*t**3 + E*t**(-2)\n",
    "\n",
    "\n",
    "\n",
    "I_H = Hf + sp.integrate(Cp, (T, Tf, T))\n",
    "I_H.simplify()\n",
    "print(I_H)\n",
    "\n"
   ]
  },
  {
   "cell_type": "markdown",
   "metadata": {
    "id": "irp8Hrw_v2yh"
   },
   "source": [
    "We now have a symbolic expression for the enthalpy of nitrogen as a function of temperature."
   ]
  },
  {
   "cell_type": "code",
   "execution_count": null,
   "metadata": {
    "id": "bNrM1Iehv2yh"
   },
   "outputs": [],
   "source": [
    "H = sp.lambdify([T, A, B, C, D, E, Hf, Tf], I_H)\n",
    "print(H)\n",
    "\n",
    "enthalpy = H(298.15, 28.98641, 1.853978, -9.647459, 16.63537, 0.000117, 0.0, 298.15)\n",
    "print(enthalpy)\n",
    "\n",
    "enthalpy = H(300.0, 28.98641, 1.853978, -9.647459, 16.63537, 0.000117, 0.0, 298.15)\n",
    "print(enthalpy)"
   ]
  },
  {
   "cell_type": "markdown",
   "metadata": {
    "id": "MrURdanrv2yi"
   },
   "source": [
    "We now have a function called `H` that takes six arguments, and returns the molar enthalpy.  The first argument is the absolute temperature of the system, while the remaining five arguments are the coefficients of the Shomate equation.  Let's plot this for nitrogen in the temperature range from $100\\,{\\rm K}$ to $500\\,{\\rm K}$"
   ]
  },
  {
   "cell_type": "code",
   "execution_count": null,
   "metadata": {
    "id": "QkLYqfb3v2yi"
   },
   "outputs": [],
   "source": [
    "import pylab as plt\n",
    "import numpy as np\n",
    "\n",
    "T_data = np.arange(100.0, 500.0, 10.0)\n",
    "H_data = [H(T, 28.98641, 1.853978, -9.647459, 16.63537, 0.000117) for T in T_data]\n",
    "\n",
    "plt.plot(T_data, H_data)\n",
    "plt.xlabel('temperature / K')\n",
    "plt.ylabel(r'enthalpy / J mol$^{{-1}}$')\n",
    "plt.show()"
   ]
  },
  {
   "cell_type": "markdown",
   "metadata": {
    "id": "EMrsmKUnv2yi"
   },
   "source": [
    "The difficulty of using the function we have created to calculate the enthalpy is that it only applies to the temperature range around $25^\\circ{\\rm C}$.  Can you think of a way to create a function to get around this problem?"
   ]
  },
  {
   "cell_type": "code",
   "execution_count": null,
   "metadata": {
    "id": "Pv1325tyv2yi"
   },
   "outputs": [],
   "source": []
  },
  {
   "cell_type": "markdown",
   "metadata": {
    "id": "HYeVdvJ_v2yi"
   },
   "source": [
    "As you will learn later in thermodynamics, the enthalpy can be written in terms of the Gibbs energy through the Gibbs-Helmholtz equation:\n",
    "\\begin{align*}\n",
    "H = \\frac{\\partial(G/T)}{\\partial(1/T)}\n",
    "\\end{align*}\n",
    "By integrating this relation, \n",
    "The Gibbs energy can be determined from the enthalpy:\n",
    "\\begin{align*}\n",
    "\\frac{G(T)}{RT}\n",
    "%&= \\frac{G_f}{RT_f}\n",
    "%+ \\int_{T_f}^{T} d\\frac{1}{RT'} H(T')\n",
    "%\\\\\n",
    "&= \\frac{G_f}{RT_f}\n",
    "- \\int_{T_f}^{T} dT'\\, \\frac{H(T')}{RT'^2} \n",
    "\\end{align*}\n",
    "where $T_f=298.15\\,{\\rm K}$."
   ]
  },
  {
   "cell_type": "code",
   "execution_count": null,
   "metadata": {
    "id": "oCN0EAOwv2yj"
   },
   "outputs": [],
   "source": [
    "I_G = Gf/(R*Tf) - sp.integrate(I_H/T**2, (T, Tf, T))\n",
    "\n",
    "print(I_G)\n",
    "\n",
    "def get_GRT(T):\n",
    "    T0 = 298.15\n",
    "    GRT = 0.0\n",
    "    for k, prop in data.items():\n",
    "        Gf = prop['Gf']\n",
    "    return GRT"
   ]
  },
  {
   "cell_type": "markdown",
   "metadata": {
    "id": "6JPniv5oEXel"
   },
   "source": [
    "## Conclusions\n",
    "In this notebook, we talked about performing symbolic algebra in python. This allows us to integrate and differentiate more easily.\n",
    "\n",
    "In the next notebook, we will explore how to [numerically solve algebraic equations](https://colab.research.google.com/github/mjksill/CCP5SummerSchool/blob/master/notebooks/CCP5-solver.ipynb)."
   ]
  }
 ],
 "metadata": {
  "colab": {
   "name": "python_sympy.ipynb",
   "provenance": []
  },
  "kernelspec": {
   "display_name": "Python 3 (ipykernel)",
   "language": "python",
   "name": "python3"
  },
  "language_info": {
   "codemirror_mode": {
    "name": "ipython",
    "version": 3
   },
   "file_extension": ".py",
   "mimetype": "text/x-python",
   "name": "python",
   "nbconvert_exporter": "python",
   "pygments_lexer": "ipython3",
   "version": "3.12.3"
  }
 },
 "nbformat": 4,
 "nbformat_minor": 4
}
