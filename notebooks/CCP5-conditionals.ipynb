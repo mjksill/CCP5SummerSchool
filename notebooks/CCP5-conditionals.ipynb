{
 "cells": [
  {
   "cell_type": "markdown",
   "metadata": {
    "id": "wf91ok-FBfjt"
   },
   "source": [
    "# Python Conditionals\n",
    "\n",
    "Conditionals are the bits in a programming language that let you make a *decision* based on the value of *data*.\n",
    "\n",
    "The basic conditional statement is the `if` statement:"
   ]
  },
  {
   "cell_type": "code",
   "execution_count": null,
   "metadata": {
    "id": "dHX6X51DBfjv"
   },
   "outputs": [],
   "source": [
    "condition = True\n",
    "\n",
    "if condition:\n",
    "    # this part happens when condition evaluates to True\n",
    "    print('here!')\n",
    "else:\n",
    "    # this part happens when condition evaluates to False\n",
    "    print('not here')"
   ]
  },
  {
   "cell_type": "markdown",
   "metadata": {
    "id": "hRKnBeThBfjw"
   },
   "source": [
    "The `if` keyword starts a conditional block, which is followed by a condition. The condition is any object which Python will try to decide if it is \"truthy\" or not, we'll discuss this in more detail in a bit. After the condition comes a colon which introduces the body of statements executed *if the condition is true*, separated from the rest of the code by **indenting** in by 4 spaces (or a tab). After this, you can include an `else:` statement which introduces the statements executed if condition is false.\n",
    "\n",
    "Conditions are formed of comparisons. Python has all the normal numerical comparison operators you'd know from maths:"
   ]
  },
  {
   "cell_type": "code",
   "execution_count": null,
   "metadata": {
    "id": "bFehxENcBfjw"
   },
   "outputs": [],
   "source": [
    "print('1 < 2 ? ', 1<2)\n",
    "print('2 < 2 ? ', 2<2)\n",
    "print('2 <= 2 ? ', 2<=2)\n",
    "print('1 = 2 ? ', 1==2)\n",
    "print('1 > 2 ? ', 1>2)"
   ]
  },
  {
   "cell_type": "markdown",
   "metadata": {
    "id": "BQ-OXbKBBfjw"
   },
   "source": [
    "**Note the double equals!** A single `=` in Python is the *assignment* operator: it gives a name to a value, like when you create or modify a variable. A double quote `==` is the equality comparison operator, which checks if the value of two things are the same.\n",
    "\n",
    "Python can also check if a variable is with a range, which saves a lot of typing:"
   ]
  },
  {
   "cell_type": "code",
   "execution_count": null,
   "metadata": {
    "id": "PIhZoEHEBfjx"
   },
   "outputs": [],
   "source": [
    "print('0 < 3 <= 10', 0<3<=10)\n",
    "print('10 > 3 > 1', 10>3>1)\n",
    "print('10 > 13 > 1', 10>13>1)"
   ]
  },
  {
   "cell_type": "markdown",
   "metadata": {
    "id": "jNe0AaOMBfjx"
   },
   "source": [
    "### Boolean Operations\n",
    "\n",
    "Conditions are combined through *Boolean operations*, AKA logical operations. If you've done any electronics classes before, you should be familiar with. If not, no worries, its fairly simple:\n",
    "\n",
    "`A and B` returns `True` if and only if both `A` and `B` are `True` and `False` otherwise."
   ]
  },
  {
   "cell_type": "code",
   "execution_count": null,
   "metadata": {
    "id": "ogTwcOzcBfjx"
   },
   "outputs": [],
   "source": [
    "print('F and F = ', False and False)\n",
    "print('F and T = ', False and True)\n",
    "print('T and F = ', True and False)\n",
    "print('T and T = ', True and True)"
   ]
  },
  {
   "cell_type": "markdown",
   "metadata": {
    "id": "itZE6b41Bfjy"
   },
   "source": [
    "`A or B` returns `True` if either `A` or `B` are `True` and `False` otherwise."
   ]
  },
  {
   "cell_type": "code",
   "execution_count": null,
   "metadata": {
    "id": "5D2gNXajBfjy"
   },
   "outputs": [],
   "source": [
    "print('F or F = ', False or False)\n",
    "print('F or T = ', False or True)\n",
    "print('T or F = ', True or False)\n",
    "print('T or T = ', True or True)"
   ]
  },
  {
   "cell_type": "markdown",
   "metadata": {
    "id": "GgypcKARBfjz",
    "jupyter": {
     "source_hidden": true
    }
   },
   "source": [
    "These boolean operations, like mathematical operations, can be chained together using brackets:"
   ]
  },
  {
   "cell_type": "code",
   "execution_count": null,
   "metadata": {
    "id": "wNdtcSXDBfjz"
   },
   "outputs": [],
   "source": [
    "(True and False) or True"
   ]
  },
  {
   "cell_type": "markdown",
   "metadata": {
    "id": "T6VSCwWgBfjz"
   },
   "source": [
    "## Summary of conditionals\n",
    "\n",
    "There are lots of comparison operations and ways of performing logical combinations. \n",
    "\n",
    "| Symbol | Task Performed |\n",
    "|----|---|\n",
    "| == | True, if it is equal |\n",
    "| !=  | True, if not equal to |\n",
    "| < | less than |\n",
    "| > | greater than |\n",
    "| <=  | less than or equal to |\n",
    "| >=  | greater than or equal to |\n",
    "| `and` | true if both operands are true |\n",
    "| `or`  | true if either operand is true |\n",
    "| `is` | are the two objects the same |\n",
    "| `is not` | are the two objects different |\n",
    "\n",
    "Note the difference between `==` (equality test) and `=` (assignment). Also note that `==` is not the same as `is`, which tests if it is the same piece of memory, e.g.,\n",
    "\n"
   ]
  },
  {
   "cell_type": "code",
   "execution_count": null,
   "metadata": {},
   "outputs": [],
   "source": [
    "print(1 == 1)     # True,  of course\n",
    "print(1 is 1)     # True,  python tries to make sure all constants (typed into the code) are the same object\n",
    "print(1.0 is 1.0) # True,  same reason as above\n",
    "print(1 is 1.0)   # False, 1 is an integer, while 1.0 is a float, different types mean different objects\n",
    "print(1 == 1.0)   # True,  1 the integer is equal to 1.0 the float"
   ]
  },
  {
   "cell_type": "markdown",
   "metadata": {},
   "source": [
    "We can also add on extra cases to our if statement,"
   ]
  },
  {
   "cell_type": "code",
   "execution_count": null,
   "metadata": {},
   "outputs": [],
   "source": [
    "the_answer = 42\n",
    "if 0 < the_answer < 42:              # We can test ranges of values quite easily\n",
    "    print(\"Low answer universe\")\n",
    "elif the_answer == 42:               # We can have as many elif statements as we like\n",
    "    print(\"Douglas adams detected\")\n",
    "else:                                # but only one else statement per if\n",
    "    print(\"No sense of humor found\") # This line is hard to get to given the code above"
   ]
  },
  {
   "cell_type": "markdown",
   "metadata": {},
   "source": [
    "Now is also a good time to summarise all the available mathematical operators:\n",
    "\n",
    "| Symbol | Task Performed |\n",
    "|----|---|\n",
    "| +  | Addition |\n",
    "| -  | Subtraction |\n",
    "| /  | division |\n",
    "| %  | modulus (think remainder of division) |\n",
    "| *  | multiplication |\n",
    "| //  | floor division (divide and round down) |\n",
    "| **  | to the power of |\n",
    "\n",
    "Very important libraries such as `pandas` really expand on the operators, with bitwise/element-wise and (&), or (|), not (~) becoming important but you'll find those later. "
   ]
  },
  {
   "cell_type": "markdown",
   "metadata": {},
   "source": [
    "We'll need to use some conditionals to solve the following problem."
   ]
  },
  {
   "cell_type": "markdown",
   "metadata": {
    "id": "8C9PI22VBfjz"
   },
   "source": [
    "### Shomate equation\n",
    "\n",
    "\n",
    "The molar heat capacity is given by\n",
    "\\begin{align*}\n",
    "C_p(T)\n",
    "&= A + B t + C t^2 + D t^3 + E t^{-2}\n",
    "\\end{align*}\n",
    "where $T$ is absolute temperature in kelvin, $t=T/1000$, $C_p$ is molar heat capacity in ${\\rm J\\,mol^{-1}\\,K^{-1}}$, and $A$, $B$, $C$, $D$, and $E$ are constants\n",
    "\n",
    "\n",
    "The parameters of the Shomate equation for nitrogen are given below (taken from the [NIST webbook](https://webbook.nist.gov/cgi/cbook.cgi?ID=C7727379&Type=JANAFG&Table=on#JANAFG)):\n",
    "\n",
    "| Temperature / K | $100.$ - $500.$ | $500.$ - $2000.$ | $2000.$ - $6000.$ |\n",
    "|:--- | ---:| ---:| ---:|\n",
    "| $A$             |   $ 28.98641$ |    $ 19.50583$ |     $ 35.51872$ |\n",
    "| $B$             |   $ 1.853978$ |    $ 19.88705$ |     $ 1.128728$ |\n",
    "| $C$             |   $-9.647459$ |    $-8.598535$ |     $-0.196103$ |\n",
    "| $D$             |   $ 16.63537$ |    $ 1.369784$ |     $ 0.014662$ |\n",
    "| $E$             |   $ 0.000117$ |    $ 0.527601$ |     $-4.553760$ |\n",
    "\n",
    "\n",
    "**Q:** What is the heat capacity for nitrogen at 100ºC? What about 1000ºC? 3000ºC?\n"
   ]
  },
  {
   "cell_type": "markdown",
   "metadata": {
    "id": "LQmagLfABfj0"
   },
   "source": [
    "To solve this, let's flex our function-muscles, and write a function. We'll also need to make use of conditions to check what values of A, B, C, D, and E to use depending on the requested temperature:"
   ]
  },
  {
   "cell_type": "code",
   "execution_count": null,
   "metadata": {
    "id": "j35WSBBqBfj0"
   },
   "outputs": [],
   "source": [
    "def get_Cp(T):\n",
    "\n",
    "    # Get shomate coefficients from the NIST data, depending on temperature\n",
    "    \n",
    "    # Could use a range check here\n",
    "    if T >= 100.0 and T <= 500.0:\n",
    "        A =  28.98641\n",
    "        B =  1.853978\n",
    "        C = -9.647459\n",
    "        D =  16.63537\n",
    "        E =  0.000117\n",
    "    elif 500.0 < T <= 2000.0:\n",
    "        A =  19.50583\n",
    "        B =  19.88705\n",
    "        C = -8.598535\n",
    "        D =  1.369784\n",
    "        E =  0.527601\n",
    "    elif 2000.0 < T <= 6000.0:\n",
    "        A =  35.51872\n",
    "        B =  1.128728\n",
    "        C = -0.196103\n",
    "        D =  0.014662\n",
    "        E = -4.553760\n",
    "    else:\n",
    "        raise Exception('error: Temperature out of range')\n",
    "\n",
    "    t = T / 1000.0\n",
    "    Cp = A + B*t + C*t**2 + D*t**3 + E / t**2\n",
    "\n",
    "    return Cp\n"
   ]
  },
  {
   "cell_type": "markdown",
   "metadata": {
    "id": "Jx_msPB2Bfj0"
   },
   "source": [
    "**Note**: See that `raise Exception(...)` bit of code above? It tells Python something has gone wrong or a function has been given some unexpected data. If it runs, python will stop executing and output some information for you to peruse. Generally exceptions in Python are well documented, and if you see something you don't recognise, you can normally google the name of the error and you'll find a solution pretty quickly.\n",
    "\n",
    "\n",
    "Now we can simply call our function to solve the problem at all the temperatures:"
   ]
  },
  {
   "cell_type": "code",
   "execution_count": null,
   "metadata": {
    "id": "xl-oG_ehBfj0"
   },
   "outputs": [],
   "source": [
    "for T in [100, 1000, 3000]:\n",
    "    print(f'Cp at {T}ºC = {get_Cp(T):.1f} J/mol/K')"
   ]
  },
  {
   "cell_type": "markdown",
   "metadata": {
    "id": "hJYdE6_ZBfj1"
   },
   "source": [
    "### Conclusion\n",
    "\n",
    "In this notebook we've had a look at making decisions in Python. In the next notebook, we will explore [functions](https://colab.research.google.com/github/mjksill/CCP5SummerSchool/blob/master/notebooks/CCP5-functions.ipynb) in python."
   ]
  }
 ],
 "metadata": {
  "colab": {
   "name": "python_conditionals.ipynb",
   "provenance": []
  },
  "kernelspec": {
   "display_name": "Python 3 (ipykernel)",
   "language": "python",
   "name": "python3"
  },
  "language_info": {
   "codemirror_mode": {
    "name": "ipython",
    "version": 3
   },
   "file_extension": ".py",
   "mimetype": "text/x-python",
   "name": "python",
   "nbconvert_exporter": "python",
   "pygments_lexer": "ipython3",
   "version": "3.12.3"
  }
 },
 "nbformat": 4,
 "nbformat_minor": 4
}
