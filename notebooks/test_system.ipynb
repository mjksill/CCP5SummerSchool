{
 "cells": [
  {
   "cell_type": "code",
   "execution_count": 4,
   "id": "306ac0ff-fe44-4317-abc5-942242333d98",
   "metadata": {},
   "outputs": [
    {
     "name": "stdout",
     "output_type": "stream",
     "text": [
      "/home/mjksill/idrive/Teaching/CCP5SummerSchool-instructor/notebooks\n"
     ]
    }
   ],
   "source": [
    "from subprocess import check_call\n",
    "\n",
    "#check_call(['ls'])\n",
    "flag = check_call(['pwd'])"
   ]
  },
  {
   "cell_type": "code",
   "execution_count": 5,
   "id": "0b1b25d9-1289-4a23-80a3-41089dbc9817",
   "metadata": {},
   "outputs": [],
   "source": [
    "f = open('junk.csv', 'w')\n",
    "f.write('hello \\n')\n",
    "f.close()"
   ]
  }
 ],
 "metadata": {
  "kernelspec": {
   "display_name": "Python 3 (ipykernel)",
   "language": "python",
   "name": "python3"
  },
  "language_info": {
   "codemirror_mode": {
    "name": "ipython",
    "version": 3
   },
   "file_extension": ".py",
   "mimetype": "text/x-python",
   "name": "python",
   "nbconvert_exporter": "python",
   "pygments_lexer": "ipython3",
   "version": "3.12.3"
  }
 },
 "nbformat": 4,
 "nbformat_minor": 5
}
