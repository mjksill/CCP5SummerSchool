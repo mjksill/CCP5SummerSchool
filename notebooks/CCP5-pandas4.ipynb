{
 "cells": [
  {
   "cell_type": "markdown",
   "metadata": {
    "id": "view-in-github"
   },
   "source": [
    "<a href=\"https://colab.research.google.com/github/mjksill/CP540-online/blob/main/notebooks/Pandas_4_Interpreting_Solar_Data.ipynb\" target=\"_parent\"><img src=\"https://colab.research.google.com/assets/colab-badge.svg\" alt=\"Open In Colab\"/></a>"
   ]
  },
  {
   "cell_type": "markdown",
   "metadata": {
    "id": "4Mhmq7cOT9vy"
   },
   "source": [
    "# Filtering and exploring data with Pandas\n",
    "\n",
    "This worksheet will focus on uploading data from a CSV file into Google Colab, and analysing it.\n",
    "First, we import the file we require - in this case it is data on solar radiation collected from a surface station.\n",
    "Download the data by clicking [here](https://mjksill.github.io/CCP5SummerSchool/data/midas-open_uk-radiation-obs_dv-202107_lanarkshire_00987_drumalbin_qcv-1_1995.csv).\n"
   ]
  },
  {
   "cell_type": "code",
   "execution_count": null,
   "metadata": {
    "id": "T_mi_1m5T9h3"
   },
   "outputs": [],
   "source": [
    "from google.colab import files\n",
    "\n",
    "\n",
    "uploaded = files.upload()"
   ]
  },
  {
   "cell_type": "markdown",
   "metadata": {
    "id": "Ni0XPOtMWHKw"
   },
   "source": [
    "Then we import the data to a dataframe."
   ]
  },
  {
   "cell_type": "code",
   "execution_count": null,
   "metadata": {
    "id": "FGzq1AqUT6Hn"
   },
   "outputs": [],
   "source": [
    "import pandas as pd\n",
    "import io\n",
    "\n",
    "df = pd.read_csv(io.BytesIO(uploaded['midas-open_uk-radiation-obs_dv-202107_lanarkshire_00987_drumalbin_qcv-1_1995.csv']),\n",
    "                skipinitialspace=True)\n",
    "\n",
    "print(df)"
   ]
  },
  {
   "cell_type": "markdown",
   "metadata": {
    "id": "P_fkPPT7WF-K"
   },
   "source": [
    "As we can see there are quite a few columns that we don't require, and also a lot of inital rows we don't need. By looking at the csv file we can see the first 74 rows aren't important, so we can skip these when setting up the dataframe using the following command."
   ]
  },
  {
   "cell_type": "code",
   "execution_count": null,
   "metadata": {
    "id": "t6-HO-vpWrBb"
   },
   "outputs": [],
   "source": [
    "df = pd.read_csv(io.BytesIO(uploaded['midas-open_uk-radiation-obs_dv-202107_lanarkshire_00987_drumalbin_qcv-1_1995.csv']),\n",
    "\n",
    "                skiprows=[*range(75)], skipinitialspace=True)\n",
    "\n",
    "print(df)"
   ]
  },
  {
   "cell_type": "markdown",
   "metadata": {
    "id": "1P8MqhySXJlK"
   },
   "source": [
    "Now to get rid of the columns we don't need, we can remove them using their column indexes. We can also remove the bottom row of data as it is blank.\n",
    "\n",
    "From looking at the data we can see that there are measurements every hour, but at the end of each day there is also a cumulative measurement. Lets remove all the hourly data, and focus on the 24 hour daily data.\n",
    "\n",
    "We can also see there is timestamps on each row of data in the 'ob_end_time' column. To ensure this is recognised as a time and date, we must define it as such. Once this is done, we can also create a new column containing the date for each row of data, but in a different format.\n",
    "\n",
    "Once this is complete, we can then plot the data to visualise it."
   ]
  },
  {
   "cell_type": "code",
   "execution_count": null,
   "metadata": {
    "id": "RBbQyfGNYjp6"
   },
   "outputs": [],
   "source": [
    "df = df.drop(df.columns[[1, 2, 4, 6, 7, 9, 10, 11, 12, 13, 14, 15, 16, 17, 18, 19, 20, 21]], axis=1)        # Drop unrequiured columns\n",
    "df = df.drop([8447], axis = 0)                                                # Drop bottom row of data\n",
    "\n",
    "df = df[df.ob_hour_count != 1]                                                # Remove all rows that contain data collected hourly\n",
    "\n",
    "import pylab as plt\n",
    "import datetime as datetime\n",
    "\n",
    "df['ob_end_time'] = pd.to_datetime(df.ob_end_time, format='%d/%m/%Y %H:%M')   # Define the 'ob_end_time' column as a date and time\n",
    "df['timestamp'] = df['ob_end_time'].dt.strftime('%m/%Y')                      # Create a new column showing the date in a different format\n",
    "\n",
    "df.dropna()                                                                   # This just drops any rows which contain no data\n",
    "\n",
    "print(df)\n",
    "\n",
    "df = df.sort_values('ob_end_time', ascending=True)                            # This just confirms the data is sorted in the correct order\n",
    "plt.plot(df['ob_end_time'], df['glbl_irad_amt_q'])                            # Plot the solar irradiation against time/date"
   ]
  },
  {
   "cell_type": "markdown",
   "metadata": {
    "id": "3hUXd3hkdAuN"
   },
   "source": [
    "From the graph we see that it looks like there is data missing from between July and September. We will come back to this later.\n",
    "\n",
    "We can caculate the mean solar irradiation for each month and plot this to see how it varies over the year."
   ]
  },
  {
   "cell_type": "code",
   "execution_count": null,
   "metadata": {
    "id": "4qzekdYv0bHx"
   },
   "outputs": [],
   "source": [
    "import datetime\n",
    "import numpy as np\n",
    "\n",
    "months = pd.date_range('1995-01-01','1995-12-31',                             # This creates a list of the months we have data for - January to Decemeber 1995\n",
    "              freq='MS').strftime(\"%m/%Y\").tolist()\n",
    "print(months)\n",
    "\n",
    "avgq = []                                                                     # We then create an empty list to store the average data\n",
    "for i in months:                                                              # Using a for loop we can then loop through each month, and pandas will give us the\n",
    "    avgq.append((df.loc[df['timestamp'] == i, 'glbl_irad_amt_q'].mean()))     # mean of the solar irradiation\n",
    "\n",
    "print(avgq)\n",
    "\n",
    "plt.plot(months, avgq)\n",
    "plt.xticks(rotation=90)\n",
    "plt.show()"
   ]
  },
  {
   "cell_type": "markdown",
   "metadata": {
    "id": "YR0z9RJei7dq"
   },
   "source": [
    "A density plot could also be used to show how the solar irradiation collected is distributed."
   ]
  },
  {
   "cell_type": "code",
   "execution_count": null,
   "metadata": {
    "id": "NbqGYr4WdT7y"
   },
   "outputs": [],
   "source": [
    "# library & dataset\n",
    "import seaborn as sns\n",
    "\n",
    "# plot\n",
    "sns.kdeplot(df['glbl_irad_amt_q'])"
   ]
  },
  {
   "cell_type": "markdown",
   "metadata": {
    "id": "Ow1QN1TaYhuB"
   },
   "source": [
    "Now to return to the missing data - lets use some plots we've seen previously."
   ]
  },
  {
   "cell_type": "code",
   "execution_count": null,
   "metadata": {
    "id": "EDdlm9mMkWmv"
   },
   "outputs": [],
   "source": [
    "import plotly.express as px\n",
    "\n",
    "fig1 = px.line(df, x = 'ob_end_time', y = 'glbl_irad_amt_q')\n",
    "\n",
    "fig1.show()"
   ]
  },
  {
   "cell_type": "code",
   "execution_count": null,
   "metadata": {
    "id": "jI0gpHoHld7z"
   },
   "outputs": [],
   "source": [
    "import numpy as np\n",
    "import matplotlib.pyplot as plt\n",
    "\n",
    "x = df['ob_end_time'].tolist()\n",
    "y = df['glbl_irad_amt_q'].tolist()\n",
    "\n",
    "\n",
    "plt.bar(x, y)\n"
   ]
  },
  {
   "cell_type": "markdown",
   "metadata": {
    "id": "rlV9srE48SAw"
   },
   "source": [
    "We can clearly see by extracting the daily results from the dataframe, that there is no daily 24 hour data for most of July and August. This may be due to an error in recording the data at the end of each day, so needs investigated further.\n",
    "\n",
    "We can try filtering the original data by removing the data for every 24 hours, and instead use the hourly data to analyse. To do this, we can create a new dataframe to manipulate. We need to give it a new name, in this case 'df1', but apart from that we can copy the code we used previously."
   ]
  },
  {
   "cell_type": "code",
   "execution_count": null,
   "metadata": {
    "id": "rjTQKAcO8e-B"
   },
   "outputs": [],
   "source": [
    "df1 = pd.read_csv(io.BytesIO(uploaded['midas-open_uk-radiation-obs_dv-202107_lanarkshire_00987_drumalbin_qcv-1_1995.csv']),\n",
    "\n",
    "                skiprows=[*range(75)], skipinitialspace=True)\n",
    "\n",
    "df1 = df1.drop(df1.columns[[1, 2, 4, 6, 7, 9, 10, 11, 12, 13, 14, 15, 16, 17, 18, 19, 20, 21]], axis=1)\n",
    "df1 = df1.drop([8447], axis = 0)\n",
    "\n",
    "df1 = df1[df1.ob_hour_count != 24]\n",
    "\n",
    "df1['ob_end_time'] = pd.to_datetime(df1.ob_end_time, format='%d/%m/%Y %H:%M')\n",
    "df1['timestamp'] = df1['ob_end_time'].dt.strftime('%Y-%m-%d')\n",
    "\n",
    "print(df1)\n",
    "\n",
    "df1 = df1.sort_values('ob_end_time', ascending=True)\n",
    "plt.plot(df1['ob_end_time'], df1['glbl_irad_amt_q'])"
   ]
  },
  {
   "cell_type": "markdown",
   "metadata": {
    "id": "9Xi7a_t2mWhC"
   },
   "source": [
    "Judging by this set of the data, there was clearly an issue in those time periods recording data in general.\n",
    "\n",
    "Nonetheless, we can still find and plot the average solar irradiation for each day of the year we have data for, and this can be done using code we have previously used, with some small tweaks."
   ]
  },
  {
   "cell_type": "code",
   "execution_count": null,
   "metadata": {
    "id": "0kKWvS1U-D9t"
   },
   "outputs": [],
   "source": [
    "days = pd.date_range('1995-01-01','1995-12-31',                               # Instead of months, we create a list of days for the year\n",
    "              freq='D').strftime(\"%Y-%m-%d\").tolist()\n",
    "#print(days)\n",
    "\n",
    "dailyavgq = []\n",
    "for i in days:\n",
    "    dailyavgq.append((df1.loc[df1['timestamp'] == i, 'glbl_irad_amt_q'].mean()))\n",
    "\n",
    "#print(dailyavgq)\n",
    "\n",
    "plt.plot(days, dailyavgq)"
   ]
  },
  {
   "cell_type": "markdown",
   "metadata": {
    "id": "92e5IEZjoAGw"
   },
   "source": [
    "So here we have the irradiation for each day, however the x-axis label is very messy - this is due to all the days of the year being using as x-ticks. To correct this, we can create a third dataframe."
   ]
  },
  {
   "cell_type": "code",
   "execution_count": null,
   "metadata": {
    "id": "7g_5gzUsOYfE"
   },
   "outputs": [],
   "source": [
    "df2 = pd.DataFrame({'days':days,                                              # Create the new dataframe and define the columns and their data\n",
    "                    'dailyavgq' : dailyavgq})\n",
    "print (df2)\n",
    "\n",
    "df2['days'] = pd.to_datetime(df2.days, format='%Y-%m-%d')                     # Define the date format for the days column\n",
    "\n",
    "plt.plot(df2['days'], df2['dailyavgq'])"
   ]
  },
  {
   "cell_type": "markdown",
   "metadata": {
    "id": "AIu1o4y2QLRl"
   },
   "source": [
    "That's a lot more tidier. If we wanted to we could filter the data to find out the exact dates where we have no data, but we can also use the `plotly.express` interactive graph to see this more clearly."
   ]
  },
  {
   "cell_type": "code",
   "execution_count": null,
   "metadata": {
    "id": "NJKhxieNTuVk"
   },
   "outputs": [],
   "source": [
    "import plotly.express as px\n",
    "\n",
    "fig = px.line(df2, x = 'days', y = 'dailyavgq')\n",
    "\n",
    "fig.show()"
   ]
  },
  {
   "cell_type": "markdown",
   "metadata": {
    "id": "L88KuHMoorWu"
   },
   "source": [
    "Using this we can pinpoint the days that there were no data recorded. We also notice there are other days throughout the year where no data was recorded."
   ]
  },
  {
   "cell_type": "markdown",
   "metadata": {
    "id": "gvWnt-sQqxlU"
   },
   "source": [
    "### Conclusion\n",
    "\n",
    "We have seen in this worksheet once again how to manipulate data in a dataframe, and how to use code we have previously wrote, and tweak it to be useful in other circumstances."
   ]
  }
 ],
 "metadata": {
  "colab": {
   "provenance": [
    {
     "file_id": "1mNz9lxhxXrDRLWeyo91E6ogAMHhprg_7",
     "timestamp": 1694030263367
    }
   ]
  },
  "kernelspec": {
   "display_name": "Python 3 (ipykernel)",
   "language": "python",
   "name": "python3"
  },
  "language_info": {
   "codemirror_mode": {
    "name": "ipython",
    "version": 3
   },
   "file_extension": ".py",
   "mimetype": "text/x-python",
   "name": "python",
   "nbconvert_exporter": "python",
   "pygments_lexer": "ipython3",
   "version": "3.12.3"
  }
 },
 "nbformat": 4,
 "nbformat_minor": 4
}
