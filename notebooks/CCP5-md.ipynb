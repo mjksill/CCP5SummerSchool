{
 "cells": [
  {
   "cell_type": "markdown",
   "id": "a26992cf-22e8-4555-bd89-a55627af1848",
   "metadata": {},
   "source": [
    "# Molecular dynamics\n",
    "\n",
    "Molecular dynamics takes particles at a specified initial condition (velocities and positions) and calculates their new position and velocity after a discrete time step $\\Delta t$.  We are not going into details here, but the algorithm for performing the update of a single particle $i$ can be derived from a Taylor series, \n",
    "\n",
    "\\begin{align}\n",
    "{\\bf r}_i(t+\\Delta t)\n",
    "&=\n",
    "{\\bf r}_i(t) + \\Delta t \\frac{{\\rm d}{\\bf r}_i(t)}{{\\rm d} t} + \\frac{\\Delta t^2}{2} \\frac{{\\rm d}^2{\\bf r}_i(t)}{{\\rm d} t^2}+\\ldots\n",
    "\\\\\n",
    "&\\approx\n",
    "{\\bf r}(t) + \\Delta t\\,{\\bf v}_i(t) + \\frac{\\Delta t^2}{2} {\\bf a}_i(t)\n",
    "\\end{align}\n",
    "where ${\\bf r}_i$ is the position of a particle, ${\\bf v}_i$ is its\n",
    "velocity, and ${\\bf a}_i$ is its acceleration.\n",
    "The velocity update is obtained from a similar approach,\n",
    "\\begin{align}\n",
    "{\\bf v}(t+\\Delta t)\n",
    "&\\approx \n",
    "{\\bf v}(t) + \\Delta t\\,{\\bf a}_i(t)\n",
    "\\end{align}\n",
    "To close the expressions, we need an expression for the force in terms of the position and velocity of the particles.  It is this force expression which sets the type of atom/molecule you are simulating.\n",
    "\n",
    "In the example below toy spring particles are used. These are\n",
    "particles that push away from each other whenever they are closer than\n",
    "a certain distance $\\sigma$\n",
    "\\begin{align}\n",
    "{\\bf F}_{ij}\n",
    "=\n",
    "\\begin{cases}\n",
    "  -k (\\sigma - \\left|{\\bf r}_{ij}\\right|) \\hat{r}_{ij}\n",
    "    & \\text{for $\\left|{\\bf r}_{ij}\\right| < \\sigma$}\n",
    "    \\\\\n",
    "  0 & \\text{otherwise}\n",
    "\\end{cases}\n",
    "\\end{align}\n",
    "where $k$ is the spring stiffness setting how \"hard\" the particles\n",
    "are, ${\\bf r}_{ij}={\\bf r}_i - {\\bf r}_j$ is the vector pointing from\n",
    "particle $j$ to particle $i$, $\\left|{\\bf r}_{ij}\\right|$ is the\n",
    "distance between the two particles, and $\\hat{r}_{ij} = {\\bf\n",
    "r}_{ij}/\\left|{\\bf r}_{ij}\\right|$.  The total force on a particle is\n",
    "just the sum of all the forces from other particles, as well as any\n",
    "global forces,\n",
    "\\begin{align}\n",
    "{\\bf F}_{i}\n",
    "=\n",
    "{\\bf F}_{\\rm body}\n",
    "+ \\sum_{i\\neq j}{\\bf F}_{ij}\n",
    "\\end{align}\n",
    "\n",
    "\n",
    "The body force is any force like gravity which affects all particles and doesn't depend on the positions/velocities of other particles. Here, we just use another spring force that pulls all particles into the center of the system (to stop them flying away).\n",
    "\n",
    "The actual integration algorithm used here is the velocity verlet algorithm, as its very good at conserving energy.\n",
    "\\begin{align}\n",
    "{\\bf r}_i(t+\\Delta t/2)\n",
    "&=\n",
    "{\\bf r}_i(t) + \\frac{\\Delta t}{2} {\\bf v}_i()\n",
    "\\\\\n",
    "{\\bf v}_i(t+\\Delta t/2)\n",
    "&=\n",
    "{\\bf v}_i(t-\\Delta t)\n",
    "+ \\frac{\\Delta t}{m_i}\\, {\\bf F}_i(t+\\Delta t/2)\n",
    "\\\\\n",
    "{\\bf r}_i(t+\\Delta t)\n",
    "&=\n",
    "{\\bf r}_i(t+\\Delta t/2)\n",
    "+ \\frac{\\Delta t}{2} {\\bf v}_i(t+\\Delta t/2)\n",
    "\\end{align}\n",
    "where $m_i$ is the mass of the particle.\n",
    "\n",
    "This is a great example of Python's\n",
    "power (and its lack of speed). Balance\n",
    "<em>your</em> programming time against the <em>run\n",
    "time</em> when choosing scripting or compiled\n",
    "languages.\n",
    "\n",
    "\n"
   ]
  },
  {
   "cell_type": "code",
   "execution_count": 3,
   "id": "9b28c1f8-370e-4d8d-9d9f-062de32b1f0e",
   "metadata": {},
   "outputs": [
    {
     "name": "stdout",
     "output_type": "stream",
     "text": [
      "Running calculations, please wait!\n"
     ]
    },
    {
     "data": {
      "text/html": [
       "<video width=\"640\" height=\"480\" controls autoplay loop>\n",
       "  <source type=\"video/mp4\" src=\"data:video/mp4;base64,AAAAIGZ0eXBNNFYgAAACAE00ViBpc29taXNvMmF2YzEAAAAIZnJlZQACL6RtZGF0AAACoQYF//+d\n",
       "3EXpvebZSLeWLNgg2SPu73gyNjQgLSBjb3JlIDE2NCAtIEguMjY0L01QRUctNCBBVkMgY29kZWMg\n",
       "LSBDb3B5bGVmdCAyMDAzLTIwMjIgLSBodHRwOi8vd3d3LnZpZGVvbGFuLm9yZy94MjY0Lmh0bWwg\n",
       "LSBvcHRpb25zOiBjYWJhYz0xIHJlZj0zIGRlYmxvY2s9MTowOjAgYW5hbHlzZT0weDM6MHgxMTMg\n",
       "bWU9aGV4IHN1Ym1lPTcgcHN5PTEgcHN5X3JkPTEuMDA6MC4wMCBtaXhlZF9yZWY9MSBtZV9yYW5n\n",
       "ZT0xNiBjaHJvbWFfbWU9MSB0cmVsbGlzPTEgOHg4ZGN0PTEgY3FtPTAgZGVhZHpvbmU9MjEsMTEg\n",
       "ZmFzdF9wc2tpcD0xIGNocm9tYV9xcF9vZmZzZXQ9LTIgdGhyZWFkcz0xNSBsb29rYWhlYWRfdGhy\n",
       "ZWFkcz0yIHNsaWNlZF90aHJlYWRzPTAgbnI9MCBkZWNpbWF0ZT0xIGludGVybGFjZWQ9MCBibHVy\n",
       "YXlfY29tcGF0PTAgY29uc3RyYWluZWRfaW50cmE9MCBiZnJhbWVzPTMgYl9weXJhbWlkPTIgYl9h\n",
       "ZGFwdD0xIGJfYmlhcz0wIGRpcmVjdD0xIHdlaWdodGI9MSBvcGVuX2dvcD0wIHdlaWdodHA9MiBr\n",
       "ZXlpbnQ9MjUwIGtleWludF9taW49MjUgc2NlbmVjdXQ9NDAgaW50cmFfcmVmcmVzaD0wIHJjX2xv\n",
       "b2thaGVhZD00MCByYz1jcmYgbWJ0cmVlPTEgY3JmPTIzLjAgcWNvbXA9MC42MCBxcG1pbj0wIHFw\n",
       "bWF4PTY5IHFwc3RlcD00IGlwX3JhdGlvPTEuNDAgYXE9MToxLjAwAIAAABi6ZYiEACf//vWxfApq\n",
       "yfOKDOgyLuGXJMmutiLibQDAAAADAAADAAAw+6vOWMqWU/YAAAMAQYARbu447ZSKxAJfljDcMd7O\n",
       "Z+ebOVw1IiOv7+WksIoAc76U0CLXAr5bao5ykE1Gnrgz2RhG1CF1UEweCbTEc2tPZFvIXokYQAlp\n",
       "E730zNJfB1/LShuPDda1/TCNFFeGM9A4ieCSZ3EDO9uZRTl5cW2gaB4OCxLk5cXW6WmAvj6TKt94\n",
       "9xkMrG0VG7x7HD3hEHakVY9J0g8SwQTOiOdRKT1+85dmPQqeeFbXcIdhCDx9fVGts1UZwpTw0t5T\n",
       "/gPn95Qq+5fPN8WTIMUoEgTCe+7EoQNWNeoEo1IrIKQ79PPM13AQfcu5mEzfIIhe/yvuZFtQhAAj\n",
       "0pBt6S1/riu87+p9KSyBVMyXJ0h/BUE5qQS4uC9uXzCeSyRp1T0KgjnmOhXl7ai642IrgJVLqRvw\n",
       "E7jVCOqaSEAu6IuOISC0VfN2EHfAWhWWC/EpCMYfeQoR+evC5Tij6bgRpOKzybiwwwnuFqEYso96\n",
       "DVhcsRLzsj3DN6xhwhD0avJphDbIuQ2EqUIB5Kpa7H4rDBuPOPYj2E5/6gPlFRdJWRPt+Uw2JJhG\n",
       "AAOQAIcKJHrWKgcwBM92yMg93pjhWld49IfIilsHHgcSYY9bwlzIYXbgLh+5g0YpNDsrCkuGDMST\n",
       "yFA90fh6Qxeos2a/bbPYoCD3ukQHxHiCpolhUq1XWWn1eHIUMOL3sLMRG+RlsB3VV01Y/lIyKeew\n",
       "kYz90FyXKG9ebHAeQFin5+rKoYgXfdefWlj9t+GPiyVpXJ0xz0eqgvzBR1P6rtnf8jJNaX9tM2gT\n",
       "mdOpEN445I1MkvkepvYStQYzMfQ2kdps5fTusESFTK6ja5uqHkrH9UE7hVR1YEEUFVSExgUqNekP\n",
       "nGBIbiZEx8awJTlimCo72QjUJ2WaljO7FUjpYXtDFcj5eSbtvyh7HLqjYJrR+pX8T+IM84MMovhp\n",
       "54alFfKPA+/X/iwVdBBUgQt1AyzvrCq8hkOn3f4u5sZMQ0CzK0R5d9xxk/ELz52ZnnTCGEj2oV90\n",
       "FzsCuwQoL47w4pRjpwJtSy9zjd9u/yRp8Uqd61WrTt/ayppvqqxeztKubmVCXT1gTnY7Wj0zHp0S\n",
       "L6PvDcL3ylQ3bCm4kRfyXj5fa2OMN7rku10C1A12C+FtMxNVGg8fBoie35See96kGq6rLhjPnMiY\n",
       "KHxr8hbXVmr1AK0ofAAfkWTTjRASElmXdH0omAALj4EZzVJ88JWybxA4WrL3NW4HDIgiHXaSO1af\n",
       "/0qs/EBF3oTykx5n0yQzotSJP7wwGM3d1FRg9wM8sspexMTOUvvmmk/UC48Zs12rdoCOf0aNuTQn\n",
       "MEhYBfuQ2zK+WjBW8Xvhiqm7jNyYeu8BUKbM831i95QkFzLBhHPNgpGcLy5LHwQMLZN/pM4iuP8F\n",
       "d5lILqtwic++4iNQWIKOk+WoQku37S5k3ODqAYwLWr1gV0hiWYiJrNTxsgXKY47HrzItbQxWqCiZ\n",
       "AQUS01U5FwZ2f7JXL66Vppwl0JzWVHRmoVNcsC/Sd2+y811q2iMbPAVMX+7xPd3C6tWVOFZlANI+\n",
       "kKdUJZb54HC8Mhkmo3Pv7yJh4nRDhTk91X7FEMk90AVpj0Ll21CclpDeA67MCpz+Itx9g4yqfD30\n",
       "BwYQ7GwOFj+g6FmWh898Bj3d6PEmkpKHzp1ezy0wayMYLbuz904Rxy0rMO27PQAXpJf/tEI+aSxY\n",
       "wOGcwY6+pTzjaXYBtn/vRkjSQpJd19m0UMbR8K/S413UuciDTSDlzoAc+Piig1rwJnfn2pPcE4jM\n",
       "hTwJ082ehuXwhwzGND7mTjgeh0JWffanHgwiHteqfm6dMIOB7XavnBixnVZa27XKD71p7vj2mtox\n",
       "2THeoS736Pna9xJYY2NowCLHTkZWpWqlHsluPy8H7bM+VJyTUd+A0+ta/PZqvdUkUroFXXJrH3CG\n",
       "iqkwQ6CNzGwcD5sA1V3DZETg8tTBmYSv2R3bAZM718iqNQE5kOyI7ds0f/C27TLGjV8hyIDBbvDr\n",
       "+UO7qpW3U82Psm9xvqi4LKXQdy6r+fUxmsUN15/ZE6TmMVFAxrPo13GdZ6JqRbvkhTTFZVqIXoGi\n",
       "b32CWj+kcNhmPRad+sGZGDeB1JsO/D5pKcrlPH7BbfsaB3Cdlsqe+dCVzfkQIrsGnn3UPaQrkPM2\n",
       "v9wSozA9FSq/bFLnxhOyXms5qUzZ67idILBSS/XnDga9X1JHsaYKqouy4bN+QgMfs7XDOt6b/aYa\n",
       "GvQWSD09xGJVMOoKw09J1oUJxpSunuvgb1KC0/bHyxIe3Ugo/FlGsSBu5Ufmf9ZudGEg4xOzgp3d\n",
       "DG7nOMZyec01zUTOrq0nFoH/I+PsES3TJtZYJgkjs6IU50Tt00MAq6rZ5DBF+gGx9zhkuDbwqzLd\n",
       "qsOb7yVc//W6N6NSCtuqszMyJLKByLsZHogY6VG0WsZ4dZR2H/MERFlDR7sxxydAnpevCmVXxOPD\n",
       "yFCC51vdmFWXS1q66AgY5XHC/P0YxwoVCmEmA61AL67zPSR1NbuiMZE4Z3KiV5XluQVLHSErR17J\n",
       "VWxm/NvlwuWV//jURp7rQTQxyBDm33203QrRdLI7S3npMogQY/UEsFdfEJuk1JhlcZXTzTsBiPZN\n",
       "C9Fc+TSSmiQPt/CTsJFVAE08wKOQBB+xBXW9n6EzX22Nu9kKYmQizP7sjgVAwrN8HsppOaVZkSZ8\n",
       "Jjs726x4Eb8tY+SLb58gBWdWvoMUEtZvneWyeq+EzXP/qu/ndcPceiyLTz+fqZeIxkCBCszil0iA\n",
       "L4xxcpR1uQmQfB+tE8PrUZpXz2nuRgLVyfRRz5WApGypaasOBq49UwqTlzGgU3/OvZDspl6K1nny\n",
       "igCgCkEG24GJNfSrwAUHcx92tEvTeiMmBqLI9mJveoMlWz2f5/P129J1Sab+uWhijfUOZum/7jBf\n",
       "4BvZgLH8o6+VFkhfLAYJQ0tD0cna0xbjYc7vUWmGmrOTqBpOexcksxgYUN3FeamDcj018he5envD\n",
       "hJHEMDotYc/n2vL47QTS8Aamzz9cTeHoxYuTKdkP/+PNbU1qGy3pdMxRLMTbAGlFHqDwjyvgv0m1\n",
       "/jgFD/gAV/tM1TGdRZWdlJCYBw+dda/iMsQHrSCeeHkpkBMW0qAnBnBAX8iBlo4pOuVwmT9cWMU6\n",
       "V3NCkyQmE0sfafMy2RyKMrv//0aL7Omfs65iNIlJL2fOIf1UQetZetKjdL2ZTdCJwm7CQ5xoVAWM\n",
       "eEIP1yUsiZCd7tYYqLM5ObBTl6i8UNgCd7GKL8+AKKc91wbidgPDNO4M7CBbgyLNjDRPihsGmTmN\n",
       "nwlf1jAbQ9A5si8VfkZkGPgRS0JbhATWXV4RHj53Kjsn3GBLU5I2nYVIlmJVXeiDb0/i+79AKsaT\n",
       "zDJHGuFnoqghShaC6AghEMy/xLm3rvUIi8yDwW+ab/cOJO1Fy0NE7egCT5X3vD9CcduHUpeo8lM0\n",
       "3jMD9TQ+FQ5XT5QSAVaN+BG+QDQSFKehwANdALcf87H8HwU5ppZSwJjftwhoIdle2x2lL/eHP1fW\n",
       "s2Rlsl3yYCcE/weY6vYD5yhQAoMs8jZY6ZKo/bFwP86knYnm6DqLxwryH4HWAuxPWclTqwGaKWTV\n",
       "mqmManF1+BA6YesMUIAGMVzwdsMcdYsZ5AV/k/vTgU/eQOwj5o3224l3KINPqJGSueYqKolgy4e5\n",
       "n4UT69ZDQLaLJgZeAxTKE9h02oRgePaeW+W6viXpWZqnoU6/0rFS6q8nHNsRkaHMcoC03GKUX9CK\n",
       "MHfaHaBWWC8LAmGAFLzmsMNbHAiA5DXGvKL0uDRBJrZFbCY/98wAx4fZd75bBlrh8MaAXIJANoDl\n",
       "1JmFKbhhASumSSPKvfDmT+woFjPW7rCIzODDdvZODL1+7fkGEcZ4NlvZUamqj2N8defJ3tBcFLkb\n",
       "zIpWdqlqqiJ8cdC0DQ9ukg2/sKHTrJDa3xMURLuMU68+y8YSOfvlEF4nR+hkUOY3WxWyiHiTOqc2\n",
       "tA7I/4VKghNOUikrkwIDYIdg7o2eDmenIhcNCuadgotD//UHJoM6+VIBhaM1qvlajf3VM0nvMVce\n",
       "LXdKevHceTzUBjeC8Cel6LJWLZT4khOrkUTr/qEPhThOGKx8uj9gZNu2CPPSQtxkX77LQWtYCJNo\n",
       "wA5gekrjTgLVCwkrpcQPCyY+Cfst9Vyk2N8nIuZTr/gFUkLKpdXNLmLY7d3VW7YWI+Nna5xNfYTV\n",
       "9wiI1sn3z/XUh8lGOLaQbV6kGsuXJ+CvjQlDHrgd6FACbj8qTEHjSLr9g7aCV3wGIeQ475fUP5yW\n",
       "ti782F/efKiYx9VpaXp/Cup61BdQjRyOJTyEv41LynzhYwMl8IDSJXV8eVdXWkhymY4dniGwKat+\n",
       "2eB3UII/7wFx7RYYWQ74X3E3xgpr/qmDeg6f5d+jav+pM5LM70NQ/MlIMxCHB5almMATEoFpt8Iy\n",
       "1zEqG6I3NkboBGlBqD38irs2I9T3sfC500p6U4LZjmUzql8rLehG6I9pQ5vGPoi6215wo6qT9PKV\n",
       "QqEvT9LQN34HWPh07Al1FuP9Ipw+XTe6g94iaYtZJ/lFpLT+gBtMjkvQL6CCqgTVippYdztF3kje\n",
       "dZFoV7F+twqs97M+6VDMfw5SnSVir0xxlRbe8rAZ3E3ynRmGVcEFJ3NeQpCCi/RC/XKY+n9t9WJ5\n",
       "kbCsTuj7wOqQ/FNI02qUDVMtqvrdZltYAhar/3+ulokCeE/cEooMvtIY5Gjpmo6ngullAm0KKKPS\n",
       "wsdTSmdwqls00rSDwMFs27mUQBY5mYDaqWdFcNb0o7noaGOC7gD37iUS2lcc9RN2UVgG1GZ9lzfS\n",
       "XNG8znhIF6FCaUsMC9IknVxIb///2QlYps3BjeRhOspHGTnUDadPih68h4AqPU2+v+lPRIwMrKB9\n",
       "emq8CdXVULSAPqeSE3YEXlv2/PpQE2CCJ0gmTlQ/N4FSZn6QwjirgU6i0KhXaeKoK5d17Jz4WON2\n",
       "ACseOLH11PHlRYu6f2rzCDC7XTFrOBkYyPuoAktfxYB26nl7CRR2KrAouMLYulZljOlAYjOl1bkO\n",
       "qdGsr49wcJwq4h2nwlPnqGMMCjkCLazgM3EG0YMQI1JyIluf/WqA+D8JUHxFyfACy7H4AqPiRSnJ\n",
       "B/8Xh5Jr2fh2uz7t3PWFDCEOFeEWEYJjDAPK/dhQpC0pSq/8RcoRz5PVNIlyHGZoD1eMiH5MC/Sq\n",
       "L7E8VCghEGO6EPg35PG2Q68ELs5MCz4aMHTN3llvqnx5vXgFHFsoztT1TzGvlY7P7vGRn8ijtzAu\n",
       "rOI4dXY4pLSXZpQ4ChhnYI/ZBLxk6K7lizdW9Xlyqc9+bp3KO0eMpCGMlP5xiwFOlY69hbfzUnNE\n",
       "keOzMOE0ZGBpz/6cE2aL/XNHSu4C2DHB+aIe4RrOu1d2euE7Vxtu3pfBEK4KRcFiYXY6MEcxH22O\n",
       "yP12qGeTWaO2rzB0OrVZ1JJKc9efW5CrpaQjyCe6/UUmWUcPG95u67huG6gnPuufT+Dj6/MUWVM2\n",
       "Aut9oqUEwbs9xiHgo6j6g9MPHnhl7k68SnDW6DmdBq3YTCLFgHDRluTJaJMWRQBGHv9rXhdEafGD\n",
       "Ay9Zft0A1eW5aGUaDUkM5G28/cQpZs5ypHW5S/MnLT0N9c1bGSELkIgHjtSLJkSvcxY06XUxUPn/\n",
       "p90H+H/Nge/ojuYWRslLEvvpGAAC3Q9acQomZQrrA6AHKMfXIqqjBmGD+DsRaS87UG7ov7vd95Vo\n",
       "vjDMPLKOCgG89EQjYQoisf2zDw7neBNKMSlJ3hWOePp0u4MZ8wbXuM29TBOk/hT1fziMNXEE8QPw\n",
       "wAAXzneV8Ti0YvPeQHfuPGk0lYKxPwvx8qfK23idKLqu73S6mxNxf3/tE4ZeN6kKABLiwnyC2GWl\n",
       "NDeKvCSpriqLE6pU2lGx/9QpokTaWWkKkSomimyWFtNxYsANF3IRPyRSegMC0CDXcmgXDIUqK7b/\n",
       "of//PWCXzutQAJgd4+7X3G0upxer48EPlugrZO47q3QlhvIJKReQPm1G2n8Dx5HE6PhFKIHVTkec\n",
       "zSPscR+m6AA9yX4xoERBno+VDzdWSKfn7OINO5N2ylYHVgOFPYuINSH3IMVWfnDMT69qWtrVVa16\n",
       "LtPUctPYibb98JIuMew1VlzFgwbLSC1XmrQ13kq61VDXbiCIhd38C6cfi1xlLHwQzMJ6P+8Tv1Po\n",
       "HDqjZ3Rjj0XhgIyNlUft4LYEhcT/P+CWsIsfnAMB44ZFfwZWq+LWJQsRXobxvQ9mZBJBJxTmK5zv\n",
       "spNAX4hT6WK4CxVstW1+qwpBk2+tkSHA3qJf0I8FILiwNN//AdHN2OKuW2rvmff5rQfDx19kjh0+\n",
       "Riv2YiIpYpjGfwBB4jRXZ1/MoB8T89OtIiyfjfg6J+12bTmp31qJenmGv/Rh/ovTFEGfVkXGWcPw\n",
       "wBZ/HwsZ5kD2IDmTvAH5fLh0ruyu74HP/4DEKaGZRNQ+PKuQZZi3TIKeEBr31P1gyR5imHaaME3z\n",
       "pl/ftf8nzNCw0flFfIGo02x/Zty4v08FP8lGv441GzPp3D3j9n3+aYeFoOpt1IRlIF9gAsyLpfJJ\n",
       "VIsctL0tqsP4giOMFdpnil4pLqxW1feq+uDKE6ZU0BJdVF+PA7fE5kDnVdZdwgF9mB4SWJzVibuP\n",
       "0Tp5atgUmfunSL5S6fKkxbIHWT0iycQ851i44h6F4c1LnPDQNxrOZh+Vv3CK929rmDKKy4Z8JUcn\n",
       "Yy+sKogtR/wSYudG9N0q9g7eHsnc13iw63pi7K5iklpWpcRObVYhDCb3Ajn9dx0fn0RHLGDRPiMb\n",
       "QnHW2hiTTW7P6283Tf4EAomOxZHz/mLSzkP8Pa76QSWMzcSIoI1T+59FpIJSbS6zx7/yi9/CydIg\n",
       "/B6RzeAsKU+VUg5+7frBLnfwdleTFaUJtRz4OCzkbSEfBvPkflcts9SVtnG3xm8n2ZiAZHJ55Tg0\n",
       "2w7lMD1/x5Xx3tSx9BAHpjfBzoQOSkB7TQcMMDajYIV22enGg+3I1nvfP6Dg2TGSHJMbW3oh991D\n",
       "f7L9mMQecjzgcj+MRKTHmtBTRqdUt/biTJ++dAnlDhcF02KtgfsLI4S3km5GDQn3jyxFoHBM8oa5\n",
       "g9NUC2rHRHJbISL5gVUtCrgom70C9vonTSjf03j9GK+aegshQ/mAFX5KbKuDXA719cWFz4t3yGzb\n",
       "/xY4hxfnyDNozfuzwVlto3hcc60Q/DDc3b7rwXf3eedzr+FLXNaYbuwzYMylcYhjO7bN1my/ty4B\n",
       "YJv/4Jm1iULlDqzfxH+eemuCvD66NxExd+1M5azCxhX06zvj+d8L5W6GaWKIq2Y7/0nX6yuy+cWi\n",
       "WQnhkjmIxQTygl2EwuUrMBjrqDbK7Uaf5Ud7iCbavMYNLw4PCDwkCeJ1hSi2E2mOdHTroXhRTERE\n",
       "od2lQMaXtSgam3yC8qLJf9Z5gHIEcLXyEAsB+9m3lPV/ZV3F+mRxU/IaztARylqL1YQkcCuI6Jdg\n",
       "VS/r1D0LEu79IJ3Nqu8kK32uk/bY1/MINCL1/LIiGjZDt55YceiZ/8Ov6ovXfu6XBEiFuiCNBEqw\n",
       "GKJ9twU0vsShZIGJ5n3nPQaq5nLmPMwtogWzafBch1U57c+glTvsF7rLhAE/mnrQ83ST7+i9pS9D\n",
       "1ykGSDUsOTRG6fe5ymEQcuotFlDyJj3yRQfRctPjWrjogD+fdO+OAF3ocf1EQWBVXVm4pYgVsvyQ\n",
       "rWJrech2at9bWrLVf9AcZsdIxlZnUFJHFm64yAqW0RtUsEotq9gndRahKKRmhpBXXPewAPT7cyth\n",
       "+FG3gLNia5ftjq3/oPMRB57UhWuX3DEQNd29i8lvVHv5ErrYUt5LRPO7m7DQ4Byb0/z40iyEPTOn\n",
       "L7T3mxLjIdkMEHwWVxzwF3wg2YKTxb4J4yDw2ZqjT48GKhODsAhMpF5ShYL/XZvNAiJlWHp4qYky\n",
       "tixe7lJgCy+udjsYBEmYcwr769pipG+1APdicZC/6ZAqY48KDpEt8gI4YDrhVEugJJrPX5kz2AUz\n",
       "zE7fbnuRfGyPITCiATQaeE5U0VgxzfjRI6sJ//UsEF+Eq0wwAZlWd0T7EXciJov57Lc7I059W4VZ\n",
       "oAH/xOYj27j/Zv00YqIoZJDYXgv1bsoo8KsGJBS5OvVHaxDsLt2KZz5UymqpD/gMRzy0r0w031X7\n",
       "BhdoJtn1zVWeaLqEHCx4Qbriex+ihJSNuvurrRLWTh9rY18TD248t/7X8euZo5Kb5Ru0SBjGrm5j\n",
       "exxSWbaiB3L5cwlEgOJw4dFd65evE2xLOMi6hJPOsTbT2ZRkqOA13cCvVJEC/o9obpVuRptcfZCF\n",
       "Z/PCKJfVCma6KfPdQf/5RDL2uz8wrOvmLHP435A0FqyxczhWtOLRNHrSxMAQAAD/AAACqEGaI2xC\n",
       "f/3xAAPfyUMo+tLszETrYfXNH++zPoqc/HPzwzVNfLyBli3balUQPXKm1gCpC4YVbp7Zes3wcRWs\n",
       "BZ0irQZ1xFbjZPn3XyP1x6sNgHZecECILuvv6BOd+M/rG73xLY7Ih1iUuk3CGINaTLg4SHLnDYcl\n",
       "PjhU6KlMwlKQ6J7NGcwbsCwntEbRayDSPGi2SPxOOdZqUXztaD0DTfFT7OuvooN23dtNjfyyjfT6\n",
       "atqBm2WFH/x3ZyqR2uxGeO5g7NrN9T9z5cWWjgM2JvqZ89ojXR9Ne7J4Bdu8LmgCtvlIh1WVEJ1+\n",
       "uqgJWi+NyFZF4EUEfNvJC2GfF4gHnp4eHh+YnwHO1/Hn0CLihJlVmU4nJtys5mIp3lsXIaKKzbSX\n",
       "BUIfEDeY05aVXBdxg57+2xWGOzWiB5VoP4LzpgFcW2MV+lcnHc/6Vg2FS3sRl199p0ntqU+4AYJb\n",
       "6g0VH60jSe9187I8+XJKveNggbcMax6hKq93WggDDITTUdgSKS1OZDeQFjZGIKY4X/4LPQXgGc6q\n",
       "vQzxj/HiiycmvWizSOZT8VtU8ID7hIXqFlbj4NGiDw+8+7qnUd/BTgoTg43azi8imAUfM6RGMvUl\n",
       "MS4+c7dUXmLpHCRU9fnfPXyFwOHI3xaCaNRIyvyoje/ZhFR1iQTBr7HUuvlZdh6+Ktypp6mKh5y5\n",
       "5OhOweavcPwM4OV2qxcKQVA7FykfInV5+aOjJH95ePmFFTqv/PVP+fhkDuNGCpHoICPpsVPz4MDj\n",
       "yD1rRWenuL5CIulaSgv+sOccNAsQZ1c1QEMv0ueju6rBkkAN6hrC6NWl+SfJL0QeLFsSwABck3gl\n",
       "7trHqgkb9n0K0lY9tiDYL5Yj3tsFrLfYDLghg/ra9vihywTHH6jkfgAvo6zmuDFgAAAA5kGeQXiL\n",
       "/wBWRikWJDTAAAADAAIHttalUMiUcoKv37sH/PoWPFCJA/WevrM3PZtKmt+nYWxyLHb625gr3O0e\n",
       "5CGw4QGQWtxD0GIAP2oPYFXDKBMNZZCBFxbF/ygASpklSfb6dv+dJt6grJMVtEfOgtOzTDBchK0A\n",
       "WIfBb+wH9gVdDBobno+e/zdKGOABy0i3zVUANQwJkpEGbhKE7dOwDKHC6OyJWppvr//zSuNs4762\n",
       "X9uZkmOk2bpkDwRGdxPX9DmxAqyl8njkjBfo8lSKjEtNSliyNZvGu9O4A5Pd+jAhiFNy9AZVAAAA\n",
       "qAGeYmpF/wBWR8IEO/cz8qa2h5bd8JaOMlbtewa+1eDj4Qn2AqeMIjOt4kpfPB4gbpr1j7jGIQiP\n",
       "FwWAlUx//N2oMWYGdp1oWOGkGZEyWsYL/Txe/GIrWq+jwFdvXoofWUWQXOTl2g907AO3cNf3yeVo\n",
       "DspsftZOho17RrDa7ofWMVfItmqDmJxmlVm6fx1GiIN7Z5vFKqhDS2nWxERYECdafhDObE0unAAA\n",
       "AeJBmmVJqEFomUwU8J/98QABifTdg99M9sDR3Lgp9UniKdLGpn5o80VfqQklOIBjU3KgjhrU4Gv/\n",
       "kGOrlJ/U7jn6bkcMcQZe76i/gb0xywjUzKuKTxh8Kcq5mUbCye8QtYtHHodTi2clfYu1UVrp5CB/\n",
       "GkAppcxB46SRrd0bPpNQoI0uytmiZN08/jHW+W7dOdTGVkLVxgnbxOSYCzkW5WWQko4Yd6qnMQJh\n",
       "zwyba0VmYRLTLW9dHyfHD7ZMeT6FiXFTGBU5CsIM7tTTOS8flxhW/OfFqXSApoLWYhioUTAEp38K\n",
       "c+t8cniy37QpphmhK5Uh/mVxyVQBqVEH0k/51frL8ulrKoaeS/mOnh+X1TH6loM2j9ynOlfh6qEL\n",
       "j21dYclTGC7YJ4gWOZHt7He9aL/dHG6bmoJ19LgC/X5CoXTh1ylNULHqWN6q6EleOrHXkqpAEzV/\n",
       "sqjUdz49iTH15+UDvfzzNDJC9iLWG1aK6rUX6B9VOi/NdVhjty2s2Nxjp5pkJHkcjYX0zRJhgzZv\n",
       "lGmhTq94o1YbxSAwvvXxBaB8lA3lwYXRdblluDylCFYJqxHocyNrcRMAlBzvFmyOOMPoIyPicdZ5\n",
       "e/xxZNVGsmIiFwjwqLIgS1SxOI43z4XiOABjQQAAAKoBnoRqRf8AIKu7Bi/XOJpRAPnMflgzKq1I\n",
       "iIlRUnioSvZUwIT5Kn/odVe9IK4RXTcYTYu/Z+ztByfDtdGIsbBMlN7ywNjU8cHZjJ8p8z691ViL\n",
       "etrzF+XVkjKlIMhnYLapkN0VG4A5fX404lXsKnxHFEI3jEgAguiMIEtsVPXBdR/3+EzUu1GPKXDX\n",
       "2gnqjAkJQx9yDK7wSUFx5Oe4C10jm8h8aCVT6GYF3QAAAbFBmolJ4QpSZTAhP/3xAAAEk3oBQA8h\n",
       "XTCocBZbXNM5j8AApaI6kesrik7Hzz2pMUtPkpLA2K9NaEIS3kLKpC4osCR88haHwGMKH0bGpmSZ\n",
       "fmoxmSBNGtPoEhGo7OxPE2xwbznSSwdE6OUQbapNHO+36pAk/ynOtTJx8e6+5gDKioZBmjzEfS9m\n",
       "TVCvuY3TFkrmnullEhKW6oIjRbu1T8Sq5fCCLlbmbfQo2gYEe2syOEYXoRBL5Q3ZM13nCsl+WNmc\n",
       "agEAvki3qZS5/o1xZu4a2ndIDJVyeM3oSmDqVThK0hyyysP7qzhpzrelGQfo97d3kaHpftqQNtDS\n",
       "2ym45gN0KOnsZwM7G/sdsb6Lz9U/APkA743Jv3v6/ozs5DS7hfbd2aR/lHMZjkZFdeabv/BV+iW/\n",
       "KwSMlYErl/yYEhIMvemKWksRB0KbMjI80h5QcIOo55TpeUn5tddM0fBP6+UbP5WdP6bHVoE7Q98T\n",
       "K9fZssEXjZL8YZ94XllKaeQtMdT495pdIO6kR2oCNGUWYoD+aA3n7m+4iSBY89PY6YZH7gW3/skT\n",
       "+GF91mEeaD7dOnSNAAAA/UGep0U0TG8AAE+r9zuvSJn6O/XKmFJZfSUGhCd2JiD5zg11gCyuWCOA\n",
       "BCOXAIXc5veJ526SUh+F5efeS90BEaD7cK0kjHWPXx63SvZpK5HYYu+0CoEK4hXYIvMWUekBV48P\n",
       "+z3O73l6+ZKd2VkD/EKKDPKHmJYpE0zrsUzJkngY+qVHNyEZBM4gUG0Bscrr1x54dlBOlwCLSAsy\n",
       "krwauz9cdJYwBD816JrOlcECGrUVdErMk9EW+45HO8kshpFO5nIrWzWu2TO86ENmDpl5K38uwOea\n",
       "Kfkr8OlA83KprdPNi4hIUCROeDBV3Ru0nSZ6iQLUFk3+rI6KRg8DKd0AAADCAZ7GdEX/AABkxcbs\n",
       "3lB1wPWIhlQKWwCTWOpIC2vXai/E6GTaJUz651Gkagkued8+myWpzebnasPLweJU13Cqlf2JycvG\n",
       "kQkLM3+ISNbRBlBlKnn5a1G7EDhQQWNWEs5PXZgogSAPt1TiSWpIR5N+KKdKzQgvgLbS60qKvYDr\n",
       "4WApHfBGg3SKAOxd/e0kY3ITUsnfqzBDCi3EfEZab4w/HTaJK/QJWl6LSC/g9X6IT/r8gHjsfhkL\n",
       "6tvvBzrwNg6gSMAAAACoAZ7IakX/AABkYwdPzjyhjM3bgy5c5+qVQHGtmgbR6n22i2TPAAhn3fuy\n",
       "bHEbmQeuNdr8mIEtfb6yrLs5zeLHfvDmMiUd3YW+E4F4rX/xbPdNxxNABypudvC+Gtvv1NvmIIAB\n",
       "7gZUjQUNsumbRTfwwZz3N34k3ytmt5GGYmCKkKrSHZpK/gf03hhAULAElB+Y1Zes5unohORfy2Jy\n",
       "T/k1RboANlmRgLiAAAABxkGazUmoQWiZTAhH//3hAAAUbMLsS8MZz3IGjTqlhyUnuVAABFy4Jb2n\n",
       "W4h0KsFwh2ys0XcCFD80M+uFQW/qndzzD6+y24lTaoxnyWugL/IrguuSJbtOW6ZWUztyFjQfsA3J\n",
       "qIXktTVa2ZeHOL5neWIELlbVv8BzjV8uVNPBGa1j3XbPp6sWB/HZBnh/TJ/L2U9884qGC7VcJGf4\n",
       "kL0VQwcHysvqQqgzDo/DlxYzYcAXDUJxoRuyeHvZk+BfCOr3G8BpEVbGsT+xYWmPLYDXKfdldcuK\n",
       "msBIlVKTo0ikKbJvHxfeXjfKhoPw7eR9lm7sA1iqh0WhkMY5Bz7rpthfcyo5sccLQBfCx1JlN9Ht\n",
       "szh4EEw8z11+9KHTCkrqoSjsN0ekQhK/qiRNEzINI+Ld+W4uQCtKiZ5sWytrK2vExayV6Jenk2Ym\n",
       "Li8r8QSwniTDbNqgo8qCIoWgr2sEDXZitMM2gATU+vXTbGKI+b0Ec5kZ7H87G70ECeK8HMZ09VCE\n",
       "gHeV3PbRObM1zPab+AHvEx8jdu6XXdMDvsXXkiR9KgGg6DaZADiV71T5/LqvbT9kcq3X9IRgsl5K\n",
       "mrfKYwrwXFj3mkWfgEEAAADWQZ7rRREsbwAA3MirD7aBwL4KPSWzRykzBr97q7AOtlx/RNAb43IA\n",
       "gZ7qgAiBTQT+/a8FENK0VvlbdmxR5ZIPj85GmEc9AwfMQyt+KqcPxk9kteave+IlSuAw7+UvHK16\n",
       "YFnpltYDqah+YaZrxFnw6MHiLFRC+XYccmczKpOBJwOlcnnkqqBqCCMHMMS8lRkJYi/EbaAGVeJO\n",
       "B4YuGjkWkK/i7/uklqcrS4PmQ3RO4dhOhh4o/EyP/h667CwPNdXICQYJ8xuayDQsq/UpTLAfzFv2\n",
       "qvoggAAAALQBnwp0Rf8AARXOnlGJEwU8vv0GhhOVwvfTlTjyD6S9jhFBQoFKNnJIdz4Sk5/AS7pe\n",
       "0BLY9NTf04SS6dRYQPmbLpzePbrIEqAq8uHhG6Mpvw+k2/QimVoC4epGtTAUr8JWl/fbbnrcKC0H\n",
       "/A7xQUsTpEAQF+VaOOMKiJ6SV9PgImi/JXc4BreKUBOtY1jwAiG+OEGehTKjubwGVoyaOl9IuuKf\n",
       "e7ZDqkv2NH7k9yY+exBaB/gAAACvAZ8MakX/AAEVJi56YF+fy7eLgHto0GWH2q0ZjZfMdxJ69zM1\n",
       "hs7xaFvWYHI3roBILRGzvM3QhR9LAZaIelzwkeSSwgevN3a1spsjLRrVCuIpJJ9L7z6q2wMl0bbw\n",
       "s+jH+uXSf6QxGPpL4A5MbyGRp/lDStt/3i5vx+ZtYUNXmqQ6mRZKa6CWrPrcM5MnHRrQTPQ5Jqci\n",
       "GzoKkE13ytBZQN/QM1qLymJ8JJGce5kIOQAAAWRBmw9JqEFsmUwUTCP//eEAADh00egx/YSGf9vA\n",
       "/KsD8K/xNC1jP/afulDJRzhQ1TiJq0wQX/CIAgeAzPYE48nbL2pk51VZkfylue6VwP0DFi53lipv\n",
       "eqxn1MICgLr2yr5+KC8kiQtK0uVqiOx1I3/7XX1kd05qD/LLJbVPuZus1xryBhJXvSYaZqCMSqfz\n",
       "On9WojlwKy2PeuZVuQN2dEAx9oSWFLJv1/ZBdK/DZFVoQIyvb1psUcF4i9UwWg4Ye54y6nWk+lPT\n",
       "KGX5QDcZ2GE663DAUi04MCWvcx6inwaQg0I7MgJsdu1lzuQptgIrJKoSQURo/OlClNkkrbjcRt4E\n",
       "uS8tWQyQGZQIJp5CMv+astFxXOwCDY/bRyurskAIFn0qNVvUKfj6f6A2VvCdM7p1wmSxLAHQAtF4\n",
       "OeKdNknwjAdW+xHdg/Y+j+UKntymcgYGm/NraDaNWvQPuMcBhANWD2JsfQAAALABny5qRf8AAxEj\n",
       "dPNPMawEY2uLep8d8Zv0QhPeQvdq03PdLGBmNNbXh1RQbmpAf9cXjNLqfgIu5YMB7uZYJaghiGiK\n",
       "UFbBK9W5J8L+YrGx/8sfO0MevgMOsOBmWoJ+p2vuGCCXGrOmB7NMl0pGpeulzq/Mig8MS6O779tS\n",
       "SbVfy2hJqa4j+J8pptSV7RCD0EH3XHzHMdBhyjilCQRLKVufmJxaVmkPOAPiNn0xdZ3yCQAAAZxB\n",
       "mzFJ4QpSZTBSwj/94QAAOdOEnE94Bq3+sQp8ahW80JY7FVrb08A5fr1gIQzweCs0/htC1H/uKQ6x\n",
       "gTTYU6/1+utgMG8spLMnfJ4tAmAAmOIbtjTDGqhDAAVd9DhvgyYSGxrtjZrliNRECsjEgNIG88Cy\n",
       "FCxQg9Caz6Vy/qC6uvr24iQTgfF9XoBkZPv/JXtD+bBgim6dJfLRJNLsqC+5YDFD01b0ms5l0PMH\n",
       "dw5pvILQDbW2yxlN+udFpj0S71EWFhUG+pyW5rONyB4FJR33ijK7i1bhwjbWHox+6aDmlH5zLfe6\n",
       "vHEqViq6QO42h+jKomNykM/vXE19wljf99DiN3W4+ZRwXR6aKSKy25ZdvLAupu3xGAco4YFdmPkn\n",
       "Updhvt4XbTsiO4EmU03thPd2vsXsYzJCjFrufkKhAt3F0zWhuIfPkWVReNjJv/USIAAw5XIldSfb\n",
       "wWqBZTkYIL7shaXp8oCtWHzp1pDvxI4KkPkeX3XYEO517iI8w/Xe4yOI3urLgFfgdIcddMEHQ4/X\n",
       "SvRyRDHjbV9IVRlJAAAAtAGfUGpF/wADJRvMEtsRySGjbYSMZjZaihHpRDuFCCF0VCS3OMMKKZT6\n",
       "HSEtp4As0deem6RmhUObERFkajb1FP42dd0DYJ6zhCynQsFZeDmpWWKAsqQ0Th9idvlZbtf4AQoo\n",
       "nlLOh9FTjAk//eDR80zOc/dKxY0vmn+1c7nZ+JIpjKv7vNpGB9cZTuC1tEif9HctbUnq3nDZ1ima\n",
       "XnkMP87CqK+GuRZUQDr01uSRSAAZeb084AAAAa5Bm1NJ4Q6JlMFEwn/98QAAJJxB0sMS8fM0jnJD\n",
       "jhfhgdicIaoeGluhkspKgoRy/EYAUZgzph/7NtvFfZAdD7sKegh9kG7/VHX0Gey99qzUIQlnzCkq\n",
       "es1Q6SnbQ1Q2C9Yu9UHLevUXp/SkLff6BCov6NS9X+/cDsrPhZ/1Ad6d6fAG5AgwkDTz1pAsWSMw\n",
       "K7ShYSZ7odmzVbQ6gB7TyoAT32feN+9+5JFkzOSghNsMCrGVGAslP/CT0pEETZGB2cuSn51vwboP\n",
       "+WNA8FUZn86FMUfZgpcv4fRXQEAgP7xRzxoPA7nVWuQJMGwnCfPfPA+PKeWhXI4RhKOqlFFjlFXJ\n",
       "xdetCkVAfHjK+31u3q06fekFv6uKwsWdQu5955FHag1uR/EkjsZULojQUqzSqpS/7ed/NhZ22ikS\n",
       "1iTLXlmWvDHW5nNj89O9W+Sct8P/8OOj6ZLEgC9xWGzjVNnajFja5gch/pihoU3s+x3MqRgOzxN5\n",
       "o6eCYY9wOkh2HcYhczcl+AKUDsMtfG+LBjcx66HAxuBXWy+aylh4JUJbG4ytSOgHSshcZe1xAwh0\n",
       "EKSBAAAArAGfcmpF/wADJOuwybmADRzu73mq8oXtUB43hL/2KvcylVe4yX0gDalHwiScxDfhBj+d\n",
       "Yu6wlhb+lHLMZ9po8fuHfUhcmjJXa6HGQx8Mppgz2lFwG4YR2u8e0Cyl3S7th7Riy1QMb6kaQ4+A\n",
       "zJSLHleqZcyKkQebVmDzBwWEu61sVKf/xVqSs2iIecQArytd4T5zYjj2IOlwK+d9Hn3fuXO3Fzqk\n",
       "2QwEPLCsg+AAAAHgQZt1SeEPJlMFPCf//fEAAGbLOxY8EuMn7b6GOBI4v0jW8vxCpCxDuLBlYtE1\n",
       "mz3fDljafkWdfLBZ3Glfahlu9xmNHd7mxydbx76h3bia+VLfEtUSFSbmjJNsWrh9JzFOD39nHvLT\n",
       "Iu13DibFF/2bpcAiiHSAxSgXmz700cf7BRPG5yYPhWQZYKtUoDj8mXCEJCrdSewr8d/WnaAqIF7q\n",
       "d0SZ6TbUG+cnQIjxh7Aq/ABcgni1vtgCpavj52riShtfvMzH8+LTQSyuQMACnMC30yAC45lk66IQ\n",
       "39PHIxHwbRdE2GKOMdR9oSRWr8dQzg6KzGgksXwLGe7GJkmF+rU+4e9zuFBfbxWC0iCcOK2wBF3/\n",
       "u3K/JGDVOKmF509K1gYwYse67LD0F7G6/FAg6vVABzpHIGUGjqA3oVYhLFLaXO1hlU0kD8TbkOzI\n",
       "0TNKVq15dq++WEm5riHhh+W/mGdRnFeg3D3HisU8qDyrh+CXI/sF+Chpi3IhID9X540L2ngkkans\n",
       "+0zl4KpEn2/BAgGZaTvgy1jDhPUgFTfHGgdsHzg/2ZFSjaxGR3LSUrKysT/J48LNTdGNVzRyoPZ/\n",
       "PtcM2vo6uCJZt/eZJfoZU0PMuWWWRPyhViHaBVEotV3Ro6qYAAAAqwGflGpF/wAIr5T9XQtlS/8z\n",
       "G9giMSQplmF4oMbRu2RynuJQBN5nvLATCgv/HK2oJiCXmdu1XSLvwu9hYb2Bfy4IO8mDaiOSqWyN\n",
       "JsIdDw+pAtziEKDcyHXtm5eAAWUK+tDbzvuIAWQoyBS7O2SXudt2Cjob7odaA2mMBmCsCHv8qGMX\n",
       "078mgYgmrjvB8X9TmWD0hRc+W9q70EHbJMW8e/YH0wC3jz8wzkP98QAAAfBBm5lJ4Q8mUwIT//3x\n",
       "AABnRUdKDZ7hrbTW1yJKapc8fhAtvf5A5CRNQVQTcQtBrxXTJfAkpIPgWe3ThKPlvEiryj4M7rwu\n",
       "yoqF/0tDSkRaozaC+4vpzgcuxeHcufzo/7GrvZIi0Drljkz2A1kyC3PHVLh2WZ3xQj/ik7/zM0GR\n",
       "zcgcsb/FuaB/drJUD3YXqDkrfl5AH5Gq79rtMVOFTqjXaOvfqwu8gn2vSqbYUZhchw2LIfsmV7Xe\n",
       "wzm5CbxW/oot/QtY1u/g+9ggtLtqB6VYmILFMtBDQuYsfjLhwe/pIalL3/7Y/OUFdIyVTKvgN4Sl\n",
       "JTfNMOL53x3pu9XDjfY40wuCboGp+CgAVRtnFDgQIu0ZpuO8pD+Ep2uq2VxcIb0BxY1IJ0PB6Nwr\n",
       "L7nq/PiltHTyTvl2BR4yj1qHmHcdujZJe6TyWHAhjK57dOMT0ZxFDsEqPyBYOuhR9TNVW7NWQcWT\n",
       "nSeRikIZDAqk4W4UNmSC5aIiKax8EhTX87XkX5z3KMiwdBSkmi3Ski1RTVpxBncrsunRpnDDzwfh\n",
       "Q8Ne6ksjjhLNIfcdRIBlfT5XKsjYPM6MFshJzQAx8n9o8MjWnoR+YZ42a0rf20v//Im2/C70HFRG\n",
       "80GfcX27eJHBGeJm9d5SoOzN7x+NvpxG1kMCAAAA1EGft0URPG8ABun2YZgLrzSTpfMPrOsjYhCg\n",
       "hcoINwmJr/yiyirjwztGJ2vE0yqgmYHlDpT3u6QGdEm+A4Ip2tdNqsmpgSoP07cxOtckWew5jktj\n",
       "DG1OZy8Bh/HhJSKTpDEDushN1Ga0BDYilR1ZOULyXC5ZAzC2BFa41vwoS1KM2R3lN6Vps8p1AcRn\n",
       "KZj9DVbxTB+jMZL0YAM9hzAZbWUPYBCcf4sHLV6EWPG/dBX6dn4RRypz63N00Jnjw4xUqLj5CvRQ\n",
       "t+NyGrcO7Af1pIbkmMJvAAAAngGf1nRF/wAIssr/tqS61N6G155qV1EvF0BKZ4wHdTeJ+9ZsbmUd\n",
       "iDnWLllYcMhzknMY3co2snagwvQYScuJwai1vUGFMK8DhySYByph0BmiOh+gnpmX8uGc+wJBEE7D\n",
       "E9/obbv88grfH3IfNEcPeFUvgvvQqtnkeOY+CtxOdVu6aJ9SyvI5/bOFuHvlp/Ge7FtPafKIrzfv\n",
       "Wo0fJTLPAAAAtgGf2GpF/wAIrYytWnaGg3eG0qN1RGfz0riIF6nS+WhlWz55Muf+Df0qbMPQ89fQ\n",
       "K6leOxChE3oZWY4ydN4z1dP7FD0Uhsv0/hI8unfBU7jYkaapzlXLWyolxK/971SQHtozsGpACe2D\n",
       "xchxQyjCdrrZ8YLycI1Ot669Tj31M++iLmWoRqenykdGdSO05Gf2QunYNrlAyG5xNrAJgLmrC6SF\n",
       "7rB44GSS+31hFDfjQUaWkdsq1ci4AAABfEGb3UmoQWiZTAhP//3xAADYEAqDWJFRrwCjVZv+pF7b\n",
       "xSTEEHEuxe87znTv6uz1MXz5aYmo1aoCXudmUeUxnfOriucxRgJBXsdz67RizftWnEWb7KKFjO96\n",
       "KVkKl1PEVqCesJXH9iwOusoy/aMR4JGv+SZeMJduIi6bPPOMaUGb2sJtI0+LRzEcuRi7Np+Sz5qu\n",
       "NmItNTZCMxUgrJzhx8RNyPLdtTzcy+HfWdRfwblCnL2lumjPrHhUFvmmY0MbcuuiMzTd0+S1in6/\n",
       "XOLm8h+IATScq/zAODWJKoY+ZQDo6LI0frQZJEgbrM5NHaN7eYhzzxjZ8/2kULZMeIUIPjM6STSN\n",
       "fMEMcLuhkPK5o7hHvi+DCTaRTDQklcMprNKf29ocLO7YdUT0CGC3CV5GdoDj+xZ91JKphYKXEeUK\n",
       "H19hEVvtkdJn5mCsDHJGXPwgSZUlzK4e+hXpSCRV63f2rtE9nQaSughuTN6vNZVt77rODOZytcjl\n",
       "u9iJIHNBAAAAz0Gf+0URLG8ADoO3e0f6wmWg9e5mPxeoxJqtj2xP7J+fuINfzQyYR9x8nMvFKAlX\n",
       "tT+WOLmm/7Do2lPWUbQcvqcKHcQRUm1bGDECqQFz+pC+EmVwD4PdYXLWt2FLPspST/QkvMiQ3ZFh\n",
       "4DzQ0jN5nyaeYJtmuxnMBKKlBgQikYbv4hONFz1ILOqdi/1UZWaNK0t9k34w92FdlYfTCNsT09T1\n",
       "We2vvo0UL8kfW9jdin1ykSEatpgncG92spLxr05XRFUErN1iI9q8eNIz9N8HzAAAAI4Bnhp0Rf8A\n",
       "CKqOBYlzh8XMfGddETioydtvzHAax2rXCPE8mNUK1kznmRb2ghJZqCDKtXyCs88BAL9wrXYT8AzD\n",
       "CMNVfjTdPgNsmaq3JlsxTczP0LqcG6HNlWF93QGbLCBe20idmOyrfJ8SljqSPxeF67c/y4b+yluN\n",
       "LwHZoG3oUVePLAx6LfHBDi9aF7JBAAAAkAGeHGpF/wASVIsGkl3A3hHPWTm1YD6XkJIS9vhbVX3y\n",
       "N6xNhTkW4du5XlmEoKKhpYN98FEhCBvlKRe7VlqkVLhVPwdPhCgK5cxPb/SjBsJzK4LLaYYvagJf\n",
       "oBmnZ9yt8KF2yRBuhmXtifK5Tk5KkV1DSvDZmp3jvnURDAo0/6anfpLoJZJyYo/CjrMC+FNhgQAA\n",
       "AexBmh9JqEFsmUwUTCf//fEAAR0d8VNnxzNCzLFp2Ww7d4jLcopRFgAeSQk4xGKLL9btfQEAeoGN\n",
       "tEtWKZHLEjlnDOhrXxXoHb5WNw+h26UqjthFh7Loq51KloLHPmDopsyF4gm8jWCUzflFe9la7TTN\n",
       "pjzIiauSbCpCfjWp7FCwLZem2C9wHRUxVnw2hYIP5yv9g71gNJSL2Ba1iNS33eZZtSiXH1/BuILE\n",
       "Y46KYcr9ZiRt+EJyGH5zudJZCEkMy4NMWSyy7k/bI2SHcnOq58ibUw3U+6VVbKzrDVSZPgtwDll8\n",
       "HRLeY6ca2saOQLvM9HW5P9P4+ImvfTROQGdEBQsg+aAVtwrAwwaDOI7Hl+peNVagZMX9bk/dpVDM\n",
       "RSnyNocOK+J+JPZc3+DJyeIXocManK2UpXpR92hIXmPsfUCyMb8euQbH4o/w1XRDxuchKmo0oTEs\n",
       "ri40GiTalA0XHXXG7+6lCwnz/srfOzAZivIiU0I2SijF5pnOqQeQhwCSFatGaFpMhKAm5lcRG0GL\n",
       "nziTRA5vOKRZxbIol06cSLFTW8lP3j4/goggCKU3ko425i45o5tXTbrnuKtCMyYq2O3rPY4Ovyxq\n",
       "G+k5GEmhc2u0Lix+mEVKrnE1LBWrzJU8KG5H/3g6MHuY9cJV13AAAACsAZ4+akX/ABiI9zPB7+AY\n",
       "XOPoRVZrEc3imAwKhqYR75zl8LeWgP6TyaFfQSoLDhy2Uuv5uz4fOCCcyaZyIyAyepuU7z/wFmC7\n",
       "xZHwZxQ49/ZwcKXqfBH1JoZ+p578+IsOt/y0rdJaDV9UoR47u2MfXJjXEJWfz6T/8jLE286JJVi+\n",
       "qKettrY961OuHF/pyXKZrwH1uDs5kbFl8MVrZ4t7V6F6BUel7+Ibnf9DUAAAAgBBmiNJ4QpSZTAh\n",
       "P/3xAAEdHGxuqigpCL8nmQbRDppQg1sP4O+V/xBEEdpF9LLJ138bkTeqcNNu3eqVXRr3KkQCWNpA\n",
       "Xdx0KkB8e215XeX4NBHCwk2jfxek6LHxGiHXpGi0UpVRApOgv8pbd7po///4q3ew9ThMKnJGkR2v\n",
       "GvGJnXBf4IkmxnfBQoWfy7hd9LGfpljfAcSlR+H9tpO7bWSQ9hkwmn0r22pZjdVBL8tv3kTVKcFk\n",
       "zyHpot7unHIVfLWVDS2AtnAg7F3PfuNz/XEqX0n0HUZ0vB4/j+brI+qVeSypqEPYloo+5/il8ree\n",
       "2gifztNXtOV/Dw667ztIATRawxirjUvm1hw/6KmlAdKkuoA9xVGS0aQz8ZO+3oJas6ZCWu/7YL/y\n",
       "azhWRKDtiFXUos4Vxx9aiWSRWbOKK7sJf3VzoDzuU0TpN4cVkbfQxenbxR7eUWJWCvfDWuG7tOLW\n",
       "o8a3GxjZcrvf4VHqzQaerxToAsUrp9QpO19Jk+L51Ny1iBeW5rVxwLhUY015OOHOrRdwh3G+HzYp\n",
       "iTFmijuZqw2aL2G09wwcdBlbLRMbhaUYHBWnWYRyaO3+SoXj7w45EN4fd7boiOWmZnER+h59Teel\n",
       "O2d5Ej9s+StpfqI4/ntdSa0S8Ye8hDnb+17Cr56loqbigswEUhdPLcVxSqaDwQAAAMVBnkFFNExv\n",
       "ABNebms+9QUiRvsUzTkAJVzLYA5DE0bEzMWcxq0aMhzCtINfIFDprdGUfRQVTb9CbM+8ykegACPW\n",
       "PvKAgpnY0UTHTVKdhdJUMuUZ9wpD5cRxheCpW1WayrDoOEH7wOV1h46RWGC+YTjJThPANHXasgJl\n",
       "zosH6qZA+DKaFTwVE/WTWhOErn88T3sQeTh3M8ZKtIMOjHm1wZQ7lBVJ/z8CqmVZjoziZqbCcCKD\n",
       "WGR7EY2dRMrEKkRCnJySfU7hogAAAKkBnmB0Rf8AGHwnqq47nX0D6ukY+uoH3ZH44Lt7p+ImVYho\n",
       "w50DVt/ABoj38QAf4U+mqsjPaYZ82oxIFEoakry1ByBDGbp8YTda97GG3vMNAFFKqcyIESXdFdPb\n",
       "U/wSaec8N30vTqQgPePdH/dHg5RfP/QNQrLv4ZhB7I5uICSQ0hPAGbD7KuuEj4MudG2MizN3sH5R\n",
       "GVwHpkZ4bf1uO0jJQQIOIrvl/rSBAAAAngGeYmpF/wAYfP3sIvTRXQFf0kO+wb4tIRmakRuIBA/F\n",
       "C96K4KhdFCt1IFQbj2h+BFiJTg6PgWTqVRZcOhTyeGgHsJDWD1CGgBdRjdanEQZJmJgI5jZIjoGN\n",
       "Mn7kj4HjfON7rovdiH8TYvRT9tF+7uaSx+GCD2l35SwG2e3wSp14xjHC+sxPmMgr8G9DSgd2vPOc\n",
       "0RAV4lIUpR9OLrV+AAABvkGaZ0moQWiZTAhP//3xAAEeMZQduAm5VBwlZMBbpzvmgTTSiJTPVeUl\n",
       "k/Y+oEBCAdu8nWtJNRFVF5751lwuq8gwFZ0KCGsNqp+ejEUjEw9DSMjWuvNqxq4hjLZiRJk1ZUDd\n",
       "vgM3gy3B8BYfCpAQcJGzmifQWbMLX+XDbBz3dRBWVdPkLPFy7JeWU7g3RcnGKCw6H8r9LMO0ridP\n",
       "4oRGrNGrYA4uqpyvNVUhYdlrGwdrE+/6gqzNQJnTAWM5w9Kpgd9kbmHwY4G+dMq3AizosEQYY7uQ\n",
       "PK43UScgckYeQQ33cYDIzZpxCSk7Q3A2BXLNf7EPY8BaZmlvAMqVdAXpJ9tX2/bBYNqnCfSCN8lG\n",
       "ZAxvWbCm8Si5keAWSToh8cugYJL+7PI2TL2s+HnlkkR82C/iK3CzIztIUe9+zALIS1N3/Zegts/C\n",
       "s7Wy3y3pyitKJZTH6Rg25ph2JbbE/Sj4jJ7OYOQ3bT/+6AB2ki3PNd0LJmuaEoeVWnwLT2k6k0Ad\n",
       "u182/1MHalvBz+yM75rF/y/JTtRA0P/9+zwbdKydJSRi/P3njXY2ayq0aSnOapzkJtWNKvTA3ISi\n",
       "O05n9TLbAAAAxUGehUURLG8AE2FgjYR8dnVdGMNrOz9ccpSy2zJwC76joY2ExeH6Z/hXmtPYE3OY\n",
       "Knm+lqSggBFB1DKzQoEayUxqlmavT0MoOk+IaMDXCUnZg/KYJkSL2bui1+qiFFfFYzTZWnllWdI+\n",
       "vwY1RTT0ij4zWfGRikJKUFeVhI9k307idmPykL5xLoDGWly03dwHEmBhI0lsfpCWnMyXELn3cE/z\n",
       "Uo9ngkp8R9Q8kXJhU4kV56hRrrEq5jVAwIawAQRZ36qtzKDhAAAAkgGepHRF/wAYjHi/WuD0F5ku\n",
       "YcO08M/Jw614dPqsdOZ+DPcQGFxdeaNblOZxQUHqexkzpNL3zsWpTMO0GvGCZTyj4St6BH2e9kt3\n",
       "EpJtIR036BLx4RTc9Xpsgmu+zj+uqIp9sC/fzKeejUOkBPPg5ApLcyPUeoS9dJ6yUXiFw0EK8ETL\n",
       "ObrdWFsDEZd8xjRhDfoXAAAAkQGepmpF/wAYiPc31pZpsVjL45XYLvgz6JWQC1lmtshzYOvoPEKf\n",
       "6X3m8PBZBbeF941WBWluPypH6fmjeTaoxT4l543TSpcg8DTvYI7YSW0wbZOcYN72o5WFgBjjriuc\n",
       "/WKAytGd8LEnKelOtqdkRIDx4yL9nv5PBvb07bmikeJ+UcKvPBK24NqdSZiknxmAakEAAAFHQZqp\n",
       "SahBbJlMFEwn//3xAAEc56SH9fr/r7FdIrIqqzTLNo21NXxEotHv/RbXjLpIJD7bw0B732ngLrsM\n",
       "IlpY3kiYBm5o3zXDs6EQFGddjibcwHuPh769TGWK9CvMiLyBYd6zrr6zquz6L/Yynpy8Ind2HF3H\n",
       "6F7F5bivemudYI1wtEYE8eNFiGnGwHncxwF/c1WX67Si0FnlT2MbptWnLX+nLPtMGDLjJKILoZmD\n",
       "S9MMO7f2npcrRvt2WAtbJ5jFRq6BcKKQ2rGOr2QgATdtILBeSh8k+tQ3+lwdj84zcnG7LJJuH4aT\n",
       "W73Ksu4aVy5vO1p7VhzDKVKeq9uw9WshHQaG6Fx2bp1xcn9bUPWvGrfkfiwJe/RJUDrfOtqfH/BB\n",
       "AwefeD+kZLf2UOYDGP8d9CSg7Ibpc4/ZE0Kd5m7Qca6gpPYAb6vAAAAAiQGeyGpF/wAYiPc83W1w\n",
       "79EeeAOyFWp+iB4qWHzcQyj+33FiJwYmyUW/ssB3c6jcW/LLGdqs/9PrWRlwUvoJnJ+w5HR6UThQ\n",
       "GaHUN0oTy3tcPtzyXegT5bq+YH00ixEGg0JwCqinwPd8WkbRNoUGqsykFusY1VOwzWtUImhXugod\n",
       "YcccAef9IwpIAAABVkGazUnhClJlMCE//fEAAR7omweLDECu95XWzcrJJl7+aUBhhy4zLlEaQjz4\n",
       "hID5AGnVZreeyPOm//oH39NUWaFAC8DCLz2MLjGDeuRrtF0ocDyTVcNxeQJYLuYwAOr2NorP8TrH\n",
       "LHDqIlcK6/2NvsowTkF8tW0ARFT27PXMaUfTje2UGyc83a2G4Ur3+xo6orR5bGh6eO1uqYDlm1F/\n",
       "sbOyRejhScr9OAphs8cfSPRgJNJNACebo9Xeh/1uu00nLQnAVrsbg7FxMpgRhNX20Pw265iUZPQx\n",
       "gHsbk7lzIGV3k91lXKSc4A3Uc9BaqibXPqDLnjFlaO2K6CDS1ul/WhBnPmAZunQbawOyiQDIi6Wz\n",
       "kpE3ALc4OHJwWupNcw3nyAFzd4NttWTt3b2pPtfsyxf3F4S6nZlFS57lLxrFFzewjmPGJczTCbiR\n",
       "J8i4InJVnvpPXsLLgQAAAK9BnutFNExvABNUO9Z7B2byjO66E5b+L1t5miC73E/LAKO5ZmbdVIRc\n",
       "iKFxJz/AZ4a0Ds7cOghzJVZG+Q2fYnicRdRBaThbKXPok0KHNeiqXnMoyAlLVIH+IeB5HXUbuvDl\n",
       "GfOrBCzsxYEJ4vok7IETP6QxgmjwgcQ0hHdd+7pEsC5U9R74QWXDcxXuTMHs13cGS4CPoxWFMfVx\n",
       "ZMyWB1L0pRSOBBt1Zfs4PunbwXXAAAAAiAGfCnRF/wAYd1BA9CuFafg4s2hss83zH97RDb/Nzoov\n",
       "OxoBdNGhw/XYKaA0zSmiAJGBljItWxpxD6m4yIJTx7f5FS+3zeUl4u+EzuNmOfmf6OVsGzA2lHiL\n",
       "F/KNeNGvfFOFEqTA0nFUJ7q2PwgNrsgN0em2LLDOUOQs9nBKtPVG+8ayJoGgRsAAAACIAZ8MakX/\n",
       "ABiHcJTmTSOgknD4qTbF/PDRlnmpBRbTg1pJgPnukvgwkaaX+5SlcBrMROSFEhWMG++aGa4iULI0\n",
       "WDAUA0AR3D2oEQVtZ/Ip6HIde+y22nbuwAGbRtzOdTXhCLkl8GODNZ7w79S8FptTmfZSsMUycHxX\n",
       "iwpQiF1xGtfplj6DukhoQQAAAXRBmxFJqEFomUwIR//94QABu9/23SzTvS9Nlbk8K4tb4eGIyThu\n",
       "6frv6H4f98eGIW0anKFI8Ac/f6wCfQDhECMfmcbybuI/qOGdXC+S9bljO9C/KyExqUXqtYqrCj9Z\n",
       "HQeTKLik+FRBk/THn1w/6qeKRdJwsaBFwQFIqdSKddIjLExI6vv+wJGIYEwED8hqZYnIvZ5j/j14\n",
       "2vpYBrAJ6eLO/6YkfMsIDypRdOXGgF2CDNxq5RQIKUZP/v3CXux/VoaalHUpTnCxL1aW6tTPKOpQ\n",
       "BsDBI1QLFAhxT+NWVoD/Y1cOfDXef6QQNzrIftryrYOc+44vUAMqi9qj/Pudb5YPP/dmvivYHYXj\n",
       "g5+wFWJqBGptoB4mfGx50TWxr6onKVuEW2BkEILy1Vt892CKwFQTjKXDCCN01ZtETXSt6ohTBZm4\n",
       "uhRJYEVEoRE9igIKkUXx5WePK4rZNd/68DPCc4yrOSHtK/+GCZZrVh44zbBGbQBMpU0AAADCQZ8v\n",
       "RREsbwAS111sSkEDA03Zo67OQUpMNRobOjV/Yor55OpFGnhp5LWiU4gF/SrdWvV2V3CB0c5d9c4I\n",
       "BHdPNZxk8f8A1ClIgYYIB2zw2GyW4ajIk89Lp2eZZmoFqVj3jU9lE7MZ8l56SI87kcdeQzsxRKGf\n",
       "438m8j58EWFspqNDLfYJA39UBk+1/EhiTCoNz55veR51+IQXmhmNFu2bwlnIozbTUF/U+jsYyyxf\n",
       "3WCsoArUmL2GqP5fOCOHlb5EGXEAAACTAZ9OdEX/ABfX3L1Ia+gIzRx1VeUfTxB0eNnh8HjUuk29\n",
       "IDRUnTCT7zn9hyQ7mqIfLtYGyaDLYjFF5M6CRgImziEI2x9U3K2P90CEL1/JoAWFh3ark4TRtOFT\n",
       "Kr3v/di5akVZwZLpuYi5I9aEBIJzicw9eep+jBgTl/+zXc4L1919LDEpODVS9Jog4nAwWnAjJYr4\n",
       "AAAAjAGfUGpF/wAT6s37QeohDw1A82j6IGdVFYnDWzBjUApjj1RSIayEBJ02g6dQZMxVNz3zwNZF\n",
       "wlbXBOlQ1EUysb99f1D4ipGmtAxMcGnLmNFHizT3mGJO9IEmkWBPZ+fJg5GHRTwXA7jUfDAtAdKD\n",
       "TlxzgZSH/eXke7EzGoZIxlhlBMyfEqDMPUkOQDPgAAABRkGbUkmoQWyZTAhP//3xAADn6TIipkfn\n",
       "1U0IY90vUhZ6ZnqZgWXJ2DMccdN1EN1LS/aJAoACuNyzl+ILzwOw2RrLuxNpoKtsoibyhAcpbzEL\n",
       "cCKjbEChbPsD0wNpo6CTqETcNjMeIbDKXPRSMroCDL1cklm74Hy37JMQfAelAqBGkSiqdyyJ47EI\n",
       "4f5bMn3mVykLvEC8ycVsLXRGdabMTxX0QSuk9+JZKy2zR8OuymXTX8VLvJsL3gkpVWWRIvA84O8V\n",
       "/l8ncPrQj0CRPOI3NuLTtnWc51DN8g9/edvy4Z40BBkjTwMqvFLEfS2XfvmRnlAzcBEqqKRUxQ6I\n",
       "5XDRcN0c+JfOMHJnEzvojl9t5sANfj2cPDdhUVAEdO6sQN70ekNnOMOXRnQykPXDuZobhWf1h20s\n",
       "qGjS4/cX4D1SM+dQIcCLWwIfAAABnEGbdEnhClJlMFFSwn/98QAA51sSfIMOPRUO/9EQ6lQ13a2g\n",
       "BK0I5mqbq85XMDP/+DxPEiJfYqXoR+znFwLtulaumihMLB1d6jtuvO3AIv5L/LR81NZtQPAQQ1+C\n",
       "u50WyLICUSIspvajG2kZXsWW8ci1b+7yjMRUkfDFT8P6Fmj/PIusEbuCrKtc000FV9nrgzNPQcjr\n",
       "B3qvxUAQqa4l2t44gcgFY+pTW7kMGL9VwZu5P29tKRmGGSo73BHfKR3YUx4pTqzf26q90NJPPHKU\n",
       "Di6WHt/KOPsTLTI+SpP6mbkqgNSthu7LSEiZVRr4/uGtjouSdh4dioMnq96PlGjWm68jcpNK0rD4\n",
       "1JTwYfscg/JJ0ftMikdh+koYZUdwwoaFSTuymU5UWpBgSjQMCrge4boIoIMNnXcOMVSGlpZPrMJO\n",
       "2DHG3lkWMQ6AiuLmXnJd+RUq7UdMYc+TBXBLVn3F+K881k3FT8pbDw4gs3jSRePdoKzGRtrkcv+e\n",
       "jBJHkqi6cc98foQRoXT0VOI0Khu9yyXdNzSMbQgWoJvQU0AAAACkAZ+TakX/ABPc1b6LO02GjdGK\n",
       "nPJU6DwkCp2jSyvU61C51APE+gTnogthkrhRlqWb5+aSMEb1/Brfd1H3649KAeAnwUMedfzYmmVF\n",
       "YyGMm4C/FwZ/mbPN6UoGHhhdLckTha32avWWtdwwJVFoIM6dcgalvvcH7pNxWHv+Rdlkv3tdtVir\n",
       "LN/Uohz6clPc25EgyCVGAE1NdLc2DEyNXeSVDNJ206YAAAF9QZuYSeEOiZTAhP/98QAA55JEFidA\n",
       "7lRKSO3jHJ/qAWtK+48OqSCXFbQHZsURvT55I0Yxqt+qTdYr7zsIgkadjbiEwu+tfPJ5+Kj5m7nd\n",
       "J7AsqLU/5gWVEZSD2IFCg6kDolEK9cMZrjnwkjDmWPoyyEBdQoXBI7yNJhiSJOl+7DT/7IhUzsze\n",
       "UqPjyESVSeNL7OlHS2gLaoLLBvFtUsF1EVkR7wi0cO9yZvUn5lQJ75hBrSG4jw555EvB9jHt9wAa\n",
       "AQr/kpV45SFxIu+xLP3Ow50ADEi3Yw7tkeOlo8v9/ogYnuVBjiR+lsAEgDnhHppxm8QRibGNamOU\n",
       "4GTZAPTH7wceeOWmtuEpAx4cVczgVRjRN8t7HYFFv0MufY/+izM8vN2DmM+8HtufvL6P7domWRvU\n",
       "8x0VLsSmQ55FN4U3A12CMDLWrco2F1O3j9K6sRiNhx3H+onZDsop+1Y90vKzn8Etc5FI0kkfJsJh\n",
       "/QgqRkjLSD+vCI+4jzX5IaovAAAA6kGftkUVPG8AD+EKNADbKwUboMqskANGzPKWvs15zl9GUM9g\n",
       "Dicqu1dEx3SjFjQ1565WwRDIoa958THNkBx2CWiUt1ssaOUnBUnnMN+xAs/834H188fZxo7TUnM5\n",
       "COEy/nLX8oFO7WuKIuz2Ktc0HtzT/Q1ADZCO1u5pDFipMTLwQPKmJbWYb5QdIxi2Zf5JkU23Ykss\n",
       "/RJvKWMqBJBupD/k171Xm+k3GeB3Ms2dlCczapWmD1kTag1+IHGJcjC1Jk4ebNRcnj95ZGTr/bOS\n",
       "NF+vFhKTGR2W6hLJQ7p195taL3UcG+/D3+YB3QAAAJ4Bn9V0Rf8AFH9weW/pz8dtDeZRZffIaN2r\n",
       "eEiV1CKtTRwuZrDbdoaNE5IiXLOHqeAAS7yMbNRYqBV+VGtFQaTOZJOV3LVn+jS7vYwR3jwJY01D\n",
       "TVfxtvN8Q/D+5pzEwnxm00URquDj3De5OMxbNgikfLTGaRku94lR3/rmlFKID6GZw1kdG18R7ciF\n",
       "j8iCwvfQrvbiEnPS8VMylaN0wQAAAKIBn9dqRf8AFGzVgvIZqDfLGKVzTT0NUMsXa0AzLOdE+ozY\n",
       "atlVc+KrBQ+APsEIlIv+0J95Uu/9IaJO+18vphQHsDMYq7Om3JOeDuknnNiH9QCzO1BuYQ6OGPTm\n",
       "FucurVizXKVw2kIhojb8l8G+8OiBuWFtwEPG8cgRX7r2jrfl9EIGFxyiqb5yLIi9mAezntAXwS6/\n",
       "sLER1g7y2yuztOtR0vEAAAG3QZvcSahBaJlMCE///fEAAOj6bsRXO/Wa2I9MbnUzGw1EfYctvM7W\n",
       "L1LOniD+0O07Q53wPCAI/njIO6znttSqKYGxq5Dnd/kvf9JAyClZTnljYEU4Mmfd2zMMPT0xKx9H\n",
       "Nkt3rAz+KoSlTA9c1GZ8csf0b2tui7TY/XPKjH9J5EjVJ71GMempaJiUumUs344fSy4hA7eWVmAp\n",
       "dLjQdOZhPdfv9GDACbAQzksfEZAd4R5f1n3N/S63bPh1tmGWrYvOLkkj9zLdwuD1y2Bo0ZWGusPb\n",
       "E8cujh9DnZFgfuTfFYA5pqrWjm7/urmsoG7RV43w9sErXZOz//6McwyMibE8nXVranh9YnkxSR8+\n",
       "3lnuYm+vqMa109WR8m5n0vwR/hxHzkWCAyqMkkDImRFLJlaACiTIU/uZAx/5QEDOoZxVG+w7IZNV\n",
       "IteT1W8BzCRHyr7Ym4UhQSCgr6VNTzMqCt/LkFajNDbaWP8JQynJpmvv6/h9kaTr3LVbVbAF5tBp\n",
       "QePj+5/vEHsWHU9lT6QVIP536J8jYM+P3Imaxy/erPp5NZmedlRkCG83Mw9s3ExxzJUl3L4ZcocC\n",
       "4gAAAO5Bn/pFESxvAA+E2d2W2aIzqqbk7o2V1133zCIePlwv1usNbYAPF3BbwftfRsXYHtwx8VeE\n",
       "KSg7m1dzGuYpvuwXWrEWrzqmcINow3ZYLqPsB9d2BpEt7mzedBK8Qgu2p7tihJQrxYfLqK289ROj\n",
       "9y53X9mzg8MJBtFpSezXkkxr4vGLk5+fRBZXRxNiTcMCOGrGPkM2advPNjQriWrN6qKM4KIHO9Fk\n",
       "8Hao6N17flVJP+ExP2A6Z4XEY2OfmsmLmsotWfb/6hV5gDKOxQIz0H43kNbzD1W0Up67UzVQ2rD+\n",
       "C7E7o6O9K/srVi+uq4StAAAAogGeGXRF/wAT3gQiJAZyRcmxEeneQQKqFIDkMuciuPyYXf5DZFfN\n",
       "ZpwVtq+MVCXaGSlOfJfkVSdIbrcqei+CWKkU2HFuDDc0rjFy6DZx5IzSsm7+fAB4xdHXERBXhHo/\n",
       "P/xVPjrUBlttDYAolcwbzUlrOZUlgdfice5/4+98aVZbr3edLJNi5plhjFtKeS8/Nx00wgkxq7bY\n",
       "wiQJ/XVj/HDjgAAAAKYBnhtqRf8AFHH3TbjXd4n9aeIjFeG9NPnGvXxZQ7wh5zS6YqxyTO+5KGsH\n",
       "I/sZ2XSRIXJGCrk45gwbyQMf55912lmcXedB9FWalX9zMzaeS9rkLh4RVwqSdNPnlmvWpAQwWdsa\n",
       "v31SszzcO0H2MN96++8g5hFMiFUCdkw7BptxhqID63Nkcxoe5/FGseGAiXkvg6xZDAOhXkQvwaTl\n",
       "na9buZpAhEfBAAABaEGaAEmoQWyZTAhP//3xAABY+T7Y37Oumb6UhICLgjRtnwZUCD87bVXioKnr\n",
       "FVbblF9VO30uZ73uLzOgAISYyL5YprwtMTtxD3wPq2es61jDINa0fv4/lDrWv2SB6XYUUfBKNw3M\n",
       "735FkZK3AC2aQOPy0G96+Q3ptS6KUZlg5aOv+jl3v358c2lvztP6srfxlgxWBMM4MEQR2U9p2JdK\n",
       "2Bc/6ZudAsOUDAMjNAg8e6a7RzIVnUPUWpNxfqgIv3dJXq4a8w3bhjWtI6aHihFvfU4bunk8Yn9E\n",
       "Z2zXIaSP6qMcwHZBuqNNTX30TEwjxO25PqPxowFSM+yVvnyB2BYGNZg+Q2wwNbkwn19TF6y15lXq\n",
       "/JZjMLjd4nKOn4xqU1tFNxfTdr8boNseuWM1E7v0BqpwWi/KEb2qn8FZSSNmll1TNlKodf8MCYga\n",
       "iZG67aJoo1nCw+AO409HWLs+ZlFsWXSnX+nuFiwFNQAAAMlBnj5FFSxvAAX503XP2ESMBIHVxXDZ\n",
       "T6HGDO3O7VygaAcuORXyGyddVsKrvo7wHl7Aw+DpzKBxbvDO7IWkPxgjg9dPgbqJ3KT7XAVDf1G6\n",
       "3e+G1rnMXjD/8C74RcpzsLpRQLbAQD7EOwht9zwAYG63NTdx8fC0IY/zFjBJsMY1Jpmg/uI5uvO9\n",
       "t2PS8GgeS+S5FBRw21ZkexMwG0C9gX0fEqxVZViCat20Jq14lAb1/PMwJ5OiiZ6ORcl3uoJDDKCH\n",
       "ZqXCstlGt+QAAACXAZ5ddEX/AAdtwLw9rfSm+8M6cADshH1Cd/UKnEIqhZxG/AFLIWV9N4W+xTlG\n",
       "A7/J1dojj9zptud6ctImR2ZW96/+ohvlU9lbTgsf5+ceKyHd3FJ24Te9+QW+VaQWBM5d7xmBRTM9\n",
       "QSAdX+628thoTQuxkL4IpM1rVBwm/9qLpMzSd8Mz49aGnmZxVr04XYQDp4sdoSGDbgAAAKMBnl9q\n",
       "Rf8AB2noBMo76aRNyokwAAl4+cGjVZ09VbhVpPnOzgKqPi7nn9lgmlGNz3K7yhGf0hhlfEXa7LXo\n",
       "JARgKAgG9/Y2XFuZRdwMQVEObqNvG+5Gfp7z+W2A+1cgxHkd0FS4DV5VLtKOKkRqOA3sSb7fvxRg\n",
       "GxXP74q1Gge7vKixa+FKa/bMrV4aiSrCh/8tN/wEqxLXglqDR+p4OxvacX6pAAABv0GaREmoQWyZ\n",
       "TAhP//3xAAAf3+m6CEu4iQpxwCglRVxhGieGkUgb2SWeW+lmeO9wKsZiMTvlxKNCxn850FTnzUpo\n",
       "U3HPbc5drmuQTSHh9TBNgoqquxJIc/yGNhkZd6zkT1FQevAbIG/yB8pj6Jv3lG4R6aot06uvcua1\n",
       "Hf95qujXtlmtWGxOWUcjBcRQZt7+EnoX7pm+JmG2KA8u3hRkx9FJHp/owetuq2esFcH8tNPhF3pi\n",
       "HP3Es0FgVRQsd7fQHfLyYL3qmm6EeQzY8FmhvJvwBpsoQptC6cHg3vM83u/eN1W7wzbUWmvdJ3Ks\n",
       "Xa1/Tlp1lnFo8eBP58nq9UIXUjQrFgWWPtPZHef1kVdJ5lc2eUIyupXPPnNBtexmdwOq1hWNv5gK\n",
       "zpxLmr6CN2iIr65fq0SaZP+tzLjU2NkNsw/PoPwEzQ7BwErhafYq7aXIeQHZgqXQ/kFzOq9rNiP+\n",
       "4n8G2654MkC0J1+pl5ArQ0oAqPkeIVnjQoejMLuqWc0ZAke6uJ9+uqgiUXk1j9oeEbh8Qbm1wrw4\n",
       "DOBtBxUhEkJIKc8+nyVSSJLYnYk+VM6mIXltZ8J5+GysMqy3R8E7MAAAANtBnmJFFSxvAAIqfSZ3\n",
       "PvPtou+H28a3noAkMc7gOw2D8KGq5uIfwtP6/vbXdRPTFqo61jIi4Wn3g5ZhcyEULTv2iFZQdE9L\n",
       "nlJQzegQhI6Mvwoo2K6pgIEYMSu3a4itITWa2tdW4j9LvfXmudRX6SN1rQlmX2+XzTj4BxPARLkm\n",
       "d/3JiIeUC0SXDaRwPzLk5weVZV3o8cbADxeqEuNvuhvYB3GFhPjjBz8EqBz0+Ggz4OMayG1j6H4Y\n",
       "0q7/ovuM2G0g+ynJOj/7O+IrUVmARs5zVE3jU2F0koB2nMEAAACnAZ6BdEX/AALFe6OrRlOWrx6f\n",
       "EVQw35K451jeRMS8J6C+sDCE1zbWuMzKF0fsUfXCfoQ0NBeTebL8GrzLUAPPlDp8XKVm3uoR3z0H\n",
       "CIWASSryeV2M3YO3FV8yj575CZ7uneAAQeczQl1W/BK4lfZEAkxQ5yTuTm7sMR+r8yvgCxA4qNDi\n",
       "PzkioU/4h///fLGwKLIvZHwmaWvTy7H0JCSnqVExMHeMSZUAAACqAZ6DakX/AALDmqfEkBWGM8HQ\n",
       "gKcucstNNqiR69EsbkY7lSxCxHo7fRBZm0Cjm4eKsx+6ChThX2eqP62kuRVpGmTNQ8ChsKagi48F\n",
       "ka9NGBSsyqYMe0TgTfz4tXETu2nMpvFhdjlqbE5NlV09c2GklOvipQLzgAEvUNCAtFxXJrqaD337\n",
       "HvP4sUmGm7dT04BL7KESfmfSPP3ALRjaevvy7JQxrPzWEM1fCbkAAAGvQZqISahBbJlMCE///fEA\n",
       "AB/d/23ZnBgJA3ZG2Qt8xgs+9cbpuGuUbX0QBBtNY6wv2r6/q43fvOcs4O81PSe4GQpxafMNRcXt\n",
       "dEPrOjiicYz1DMQy0n223Lcfoa6XgBoxsp+J8wGHpWFFAwHrzs8aHXJeQeS+oU80wapzvUqkMtOp\n",
       "cD9BbxPDeUxvKFLp1vOF/lpQkcTsPvyiN8fY0hR4X1C5Tt7g9aIlLoOfuWaK5lzj6R0Y+u54FVdl\n",
       "QCzLg/oKUv7ju+SnUBJ0JGFnjAcXNxGR97oyFnGaYXyamhaQRayof9XB6kNy3B/XQakrwtjeS/3t\n",
       "NpwrgncwlHtsejLhjOPR4bZ9njxs4vuZUKTNEwg9dXgW+TFD37pOgUCPBlgBkJDKp4S836pDCW26\n",
       "reaLIR6E2L+r/LBmAb0ngT2P//CQEtxl/TMCJcwy3twRngo7vYVrvq7c1EWAGunLuxZtwylTpbU/\n",
       "TX1qhatMNv7cYckcPFHJq3krKRH6IhMDFuyNwhAgxjVSpbwARteJYp7VNZ+MXyo/29Uf18RM8prq\n",
       "TPCumZiwfcLGjxEXuXGMMfEAAAEMQZ6mRRUsbwAAzctyfJlno62VcUhiztycSXJvFiU2euGcuyii\n",
       "DrLn9NbCGeVX8bhwG5QfOFC3pTDf7628CKQDm3s5O5ulDRwJHv/gS7a9BGMq29ojb3oNIIXePbVt\n",
       "07z/rw2y6x2nY5cLUzKRpQsX8g/ZAkwvh8dUsKNZFW1Afvv21NxZMFOCoiArBmoT8dqoOSj5kVQ9\n",
       "CcuDBTxprVbt2t2FHZIN57aNJioCKDu5GYTQHZWFo/Yfpb88z8rUIXcTovGhvA7rQM7EGoB4Kb3P\n",
       "Zst4O/LE/rR+3Vjo9nTkME2u0Im24g3cuHuWnbEgUUQi1oL+Hmvm1kdyfgsjZOvL/QV+gEfiVZPV\n",
       "7SMx4QAAAKkBnsV0Rf8AAP4144ewUn2aHXmnKHLyiuwib4qW2asv1R8uZATYxXnGJJEXUrQslrZ0\n",
       "w0jQbBSPgrckvVHNpZs4GWWXDbjYhPP1T8kzookRf9YBgHvJUew3PIfhZGEju4yM02SVibnMafOT\n",
       "iKs/qn0TSS5fALNtkXGAM8sNb5v/E+XW6W4uiBRnVJmqzMmEqvgXXRxUR8iHaddpypGBybRkF4Lf\n",
       "F2cjcB/hAAAAtQGex2pF/wAA/ZOL3dV86vdmgKHSHr6o3whUaIKVitU0VVwWGACf2S2WwaGhW9MP\n",
       "uBdNcHXdmqYcqrD/t0Yaip0OhQv45B7YpsnZVMupMKxTDjpwNQZcWYXjL75c+CeGkzoGUWRVbppQ\n",
       "V5hgIJNx3enWehEQfoNBbEihAk+nsf+d69CI9o4FNDBqAGMg6yGe04FmWyHfPH4AzIMRmAHXiRa6\n",
       "jU4SYrIy4DthCHVR1crGHg3bYiAAAAIaQZrMSahBbJlMCE///fEAAAw6lTMdTxBthiKcx50n9+0P\n",
       "oyA85FIVHyo9l+4Jh4b8PeBY1xnRwQVd7RkVdLijw3Bimol1Pu2hVbisSBhE0Vt9HfIKELAXirpu\n",
       "pDek1Q+GZjV2LWs4AaOO4h1dW/KeCYgoFkdh0J6TvluGSQErqZp1ffbyVzLF6dj41I38FGVspGxW\n",
       "ynx3D+6rmBMRBCzZsBodPFEwqxL/94pcKzgg32qQAC1tt4/BpuqHwHlbxpmth03WkwXilbv1iBMk\n",
       "1ONgc6uFL6+K+cn1d+zTxXOrAnhpIEUbdhPiIvUMPytbhDinKSYyrdMymsJM3b8zwbLzKlOxyib3\n",
       "J3zQe7Tx+IzJzfx03GrxuMvc3+Pa+2F+SLMd1rIiFv47mLiysie5461OW9WjQiONXNahKMJhOOuj\n",
       "z7UCVxrd6qFIbvWkJoMUDi68nUVHFARLO3PjHl4OzPnEUE00iRJ1HJKAMThbpia9xZBlFIPNcxXj\n",
       "i9SzqjESLBGU1gxCE6hUY1idvozm+1DBU8Pp7Abi4tSAYZYPLLDAjKN0x/kbRbCygmVB2nO2eTV8\n",
       "11kD857gmTXcQNHa+PpgmMEsGQzoqVtBff1BQth/KjmRxb9P59Kx6tSRD93/TAXCD3mGTg0hdW/L\n",
       "685LG1oCUS1MUcmoMcJOHEiUDkaPWVSqFNoAjJnhEwtgqG65S6J63yfP2/PZADzWwAAAAOlBnupF\n",
       "FSxvAADTR89WpOMevl3FbB6XDHebCiso4EoIAWGTB26yMsaWKVI3jTb1Z1CuzuR4oAfBI/Et8UKg\n",
       "YJd5ZpNJDjjjFiuOyN5dKn23P0+Jfanacrj7VfCWjMhmxITM5UddL9LP3U+v3r+juPXu1zfoLra2\n",
       "1Gp09dKvkWgsCyMOicc0T00oHE196yXv0HtJNtIsjPRXHbaitfQO4Cjack8vb3cFBo/rD6XLt7u6\n",
       "gzLL04nhrV7e/7kSRXX8extwGd3GLXE3Ed74a0YEDgmhou3cy7xocpjqbBy1gAHVelebusoNYpBz\n",
       "QQAAALIBnwl0Rf8AAQYZ7DAyHtNTXixYOE4/njs9W9Nsi5Ex+9inVI1MvTjkobzEAIANh33v5OZa\n",
       "GAqV9aiTAz1hF/9qxpkwkDWH6Y1LFPqDqf87RxLQo9Tn2bc+alNEJ3Aybv2o/xp/JCVNclwd4PN3\n",
       "pjXBJyMtqs0pppjURavc11yep88L3w7tLsHupDgXl/ZM9Pnq9UDvh8d0aTCMZOd85C14Xu0/Uue2\n",
       "MmGKILjkaQv50KCAAAAAnwGfC2pF/wABBlXd6fXzLTLoKitxVVvAQRvENfGZ1dDug/ql96lysZSV\n",
       "gCL4H+kzsN3WxwAvwGfQSQ169E7J2DZiVKyqQGrPygzXK9OaryYebcWQ9KXhaGGUOJ3KdA3jiAFf\n",
       "DJlJEgRZA5j9q4KTyDm5h2aFKYYyHODy8Wvz0SRWlf6Tk/pn3iYwljm6Hg3O+KOakEjFP5Spkm8a\n",
       "9JUUeAAAAmpBmxBJqEFsmUwIT//98QAADDmSD0XwDUyVU/ya9xbZn1fFuiw4hCpAKBTiCTCDv6di\n",
       "yBIN7v8VA/WmABNeW4Rl4KPA+kIiU99zjDPYqebv69gd3oHkgA1U59/ibIq6KYOA0j2BApzHP9vD\n",
       "Ps4FehUQ/3VLhpkT0K+vB2ke7KxKCKBb6+nBcbvuW/UE//AqFg5lV2SYEHs+tw3ik5NR+jYyVHf/\n",
       "kKcKfY6faGXthfky2V5IInkaXN+nSHDxHTGNaBUyodLoLfZFbs2BjbG+tSnFIr7d/lPUFig+KCAi\n",
       "jtEyrTQXgHtI5CY3gO/xtLYyagy5CEyZwtliqzyYfTjRbVL9+dasPwusYl1MitpcjDg0oMEf3wxA\n",
       "AdvLhtFwmZKJXySiLCkl0+IDmYMuXwOoiBANR1EzRrioDZyovZy18koXtQEP46PrR38d2h95wh6u\n",
       "Zu8dWisIWy4A8Qatpm+gpu3G87JM4lKxDmhN3Pa8Fv/wtKsOYIQK/uuvTMPmCHkZARCk9lX+JtRr\n",
       "r5tmN4O18XK00crhDkyO5jMeL+PpHZpc5KxxsYePrm+4+ynR0BPAbLZT7+q1Nqu+Itr6kL85bLLD\n",
       "qT/kiwPwLSsjPG414JUb56NuQEjVGyvFZWAsMqNLZgyk3orHYtNdeGJ4QiLxDa5xVESPOCZB92Q3\n",
       "tP/EjZmfBMLCOIQ36+VwIUg/Xz2XPz890nRaWA7T7pdaOnOrbnJjyUv2S+06a/s3zDCUtdnc1GDw\n",
       "vKRm2sSomWXg1dLUhfqpvqh780mrhtAy5oOtkT1UXNSNvum0ppOa2o/oIyJRtRWWZrt+u7VXR00A\n",
       "AADsQZ8uRRUsbwAA0zvkZIVoV+CaBFJSleh5gFUpA80yp+CHxG8iRrI6O1HbqRJ08VM7fnopE4uE\n",
       "sxHAUGQ/bVU9wIc8HVvIo9eQqcvWtUGXwIhduL3816G1661LF6v2gySpLxdXQDppmmdwO4JyEHeL\n",
       "RzQwqwoqefO4pAOEkr6EB2U/TMRu5spZFmLV4F1ZPNq3GuywFdCQufpEL2OYOAH4fzO3azYDhcsT\n",
       "D2hVtuBqWyJktEdxMWvDUytfZpY+hKyswl+/xrRJ2DY2x2ugdK62Tsrot1ri62aaC0maGmCSxYb6\n",
       "9LVmj9EO6MI4xYEAAACsAZ9NdEX/AAEFU9enU11MBKyckrFtjBTU5kp3lK4p+x5vXJd/qCCkYmIO\n",
       "0uPooiuoJJYbHe/4WSUQwG13CqQvZD1vDqwuJVEEwACdk9z4WjMsheljIs6n4nwPPds1lp5JTac9\n",
       "cZ250NGsmX6Ufw+5eCmOodt52iYKt2jfGw3Vc8z/qNHFfUD++cfSys4TuP7ghB4/SagzaI6uSOSx\n",
       "PiXUGKe8hAvxVuYb4/dIeQAAAMkBn09qRf8AAQWxlahJL7RkwMEK9TxKYmI22rmXi9f296Vhprid\n",
       "s+80WOoe8nPEjulip3KehrcfrIe9oG73qiABqYUu8gKDLNOvnaDzvdePh3WpgMZWA7XJY2bguR0H\n",
       "T5IglXxqIDldOBwITD47Fwcv4KYTXDkI9sCx5ovKpadWsEsONj4Mon0sCrZVKKhKCg7iWMVRjjMm\n",
       "Z5tOh8fZyMU/bW6O0gWpY4YZYhoDuKQ/iX6pgpIQSJ5qAVILICkcuR76U8XEvMXuHHAAAAIgQZtU\n",
       "SahBbJlMCE///fEAAAw73cGfDQA4LyMpVc8J3mXC/6vmVtTbEStHPBcsU3E0UxW0BqyF3l9N8SxG\n",
       "Am4fVXk2DvSoZBNwcbaVkAPH/r4uSqrLoSZjNWutKYYkR6noJL41E1fh7iedMaVu7laqSAv/EqSG\n",
       "y/GBEOWPJCqEHy0ESaffZ7KyZ58Y6ymx3T3G08uLCbKUqwszOQUfb9nK02jT1YQOJM1Nf5A7Ymfk\n",
       "yURIvtap43cvl7lI5nC8blN9zJVBO6fHLn1HFSfsQR4ldhxjxrpcUJsaA/Dx2rplh5j8oF8RvJDi\n",
       "RqGsmSI1uxmQAg7LLWWYYOP7M23tKVXSocoZrKFxz1+rjFDKlPOjoj/7hBR4bXiujlMJvd7u4SPE\n",
       "gOYuwwW7jAY/gca3kLcZBWOccrrXKtzmC9jbNtGwH9ewXQvXq/xBuXpQRiyLR+4PzZ3/J3NpvieW\n",
       "V+aBSj1DF15WVOWnf8te6IqOqNgTRoiO6m9MIrrJV6ugge8zi0ko4TRPWV21ZpCPAt5/SWefT6v3\n",
       "IRUxjDPzdqOgcQ6qX5Wh0F2I3B6BvHATc4IOCpBLgECBttm8t9db8rfkFDPFvdTYavE4jvGxpu+j\n",
       "C1LSNBHiEHTA/wYJcW201vD2DqeHyRiCMp1fE8s6IT3klpB699R7YEvTyIHix66iG6lokE9SUj7J\n",
       "pejFAap4ld85EDh8sO1dXJK2tIx6+GIRJX/O2AAAAOVBn3JFFSxvAADS7ggO1qkD0wR49PYJnjyl\n",
       "tlhv+WDotcC6WYUp9sY/G1kLpg6HLANtCMtxz5UxPpy/X1qUDfR4LHJZQqoqIToXoobeq03kfdK6\n",
       "ejecMKCqli2YuiYsIFIekF4Ekbhn5WoDCU8FJQk26m4LAo04ew9aIlikfXZrhnadW1Z/ttMYjhdZ\n",
       "+pP6Hlvbr0OfFnRyyoDegrE0LRcv/WtIMumUi59+S7T7XXVb3w46DvcYcqtmGguinlEHGFiCoXA/\n",
       "l2fVRVsxPRvDPhlczeQX5fVRvxJX/lGAm6UdrnNfmQj5AAAAwwGfkXRF/wABBhyvLTtIM9v6NFEA\n",
       "DsqeKfHmUzSOaU3wQt6nYFH12awWyyyKhQIMe0o23XwtfqO762R2LpmtIBed+IlEmGwofx/FDkeY\n",
       "qfOTFvLUchrx1A4rDZAIp25oqOIEi+i3TWY2TOWCHgRYdCQZHUvcjQXKlpL7C542kJdPOSp9WWMi\n",
       "0yP3J7dgrHOE7Z/NJGyUlrgnMCbF9Gye7m4w6DKiF/b3VOZw5+2MKp5ycVmTKHEQ+8r4S3rP4MQD\n",
       "Mc5gQAAAALYBn5NqRf8AABzw3eFymIiKNzmEJiMv9J6AEKKJ1k/+Armvk85zTm9IPFJRUPrftM+H\n",
       "eOCxClw2OaBpp9YtSyrvfalk/xerTT87Jbn0HP3KT//4paez8OklT7cynWG6H0q/xxr1h/dCEkq3\n",
       "y8EtZ+XxDc0v4ShbFai8LDoslvrqTg7srWr/90nqMtSoWwsugpMByuFleD/d/Wc2YsnzFx4RUW+K\n",
       "y2mYwiQwD2Srw7FJwoyA1LbakAAAAi1Bm5hJqEFsmUwIT//98QAAAwGJ/uDjKprOei75QQaOYXSI\n",
       "rvF52PKUJ4UVwA0EkB6QEkn1s1TOv7/47kbqo4/ZdoTKZYm37/PBnUaSdFovYA4knEKrADFhxhPN\n",
       "7IxBz1s8FLr484R5ulWwWRy22SDCvqMULHGbGLiXLgfgV1p82hX/Yxu0HswX1wEah9sz+I5xzb2q\n",
       "vMBZuwNaA3lol9YXm69UOSXcpHgXQ0rbRfNHornskv8KAmCc4xsY+fhDDs2k+bjd58XMDVpDFACa\n",
       "a0TItXy1TL8BSyZi4Wn0YBI/o7jEnFW5L+wj+VBfTr09smADYVbMtORmpEQZmS/jeK8LAcYTXC0e\n",
       "+PBWWtNsliHHV1l9+eX8uchrBESIyqt9QMRDZV988F0ZS5e0V76lkPCy5Z82ottOJc2+OkWVc9Mi\n",
       "QtMAY5A/bNRDsOzPo+jEm3UOq8oeZS9VtUauDvnIws4kXGP0c7h1Syfcp7jmKBebIiVMqko9pFCL\n",
       "VyaW0HCNaG7iDIAr5g1S19vpZy3ByLcy8BAILFnakHtluVNrS8/2WgRTw3Gn84LTQdag4nb6wDv6\n",
       "lhLTE1YUcrzZ1pWVymj0mo+SPkXYLUMbw3z+gd+9T1GujSJAfGEISyvDPRg8z30mC+lt7/ICfdpD\n",
       "iu8teVqUP40qLEzrn7goHmlSzTqxnE7tSnZRfPocUCPSH4MNfm5nJqVxhClLd97HL16tMMfcb2hT\n",
       "S2h05JHPtNrIGQAAAN1Bn7ZFFSxvAAAX50a2AvmTbrNQOBrRHm/xgO/XtxZvV0baWXiqX2VFwssh\n",
       "KpP9LrRQYUJq0o5Du38cKuq8u9iDhLzSUwAi+xkmxMWIx3TJX/fpYjGVQAfKiUvGNVVDoc/amxKt\n",
       "93FCwHnEROQzvEJipc9WbW9GpIUIr5G3yWbOajAC2+fiG/DY1aeMqilYjbmyuh3GMV/fannMwOxl\n",
       "aLqIyghXwEjd8B/JtQ9gZN+hx8f+0znZZ2IHAb9jro7+CXI2ZZNCz8F7KjCQsa+H06sn6Wx16PH9\n",
       "0nF0bwxNuAAAAJQBn9V0Rf8AAB22tiQIlwclffffrUf3o6r6iZf4oX/Qcoy6ZQHyOBOVAjEMgE+Y\n",
       "L1xvmnIM4xzuY/0HFCwIvpr1sIJZu2YbgSZaUGVyz4NzTvc9tfQoAP/RGECW2KtaWqlpoItswMKq\n",
       "x82zwpnfMfR0ztBbX0dnXV/DZWt/uPrn546XWKi9CrjPwvWjp6CZ4WgC/9E7AAAAugGf12pF/wAA\n",
       "HaDd4WzGMltcVo3vGbryC1oc/UVNdnOAWChOwRMyR9RnoS6mUXx7bemalY7dYinLTfrolEoscFBU\n",
       "rgBNCllUvdebMK+WHfFMNLn3Ee6bwZ+tKFZHDjHNKM48uI/lAcN0slX4mMihN8lUrY9Mrme6ylmD\n",
       "o/yCgihWMxzVwN7eQ+Gg5TW4HfP06Ww3aSnqu+SKTEAUNb53vlXXRn9QN5548spdf0Mh7T1KQcd2\n",
       "sNxWBrgG1QAAAehBm9tJqEFsmUwIT//98QAADDmcUTwKqaAFbOZcr9HEZ9+hzReZ1ZTtsSPGwIzQ\n",
       "RnbArVzgyleYculcQmj+aRZg6QRfbf5+S4as73GvoyDGEZcLj6eVXGnXg3ZpOHwYOyn0WWOzJ+Nc\n",
       "d6PIRtE11BHJR2RVfLD5wqwYxZuZpNWBTr8jQBDwqrYx/UzKrX6TEcIkT3YUKPErrumR91LJ4SEt\n",
       "PcyfvSj2Z0uqEgj1jXpxZWHs/x2+ohupqHWtnCl+z9ucQ5mJLs0iD+rlQ3Y7ql+7jPVqiPpZPb0d\n",
       "mgpPqGMdISxOK9C+kvpnFfkf3KxShp0NgdPz37fx0HaRncwUznXWl5mHaPKLRDLGeeSmVZGSivUP\n",
       "LO9jwIwXN7hThi6Tign+l16llexB2oQpT3378yaxg702ud6ozrQpxCvUS4ti/kDahoYPp71fdAmX\n",
       "01lUDzQCJuHd8dUMlEsB230p+lPKHNq7LDke87KlP3HM2aB/9hlgBSzPbHOn4fWRiQqST+d/+IG1\n",
       "+D1ZuVjujoPjj5EKVDE5Y5Um1ALUl3SzHn1o4CBDDZm2sk8ytUiA+YWGOmA890L+6akVCqDHBhCi\n",
       "9nAIknVzoOEKSp2GMCg8O8aNQ9vfppVDtMDo+/a6wl7tmM8RhjnSsKBxwAAAAMtBn/lFFSxfAAEF\n",
       "8pq38n5ECjKNClUq6oX4RASaxlsdzBYCGagT8/Us13LN5V7zdMT0gQapUlhphjxVX1iwi+3w9NoW\n",
       "PfQBnfqr+6obSQ9RSizg0rlKmHOBPNAkfA+1BBm3SNPFeUBoQQcZ33zgGT7vcwErk6bOPoy9aAIz\n",
       "u/c4ryCKOQnGfHB3hO/t+t5d4ph9bPC2T2C44Z2Sk66RuDJln0MsQ/W+TqFEsorBRhqSOzpfPGAc\n",
       "CtALu/r7Y/LCRAV6Pqgxcq4IOk0u6QAAAKoBnhpqRf8AAQXymrfyfkb8OdTnW0aMyt4n25D3eMpG\n",
       "WnzlCrPTMMo0rST0VxS9sjkPF+RXoXO7mUOwcOjpwuLZffaEGue+15UG2VvoxUstrh+9vreK+Bwt\n",
       "nCHxOuQWX+9EfID4ABroexILI7ua0Ythbd+CIxlFeF9Xm6WBxd1Ho+QQyD6KuZdCDagRH2Gwe9Kb\n",
       "h0Za8VoZlggSFhR4wrsfP5Es8TNNCbGTpgAAAbFBmh9JqEFsmUwIT//98QAADDvQWKOdPfSx0DW4\n",
       "xQutHJIJAmN2kGQADXflKd9nH7X97E1a70wsWa7y/OhLZXrBtlKBEFP98gRo/51+ISLWudEAM+BP\n",
       "+ZdxYkrmiUAEwR07v9h0tJaTCjXXYYxSL0pVlxSOrLs99+w5mDnUETJ6wKuhyO5U4ouK8ybkHeUA\n",
       "TQK6jKkLd4ceVS/nvZ+PeL0hsgwmraLkmpJKQPfwFDj+Sxb2cDznu889do2oA2FFMDq/m5T37ssw\n",
       "xWTbHjVCDB85N05CIvuO6jsYNodEaBpwOVLytjJfiE/ngnYN7arT98bAfENlo8IY+JaPwoRCvt6J\n",
       "opuhtPuJLO/X1vIZACUUYrLESAvnf0oi8kF3XzAtM1Ht0yDEKzRS6thk0+166efMUGJG1kt0xkV0\n",
       "sd19ys1qs8FJnEOOBGcd/zcz0Bri2/ekcnS8YCOPIt9QNu5m915P/OqUlvQN/dnjJ1tnlni/YNRw\n",
       "QS0ta/8Rg5ZsqqzDdBJ1zg2jv1fWFF+tDxxwB+mdqEtmcLHpmGZzSo/VZVAzmqTC4Xxv9YceP1Ey\n",
       "JrxGfyOPAAAA+UGePUUVLG8AANMgc4wOAhsv0MpK0uMo1eNtIv+ksyiEr+d6xtt9KjFxOK9X/tj1\n",
       "JXflfT60oCa/Tt6TQA2RiKDyxpGBk/30Poem7AcEw55r6efbayNfuXC0F4Iftc5ai0sQUK8rUTCR\n",
       "YexnX6H9gv+Qf8hZKpvaRYscA9e2tvb2+JOnnP2yjJnIezBSBgyVB3XQkVQKCT/UoY9YqosNKUYi\n",
       "3k5mnQc6N3ZY6ye2y0XcMdZs0i2YPSmEFLOzHMZfZTy8Qv7xW8t883NLHNaNeePUKsJ1xOmHgOkj\n",
       "s4l42uuUH3Y0TLAa9BjlIOAA0k6O8oSLEgMXX+pEcQAAAKwBnlx0Rf8AAQYcry07VCpSXa3n9KTG\n",
       "XOJOsIHhpPwgK0zE/4fVt/+pe+5trS9xzGom5rpAydklB3kyPFoavjyY9zPniGzE0GjZwAdvkrXs\n",
       "lC9Uz1s7Tkh2dgDlUTyzDuLHwdgrNmgGc2m9OvRrwPDLRjmx/zKkpEIvo7S7aM3ncvIGQppkPBJz\n",
       "fzig5v1TxQWJtCZij3/a85TjxNsxFvrzq+bEPzD7AAp2DgJ+AAAAnwGeXmpF/wABBfKat/J+UPwx\n",
       "H4d6hg+A5GhrKArqqvFvyzRNZEJNP+Hd46vUlKxQFXfAIt24zY0o177Ody0ZfoGpScxha93Q1Ghs\n",
       "eiA6gjfEB5zjt47zSw1I8d/IFyPuGhIzvtCax4J6OU3T828m5r4DA3gNcj6s4lbOx1Ix8h++1roI\n",
       "IbBi+RDw14hkHG/ewX1IpE/F1hfKEa5WAUAskAAAAf9BmkNJqEFsmUwIT//98QAADE7/rOFIjBCo\n",
       "ZJKC3gBsKRKk0ktW/x23mHUejbzAWGHpumwxyvJV4+C2i0yaP4jaGXQ1aJ+TXienlKmRe1dZE1RP\n",
       "eAtkeDBX7EZukdPQ+Rd+5sfYdzO8LmLhpgDK/gkO69wFt8uQ9IfNv/hHMHVUstl18opNtYIbHXQf\n",
       "2nmj+s6k0e3dWtnQrSGkmzjeoDZXT9XFusEvMa5qtMi3M8SVtEyykE1a/nZoRqhwSMg/fskndsMH\n",
       "W0XGXepCmZHt9TpVvGtPpd0krAcP60tK6pJEt7ghK+rKNroqW5xZS9KdqJmZ/7jD1PWzVLWVDS1+\n",
       "b+JbCArvRLDCnEi8P8P/ZH2S2W7v4wSJJyqLKuOFxJfngq/4hAtrFSXIlNIKlw6wApQ2ewR7cjbx\n",
       "rQ98w/fOFGR/ztJVSd9pPWQ+VaXp8nfZ07OPsziUkapfuPEph4y76ePq9+d9C2xzQJjFKy3xLNhL\n",
       "ICECoMWym8vUy3kSfZBsoyDPsWVoLugFnAVD6fT/D/Ydqx8Qx0IMW+h/cvXhLmAfl0hm/g+Uxd9M\n",
       "8Y3Z7/lKZL/RWuoI7Ku5J375fhoCg1xwkCVI0HlZh3lnkaOYp5ftGiS+cxndafQEs5fUEUXPJ0yP\n",
       "vqVdK4z2TWwN94oD6MxQYNy7DSErhvCMPJ7FVxZ5AAAA1kGeYUUVLG8AANLujMRKR97yKeFvjROp\n",
       "1thVkzXTywvV8GCTsGXppz6iuqeynqzT1CtfJ6XdkS3aPlwZti4jBRs1EIfoAYPlQATotKMMhwgM\n",
       "3RNDPVO29oCmMqht+Rb9bSojoCudrizinnYVSO6s0lXI8335DX5TwQ3tf7JXSG44SHxqVBk2v+e4\n",
       "1WU2Aa8SrTpvEs2rC37e+5DAwju8LEy27FHsOpNGEdRFtNiCKM8K7DCu0t55LNdyqFhTK8bTAV/1\n",
       "17DVQ30WWSsM7exqgkRS1tHc29AAAACmAZ6AdEX/AAEGXJ+Uk4zgOk+hgoURQ0xAmp3ItYlofOHO\n",
       "T79BuZ6xdMJcxF82rlI+upLPVK6Ilz4Z3NFi3mE+gk4rCUb76YH+Y8rPTqadG034al44ckMvACHI\n",
       "rFENKnyEyv5odRtRRxDyRzSw46uLIsBTYWKEmZimkHGdKBvQMje7cjUNhiVW6zsgYvaaOmE2J4c9\n",
       "k30AFx7+Fy6CDMu85LjvOs9hKQAAALcBnoJqRf8AAQVZC9RmLTdAlWZS6SKZ12DlN+SywOoGy9GX\n",
       "Fxsjf5JW4LLutJVz+SGIypV0BBOfBvegA89QRcSzKBOm1eo7/X0r2ybk4W5A4Rb7vSnINNIyZvbR\n",
       "AxXNKf6vAnaCN2DWnIut20j1FL/f9c2ozwS4g133t5duyfkcU3145Knlo0u5soOhMkO2GwWWbiIq\n",
       "6UQkkO79wM/bqGrAdNWx2AAAZb2NgDSwuUGIv2nBQBoS0kAAAAHZQZqGSahBbJlMCE///fEAAAv/\n",
       "oJ6ScNCOYaZP236EMP5d+HBqCEuK1NZqbE7s0Bz7eyDbJ1CI8yh0n9DxDMUTDfVjXvYCrke8jL2y\n",
       "/OPBz1JXwVZWBI42akNHRgRcxJvNHrYn/KJBOe0k1r7tOrRx6DGnVDrjWwsg3fDSjqg6tSMHBcSM\n",
       "MHzv7Xzlj5viVhP3eXu+YyMTOlar6sIuqNsEVTGXIPZ7aOMcbApoVMKgGLogr4Ed7vedF18woL9C\n",
       "5OLH9wKSsj8HM6tpmlgKqbv+sEkWn7z7KiK21pLKwyS31kVBQhmBTcPzFs1AXtD8F20P9zDU2Vxj\n",
       "QOj4CF5nK6b7BblOatuTA5VURBeinOlDSdOOx6yq7zEraBz8j/IBK/1xGVcMJR19SSdR6eZzwBr7\n",
       "ppfMehZmZmJ2I272H4tc0h6A4zeRGfaVseviXGTAjB8j1CSZGpZMqhr5fYvbGeIjOe+xrVDapDxN\n",
       "tOgiBZe20p0vK1tVIWrqLgQkjEqV1TP89Nvjufhb+Qhd9qBhmLxPo6C7USm8KzGHJWckWAplWdOD\n",
       "6DNQ1B49QsR4QXIuCZq8rPXtjmiW1yrI/eF0n2B/K6JM+cbDmy5i3qHJfGXKgHjD533FTDXf+YkA\n",
       "AADLQZ6kRRUsXwAA/lZYwJvU9K4Dy0QAdm1wbdSFmJ6KJqjK1t761LZxKz4gcjB7wSja+umwJ62d\n",
       "qYBlnnp31TmFBHRfklTjUP6ZMLQFoUzEUNhR7wrljSRidAfHuD5XztA4g6fkjr72aWXs9qMm9/WY\n",
       "/Iic1dyhHrn5B4ZlWKE47WQE6kJblUVOPVccDxNcQyKY9CAGtQRaARFfhh6TPCLzVVznjWS8uJ+E\n",
       "1O3PVZUBYEmeD3yN2Fnu3KXo6uvUpq4ObzBtbYQ2h4vdyIEAAAC4AZ7FakX/AAD9xWfVmnv99B2d\n",
       "gg0Wb9fXlIH/u7p3h2kl5BZ+/IefsoYABL03q4/YccoQ+4elp1cDP0s4cJi2jCseELDs2gb2DW+V\n",
       "C/QYrx63IIQbXn/xbHJEZv0ezTxwzk8F3RfNJtZL7LvK/dwYsaIYCsBfBrlt1JWxq2oYB1ZcV7Nf\n",
       "gqGiYQf0xUONhkI/V0uMWBn/XFfAmb9eo5qU8Hr2x4S8wcxPGXiF6MPGaVE+nYiEELHFUQAAAZNB\n",
       "mshJqEFsmUwUTCf//fEAAAtbUOWu6hR66NVj5TCNH+ev8lc/Oh6kzrLN0RPJ8Y3bhABD8zbFJ7Rj\n",
       "c8TJ/CChu72N7NaDOBc9Zr1JO+0xV7hM35+KCSRPhGv9mSeUp9SPyP3NkK//nG2lH9tio/moZjau\n",
       "pUoapS6ZD1u4USimjfuFgKz6DbKvns7eS0jWNru0/Z5EjJFJf+udh6Qp+9WsNIN1CtWcNuIwPJMF\n",
       "mbXr+Qi1mrIrEXw+8TswOewNLZGNS0HoV6JiFvNfHqjQI+/H6xrPRSHSKouMuW8h/j2fIuMOQJIS\n",
       "oRVKZfBBMtYgOLXkg1K1AGYXDezrCvuLLl0piiZZ0LOFD2c4Knm++oSaE++suwB/vcndYYKKjQ69\n",
       "zcRM4IHyCjPLPNgfF8xRQpznDxNa9Xs/a4UIrs14PUomU8tn/Wzyi0IfGpDa1aqO2S2r07hrA8wq\n",
       "9WALo9f+usBMMrap8R3qX/nI7u7qNi5Bpus9XLt5K1H5z6BbJUEpRXnKdA6Apx/TzcHKuojlrsWy\n",
       "WtnxAAAAsgGe52pF/wAA8p2MF0oLFIs1YMcJGK2zFV6ETdEShBOMAIUNyEN7S10iGEJUKZjiqDAS\n",
       "bhi3PFZk7BzzXi3GZYmjAvc2RflaQ9nQE7gZkcyghXx33xrt3V1TzVs9ZFE/mCD4oJ/x9lrR7OIW\n",
       "77QrlMR0fgv6hV2oFL3f3WfjrjZ3BzjS4pvAzuAKAP6Ho8AuwQdsqXqGwXtqRaTSPBj4H4jwFjOU\n",
       "ZRPim9xjzN3qONbGk7gAAAH0QZrsSeEKUmUwIT/98QAAC+p6gNFhcWsbVdCLkMN23HzTik6ceP/9\n",
       "dH3wMmJmx+vM7xC9DFQuW02Y+fu8X5mO7ICsCfPl8rACZwu7gkMtUmSmbelDbgZuoG9LkdpJ6rIb\n",
       "O9t0a858KsbiV4VfENNcDbo0PpCbzusfI1UyD5789lBqx3opsmN9AVMd/Xs8ufURypAKW/DScjD0\n",
       "u6w2QVYdVXbNxTw1SXU+8bcihv3R/5jm+uKoEvtSfx+e/Xw07oZSpO5mYI6EuosUbpMJJRsUYAd6\n",
       "YCQzZVdmXSDBgrFjCJ6FaPG2a2OGvOgPUA6Km0Zl9vD0+6vbtJl+WFiJJy+OXZ+CyScHaGYq9LoS\n",
       "clxPNEgdaXMEotBHItxnGYnO9IEJmWRSXO5U1bsHMWORL11SDyqsvmdiTeeZKjTU+UXIw7Ni8Hix\n",
       "kImU4nS2TwgrmzQnIuSoxS8qQqMtCdl5dgl8u2oR87oIDeXjF235Y/ZbOghTtzlt0t64hD6VkStp\n",
       "xZxrRlArv/xk8VzwlxwkXEqOIgHNRbORmSZho628PsbTkXmTJuk8tTLgQkngeujP1xycz/jevuB3\n",
       "ZrHromZ6UQ35kBXcoQ/lkVgQM3GMOc1LVsGf7naRNAdnqQPrzlz/Mr1+2UkzZ6b1gJ3RwOOspcSz\n",
       "PPd6XygAAACvQZ8KRTRMbwAAxCDXlSEh75lJqt7oBdysCWq2fo+3uzNjGcYUxW2LlUyP3wRwXS9J\n",
       "UIIJVeJjnpwVQPcPHVuoAZePcOs4ieqZOyywQ3wgjEOM4YDg4VZr9/G/vUZSq5ydt9deN2sgSaVq\n",
       "qVoYrnCJtRiIDCOsU7IvVEIAeBPfhku4S10wjbuwLhHnqeBhE3z6nTrk7OCwlplJ8V8KLrEfCxAa\n",
       "uTdkesjg0g32P4IIuQAAAJgBnyl0Rf8AAPON+X0sFFcRmRq0XaZncQ+tAACCYu4JbXgfoMOsuqsv\n",
       "aNqpvdxscjFmcU7cBHhDu+TpemgX9mVJ6azyuBiJI7QY4XQAcNTKYi6dO9e5xDQTvdGSuvLdl7W0\n",
       "hJNs3vHSa5HqOmx/P7ujSzR1TT8pnWGFSlJEPtcbCWiaF0MnrKUdLMzljC9H038Tt5QzSL8C2gAA\n",
       "AJsBnytqRf8AAPK9AHvIvGxGS1AYzqahZJr1nd+MGHXVp3UpACGXb6uBR0SnsmvJW1+j5EF352ug\n",
       "KXVaCvSlQIh0YtzeUk/UZv07VPUNfF7/junNbCkvuamE6Ruf/1Z/o2iAKYuGAiL4ZYmDNOjOaJAY\n",
       "BSTAsgP51LyWBTrUPGEXD/bA/uEk2Y6OZo277vZlR4J8J3AuUO5cOR4KmAAAAZFBmy5JqEFomUwU\n",
       "8J/98QAADDkgi3CAD58sNAInXdEU00wcuyeEzagXw2UlHy74wC5uQmBjKhhPZConPuCMwAL+/hm6\n",
       "hfmu5+Yy7pNcWwefPojB5b/ARcYwaZ9bo0U8HC8yx+dpBcddnKqhgmdFCrORJkSvLIOqzY7Du5Qz\n",
       "37Wf0CLkUDztz4A7AqOyHrUCvuZ+1E0NUypKI36vCvMnOtZ60xVVwH8r7t1NWS7l38ezdWxJ3E6N\n",
       "XDB/J+fr0eMn83IjlpJUY3/axLDPwdu9lOOXamPfEehEtZRBdBztgWRVuTyeOgtZA3B6nwhS3rsd\n",
       "u2hbsSZPQJYCbNIfMhMBnAFIlmBtMO8GYdgXfszJDf32/VT4mQ9UwD9rscTWt4eKBp5SU6zSeFFn\n",
       "qaUGQrzlsgrVbiJqNVKCbHKKIrsF5y1msFAlOpqIsQSA3fnS6rgzT9qvRVuaeePb+bPAdZMaMJS9\n",
       "3KUemGuzxtIBFbU2iNEWBr774jbTXjZvVSqpBvNhawKs5eTH6/F4rUtSNsv20jhncQAAAKEBn01q\n",
       "Rf8AAQXyMXZDCIpz/AFCVTu+1amWmFGsS5yXaiS3R/PWSdtKdbkgL1WN9X+nFYUMSG1fo29bpfDz\n",
       "BaBJvpiCAXZ96UqjhyjWp+OMaRw831TSxbd7ywlyeUumczAYqgYIAAsh25kONhnTCH92UOjCbyhb\n",
       "UcF3ksVSw9OSDMKIGQr3gU6lqzAUfeDc+r0wxoNe7CoxZyAZFCCuGj7JCQAAAaFBm1JJ4QpSZTAh\n",
       "P/3xAAAMOTw2xnLvXyCSEzmkqrfcAA0Sdtf/6upuEJtEAry3mXgSdT8R8i8ESH5ZvnfHrcR4SM3T\n",
       "SjTvP0JxRLbH1ZPVOqG6Mk+mV+9yCl2zeCznaTCstNGV+FcxqzvMdw9BfDArYCXCfzys/OVLGLIL\n",
       "mBRls8DYS/j10C0RmXLy2HxfiyunUpb2rrfxt4lOtIt32QfSn5Rq667OKocdiNPqZzQrvsTdGsbO\n",
       "2mA8NUDOorOQ0+MN9Dv7m3gYipjxQsH/erAUBlWqZrZ8v6M+UKIXoN65Kd3BS6JK0CrQfd7bBiEa\n",
       "H2q1doKfAFjr1Thi3C8nkvK9n707CUbSAm/58SRm4RVwKe8wND+EeEKMhZBLhFzDvbdL5UwZVySo\n",
       "63V85Kgjx1J8lj5TwLnmk2BAHxlj4iXeXEfXezuY2hn9zYZcjYbGFHXwrU2wGDRqqulGdTzT36sh\n",
       "5rLzKAQE6Ud39V7E+PXix1Ea7blE97oY6Hxq/4PffRTqKAxEArhUl/lCkqkSyvRWzVtRhtDRjXB6\n",
       "EDF5Xj5gX8EAAADCQZ9wRTRMbwAA0ntA2B8cWGEsKqigyFa359t5L3ifKK+Dh6JdPI+Uu50k1ECU\n",
       "qvmtUI2yHho1oCoOkdAJaaSwPBB3PZfWfvFnof8sntLJ8CWC0kVNNwrvW13wq2jx3tCtli74r+J9\n",
       "tcRXQnNS4aw+HelvAfNN3VXBmNmWHD5238j+3xXPUY5uvtGOyzKjtoSvWk0m1UGXxVTLPQ0rJRKE\n",
       "ksXER282AmiNceTySbq6sMOCmI45iq8IpgZmm8XNsX4KTugAAACFAZ+PdEX/AAEFCRsccqb/asCA\n",
       "KahczyeN4nxWWq4/Aq/sCmQMNfv0Zclzbpmw17NeCcabvo0WUero5DWuRFySctFmJ5foh+8DjJ89\n",
       "BSMwHga9IQTpuH/AfqNLIJrlG3S4PW/8Ycyiwm3jIHh5ZYLrXuS6DT71o5+gqPxscAO0XYkiKXBX\n",
       "wAAAAIgBn5FqRf8AAQUleU/6i4Pt6mD64mBLJMKZ3RHNxw5rL+hRlc6cevKe4V4l8FAPHJ33LSQ4\n",
       "mHdLH0Hzw+P0jHnpEUnsUd7b5cGy7dm7j1K6damdmav+MEjmRGgx89d8AWe4uWpPPHqW5aLCGZeI\n",
       "bLj3uqFQfcAWIfe9DGaz9XTb6aX7OH7B4RbNAAABhkGblUmoQWiZTAhP//3xAAAMiEuWy36vspRz\n",
       "keaEjwuUjh5uV1lx9VKHn/3AAGysmRlwZN8IYztd2rZptzlGCbtLSFUpJcTnOD8zbetDdCvNUegN\n",
       "vYPY1gMFkHyBhJX7kgO7S5rJ/ZtDx859eI3sySo3xGqSdyLTtsMEEeBj9LoTDJyqan5Uh2M8e08z\n",
       "z7WZQniWaNt+bq4lypnptMf++uXdlWlsW7b+SHA+G5GK318rkt4NBw78rjzBO3ECQeUSu6ICgH6g\n",
       "bVVm+Q674am5MtvF88YJu6f9Y6VOeHOjPRUuxnDH8kcvsy0VyasgRk6STcNsR/H2wJp6T6d5rc9T\n",
       "QugbvryeS7iJ48HAmAMACPLy7augJG/X66eCkogAJJuOAJ7hk0c4gAOCYhoBOMo3GlKQT8ABwPdQ\n",
       "sqXMr4ancoWmokmRq5ELw9wSI777rb7mvaxMBnZEKDRd1JJgqPHT7+jEabt12yFTXxkfLd54/0z6\n",
       "rEKm2ChHbhViLZdrSBnm9klIQ555NwAAAK1Bn7NFESxfAAEN8n1Dtjmcs5gZvXOmAOUuT5ldS1Ny\n",
       "TO6vo0C8XwGFvJDYJx6TxK+Yuq+mElg5ftvsk+Wh9tjRfUPwQ/gBHmryPuLfozRH6BmwX5G6HlzT\n",
       "BpxpQLWpyZTXLAe46AEELLgue5ymRUllvhPWEPK/sF65IC4pLbzFrQMShQ9pWI0QoTd3l5nBgl35\n",
       "geWpjfwDbvX4+cPRqgTkSrJe4npuCfXD5uYekAAAAJMBn9RqRf8AAQ3xa1ucXg0cRJgQ3OXdUvFO\n",
       "SUXiTz02aMAjNJr4SQCl5GG9ZkoU34YA43pcH/DuzP9zYY899K4NaPNAQFTPoqgYmoY78aNbPSMS\n",
       "jXu+z5fcioSzCbOU4YHYUy4ABBNcGf5aQs5HTKIZzMQcdMLJXTatWjPztsCvkhjDD7oRoOydXu5l\n",
       "qT4f9Vq2Ag8AAAG0QZvZSahBbJlMCE///fEAAA4lo1UnxsjBazKe4V26e2KxPUKtH4ByhypGyQu5\n",
       "T6Dh36IUQLPuEFJv61+uO6fRpvW9StzSuPKLBdew8grmTclH77I/NZ8j4XW6t+KkRrJGaZgJPNYV\n",
       "D7eC28blgTP4viPMKoYW1Hg52hnTcAShyR4qcgn6/PEhxxPuETSLk9ys2Ltb3M/OEOjXR5XbjLp0\n",
       "DrQKXbO2Z9/vQEAcbZO4pApQuoOl/EzNHSRLteniE8cDAxSs7I03octPjZZpGG76Ah1i3+0A6i63\n",
       "xVJKHaH7BQm5fBEKVlGNiBuc8UiBu5s9U9rUHS3JMWiC0VZRTOnXfA/JsQKVinJahIlQOXItxkCT\n",
       "GB5yG6cBi+Fjtxzi4vUZgdY/mxl+i9t7DWfbb04PiMLFIbo5KQGtFfBndzA7h41/GkrImixBKDJB\n",
       "09fTdxTei5KwTudWkIHyYkxtqzJdRBcwizAGIuG62EjrL0T2Q9erHD8KuboItuMTa23P1LZabh0n\n",
       "tG5cW2fWNd//mnPxRLQirjiPHsIbF/q7W6FvuStBt0Cev6g4xJnz1cflrKCr/5begAAAAKRBn/dF\n",
       "FSxvAADzPYXhX9nUSR8LB1Xd94hXTSJtyY/Wp3p+ApA7aMJE83dL5XEudbaUnwyn7n+BDZlR76fP\n",
       "h+YjFa7OePe4YMTeph+so+KwFjFhfEwmKqtCNxocnHYkpECcNaIqXaYl2qgocNufjQANU9b9MMJQ\n",
       "bhBOsTERASZ4/45LW/bOoXIvhgJg6jZ13QJHAwzi6LBQRliQ3XmaPjYEQ8vXgQAAAIwBnhZ0Rf8A\n",
       "AQ0JGxoclukW8UUvsIl843tFczD4EAaNEFL/cS0pWRRgidU4Ehr10rTuPr8wvN9NBb2zEy/Ui0RZ\n",
       "+YDB1DwACCTqgVjygcSg85djmVkeKxkGrovQOemRr/PUepC2W9u0aM7HYJs1NgzhDw9C2yjJHFD2\n",
       "GOODQ/6m730noWckVE9ljouK2QAAAIEBnhhqRf8AATX2NGSlDIt0cHTa7+p98SmGJCBSd+6B6y8V\n",
       "txxSOo3r9trf62P7EBFyx5NzIMSb3eXbEfTB+yGqFrmxF7u/CBgfYVKAsmnM0C6mqkcmxxuZnkBP\n",
       "86jCRIo129YtCxz2uqH2z+2a0n7mnmorIQ8wU5kqA5XKJ0RsvOAAAAG+QZodSahBbJlMCE///fEA\n",
       "AA5+h0GfzOHk+g6n9jyeKcPCWuYWU9kVw7ucVw1ggCB4GrvRxJQSogI+tycs/VjiN6zyrcA0k693\n",
       "1NpQrZQiM6y7v3h/FuYi5wOoII7qVD5/BPLDlFfHu8eD5YXptD+7HFrCD0opR7e7HhqYVl3dVSfl\n",
       "BtHTTlR4Z1NaUavM0dd+ZnrQFPub02xKfi9PvdIUD3L27GhyOE5xyiIKhV0EODnIyTcEAMm3E2iL\n",
       "GZ9FGyDdt3R/x9X/YcrsmBKDrKwjB6ceeI7Fbp0RNeyld5Gb6bV++BWytnEyo+hMymU4i90r26WX\n",
       "XFO/uILoOxlhe0opaYsqcpqWbr7wqQTzHjG7a9EUc7Bws7CN8Ghad8FNuJQYlN9Ajg0YgCy5XtAi\n",
       "nWTeTh+ujVxpWFzbcimAf/EZufibrt3UEEqYwky6m5lDzy0fGo+4gS+T+/zIB7+zhGjyEirRhlsm\n",
       "F/xkwHUWGaQkHAqeWkLdCrmN5GJkQdT0jatLmVpPRI+C4Ehn85voHE0RDxVSVqLZedBVPHHQ7OCV\n",
       "+usA6vcxDNwzNiReIiymRzLPZnVVhISnqesyZoJxonEAAACzQZ47RRUsbwAA+DD4G9eZr9olPWMy\n",
       "S+UYwABMkkvHJTML15GaW8Vz/TIP6g+HdyGSq4Yf20/fEtTmGJzc4uRgDwU81IKFt5cZtxmCHHXk\n",
       "RIZW9zYTeSYGyUZaCl0YGhDQWJts2zjG3UYIT7pUkjBrKZZpE6byTJOe4zqEVI+tySaLmmfg1OKb\n",
       "4Tk913rNFLZKpLjyKsblZ7Cpsjqh4rCOC97iX/SnjgSYTLiUaPVP72MgO6AAAACQAZ5adEX/AAE+\n",
       "0trcIO9VOKJq1GYMt4yXdDb4VgBp3sUt+iJrNbIjeOy5DJf6+OFwYeyc9iuIUV0iybX2a2VUSw1n\n",
       "wHi/q+5F7OdiuTDoPkUObc/32WxnCn5gadFP7//7n+6rUOKqRMMXVoEFxd0XxC+t3pBSJ3TCqn42\n",
       "/xuCYebNIygX1rySgk1w4jWJSraBAAAAhwGeXGpF/wABPn20G7txJLEzXnlnHkHcY9A897Il0G6m\n",
       "SFcn0dCVJ0qBV4lBew1AYD1Dq676rEAp47Jzuwf395wLid5y2EBMIiYSFuQIudMNSv37ELR04s8E\n",
       "TdyjWzs4kIxdHRCQj8sXF0+fhCibhAO95D1XWVTrQSoUIQ29ik6DpNyDwoui4wAAAcJBmkFJqEFs\n",
       "mUwIT//98QAADnXXPFh3Tpd8pAB+9H9uaPD6N+ABcZraswn8dLPcD774JFdVELcL4pC/PmjTUyjT\n",
       "z4CivPzSXJkMd1bJBwZuh3dIooa2p2gQro90LAt+d+7LLN1fCgkPS8V2tBWuB1ZZrroL3pLWfRs/\n",
       "7XiX55X5GngUa9ICqOoJESIcS7CuDnxO7QYg5NUXM1mdV4Qu7Tx4bqEmZSV3J5fjU3zRid1GPjCF\n",
       "nE2Ua8/Lo3gZY/XhTQ5lzPMgaW+hkqat94RNxLzgLiWv8huph36+5K5429HPa6ue/9MJPbx/i7si\n",
       "+gMys40ftD3WmuxBqRCK6zefjdmQcf0IrfgZH083IuwwWBvWDIzaEYxtKEprJD8r5lpHrlD5Jybc\n",
       "LhqFJAhu833arIVLfeZuuXylQMdcgT3y9VYrGepdyBOVT0Y6cQbdZ5IE494epThcJw9aNdJcPEx2\n",
       "NZN6r436LMerrNUVvRDRTuHIc+EIYpoRkqKTiEG3kX3n73B3zLtC2ZBI3/zeV0ooBkhZ8arkoOyk\n",
       "sbjbgcd0SU6gYmg9Dd5+sCvnbpHDrq6kHpoqzsNZW25RDjCdlZgocMC7oW4AAADLQZ5/RRUsbwAA\n",
       "+DEBBDCVob680lqFOzV0YdugXCq17/5ZZ3Ofa44AeKS76OTfJRsslsQjiTn9hZQOoG7ih8tUbI8R\n",
       "t+e/PhivOJg7iHHVViXyW7nY/2jrhsc3tA/PbKjUi/gg4KrvPu7Mtv86Zk7dm6qflRRUP+Gd9trk\n",
       "Mg7PHMi9BzETLI8RhgWjYWStrKiKQMeQtZBOBr1tPGb0Agh4CFdYjWRp4yTLHW32Th3LUzSuZI/1\n",
       "DdpDTUDsijefsT3UwXwWMPsq0HpbD0gAAACWAZ6edEX/AAE+D1i026I3ZS6wwpSenUDQZ3aOR0IG\n",
       "7o8RgbrJb140vWjfTZlkB6IwANjIgawcCJ+jMicMov8BpOttYtLe48R+y93Dn9lPqsi34LHmOZTV\n",
       "QgvYjD481YpvtIUxGFy8AAgy4aAuR+EqlP5t6IlCMMwIvwaO0vJRBTBKF4Ivpv9Zf4iWfozcX7L2\n",
       "gwu0MB8xAAAAkgGegGpF/wABPvJ62N3UPY1C6g6qR3JXIlKIQpHg2Ea5X2zAgMIRDymaHF4roIIq\n",
       "5cvIgDMg8SRO2JJ1EDgvVSs079H98bDBXwbXzO9yJGINBHs3w3+AyhkZDp13UxqC/FLV7m5xwHc2\n",
       "W/SImbW77o8uLQTOyy86QRla415NE2NPKEDG/accdMGLngnGSIqILH90AAAByUGahUmoQWyZTAhP\n",
       "//3xAAAOecqWC4mgBaqmh+lSybGuIK9jnkcBwnbtL6SKddcYNjms2x7hnSsCSLyLVliJEzizMOXD\n",
       "jnqFUlFf9Pj2KUttcyypKiO4BhX1dCD+T7HMgevG5V2aWA/9UuVLO5jPGsy0WUsHL8YhbrTkbAkU\n",
       "iro6ciMuCMNuDVPmX/u/fMyKCPcjcCA9HEUjrOwoTt9pP1xNQO5VmczGonY0SNMl6BjPSIm5dWk2\n",
       "ctrM7W1LlDcQMl7ac1l+VrC0Z0o0kLsSMlig4NOKNbae9oF3qhQHiWW5TyiWIlZOdH6+15pnW8lw\n",
       "YycjZjiP8ehwXr700KeIYfFKYfuBVn0dDx5mPOsaL5GmendyXNDZkfVd2BW5vB1g4pHhomm/51XC\n",
       "4/3Z6EWKE9nEq6WCmhi8Iu3Zmb1ktqkXtqkIc+1Wcy13QEvpz2/ZM60cMtlnxtJsxNsWn9ie+RVf\n",
       "3cd/Lk+iraG/KdyHjz48FOqmZ/+EEqjSECRSA5CT0tbfBUZJZfqwK3Hq/BmjdbVD2/azOXL94IE4\n",
       "mZ2KCznAra/l7gxgEluRKgE3EWngu6r6VmV8qUfsxXgeWkYAPdd6YZUpIYDQC0kAAAC1QZ6jRRUs\n",
       "bwACs4+FmaD5FdSJ/c6wI4wKV04WUKPurkDN048Kh0ry2thm5U3q/95gRwt6oM07Sg/3yYec8jyT\n",
       "1NpImAHEJvBrDJUNmcMip8DiwY2KBMVig6cqmqZgBjhMCSIlTqHLcmGNKaj8O8MKpxwSijzUgjYJ\n",
       "EWvpPwIjLaYoD9AdhQfoVIMjZJpcLLSOmr3TuL3LIakVDIU84LesHLYlmYsn3MFSXNx4CnAG0/hr\n",
       "ciWB3QAAAJIBnsJ0Rf8AA2GV1kgIEDhCdXkCbjjY9MmPnqjv+k9ivk3bSc1qybe3xlPRxMlb1Twr\n",
       "bGkClTb7byN1nlG/lr+JodEfS/INDIMv8F1IpzFPAALIhEIdS5jmLZnqF+htIx1PLLcEv6YNr8wx\n",
       "cQxO6jkj8pojuQfmBypKPGWZyx0c/IZydCPj2OH/qNOh0pYwdABQwQAAAJ8BnsRqRf8AAT7NGr82\n",
       "GBw4uVPPVxnAG9d7XVhkpcBNM7H+fsjdRNaVC85HoyT70fzXBarhlfXzgja6Zs5sb6LHWBHPGs28\n",
       "Ry1I/grnCpjfHzxDL9RWhU8D+B0S8wye8WHljnTsWvCVyMiSt6pv1uVx3tCK+9PrhNDgJlK7h3Gb\n",
       "7R6rl/zNl6ClbY6/5vmz7mO697c7mcKp0T9XCpdInB0AAAFwQZrJSahBbJlMCE///fEAAA51puTU\n",
       "rauOeCzfL+BIbrj9T9ACt+oO1iiDyEJR+O1yWfRcI8+kgK86n/2jMWqpcwvMD9uO2dNMv8LeINwB\n",
       "h7q/WWMDNwJCyx3WZALurM7eMm3utxglWVJsUgNoabVEfiI/7LF/oLNUXzTvfGd6e+mSD6yxjRJQ\n",
       "uJ/FdjyxJVX+v/3zBB+SsUjt/DEAIGv+zjcdyQZ0JfOPdffWbxvseACFFIumyZ1M7BkZQMtUgvvF\n",
       "dty54JWEVLddqYu++hAhQgvHarRxVPwg3S0oYbxnL/sEfMAlLCsiHCXhaXpTLCf+uFGZHQbf519M\n",
       "/Wyft9e+P5soRNqcZACoB1HmIeKSj6fF6t5ROtbZGXV+jku+avzThHZaA4/zgXDF9HdTe6T3KMVc\n",
       "+SE6LJlBqoujYYdb7rZ/XXw/7b6luu3PSu1IwbtlSqr6SggzP8jjgbpphrn1iWR8whdFU2be3ynC\n",
       "SdfpArcAAAC+QZ7nRRUsbwAA+Clftwm5mziWeG7+fKsSm3JOALGtDkErJIgge+REALGJ6Lgy4vvz\n",
       "YGi0aKyS17ZqOEqOEiPSNnldU0N5BWamGmfL+MCIOhMMUu/n1a+Uszt/H7VRlSJ0ccxvv3AiukY3\n",
       "HXoJ0LGtvM7GoUpC8KAWBavO89tCOaMHIDNlAkM8zSh/nYbUkdZfNbLJGTBBCZZe3wP/HkMAFSUr\n",
       "n7bl4dC5HgRI5VsZxqnltyo69JIJyyytU6OMWQAAAIkBnwZ0Rf8AAT7TUWpoYkMmKVl9b0fiZSwZ\n",
       "KtKctt5FGRHkMumxviIPF6Xy9tC2289hP3I2VQk+UBloFBc2OAZhBTqTYTzHQWdvTxcGlpRqmv97\n",
       "KEAuCEgYwtX0IgvgQ1nyhKAzLOKIKA6M97J/hzYuVSFVHgBNrffSZPPB4gcNyeKgaEMUCgBvQAAA\n",
       "AJUBnwhqRf8AAT3l6dIMbJVe5Bbl4omEErC7llH59C5g46MkzS8GArlnK0FwvFI95ZFxnE8aKcKw\n",
       "ApzBbXtRl7j6EMI/zHmaiBfzks2jR2grT7sio4Oanu/fjiA76pu2zBshbcAIHk9eET75jHT4mE3u\n",
       "CRfk/Q/+lFzer9vBP7huFveUH/4DsowjyP/KQ0TQZKLUF0wCpgAAAVdBmw1JqEFsmUwIR//94QAA\n",
       "Fz6arTf1SIJJgYJX9ACtg6Pzv/GL2ukYv4gmv/LYBPLayNrwSb1lHJl7H1KDNqZyWizN+BgnvH+9\n",
       "z22Lk7Z6lLPX5LDstoc3wrZEv2jM0MQbPLpgbJSaFBaOR57PKU+TLo/bAbZIeQC5et5PfR0OPQyY\n",
       "8Nk7TBAGexW/cUNnV6jD/GOqaErGdJBMn1eXlcPGvpxRCG4qXRxHwL70NVP00mYNyKiQtHdoUR8l\n",
       "wUzGhyMqsZUZrpfLVw8xGUod09gyMZFN0FmV9+n1A9cusBfCsjEBVBlFkpYqEulTAfTSrGbEOHuY\n",
       "2yTy/HCzGY52sY87K0GaoeL7joRQZVbZIOL9w5kiF/X8lde3mOFUJjDD7vVculyhTtyUtB5U3zE3\n",
       "tUkLk72usuepLTzVaIi7/aqewqjq0XB7bA2oLkWJQK5eMUCPH+EhuYYtAAAAuEGfK0UVLG8AAPir\n",
       "7NVZ+iL5HGjsOx0TPDAA9S6hg5bRR/VDIQODU48XeqlzA90Fx2riOY4naoQANiMQfpyb9Xw2oARh\n",
       "UtLVFc8Qrr5hgXxW/qm9wD4uZq9Og+9fmPgCwIAaHbg486SDWsKphWjCxBzfU2bR/LJzkgZCFP/s\n",
       "z9/mAlFHfJpy1Om9grmFkI9/OydXInfszY0njEb7feGdZcL7Xq8vivbI88wuh6KRGanUoZSAdZTf\n",
       "AnYAAACYAZ9KdEX/AAE+01FqJl5mDdprqpoYHAu/KzuOFsqRxZxXuKJvmXervST9ubP8LAlyARTw\n",
       "q+O5NTAZUuQxr2yND7vL4/apv8az+9eSsw7n9CvCV18Zo3+DRzNfv6xbltx3V+A1QMWpT2M/dsOS\n",
       "BFz0hOZ2jALIWFQPn23DrUyY2+WRZ5fUU9Vr+YFvhuIxHjip/yITcAP4AXcAAACaAZ9MakX/AAE+\n",
       "udyO+LiH05Af9P7USCus8AYuw4NO3DfCmr2uq6XAHYu3qAEH5BxJWQJ6+qoNnxj+p4MnS7AMmnLc\n",
       "CYTQUnCoIrj4jN2mPbdaM6fm8grFcSp870NsBXc+TqeoabXrkHLjJx9xPCsiyayvnDpDUqytdqbJ\n",
       "PdBDei0MhLhefLe+6+oWp96fVRjhHMWRiRi8JMhhWwAAAYxBm05JqEFsmUwIT//98QAADnkbvhYe\n",
       "XwdRgNoMCOAAmVvfZGdwwWXg4WJmLEuQ2iXb2sbv2HeDEG0cB6KoqpKEO/in7zogoCfSjO/P/1+H\n",
       "39o65Kr5faxCYJPZztqRfNV5FGseIsUq9MqjjD2Uk+hB/5+eW50oLl3TEj+xslfemI9OodfZrQ26\n",
       "VSCYeBp0CW1avnotbZ9O4TYP9h+8eK4Jd1xPlFcMRSJl/XrS7UnDAXgsa4kWFJoy+lplmQS746FV\n",
       "tjqpeGyefOwPspiSDdlozE6NbkJHIabkZy4r7Us0Yol+vJ0NiIeWiCNe/jiciY/fm29y6sZG2gUf\n",
       "CQg900A82lEk2ofcbLwrhQXn6k8iRrocS1mIY9d321ZvwJPXBWp2XKrcsoSRHUI3tBInYTcMi2+m\n",
       "AJMbN3Re44Whpdr6V4PFzTYfg8hqS0GyZewt8/kRXyTLrneKg0xbYcpE+d/flqXqBHo5kUz1vy6K\n",
       "5aYCUfw9adsxPyCjqhJOTa09xzVQZkT8JBCuaXluer0AAAGIQZtySeEKUmUwIT/98QAADo7/rL95\n",
       "wwFBQMsERWiVLcQyPDgt8ub+4MXFBxmUSED8CtUANxP/LU0WRP0aai90cZ5OQhYJa2nk9QIVHxeq\n",
       "QNrYpr/8FAKr5kAo8bJQGq/OnWFNKlHy/UiUfjB85kjoZFN7qSnU6gPaPhQ3azDJ//Q9jK4oI+5U\n",
       "bHpJgvMnfzoYcyXpayY6SoGvuZ9VuSFKekhbugdbSuk6LZPXTVs048/0l1HsaBB8Wo1UPMXDlBBQ\n",
       "xxXdq07BY828dMjMB9S6K1HNEtvpiWV+hZ1ArufS0gK8w7FR1eCKdLS6gtP3IoHAHT+iP8vfMHv3\n",
       "IcQHV8YsYgAUtm21PAW4EPkLSrdNdeabbXYLOi3auYOxkCbunmwO93KDvO8a40BLfw50VtdUwftB\n",
       "UKaq8vbuGgi9KFIMUqCHXf7ui4WI+oM6qpMoJTJLvT7D1xwxBxrJ0GGsNOZMvOVhng0LQKnLevIW\n",
       "5YjDHvwXPpSuSFU2jjD2OfPtKrfLXXZ/dqipA7cAAADZQZ+QRTRMbwACq9rgdYh89k981Gyarf8l\n",
       "XP4w2GodJRUBxcnaYnh7JqoHTvXnPNsNfCL0ck6tcLfBPu94N2LvDuAATI8V/RSuNduiDDxdI0Wt\n",
       "7rom5uJM11wOT404daikIMBbWT/MRx9ojEuS/Gn0X2dDOlFna/WuFhSnRsv+o4oIGGcj4/H8QlFP\n",
       "rZXwhHZDfgak4MfJ3tQupHNeZlVkXQYs6yFtXhb+nuhCxWJ92cBUphhWAmNyEricPILC4Tqom9f/\n",
       "U1xiP/BI00DVzriNoCux2sUm4KOhIwAAAI8Bn690Rf8AA171gnI1eY5dbyOEI7gCiUGxsEcxXvjg\n",
       "iHJcUU9V3qdfpSKogb4fehS4I8hgdRvi2VA/rwXlznu7lgKQsnnCjMHeqhMgoHRORYUK76E7R/45\n",
       "eS8Herm3XboZr9DlN0TiKhIvGrT5IBJ/0N5ltUV4b6zRum+O+mVgW4UAVggSvedKtwA2Jp+ATgAA\n",
       "AJcBn7FqRf8AAT4X4rmSnp3URKhwAwHWoljN2m/7C2pud8RrIKRVdeQERCyFLuDte3d24yYefUed\n",
       "nBT7EdMDK23LOawpGfN1BDkXBIJ2Q9FRIduJZxX897B+3vWVCyAng3FDTL93F8fOpjiL0iirwBqT\n",
       "GcyIMTy9w2faIX2J4L+NurPQ7CH9AexMyQjDkBTGXMcxZ3KvJAcdAAABvEGbtkmoQWiZTAhH//3h\n",
       "AAAWzk9yx+OoI/EEQJqs8vgAIcypOLzNeTpmo+aMRtsaqMswYiOHAHsEK6TVp1W+lPf6RtK6LuRr\n",
       "qnKDoTGrpz7CN6vb7XK5iGJ7HQV1cToxQwR34oGVNjd4QXuoSP1b4ALdhxkWRgFbsmXRF3QGuRR0\n",
       "vwNatwXpk1akZ95nZFjqaUBcS8Vd8V18k4QDQSXuZKBiMIlLF6a0K2M5cJRMjc40U4fdx/DI+x1N\n",
       "nV3Y9ST+cQxJe14x3vu8E+tJag5eA1LS+bVmdTiKKqc6N2czo8eyQdF5hfPIgi4BJm/ADEJPN+U1\n",
       "aqds+/tILXtiDqHYPwTr6TzrV7mOzWKZV7QktLs3ioI3nC2zgP524HWyPjWwrO/MaOyR8tSYtYVn\n",
       "O/0qbb4qnVWnXo5ULdklnd3JyPf157j/Yt0eftk1S//BEDdUKa95Ir/dSCCzKUG3f+W9UVuHyhCj\n",
       "Blr4cRktTkSxf8K+TXz7FcgJ7Y5FGnbB/bC4/oUZtQF++o1X0sIsjrSZ2Wx8FEEQKpFT/0Q+CHWx\n",
       "eDvFJydljiJpgr/msJAA7WoVQSTcNPPRTe7xYlgyYAAAAMZBn9RFESxvAAK0VRZuDIcXNXi/d5wn\n",
       "vLXGutH9GbiqJgEnaUZtucYJ/gKwjk5ziwu5ep8lPJhkC57SNr0yKRX69VemoTx08wNmgud+dU3o\n",
       "unPkd590TPnxQea+vllcJIHu8i7QHOMd+2k9iTQuOkbBlYuGoXe+mzWhpLqPReS3/C6rwGEfBLW7\n",
       "sm5in9fpmaXa9M5x4yRdb667N6HW/WNDSYwWHrmst6jeIxh2Z7lJwwqNzAt5GvREtwZpfi5bHDqV\n",
       "SmNiQUAAAACMAZ/zdEX/AANe9EsvT/pIRudwWPeOPK0TxAQvfQ4MUR0QR74j41dw8MIEMQdnxb0f\n",
       "ExyqW4PYahIRjJCbg0IzIwNDi7UJtVZxREJi/yO8lxpVEeTKapCDLt4YSAgby0mU8Z06dxgXgpeA\n",
       "r0/INhg1J2olLB7OnxX/nD7T1n83ofKXMAS4G+l0TILZqVMAAACmAZ/1akX/AAE13EaYnkbFCOTZ\n",
       "zFrTHcBmdrNXyraFOtQudbZlTaZbHB1j4xoevOeunuCfe1MTwS9/3nl8MteaIsTBfsAWPm5OAV3Q\n",
       "XbMLLlhNsH29O5tyqTXo4H4AakqfFgva+pFI6jYcmBz3RdCEQZ71sws2TOhD6qlpkszFZg2fQTcu\n",
       "HfN8+EaXSQhNvY7hN6d871LFogoYyRRDoThGwefSGSDKgAAAAbVBm/hJqEFsmUwUTCf//fEAAA3J\n",
       "PMEVtizobDsIAWQqS4lrScuN3Qheo5PADsUMnPiL8/ajFSiCcd6O/WZhmkSs6TEUDq49G8iNxYtq\n",
       "VksVeRVOTUcW729T8uyrKKH4F86DMiTLTnf8VPFIbpyj/XZmo7qtpRsSX0En/xKY1RwKncI9LTlt\n",
       "+liV6kxAuv+Cm2r2kIUGSUCYN8+/gLpA3r+ANS1a6osqAKJVUYeXxt5Jix2DVUITZuVBNsCuCYlk\n",
       "Yx9FwPujR4mLlclo5bCSmp57DDolEcagXaUSoPgcStuvZtXliqgGr5Jr0i4WkwGJrZBXfK9OziXN\n",
       "lEGe7N7ApZ4l6mQBiSckSnddZ5kW5Skd0NUqef/hDrq1Y6PpJxVCui/XHIBUa7AjszVMM1zhhFpd\n",
       "b1Llwkv569sUocULXHz9HTqCI4888z2JnEMon3sSm91Js76tQPxvwDf3yDYxR5pBjKuyeVVZ1mnT\n",
       "mktZ9y2i8BNFuv4eHZeHG0LouOWnZTXDCxqdacZbvXRLbVVsr6kzlNCA4lJC/i699JWAc72HOKoS\n",
       "vbbHW7iMgAtDyvkk3AnwMye9QQAAAJ0BnhdqRf8AA2InXAciJJ45AcO1AVmQsFItlR4hoZ1Zrnrs\n",
       "H28AGH38Iiwuu+O5KyTpFJ9CyGhBU1GfUJBonypx6FihQZHcuYLQ0W1oVzZ7Og+7YYiNIIhmkh3N\n",
       "CDmCWxWZgz2SKbjaaS0+TqxuLz4z+Ktxi//7qL2of+8FtqK3YnBPXoCG23vBxARhnYsJElUKe8RT\n",
       "nHwuxBZwnq47AAABj0GaG0nhClJlMCEf/eEAABY+T4arwngiiOhPOmD13Nn1qhlW/sfL8YeEzk/c\n",
       "CNgAxPwjhEg96I3w8WnEPrcczeHkr/Xah1sS8PbdXtmGbC+CLa9/0vQ7tb4txlF/dSYIHF0/orJj\n",
       "ATmv0kbTmY5g02svl9NMliCM03pdzm7a9yweQFS+qRHpQjAAdGyHFKW1Un/QlhHW5Gfw48NRPDU4\n",
       "YjS2G2P0VuzWf+9ZI4vgjaecewAtziHFx03795M0SR+l+WjlA4gkzGanb2kY5J7klaykZXLnuWM1\n",
       "ofEz5v2jgDjWDwHqxv5EIvKJM9uk3klc4hzmnDjugmDQmb2ImHjWixuXMcjVNebDADNa1i4awl6g\n",
       "6BDW+drfzHydPTNY0nT2TWvrbpf/pYS9ACTPmhUBtLRpiYwF9sn6qp8nFW4FxzfD754mg6c486w7\n",
       "YqhvtWKSOKf9bJi061IroX4Ehl0MtO+vgN7nzZyaPHxBeQkd7W4gVD/w6x6JEgRRhB2E5n7FDZCS\n",
       "2PAa3TL5oZiv3j4HgAAAAMdBnjlFNExfAANhsC4C2sCX6aS40ZbFBoAa4MPdv+9rlYgeHi97TYxe\n",
       "xhH3Vn4Xjy/0I1BGutESHlaJ4dWuP/8nxlk7U/P5u22nxedNm3NtTmMi6tOmdCim+aupQPfPc6dU\n",
       "e2fSm4A5pg+Nq5jqncM1veObeqNxmiF0NPwaWF+jTJuwLANJFHvfvxCRo5tGCXWc1sCEUXxl3+F/\n",
       "3JyAOAcPn4FZfikGLKBzJ35ZNAPAIyHEpypeXkY5PHUGRRcjEaiFtspv3KoNAAAAvgGeWmpF/wAB\n",
       "LValUQMv+ysVmIKAGrDuIWctGdpaq+Gi9ij8QWpVrTiBjJRP6QhBdljnjkUKhE2FOFysBmJEDfNZ\n",
       "nbxh+YkJJ8hHandIhj2ZET55AT7CNldizrYKqnl4aVyF0ZrfLNow/A6AhlkJ0WQ8sTJ4Lfy0Qq7a\n",
       "xnQMLmMkB0Kx/TfFkxf0gh+Qjj9d8zKFK6d5mNdO+xuUlM5LXd07zGfNuNc/8OJyKloDucFyioTc\n",
       "N848kVk82AlAQb0AAAFzQZpeSahBaJlMCEf//eEAAAfLygwn46foLzr4qGHPt5NAyVdbiET2Rr4v\n",
       "l/qM/tuKN1R1Y/V+Zy3N+SNqNxyhi9LqJlCG5BlWhikwk0euLF2K9+i0Mf/+HQgUswz+HcQDXozQ\n",
       "0dUo5hITHEHu0e1Zu21jYF5s0G8V38jowa/lgqBI0duBxD3bNFbcpig07eb0pIencJiIAycTela0\n",
       "qdQDuir+HFlnFAuj4KKptEb7LQR07l3xuwyt0NB4QH3ox7JDU6pehkeUiuwjVekAa8APfisOiY8E\n",
       "VxrzKmhhAEu/6Qd/eLLxn/3bhOcCiJXzm0xt+FfyZM9/ISlf1gC4lUDipna9TpkEVnOYu13KpI7L\n",
       "yz3XK/6Uz3P7nCygm8eEsRi3tKPIdFwpss+NrguimnCe0Zx9wjHrzoFu9gEWiSjs6JTfYvP5W0GK\n",
       "qrBCG34Dr/5xYkZ3Irug2yjWHIO3pItBVBQXSnRLX1x8W8bqXD1y98qJg2EAAAC1QZ58RREsXwAD\n",
       "YidI6mV8RezFsMpCxM1SdmVef7bMEKQBFPYqRuQfGzMbHKOn/g+9OLSHpup/kh7OVfHnFAFQEJWl\n",
       "3n4cTveUjIYTfr5IHMAkadQlc/4MdtRM10qMpW4JOMuTzuwKFO8g7EmqyUd2z/BQXZ+HEX5Fhtb5\n",
       "eIXZ9mj/qabQiB2x8aVdRJKCReK/il/lhrrv1mDVyvoG/qCUuyGIeSbeZgy4OLdVgRcNfsjuQ6+Q\n",
       "eQAAAJsBnp1qRf8AAHFcwGK9Oo/SwxoESgCqtbS7CJWzq3pnlHrs4V7Gbf5LsXmu/+rCMokAvW/X\n",
       "WGSjUtUU/DIGEWEpNiPtN0WlUVKGRxZ5V3n1NL06HHC9UrDemoxeV/m32PhKVuVhjgGOtvkZ/s1L\n",
       "EslpmuYcNMv/UijxBKy0UhKdi191DxjHqlA8fufoesdHlxYTh1DtUCevecAOmAAAAUpBmoBJqEFs\n",
       "mUwUTCP//eEAAAeff5xwV5APcOcnJ1voWhpAFYAltpu9sebXtvRv5XmIgeANL5mLHqg7VcKIe5VO\n",
       "vZDg7seNjdep5anoM7js0G2q3HznGWuvjeV31PL5SUP2pF0AlQbXX6s7Lw4h64dLlaABRQtm5D/y\n",
       "8Hx9REOqBD1tFrMGQmBBV5olgvIvrnCBIdCQfq4i8h5tWB09YTy7r+gZKmNEg9vO7UXwgQetnvI1\n",
       "slBA5lob+fPr4y6mmxUexy71gJTBIIyTOQcuXCyVWFCmASSkXMtZof4Oyy9crfGs8p/H7ba8KL7r\n",
       "A1OSQ139ekjM3Axcq+WddwJKyIO/ZLhbxSgeKQl4XieICZt2XmFKlTqE+X5hzzT9XJrsFqo138aK\n",
       "eE6YqUXN+OEyLb+xMziaZwzQ1fqrR8OpVpmexFIX0Epn9VwqF0AAAACgAZ6/akX/AANiJzifwng6\n",
       "3Ma5FZy5agJW51PbzBXgU1XaAa7LhsNPZ2x1kIYlb+rajC69EkJPgYRKw0hE3tKwyTqefLfxW2Qg\n",
       "dbT79tjdKucKoQnl6uAVQ5+JJiCTvdSKsQ595YJ3YlXzpzlYArtUAGlQZmBEEzNUeFJawvChAB0t\n",
       "Sggmr5XY20bBFlKd4CtFnL0bPtOz0BPLt/5JKO8DpwAAAX9BmqNJ4QpSZTAhH/3hAAAHc3/V5Lzc\n",
       "xndyuS5Tc9We/HX2ABTulr9quWtC9rLsdVCBUbTEVRGhAn50CztAp7pIJcZcfoev9/diJQEOlmVG\n",
       "bsxbHVrQ10rJxYd76NbxxbS1Vszmm73dc7GFidxfG8nXfYUKKh/mgGKeiRSFcFBOAPONTmhMNKOS\n",
       "yGqxcv4uhNBsn7CSWkfjzeNmduJiMtmKQVtHO4nsrMHtKA2+RktFm+g+suF7MvVq3O/Xy2J33qv/\n",
       "0x8rt0ZjzeCCCqbsn7jCG+IL1ZOAo9M2/BsaUAv2po3vZuOtKW0kpdRQHajJ3n40CCU6OLA8RCAO\n",
       "D1F7+RbO0SCHqA/DYC58tALDF0KmGH5QUai9lGNdufjc9xBUxmDUXRQhlufbD2NCshvtgu8gMoD5\n",
       "1Zge2yrDLKOepYDtSIbwnU5ybMSusnT+us3JYpSgDJdD+ajg0HliWT815/kMqhzniq9SFxR883p0\n",
       "162Znh0FazuUWfvssDANyknwQAAAAMNBnsFFNExfAANhsBxPYb4exghx0AuWeSJnO2YX6FZH2cel\n",
       "krLUpUlDhX4A/GpHSGZOUwuNk/ITkEDwN/1ppBDwSAF8MyObbdTmyXZPxNvnfHvvWnGyDJFlmbat\n",
       "02j5X0UeJhUO05J5Bpb8pY5VX0VjuJdj21WnIJhrMiTmOe55qj8rzEMhZLplBsc+T65XbfaCR4H7\n",
       "ozGKAxrCG+ZlhdlLCw17CRbC4nKqVWT62l2vXWcL4DMpEzhrOWmCJhsgl9UoE3EAAACnAZ7iakX/\n",
       "AABxXKinkmkWORefAkBX6pC4WutJDmhHSCU6BX3e4xN+hFJiT/vjQdESa2uQnIDxbwGg6/51/mbv\n",
       "rPpxRQHk8Fpd/ivmb+DidYViC3QCMk+IAP6voM0+khTUz3U4s9GR2LN0Vy9w8V6Z/lgXTVxfkx10\n",
       "9o+nx8ks4/rbZ1k2fr0Y3pBOyfNrNkJrNLuNaQNEJxiJU3sKgwSBMd/PaH7Um4AAAAFbQZrkSahB\n",
       "aJlMCEf//eEAAAZuZ+cLlE3BYMko1Wo56zwjW4qKSAPqNw10pmA8H+pS/uWUi8oJzoMBk3neWlnV\n",
       "jKpsZ/rI1B7jFVh1R51q6fJV8mTrmAithCIEzDhjZDhevrQT8eI8oJTdRVjKwYK4GVqmMSafhwxM\n",
       "7o7QN8dRX3xbgTOdSxGIBe5tHZDW1awlTH6fhHcEf6uyoLgjpkwL0gc0mQ0nh/XCFcsuf4dUpZ3e\n",
       "leqrmWnkFpiGQCkx4OUZnMWhM3uJf7I9mzvh+QuFJBDX5qr5KYM928Qm9GkrJfHSm8Hfu8qw1a4w\n",
       "wcHXDxtXco4XaQxydfh3eaEEfK9vNXT1Ubts3Sn/2UoLm7oWq3PbbZUd0FrbdOYantVlHzxtcF7R\n",
       "42qmTSKWpj/m9ygfPEP/b4+61v4nz9D3E144Rw5RnkTcNmIJkJZydJJLryD5L/JuXEXbSrhtjPkA\n",
       "AAG4QZsFSeEKUmUwIT/98QAAAwP51bCaViken68I7zwotiVEFlgz4VBkYRTqsYSX7rg7nAdm3+cj\n",
       "bEpq3aazDxnXZAXZ0lgCjy9drfh+O4u5/2WwAmi9W5TjrxxlB8oUBC0N5dNT7wznMoKheshOoNnX\n",
       "EgSTqUij4ZEcYqVRszctLf2/2VzJ+4DRwhh3CFI2o9AtgCdT8J0XHGNj3/LMHhU7L6Ol77PDAmwT\n",
       "a5Lpsfesf5kGcJvsYnKrXWe9e2sZg8cjDtD4V/wQECHRIMs1qmWTsVCRmLfqkwWwBeC6hk6ttB2s\n",
       "XWfnBHRIrfVnaGyTiyZTTyuoeXDFaiJkI5/cXluxnfvh1ZlCxfJa89khqtWfGHRg/C6JRfr38SFg\n",
       "OG7YVHz/VdYQcp9I1LxdP9cX1IL47gcVVNd86X2S+Yz6zaHF8dvt5/g8KNY1SLro1RsGf+4nnrcx\n",
       "ETrofHAXypYaqOV8l8WOanHx1tMLGlhDvgX4iWPhon5biEn9Q86Ilm5TurTw9kTu+xk/cx4U8GeJ\n",
       "d1d+0/ArzfefL29GEf0Rq2mWChgq270K+FsenQqSqx4taonQuZdkuGJeJbcAAAH+QZsoSeEOiZTA\n",
       "hP/98QAAAwP1Y6NGP9q+MLf+iIXdEVyltdw4qs5APJk3DOAEgB0rQST0amwkosmbChi2Oy8zp2/+\n",
       "Wpl0iAjXTu20udhr17m/J9j+w67GmgUFyOVzn96lNn/xFUSgG1NseU1ThdvSKkhmM4CJUjnunXXD\n",
       "e04gsPFrhHsEFa+HM9wql234mdm0rxpjjAy+ahiFl/j4z7eN9bE7gBgjVWCcun+8HsWmhuVC+L+E\n",
       "qFSDFT1t0/imhTMlLINHR31brysdepvzWgmJd9LuA1NCrk+bI69ZS7cTV9+lfrU41PJxBrpFdm5y\n",
       "vlFr7obups75O3HDB+9MHkCVR9+/y5NC/pjgBGM0nw9NcXhuvxBTiQ+NkaBLecTpU8CByr4EnwW6\n",
       "fF/G9mW3T7+TkXrvVxY0T+iMuFza8cxqtxAvfVVkZh/OXNq/yXFjP13Le8X9/j8PKhP0lhpXWzWJ\n",
       "bBIp/j5QZGwviFYXbjXxcNDeZlpIH3dQxSsHlMlxUO5LqJ/dy9mgvmyvYjgolN+Tqr/szTVp/WZX\n",
       "0Vk/lF+lOgHJK/YC+Ak07NCElddu0b3/yiMrLs+DXyzsFoyv7fX7Ps8V1BJduIEXOXHdwZ4nex7q\n",
       "emJQhI6BTxNPXleIM4zGm6nBtLA7RijJo+fxvKJT5zDefVe/NSrfag29xTrbAAAA6EGfRkURPF8A\n",
       "A2GwHE9eWJ496NjprZSwvZ/WpBBlM9WotJPIjWsDt3oY3+aR6myB5y46T6HpUnrthVMIFuGNK3sQ\n",
       "cISiy/kHDxlpw2t02vDXxb266Ju4MPazr5pC3E4lzcr+C3UJfjGxL4loBQalFFXfWVT4gX5rBSAt\n",
       "t/Y90LTwMmOp7810elTbLXeOMGIryGdWwEL3giWDy1sPn8LKDvByJN65GGTRSKile3oc4zHWYpWl\n",
       "f3veFT9ccHsIQBQ8n8iEh926m08bmnV4yIAzkYXweLj6KMZKHcgXHCyxzLKwyMqJFkMI+YEAAACy\n",
       "AZ9nakX/AABxXFH3m9co6hL/bAQHdKImdPcByjaiZWYSxbcN+jT6gKSs2dUv5423qeTWIR+AHQOn\n",
       "i5KLZrqRSev3Qe3pLaPlDI4rDucrnRQ89YukprTVHfXE+Q/6SV8RY5YBBT3iUSJRWkcszPv/Mj8j\n",
       "zqiweIooumQmQLTtymlwiLzOIhD08AAg0N46jdfb7R7mhNr0wrjEB6uo6EfsY8A95berVyCZLfaW\n",
       "MxQCzkBl/AAAAgRBm2xJqEFomUwIT//98QAABBlWz/v9AEZbVeV2/UPhLgteAF9iSaKJP5oJAO9/\n",
       "5zaJRv/fvGOWqzzYv9x9cjIHcViSV5jju/PrpBDjA3GbJPJOxygFSlLQKyD5P1KIovYb9bC/rrZl\n",
       "QG0tAVFhhYAfoYREQtkCxOZYLtg9VXgRXS/0cyFXvKB36b4VUo+wbm8KqK+WZ0gkgFTag+doO4cS\n",
       "hfucStcULP3cbq6ub3qfQ4XIGx1zz4dXztlydMRFDxFs2s3d6pm7V3T/8dFzyt36f14HDPEbJEy0\n",
       "0c901/wbbfcmooG4BoOiVES5M1HvRI2PjUFlvqBDIoj4KygEz+3AYDmrPyYJ5foWJcu9/I1d5YBh\n",
       "40wd1VdAS7vnBuzFKpADacX+dA3jiScoDvHBc/HAqdvkpvPjUP2OnBVEOq0EPp8ick+Bl8XG2FwJ\n",
       "L/iXpFHJBP+qx+5tBw10tvqof/CzWH4fl5UGDPC8SdhM+wmrLKH81qAQ7Ds8e2seu6zQ1cPe1j73\n",
       "4VZOwRnxVAkdV8bX4nITCmUrJkn+EyCXH3FpYikx57nFOBV1rL8H8v+tDuo1GQAU00G7sG6bQq9+\n",
       "nN9USIcvDUDBA2z68Xkm2G0iM8t82DkQDgGkUXNtbxD+DoMaYpLnOJQv9f9dFxG2qNuPb2X5oftX\n",
       "ez4+KRyXd6ch3Tt5WSAAAAEDQZ+KRREsbwACtFUo3fZuwiZ7dINltchQCO+e9h+fm7EW7UYZpbAG\n",
       "xSdSFCksq3obP2DRv53OxpxtmKKKNo/x8JOUBy+VoTOq+nnkS7EXjHhrpwLslqEId8j6q8uLZEay\n",
       "sIkGzTpISLINj5JagpJxbKW1SbX4FOeSYJ4zz/fO4DHD54rrOfkp996Nx06UNErLQapvNOQqiz+D\n",
       "0z53g7bkgFprYO4qS5ySWARH0uWn9DXJUUvHXVu2hchjCYjoYRNmRoY2RFn5hSsJup7meKu27Oui\n",
       "xsOGlVZnQlqD9dMu6OJ11MZDqOHh+Bn24Iz2a7D8Su2x1IYTna3Xq5Md6b7n0PAH+QAAALUBn6l0\n",
       "Rf8AA1704jDSprTg2zfkT/cpLfcUszHkQAhJSyvoC0/AhLGw4wT4vj6jAVppJ6xYoU9enD8bZ/GW\n",
       "DIH0LHbRey9ZBIjXVSVaelJnfNofb7MRifS7XeZxQvaCqC6b1+U023voms/R2oIdGB6hZvqy/OpR\n",
       "BcAo+q3HS44UbJFeSSmX3au3jXKJTLWY+gGbOH7yBJlJoDVkavRBftqcmY7P7onrZOUP4nDA1YaQ\n",
       "bUHQkGzAAAAAmAGfq2pF/wAAcVxeGSlBV2IJOqK2OhsXqxgoC4lwZafWnB2EcqUMp6N5+xGs007V\n",
       "OvEIY5Axl/EHBz1uqYP8UQLpLUml54AgBCSsGNPbGCbbUv55Lgxh80vRwg+5S9bKf2dfkB56vqMe\n",
       "SPE18bAhENPICc96KCVjvmQ2hFJHu7UN1t+UaqYkLdKWGAo46BxP9wR6oiEapc8YAAACQEGbr0mo\n",
       "QWyZTAhP//3xAAAEE3CMdB4+DegANmntkb47Y0pQJbN3xgDPMJvleS/YzJxtGvsDkIKJVjo011ep\n",
       "tZx9bADonh73C9HCphcNpdDlvw4zHQ+OPt84eAdhlPtsMNNu6VAgEB/Pc2yWxMP1JxviWw5LIp5T\n",
       "MtWpISnSB9TTtetSQtjG/1ZOldhpxO5y1XDJ0qwoWvh7GTfJtz/RUasC8Upgcd1+BKIy31fp6qMs\n",
       "fUPbthOwIrNVDS2wlzTQThFGGabbBhKJjVryHpjZ/9iDhASti0PSg0A8KpaOZL1d+UvpJrcrvw0D\n",
       "uF6wME1yqQf9ky1sRy3JeyeSEaIi/y18ojU2VAFf5miPxufs2/9R8hDGczLKpvyoIhiKmu8sG2c+\n",
       "L665Cwwqmi5JHhK5bcNOk/DO62h+YOCkIkJrVmIEiflgaRPIuT9oglV8vFH9ISxr7erQ+3bUuqph\n",
       "ExEzsL3iMHXo2/kTWtk8k4SCdi3WQLVrSeUD0vD13BI4W8jkEzcJQYKfycyDUGP6g2QEA0QzcBd0\n",
       "fdbX+LgBt5POwbnKyvrLs+04WJXuP119ej2q5R5MvUM2v6BIyATMTlsuBIBmN0Qy+lElsVbBZ3A9\n",
       "ORdTmbrL+9CWfrpbUUmCNOMZ3utrHgw4/gml7VDaxB7SJOJSlHM/4Vqg7UQDw6W9k5SRVr8O3R77\n",
       "WGKTARtufAau2F+h/sJwosjUU7FthEn/L4uuJEtA2rp8y2m9DQyvX9ZBP88Y/D5n+UX5JnKRsVFP\n",
       "mQAAAP1Bn81FFSxfAANiJzifszKfC5Oib4LNylJW2NTNkwZm6UKPhdzgMuXfUgbpQJiK9fPEbme5\n",
       "tXqs8ES62+UK2ABMsYQtDdfzkXFBFFkYz3SNneiTocIMjlB/xOLFYTeYfySEslEezaDwkyAhYzFP\n",
       "TXIMTlRcbkBzBEn7a3t2u4XcUzHCZAOB4aGUinqkpMOsDOjhdDG4P0Umtbe1GbA9MlzCKkOVhiyg\n",
       "cTyp4HbyLdEXvwdzha3EQT9UixhDz94gS3nYImq1ysMPIdnRhHhlaMnaPNQGxhk8FtoLtEjqy4OA\n",
       "PG6j3XkTfwwlg102OycJWL3VRnmSeZOuYh2IrVm9AAAAwwGf7mpF/wAAcVxeGSlBV2ISZDcM3RLy\n",
       "5iEIGD885IL/sxGEo7f26Tpv1y8tCf9E4AEHjxY6md72oo/nDxCgkXmOwROQkH5rIwJN6bDZLO+R\n",
       "MG0fPlcyECUf4e0pLHEiqT+spQcb5E9lGrPtoX+vEnIrJtk7HCSivyOJit6cwUoVcZg5XgTSzKl9\n",
       "Br08jugWD9rVgVNSxvxxhnVSBSzFo6byUr4bYv/mGosuF5gM3+bOVJKz9dXyVbxBAFe2ogByAORS\n",
       "QQAAAiBBm/NJqEFsmUwIT//98QAAC68n23eYb++ttEqlQgBVcx1BKlcTFaIPSruAZN5IqeJvvkh2\n",
       "k5n6tNqJ/ZVGkDnNT4luseqKvrjHf5cBk1qGDRbEEfmYS3zpCEXNwkGsjGczjnskQGSE7TILfXXb\n",
       "vymrBCaPxoVhvRBKSMPPZU1UNcjYR34Ktqw3RTvjBU3cRfbSLALxnGqhe2o0jiynY7QcKy9JVNfI\n",
       "KJwf4oN0eNY+2YqFZ3+ePnxXXPdjDQPFvrLrxUIeZX4jT3TNHkWxXObzUDPZrx4r6k6w1lG9XVUZ\n",
       "baBRgGr9KAYZXZHktItfayAaxPUloLy+OYMkatMYdOij1ekIpR/l0Hui1nX8dbwymRQgcHhJH1WT\n",
       "UwCJB2l6zTwHOL6WJeto2g6l/4sGSWInN9sw4QiF1ZbuOCGfE7Wrd2hXIdEWI84UBuHCT7YX4Fyi\n",
       "XA+LLb6A5PPeYtY00IWTA/9PkwYM1AhbC06B7dv70zS4sPx9uHH1lDbYyYAEGHdfWuTZU/r+jOun\n",
       "UGw12PGLq/xlbGexmSNec9NudsyHjvD5Mfke7kyciU15YcWWmAHse7ONTFRfVxmvZfDDdLu1p9Oc\n",
       "J/GNTUALYEqEm2b+QjtxJSNVAWrXQILlPfLWBJ8AfqAPI7dJ+iQjun5FEXi7RFxr9vgkCBFT/Ouj\n",
       "/mZ0w4I4Qzi6a945Dd4ck/fiMzFiiIGoEY/GWNRsWc3tJhZQAAAA4EGeEUUVLG8AArRVKN33/bug\n",
       "HY7JMy731sUkRWSkwzHd4ncw8KX1Bza5bHmQO1A7Y+H0TQjwxWr15Yd6BF2mDZAIY7PTo04JPSl2\n",
       "bdcZtGQOkKhSJWnvFonkjijDB2/zGz9Vw1owXNRJ6hOLfH4N2qQvKtw9X3kq5Ce6NuA2eg3mgS99\n",
       "qVB4F4bq8mdsX53wk8TMnsKllMuryy/FWxmrlws1DDMDVivh7LC9GRn0ixFRc2n2wPiWjU1IwW3F\n",
       "KBKowicipinxPTN54J+PoRHmlvzLxeIwE27EmceejeU4slGwAAAAuAGeMHRF/wADXvTiMNEOchec\n",
       "4bADjNuQv830tw5I5ImlCx6lb97Kt5BzzRyiSOCRyKbhsYvqpkDEMoMXi6JosnX00Kt7Z6Q1rKI4\n",
       "4YhgtPE+7deSQcxWX6WcQHjXj+/9eTX1t15BkUbl/QAE0cZtE5eRPKfS7NVhECh1i3ftG8yQQkEH\n",
       "7kiQ1xM2yGa6pET45KCPMPJCFeEAZw1zg93Zbr4QHhNQP8IX2OVz1c737QXSsgJj0HE7LUEAAACu\n",
       "AZ4yakX/AABxXHh7QTRtpcEfPQkpjW0hALbF/UaI83BPz4wxfWezxSCgDRLCU7U/YvFZip1AYwpS\n",
       "Y+z6tj8iAweB1dRm+GiSrAPgpbON0XelZ17EUET53LnrdAYEuyhgOFge8ev1PqzDgyuWh+6glQ8x\n",
       "p9Uyv5hWOXwanmVr9ukEIuJTaewIexnRr8HQW3irPbh+pCYOGPPhvjDqacTJ3a1ZSb6N8uNLOxH4\n",
       "IicEAAACG0GaN0moQWyZTAhP//3xAAALo0nXL42+gihxvhtn681Bb4zDdIyix0xEms/dNe2YGxdU\n",
       "mprhOpIVN+RrgBzLj67gD9TdHW7TTIFvLBnUv2/Ud68izgFBJ4aQUhPulyJZtB7dWdjOUYsYJHOX\n",
       "mHHXNygivHOWBx46Ui4R4AtpGx1YBWi4cM5tZhqvT+IXSxYMfPS7IwyhEDpGx0ANK6uqyXbYKg1d\n",
       "l7h3VF3BC9+lwvuUqALPM1ID5Nlier0wmqT/NX9A9bT1vcXVZlWMehd/2hyfs9U3HKjT13j6oL/J\n",
       "BYIzmVWpTbH2+k8Qxs1yq3wj3OewYqcV5nbC7NibV9jvKK7+4f4lup26FLpP/wKyhiqVQG1deJbC\n",
       "rJQtkPDmauktwSdAYwFp89BfSqMmEFSRqZH0IKnvve2Ssa5FUqpE14mT/7HD8jX4a9rbuC4PKszs\n",
       "YELnUezj/W4QhHPhul2XVUmSQf1UJpeuKhbrgXyNw39y7/XoKB9qHwJOcfJGUqs18gu3QoIPU2C5\n",
       "Zypq9zfm/4BgTf24nC1r7MER+jR94lhXNG1KFyJRFwmn98dOXFJsXVHeJqxAb23SV2TzkWsSrNbe\n",
       "ONDnSRyrtAIXlz7eThW3sJ+0oxmtvCRQca0+E1cTkxUNZOX2rzl5ZnKNY5tpKdTjoQDCJxAsU0CX\n",
       "baAjDsWovgwBICX+9+9ZVZvSjM1M+7W0iXBmJVHfnxrQAAAA40GeVUUVLG8AArRVN7Y+TZuDdjg7\n",
       "EL9+56qvDdVHMC2YG4NAxracNfvUP4KAZbEGC25J1I0e++M0RvBiOBERwo9pKdQYIJeBJ87sHOFz\n",
       "Fg1bsH/NxeVUr4QHuOIbqxy4CYv3k3s1HzRL4bmvh2qZjp8AAnX4kYR2x6iBkqRt3aeHwXlyHy7V\n",
       "4rthv2JBOU0Tgi4HTVrubA0c6Rlc8msXQcgqTDoJIcGL2/0XglNO0XWYGKFBGr70MtCg346pzAtZ\n",
       "oauPV47Wt6AS1UheH7+xoRxN3VnpiaNwHmYTPISHp7jZYAKDAAAAvwGedHRF/wADXvTiMRh0EvhM\n",
       "yqnQDOm5YVEn6iWX2PU7U824eOj8z/PfK93AuCUwJjnupkTUl2Cls5pFlgzxItfNfl+LVqklGKYz\n",
       "PXYTVvUupALU/MLUSwx/ycUgACGfjkXPZaMhtgua2IQ2lKVQ+vX6vSnd969SAizcPyZlS6bxW9GP\n",
       "zC8QLH2Rbq6zVqPrNIgbQF9ULOupnuu48z1XLeRpEVhv/4YHcQJeRtmi0PztJbABUWhxEBqkqRhk\n",
       "YCDgAAAArgGedmpF/wAA+LfZSCzKCqNLtRksKMVqisVSa8AP+u7fWkNwuTlRG+IIgO45e3r+ftqM\n",
       "Mk/8zLBY8fZM/YQutomsboZF/c/e4eKMssJXDI3lzT3Po32u6ksqgVlr4NLsP4YcvhiAGEAYciLF\n",
       "vq1ctO+QGVsd94rwjLdUed7avwizAeuPlSHI35DEKtK3QkQx+HGAz/RuyjnmJ+KvrBiqMtfIn/Ie\n",
       "2jOT0UCYV5eDFwAAAeZBmntJqEFsmUwIR//94QAAE9Y5CvLh8CtIhb93Tu9hgJ5oAiPopWWhLo+G\n",
       "PztPjBAybZdg0i8iEsMjpaxvnueSX6Gp1v8pp4ZqAs4zT1i+StyFQA6QFS5yDfsoQBSDpYMXiYDh\n",
       "/4R/Cmrx96D+xQuSX4z6hRSrZ5BUL2H3j/LQjTCXfZ1CQeoHltIsYfwBnGzOIb5kygJa4MAGcAaD\n",
       "TiSMyBmp8f2z4kFdaj/I8gw0Z64CuoIEumVkj+mNVLuk6ugR/+peCRg2+yfTGCQsu4qtqq1fwZXb\n",
       "MllMzeiiFdN1PAxa2DNdpKydO4iAwQ7kOmSLva+ZR3rU38ae39uG5cpNsgA2Mi8IY9H96fBG9g2V\n",
       "RbxMMcpflAa7fyljiLZ1M/sby6GUEvmQHQEhKySn7D+vSrvE/hAz2WixFkp+3pQlOlOKJ3iJ3lI+\n",
       "s6CENF5vbHDvZKUXRXcIWEoFTbCX+g3Wp7iy1jPQqm2+maPmJH7uEWR+1VBvaPUNdpfKCpgO/LMm\n",
       "O8vhAW5ywy0hrXyPKOeZ5eu7qzUsCL/Jt9YLz6ij56d97qPZQyBkAxUWDHyk8iukwS7Xuuq2FSyQ\n",
       "nTs2agoV7M9y3HjUtyEBB/GTDrVqdBrWuZ7zN9A+PsSml/r0jCU24QmpCBEAAADqQZ6ZRRUsbwAC\n",
       "tFU5tMEmmlQBPIghFr6DFTjh0/D7dT0X90seG/FIcl7BIp9Dz/Amo4bOT5wV9s4Gachqgfa5lR/+\n",
       "OJJsJdkVM7hsExwv+fkbbB8mMtoinx36qjOUbNTBFR+i7oer+IrB0BDltLiLW4OWqVwyTILUIfs3\n",
       "PK+cb+01HcCP8AqTnv8emmNRrUhGUfhzJqvuVO8OJObqmxxodOZDa9C0QH8wJMdRiCIs+lMfrcgR\n",
       "GFdNjQP03x2RTBu/2dVr+GO8BQTMoLFh0PY7pq4z10Q0nyHLiZuFUevSJwM9tLle6keljhKwAAAA\n",
       "qAGeuHRF/wADXvVWcq1Vy7dU5fnVXJjritfXQHI8smaZwxbKrK4iPbPyZoGTbQpX33ZjVZMjIhs9\n",
       "hnCK7vLKEHiqER3txWKSEkiMj7egYoo8lRiwjmegwCY2b3MgAtubukmb5+aQLKV0/XFOlYSVF2z+\n",
       "+0HKqp7pG/m3hVSyE/63UuKD9pp83QUNn4TiUwRD039KzwC3CDkJk7mWweUREkNlxv++Db0B6wAA\n",
       "AKUBnrpqRf8AAQ0mNgWn5K9k6LYKuZgrydA5LEtdqjPjQLdCpzZlk+6Pcr+vAX5hYRXzLUE4TUQv\n",
       "MMYIN2neYulpjkpbMm2yVJ5MZka0RTzTZK8PNB8vJ3PmFy6M7yq0yyipTcOPMuA61ymhh898YMAY\n",
       "sOR9eOSw+ySFEl856eCZhXWURf33odOsLmV7TTyWwiQyNCOe1TF/hTMlXKhKqEHcqR6qQR8AAAGW\n",
       "QZq8SahBbJlMCE///fEAAAyJXoYzxtq30c+mRmCu9x6dtXQeH8ArZFxvKlG3JT1wwAJ2hBI3WdUz\n",
       "pG/U6lACyyqv91CGRjewpzxma2Eaa7ryxtYp1p+GQV4ys6OxiH0ASwkSRMtyGyHs2jIThKbwGCHL\n",
       "Cy2FCUa5fLuL8kaNM7M78P0wtF5G4l24KgWb+anjpjt/54CgSjqirvyICWamUkfsc7fpMa6vbPIF\n",
       "BGH02T2vRsUuLVnFHd/1f8MG1TdXxTVW0iXdyvpqYp4/gIIHWE7PIuaT568BmSG8SxMGuruktAzl\n",
       "Em3yBpogTKnx1BexA87qzTN4kZzSWc2lbr4o0jUpiifWfZZrsIkFib5kayKnEUFYa9+wYMoUQYIE\n",
       "jzxFlFwSoGsJPr9oqyEQhYbMgK2dAlTTKUDaNWrf9EMNgmgCzekGs0ppm0JT3aCu//EJiARtmfgX\n",
       "CM/BjY2fnz5Y1o7yyexlWgAUnNkwA7hOp+DB6tyJIhE/DbtgE5XhFBRKvU4CPYXL5OkMEuRP7Qyt\n",
       "ziJpRUkJGQAAAbFBmsBJ4QpSZTAhP/3xAAAM2UqtOOsACn6twzxg8tqxMyJ+qK2xWXWo7e/7eRbs\n",
       "N1DYqbz2uIJDjCtJN2lnKEW1QeK42p9nOg7+3xHo6lpIhsFMSwm5Q+OCOtSSr82NqDz6y/MnCdH3\n",
       "DXf866Re+NoGYgimlKHiL8OmpU63zbBJF6olHKZCsht4Zv7/QYxy5PdNzqNDgLfhH9ckbzsY6iJv\n",
       "NQgYGORG9oV0FZalpTNTg2wHCGzvmsCn4sI40ra0hkZGqnmcLlHxUes9D52vR0LGZGSVuIKwVVZk\n",
       "lEqyquD2Z6qHyPG62HcE9hcP/w5z9NoSPl+U5ADtWEmfwmxvl/8z+0vcCpwCQQpgluJvsnitUNUj\n",
       "BqSdYShfEe4rwBpin3a38OxTDz1+ezdLmzKy+g3Gc+PvDX+mrXJTTnghn0rWg3bohKhfPICkExN+\n",
       "I1wzjAm8UCmb2/1jiYLzO0Id6mY4EN5m/BzLiwrkvv5y2pmLVDrvJAKSLzDmG1nI2Gyu2UiOlpnY\n",
       "SScrxR33F/yaBAmpbroVVSb4R/1yQeO4sDIo0/Zf4pKvH6l8kcwh4CkpCeUlAAAA80Ge/kU0TG8A\n",
       "ArP+XcuL3LjOQklHhttJCR1nUqG5kv8KXk3KKtvIUf1Lh4fe+swT2tf++sBYE4kpDiQnJLPvn8/x\n",
       "qeIaFDyICR5WS07raF68bzDfSWFwCVAfbvGZDaJAlOeRH/flibV30XLi4HJRPieeSRV/m4HyicgW\n",
       "+yqwvhFTwwv9RXEmyTerSgQSd4a/PUt5NJUf4Q89Fys2FaEtmZglzZ759W0tD1syZZ7Jgw8wQb50\n",
       "VlmcpbX9u0FjGLZbEf01b13dXhrtD3pb8JYfuBUr5s1flJ7OZ0GBbUJ9eg60zOiAVYJh0bs2i0FZ\n",
       "l16Ea7gRcAAAALABnx10Rf8AA171YGzC0vuvG+dyorrMl/6OziSGBCQR56hxpdR+3MyWEAMGqVtT\n",
       "oggNkuHbrm22s0AE4Do7gft8TQJlg0B68wy3l6+UzX5XOoQwBx1KGfCULVAM0Tvm0z+rjgNP8ekL\n",
       "rQ7bJlJUqEY9zs5hOnvKKMhqiTHsJbDm2kbL7XNc0TSiZfNjYaVBC4qRviIhD6EKiwEis7oy2hgU\n",
       "Oj1DTEtNFaB9gTtqOWKDugAAAK0Bnx9qRf8AARXb3rZLuPgkrg9R/5QO5GcqYpeFCIUGIDagNnBd\n",
       "xI3BGtlJgevm67GlhYK99+OrZSwawxjVNeQLFb1YbXE7kDPvrwBV+QPqd/arioSVhM6gI8AHZ5Ap\n",
       "rn7qOIHXetUa1UvhIhWfA3SRPKFiSW9KHrsYfIeSWIpb0cxqVxUjo+RQPYN7y+/FmKJTq1IDz0D+\n",
       "tBM/dVQvFbiGVg/RYYhhs26b1IAg4QAAAi9BmwRJqEFomUwIT//98QAAI5v6BYAQffIi3c7JapVB\n",
       "R8zb0sKJDQBFcuQBxY3PscSvFxmR1LO0mFLAspNtwSYLeEfYRGliEZFS7UClvEzi1BmsiQpKXIOn\n",
       "S+V3FyNpGcuEYOvolI21y95d63Cw3zv74uFTbmC7SMxPOwLZQZYyp9Cc/PFoj4HXninEwkzkCUpy\n",
       "EvE+sOyYyhV+YeRRjIQlpISPQG2yxJ5FkvS0mIGzE5UwQ2ge9LtRk477G1QpCCyaHnDHyq+aS8MU\n",
       "s8P1aCFMIvlqlmlgMIuwmj+39zxnLhMYjVbFAl9+/IuaK6EwSliaidMZQ3tKlGVylGSYuW6GOEzM\n",
       "LT7YFVyBvpONJWwguacnBY+PL+zSWDQSrE+m0aAjCm2h2DRQ+TSO1FvEU7SXzdHf+3Okq15CsJ80\n",
       "+HDwv5NfVPUUUc3FeUzp6AdINSYjQDBU76lIX29UZwlXmXH+Z7yYEoNHZCCtsW50j3L2Gwl0Od+l\n",
       "FBwn2vge0YU2vUEVcwBf1H7LEGKWr8JnQ3oEVcHHrIGfg+BldNCfm1ZsIadVN7AbUZQ6CCzhkMMp\n",
       "1tcuouW9y5iQabwHxdkNtJJzJ6Xa9LU7g59N2fM4QVxDchhvoYjKsG4FGYFX3NwJ1Dui+Jv64E/f\n",
       "OTM0Hz5JGcves4PwP03RGuqPMcc9uY78ie5l6YGwyOgJXtH9wxiUDZZGCbeMpvPfXjqf/V+0sIZA\n",
       "abD6BFX1FHXi0hzMjGJAAAAA0kGfIkURLG8AArRWYZZnJjBhhhJHcWT5XI/RBy3ANf+qnWQVtF+e\n",
       "ZILS0DDW/SMb7TkJCekpSESpzqty9BpIfJYHZgnqQvWNbXs7arg7i73GeXr8VI+2ONNrua8H5mb1\n",
       "y+qS6nuZLKR4LXkDbjSpPglhh2SAO1nJlXK/Lk/ChAq+1XX2P480foOmE035s9CGrgESWlboXIoC\n",
       "yMOnCmkKzFOAqpFzNQdavKWwdbxsSFGpXdKwLa6NYaDmDxUCpRuafYGkx8H4j06BFNM3+7Akj70l\n",
       "BQAAALIBn0F0Rf8AA177EBehQNVlJJDO0FX4r7/csWeeJsLfBrn7GUMrDskXifPqkPqd6UzGCIAP\n",
       "1uml8PP2e/p/1kTwJ7udBS0fztk+5rzpZRKdITPccmzVMRwzSrU/QFRydgERG80FE1b28gODpGD6\n",
       "G6aj1IRU9+vxhpa5S9azpt5CNQH5np+JMRETdnfngVTXHGlWlC9Cb4NKTmCOH6rIDPkcU66jJpX9\n",
       "d/2ENkSLjn2mJLOAAAAAqAGfQ2pF/wADESjJOjehqRb7UxJH1EDu1pcvbIoeBk/8RKe07ZRwswo0\n",
       "NQMOiqIj3ZDcMHDLl+seYxlGrH1kVb36fqezF2YVf2uMZXh0B8q9pLygiBvZ22QKCvi40Uc3j1iP\n",
       "PSFHTUOcLPQ5G1okrFr1dPH4a2dF2UPuTCJ6o+uzTqFBvPH6J6sDqQz+XYPmElofM/Fbon+1L3dp\n",
       "v5qA64OBlr1TtoY7oQAAAcZBm0hJqEFsmUwIT//98QAAJJveA9fQPoN7VYLVz2Y6f32pfo+GPzYo\n",
       "Ph5Vn3TFWHo7GWohKQnLWL+uXXNOVK5d0lzXGmqCWO6nAJMwT4VXnfHU4I34YTgytoWIBq98EsyA\n",
       "ZQbHXDyh+OZhQ8lba9LUtLyWxWJE7YNsxfZrIggNUNmJIynnvmzNqT7CeN40Fl/PX0t5YJ9Dxwez\n",
       "BUl+kHzCn37QqFJegiMZCXdczveZb+slGZCUVq5T7eKGvGSPR0SVmQzgwowxo0w0lN5KJtOVzOit\n",
       "VONKpCtzT7R4lQgJfhx9rwR/JlKyS476wD+tvifJeooAQ8uhZF6iAOfF5nIwKW2AgLmsjSVGphZQ\n",
       "Jf/l8kmM79kW2Z9nmG7B76R6Fi39Ug2I/LFFX09uGd+B6bRime1ITDjDOH/5DOSjH3D8n1oPJVNU\n",
       "N4Lu4L37yQCuLUUWe+ydnw+IkuJk+n5HD4rzv+stIht7HbSBmDbE/DeZewMqcyRU61R7WsRQXBj5\n",
       "TsQm11G//G6+PpVt902uVouKVQteZVH0e3s5T7S9ldFBrCH+5+zfko+Rx2SwyB2ndKgvW3L9NjcL\n",
       "/yfn0arNgm/KvTdDDuXFAAAA2EGfZkUVLG8AArRWfjEpUPHqiToX0OF9vSjm0eaamdySVG4c4GYt\n",
       "w4IwysxK8MYuewdgAKZVx83rUUIU7o70sCM59UF4wVIbet6jbpVsQOOIAG7H7zzsoZQWJpCVcGfg\n",
       "z2QnLUSrcU4+4EDzhjituvQLMKB5BxUsnfIVUc/SijCmaDOh32q2xJVhW4vohLSLrSlz+wHRKiXv\n",
       "Y2oThxtn+jAs1CdrV/uOV7FRmnNVyEeWFcQW4mh9qe1yF0rCJSqkxbz8XSBcdSo2Zh1up/ifoNoG\n",
       "fpPNL+tH5QAAALgBn4V0Rf8AA179k9nzDd1wjufx/DUrcccGZL8oCh4wvqV55paP6nXjjNB3pfD1\n",
       "I20zy9soUwcOQnW+84WKo1scPXfjdCDVTDmpTbh0Qx6rlMLtj4AWuBknbfFVxfU73fX+AhbDM1gf\n",
       "kyDT3c5fMB2XxZNIPkrQLTWdoWmfJ5nCfI2n4tjAjY3euUSiSDf58HwfjfASE5f61NVkZ3LaYmrG\n",
       "x8IvY9UYFUyOa7Y/cZnS/ntplsKQ6ikhAAAAmwGfh2pF/wADJR50hwyc7yJnlcCCvTKQ7UOb5mPh\n",
       "WPFnDVW7z1QlJl3nPrB1/HXoq/eMDfEkjP3sPbXCGfrGaSmZo8OSgsQdYEPG8me4/ScTRqaY6QWw\n",
       "0pa+bvTsL2p1kt7ItKaioKCELWQeS0qr4RLDaduKF9qDzFb2BmSiJAoyZ8ioLWIgB2PypO47XdqQ\n",
       "eyefnUQwhQmAtgxYAAAB0UGbjEmoQWyZTAhP//3xAAAkm94Y6ENqhaTT3RQEehOIC1TGftC1pZzr\n",
       "r/X1RoCjYbjxDnYi7cjkq1CNAbFpwMganvuYhfuRegOnGvoPScrNR2JdI6YkIPYyOB4lgHivHOGm\n",
       "F4DnFkkwhgcTBmtyNkP4heQPSzE7dIUe0ntEvBnLzabwgWkg9ov4g1TNDmO+km7FIXAwf50c5RGw\n",
       "Kx4PkpNEhK6WClaQ0O0eazk+Fzyix+tIn+T5M1Ggi9UbE2KJGtP2d2vM0+06CDXtC1wGbQSz0t+L\n",
       "+CW8FQQtnyBdNVlRDmrAQzMSCv4DF4kez6IU7135Gg0ZWD13qqIO4RHSdS2zlBNxEsF3PbwhMCRM\n",
       "a6rnBlZ+UkAsqK9YBaHFGwtc+ezkyAvR28MtfxVB8m9Xrd2YEXq7YjYrmxf9XF9qg52UqWJ3uYy7\n",
       "wNrAR6iE8ve3O6rasoW/VsGyyvXbfqvX4QoC921TmfDjGF3NxTmSJhCscNRSRGL4J/PmoPuXV/8C\n",
       "TOg+0oRfOCfxMFpJynL2pgnWLlyPW043gsnb8+M7Zcmvcw/jsehoOA2EN1JXZB/FwscZpW4PrFSY\n",
       "D9mYCFGaOZE/vEcnavWDQgXwokNr0U2N2gAAAOZBn6pFFSxvAAK0Vno/tYJitrg67AohtnsaM7RW\n",
       "hEAAnX3gDjeEtdHglLjA4XoQ9wPueuVmyYSwrm6buJ7miummCZBIRhNDcOKfXhE5hmkw7OEqUBtB\n",
       "KoVolHxZKpzcq8dvt8Bob3+bz/K5WcN6ZRuxMl7kElmm84fCBZh+aoCbzmA8pGVULwNFwU1WufOq\n",
       "RFB7FXBnjYOieBfee5/ZgfKy+PCyFMXxylz/UxGlK/h3iu+ssjp7eE4zeEzLQDuGX9Jdiho/XZib\n",
       "QYtNv5lCS/Q7TVcXspwfpYZPJCYVrVt2qIAvnpD5gQAAAKUBn8l0Rf8AA17+W1AtqNcgbSpXSVxN\n",
       "ZhfJNBtba8Dq3/mRT1eJeWNLnQdMBySTJdJbcnKkGvgmSgrKMiOTtMqfSGSEzh9Ku5lJ09myU4Yl\n",
       "AQV9jYVjvhQ5bhg4ufZGs8ztTVvtVRifKQ3V6uGlswUfwkXUd5+z8/BIEiSj9lSHJJSxKqJv1pC+\n",
       "y+C0tRlP2OwuQAjrnzeSuL+7R4C7wACDuIsbiPgAAACbAZ/LakX/AAMjFkPuY78ndTXiJO2OriWR\n",
       "I1QguVuHkySyLuO+Q3Th5i90La48fE7M+/pukUo+fMxXFS6mVwomgSyKcoZ/ktBGTd/jTgpIyHL+\n",
       "XQN0XZQNaFbO/ld7SR5MDvC8NTgfM5cifRhOeKlRvjrmRVEaUgA+rz1vdquc+ta/qTyRUQ6HtcvI\n",
       "lolGy9l+Rl0esjVmgLkQMWAAAAICQZvQSahBbJlMCE///fEAAFzeBBeXUArv9Uvj/9CVhqvXyTjk\n",
       "L0BCwve13V17pzXI/wWPKjURdmcddAxkxyz0u4Qwf+lcu9RFCDDsaDXqiSoYq54nu3nu3CBZ7DUo\n",
       "t1YAaY7S6RDc2/t9KGQ/gYOi9DSxxk2Ng+ME+LXT3sGjplU19Cq6mFClIjucRhA5gXWa+g75SSL3\n",
       "IhinCtx/q3zyZpx6l+0mStM2IUtFWmyRHRkP5wVooN1hRo3kMyG5emxHXMu6DILM8UOg1pWZsUgP\n",
       "Fs1ZbZKl2FOXPtkvht3o3wLkQOoH2mWVyHbFnGgYoyh2tJNAweN/Hfgl0IvOsOGyz0+COmg+3ZuA\n",
       "3EUxu9xPXzrta0X0eCouPbk9VFCY9g7eIMpzDnc76Ekcaswuvlp42o4lnaSrlayHx9ZdBDQo/Z44\n",
       "7kmDuv3WeZQMSmZG6jvVRuNMO07VPrbktyEXa0pzCa1RkKUFJ+tBcfFvzZY7P6H4xD3RZm249dbl\n",
       "fX4eTL4BIAdackfK8NKIpQhqt09wxUIKo4kl6zN1Slm9fuNTDk2My2g2ysp2qvfDXKP/wvrNb/HF\n",
       "t7c+sJcQg73CV4nVgj8W49YOR+0FglKHU3K8U5npnm5Jqf4ZZjdqt6HjI5pIKFSNY8eK/1uSXOJB\n",
       "Nh2IWEI24yObvIhQUXgKIGEal2mGVQAAAMpBn+5FFSxvAAZKSXRfNMbmfoBfHtzLr3QJ1FukCh98\n",
       "uOOhzcOibXdUeRxHilgUbtqIXaEqfR9CvOS1i8TSyvatcWFuwMq1arsbCK23+SNZMmy5pYy1Ig0n\n",
       "izaTCZ2iAevwBHstqNDL4rjmntX41vux1b/0Toutx9E6VyQgpsrrAzq4kD6IyigMzNsBJIdr1rjF\n",
       "MGhhTlZsKh7DtqQIO6Tqrzf9IBUMvtMqZ9VDV0j5m3tQvMkZzIZGCcxFuhFbYy8PZuVGzrki6ZIf\n",
       "AAAAmgGeDXRF/wADXv5bTi7bFX6/fFyXlWU6m+WySWwmdoyHcqNq26gGUieGubTUqn+Rr+UYYD+k\n",
       "6Wpnt80OTiCN2ch2EGlkMZYNBFELDG44XaXjAZk3fWQBKLy6OmyM5LP2/mfdsab34A8ZhYDIvJFN\n",
       "ZaGFmWrns1tXbvkvo8uPw28mI2mz6MbElMRpP8w7a7cAQysb7wUWH4bDhL0AAACcAZ4PakX/AAfA\n",
       "nGo6ghT6NDrzXx+ofdld5eqBh5FVD4byxarZvyZtMV9aINXH2MeKpVmx2w9015XSXDw/4lVo4guu\n",
       "x/eIuzXiTsR2JUR6Y4oL7M78/p4fT20MKgRl5uCJE7ssZBFkzDV+wORZ8lpfDNkRCzXZLAX8ZPv+\n",
       "m9CfQhmJqMSgY12Y+lKbjdzGo4VGvpIUqe4o7mf7sLEXAAABxkGaFEmoQWyZTAhP//3xAABfiCay\n",
       "RVoDnrIqacZm7gYFPZZVAox0BIhvUYGAAKbjpjNRoa2P/UKItXhpepZVN6lKgHfII1OnpTtQi2f7\n",
       "tjEjFOhEIJj5WMQUyLfpOhs1VIKU3iejVecIE/+xmSszA2AnhBLaK+roqnpBLxrlWLjFf6pjM26X\n",
       "6nEJTLtRQQAXiFvZdbqbmdREWT8IihDgR6++PH7h+PhHSWh/snLLKXY6lFjEy3w3FtVBeZx/26QJ\n",
       "6Mv0V4zpfDEAy3PJRLoreGvx/yn/5Y1DBWUTYXNKovV6H8JlAw3+igEbOcU3vttrNSOE1lUh2gJi\n",
       "40mDiVkHm6SyT87OviZAKXyHk4DWRsFvZaIaAfHuiCrJsyDXlnyD53wF+GKB6vcYt5qJOwbWHE2p\n",
       "gf6kAM0PDi1rkl+g3V3TqUEfb/9wSPulwi0t6H76Efr0ZEKagXhkEYTmgyh8oS0Rrhj4BECTobJ1\n",
       "qqQ5psnFsBAxukuZk4alz/tpJphdL3bUMaSAhnqtv/4gARiwGmWkz0v2kiby6HuKc8CGGRlukIAk\n",
       "qijNiaqkjUIwTy+/feKm1wW+DIWBF9BpALdHJYC3tZ1wOuAAAADaQZ4yRRUsbwAGbkVysYtk7PpO\n",
       "PDfqrWZiv825b+ahSwNR1369mPm9AwXTQws2hVAVq3bn+LrUO9Gs17CMXGSLsdPWUhcDA/emB2K0\n",
       "p/nCnhSkIQQi4BKA3C37NqY/762vhluMErZSFX7d5CfEyshx3MYgLCdztmWM+kllypBMEVibK65Z\n",
       "DAxqBwI1CcTwTGRtoRUZbY4nm3RV6Slnda7mJOg+VqQbgsyejqSu+ek6PVZyd+dJxxuI51veWKH2\n",
       "O+1rHZLKNOVE2jEJYO+moKnx0X78J9jURGpnc48AAAChAZ5RdEX/AAfy6EceLQMDxpWs4MhFBfZM\n",
       "3Qz1oZrTGzyJy5jpOuHjMC5sQBBuac3KPX3T4DOX9aj6WFweA1RINfWfAJ0i/7OL3BRBJsAhadgl\n",
       "DK5ACX3DrRZrCiMgcbBLdL8pnhpJ1H0UHq41i1icwMzjte+rCECIqGDXm6uf6CrnyQNgEKfyBKQU\n",
       "9MIMLC8ecRZXHKav0hbalxR1+wpn7MAAAAChAZ5TakX/AAfxFZ+oShdoMWBzIq+0ItthLetv8K+q\n",
       "AEfKhtdqsyG81WQ+onI36EltoYEUtSjcXijPmaIvaK8F3Ng59ZrTwU7c91m/RfPZ1H94V5rXDzp5\n",
       "dPGj+t8d4A9R/ly5Vzgdm1xVDhVl0r+Du8lbX5ESEMIFHj0twvrPZbhUn5CFnh6GUhkPbRO6YU5/\n",
       "btZeJfUL3O9tfM+pp4du9YAAAAG9QZpYSahBbJlMCE///fEAAF9K9R03bRZUFXZhfoZKAGs7xKBD\n",
       "R4r5V/AkflkwMqZF0Nv7w7guBhnjlux7rt0m4pX47OD31TgsCnl7RMFgKFS1iHf/VTvqJKqVQajd\n",
       "sAMufcBDZMHDxsIUpWcdZt5PdjLVtKm3rd7P17cF6oNWI/chqYyfEDGRPgDx/SCgE1V87NxVU4F9\n",
       "G6AWDgazEFJKd5grM9U1qnn4KJ4ksGtw2zZ22Gjb7qhTdbXFouPm1CQcdPxYAoqucqQFWX6CIX4D\n",
       "SreiISiSxKZj5IbcOngkLUTQiraRA3ZEK5AFbxH/ijRIY1+bHPNnIkDpYqps9ExQH2BQY2mSmbEo\n",
       "8J1CYTIqtXATJplXnW4iw7a99N1SMeo5mR6U34EST+AZ9wqXwoDzR7u1I8YVOcZW+mB6ByGWXjkU\n",
       "7Aoc8zOIUWunB61GA4uGkxbKiN6NX9FgtWyK1VZ9+mMhQVjjVfrkk/Xyx6wiG7EDjoK6CF6UZefL\n",
       "f3hREbNfy0maBMFzkjxe+3QYm0JNSZrkmLr1/TYvXTrj0xz09CtpJryle9aWHBRSks11S3AYWSaK\n",
       "gMmZE9oOiQCPgQAAAL1BnnZFFSxvAAZx84wPSzidzVy1tVobMriUU29GOi0zPqjyJYBHl8z8oUpP\n",
       "/cRJBFI5YBC8lxAG2/jPre6OFKzm9oLUWms8ThBHPr75gQR5frEZJR88KCcSJ5HWvbP3qSQACI5L\n",
       "YjCGyXi1Lt/dtgVStIEjbcr2inaEwE3OZLHIzHJrok/KlnXTZJ9D7AeNSKZY1RKxco9zlvOLQMvc\n",
       "kX64CaAKKXhgrjI/BAWPAAJlG8xMz/6uOFrDtJEqDHgAAACOAZ6VdEX/AAfy6n0iGw5uIlt4BfZk\n",
       "6PvZuuu3omQTrZtxvMiz0J3VVn9u1qJcU9bH90Jun2c0/oYlTiOU/iBnm0QHd4IAuUaCF38rn16t\n",
       "rkrLo1/1UUhz1yy2jJOpP3ba2ZMwbPPQKN6veAbiNzNPZOBUoXEqtd/UnrKYw7tgw1U2EmrajVr8\n",
       "MfgKLjeWfQAAAI8BnpdqRf8AB+3oWUSzH3KCeo5NgF1jIVfpE16ffONKDZLCbua2HpCxpGTek/QB\n",
       "PplnlKCPJ/aA15YJEaxVaE+cnFztNWVgfStTw2oj30b1b2aVMSqsywryJMLkkKNVKkLPEP4p54F2\n",
       "3YmxV+7rv8Y+m5WEPMtx6GvhbSOZycuknhnou6MOQH/eGF9WwDvHpwAAAa9BmpxJqEFsmUwIT//9\n",
       "8QAA4eISvMFuQvKjp+uevfJKAG+xpmNBqDRexG3wv8PZNmQA4VtTXau60FtuT805rrQBx1Ij9LGG\n",
       "TTUnS1syn2Hwc7K5khlq0RnfGVEWae9I6VYvLKR27j5rRkJM/1uqXP1WTVulLZEOc1an14rz8bKP\n",
       "0W+fWmJKxUqwrNYNTZN1Ao/C1O7wJZkq/noZs2N/wuI8u2ay33YIM3r5GaAf6GTuUSCeKbnXh0wx\n",
       "0XSnBexoKEVcvwRY0HHGhee9HPu9Bwc17x30FeBP1BHr0dxFpfPjcR+8hu6PrBAyuQF8/8uvjPJh\n",
       "taJM2pd/wLeiCYdRSbwWNiaToVv5lxpiUSgecs2wro6D3HlP6d73zdK9vlSKramKukXmSwDIjZpP\n",
       "HSFs1SIH3oWWUgNn2yWRKGlCTDHqlSAimOa/bNSkIID5iv4SpK2Q4kpDXMyi13b5Qcpemp+LuRNN\n",
       "B4T5D0NuK/uomZYWwil0mcrHhc0dsXYMzSUOZ9tj+a7nI730liU4PgPcljcGRJQKrNkRrkFZUB62\n",
       "9i0GGFuaoE3A+lhzo54ZaMLl3AAAALxBnrpFFSxvAA8wmvV2U1Tv8MxtaTUNPdgyBg94p2igsIuU\n",
       "qLC9BQmHwb+Jq5ZlgXdkF1BYcUwt3ViY5LI+Joh4zH6DNBm1Wn2NoCK5rJ+7y90mmP3TRo0d7Iz4\n",
       "pT5AE1xTh5H++XQgNgs52YtxUluJSU782NOOBj5tCSkjPmAk1cppqEoNKHW7fbAXnhXCVBZriM8x\n",
       "OydQl33+oez07/gZpGAFzyTASKvBR8+fURj45Z+DLd/yueipFxozewAAAI0Bntl0Rf8AE2GhR143\n",
       "PmMawLMA5ZJ3LKSUKOHFU5+p5MH+qLG5Rmf+3hy9t765k5m+eWkLLarwHZfHVg/XspsmRjTzJTu9\n",
       "nPjRvvhrSUC3h4dwgWdHuUjyc7Cw5LNE/jm956y4ogkG6P4yHiI7x9Vh3RZYP60wddcVWs64u2Gf\n",
       "Z6hZ7iV3buqoYTWqpOAAAACOAZ7bakX/ABNdMeU2o/Yql74zb1JGQSAhrRm/mhJ/UqvrJBC34mAX\n",
       "o0ZJYKth/psZmTmbHtSluv35LKbRXtDbV9tOpKiZAgRw6dT1eidwnC7q0mUoAFa6YtEzZaTXJVaE\n",
       "GaiKleP90snzc8HMVt+OagR+bQyYRoSqUj+j/cfqgKs9xACAoX19vb5V0b2GLQAAAb9BmsBJqEFs\n",
       "mUwIT//98QAA4gaxCfSynOBLI95bbgDlugAfYwRqiuidu4mDKc2gqFM3g9tg63T+93EOXc8ONLrC\n",
       "tYPLuLvCuYJaZJD2MEBW+ZHtDav9vVcF40tZZ8ny4UohEUPqA+nHC9IfjTQfOagHC9jldYCyzcqm\n",
       "dYqYGXqnblJUvLtxefBAenc9V3PZmNXS7GnJ5WP3ssoGC92Vm17F/BQsBc0T3CTKYMcJivsjy7T0\n",
       "ND/di2Lg90q9XnVeZh6bPPuGkoehgcDqVWL0VhOsdLLSLOFHe7Vb4v/cSN2Kkv8eunc+dD3mCeu5\n",
       "I4N2Iw/vhlRytve2cJ0SUMdsW53XkwkJymGwe2f2hBHVML/cCb7IdE5yNSo/oaps+/H39oauk+5w\n",
       "3KrWeccRiq6Rpfq9HQZk3+FWI/If5opkROvJMVDC4E7pYR/xy7ihAZ0RZV3RBGz8Yz3ZY/Q2IwsK\n",
       "SwHjGjx1zQjw95ucdsyO2Xvu6OVkXs1CF4ET5rodKGplm6xxIaIeXf/dXy7kpPecfWiETruSQ5Ht\n",
       "9kHE989C6ZPtqIQE+SaA5DvuH9TDNJUtL2CblhhVporA8CXn8zWpA8EAAAC/QZ7+RRUsbwAPKepj\n",
       "tEq7q15+/sgh4JJYANOnU/nyU/gbI43PmrEJ4PJlXm3pSF6I45crtVRBtRBZAYcStuIhMlJwAEPA\n",
       "dxoKGjz0hBbJsSWKwjMxFy47SUBONBElN3bUZsiLSpt1FkEpjKoWjX7tOtOLttq8KzEB/I3k6vKU\n",
       "bntIq9XHJClGJ+36vVfUOW9umLy66mewnq0UIykjHl/aBBfZ4gdM0TKfsSSNTadXeyYVwUeS9igA\n",
       "ITg+7C2ikk4AAACEAZ8ddEX/ABNSEBuw5aaOYh8UaMSlHLGkrlkFSxDT0SOXnw9XrViIBYe7pCeb\n",
       "Dt+lxKh6F3gTiOo+kONSo2fe280di+njmcDtWGxRNDQdtuUJoFI/gDi7h6rYCjNjtqswsPmq70Yl\n",
       "Jng8dH7otwc5iW23D9Ed1YjBqAmaXN8SzY1XAMeAAAAAlAGfH2pF/wATVXwMxk7Nt6HxJvC2AF9Q\n",
       "8WQi+mUSDnPID+woj5Wb0YqM9y2fqaEZ1RJ/rrH+XSAh8vy5pzb1hKLwWouDT3d9QFcHEwyBihIJ\n",
       "GYNMMLcb5k/vn97WbIxH75nCeuZbbgI4GnXsIMMz/tcQ+zL8+MBmt5H07lsQSG7tngxy4u2Jsai2\n",
       "3tPO/3WPX+/MUakAAAHAQZsESahBbJlMCE///fEAAOHhXIHe0sG6XJQKDQFAAQ4qu2w6Zu/jkwsU\n",
       "mDuqV7cbRQUFF365HjFCI/SzCn1U1vERk4X0sF9fwcclSJyEuueonp9RWVrBXC9OePs5m61H6cZO\n",
       "AEeeXV4n3svhtq1uFDQ+vpl89fJ6qQAYbARDQZDXsTzs2ZWx4dI9yIlOSW2DLxizGUO6bKmAU6Go\n",
       "Vu7pRDIs3mzSo9HMdyQESZVI9WFkTOwqGqPeVT2IZYxTP6v8IiuiOt8nAHskSx1/ZJkXa8UxxBzJ\n",
       "oIp/d0TRP7+pLrXeSNu2Ugh2Gg6ymj/Q4IIgGb8x11gaTjF55Ejy3TjY1LOfUPoIrHsmvIeA0eYg\n",
       "vQcjTFlOHrWGtClwfLDEJ+JTGz1Wfjy/MrIGMViJy7NE+ncTc8EowypfOY8W/EbzaNAbx9PA22BY\n",
       "A10npWNn0y61RqkkkZFGHvYY0wUuuVZbsx7qYdpq4vtmhogJk1mJ+S03jd5ACpwcoQgR4hORbYC0\n",
       "RCFrJ6G715LTyFN0+QIoKPgP+/VF0vEvXIRAWDPLJ+ExBRI1PfB+IvdVSeRmHSDynUrEhptP3T4R\n",
       "LZtjNdMsOAAAALFBnyJFFSxvAA81Q6vEE/OY8VZOej7difSXSP2aEtiNe7oQ1R7icBAC4LA0tepy\n",
       "7ZdHH7wDWtzrdmFV/NKoH+5TAzPSvurPd0qiqwPI6bfxvkMUD54a+sg+IHClTRekcHT7b9Ax9m0q\n",
       "ZojLpwpV6lAtnpszz0RFqSliB9jVi28wDRmhDHcfgylYDCi8C+61vZaAtLZUEcUUwDJ7ZrwQoLz6\n",
       "TPedzV9UWCL79raj16SbgeEAAACZAZ9BdEX/ABNSEDdHhw81KX4zZ8LtonRS6jLIUq304bf7YaBz\n",
       "NV4slShCI/caOd9gHXFkCBlyYzzXgQ5E9caEZYrDD6s8LJv5y7n/U3jRz27iQYTYWAmL3a3D1O7/\n",
       "685h2QBz93MmPmlA74fHSxliNC5N2++LtSRW0PAirFn62vRF23npwaP4FY8yvTc/SRS55TLdgAIq\n",
       "lc3AAAAAjwGfQ2pF/wATXynjgoQaLet1uUaAoV0clPH09yNe0hXhGCSduC+Ti8nuuK4ZzJv1sCvm\n",
       "/L9Brx2RedAj/QYwX4GLg4jldf6vPoHRKQv/TRf5EjAjjxnxpW9ZxvEYgq178eqAAzEuIjpHIL4f\n",
       "LxwKrrUYCwS4DSu4Mrx4xad96Lz7DMYSCKslJkiURlZsGG9BAAABNkGbSEmoQWyZTAhP//3xAADh\n",
       "3XL16tgrKR/x8Rtdq8is4v2g2oACw1H2CX36fUdByp9fBGgVxMzTpM6lO+90zs7Kjhv6Ngy+EpXm\n",
       "rcRbA7xBF73KfPwHEDqlMVHU98neRboRUEFvK/NpPqJimAkp0AEeAUStRrIjBKOcnnEqIoBMIEdQ\n",
       "y7nnOCuy8XkH5g4JlMuKp9bE9jS/UNy8PNymzH4cu9GUQMoROQhJ/WyYL+yk7DW+hmSWbwDGqfXD\n",
       "rIDjWIMl2ZLVSvfM4vYfr4sqx7yiF2WAOpvIdFmgV0emhBlEMVETEJ/xQ8eYlE+pEpaGakbnJ2qx\n",
       "rXNo+Uehs23b3lr799zEePVUY73ZaxZmvTxt2IU4dXx013x8AGdJri6EWaSmBFUS1RDzApxE65XN\n",
       "s0y43J/QHTEAAAC5QZ9mRRUsbwAPNcqSjqq4QwG46U3lEnwI10FryEHnDm4reftDTtQJ7MZupBKv\n",
       "wCpMk73yJJ+EUEzJnANQ8ARWC9B8GdFG/aZTsRzCpBvJ8AEwfD9qMY3RF9Ey1mVcg38ZXowBKKIP\n",
       "rjRh5BYieTX8Ka+3zrJ9vR/5Rqrl7giON6ps/TuC2HmtSG4E3V5NtISKUwPIOqSSLLFGpE8Td4J2\n",
       "8W6E5upTPPnTR6SU8MpeA6B3Yxlvsn70p60AAACuAZ+FdEX/ABNQkbGycRO6VbOfpIZpBNhdq/db\n",
       "a9AjeEzl8bbBo4ia/dXgA7MDmcEKU1iKD1/d762WMst0ZiBDm4AgT3YVYoJOJRtBcGtNeooHVyuV\n",
       "TiZmDMilz1j6Ulj8Un6vBsuWHScovX2VCTLmCteTEQUJ+hQJNLxlDW1fGkhBdD2bJRj62XZ/VpnZ\n",
       "ISGJLBL77ikcldFv0XBBPlI/DK2BtpKZ1poA3v2ErPSBAAAAlwGfh2pF/wATWw8ZpjWN1X/IdPE7\n",
       "ZRFclVxGTDABhpvIbHN0fJxsrhkFrGMCVR19Y5+hJ+AUAu9Nn4wADYdWwPTR5x7Lx2GRkzIMC5HE\n",
       "Cr63Trnc0+b6V2De9GQ5qsURk0hGHLohhf5Z6dwy8lHXQgehZsM+0wY+TkxttPmg8iqp/yBqmyTs\n",
       "glvTB2VR+07jm4AW9a6HS8AAAAF/QZuMSahBbJlMCE///fEAAOIl1W4IaqwjRKa1yKzd2BHYdDmx\n",
       "LfKBZpOUm4L30zph7qAHDoH+5kBhipTMCOI9i2FtZVwfo2KRr0JE0gUTE3C8XeuD1BONPO6w18qf\n",
       "6Nc54z7WIePjJgY/EMjd6J2BrKf8NdKwTqFovmx/Zne5XInu9sUfEODQG4YUbPVwHADfMPaRMqKH\n",
       "WAteOlPWu496ilqWuG04yAENxoTkrb9Hwg3gU73nNBxcJ0WMvay9PJS2ECEs1EWU9TyZgfsmCJzW\n",
       "/ASBPQgG8dFRSVfB8X9MBlozPMvqu5yh2ySdGK60mX8xPia2+9Fk4ThKLUjNTz8AArmfBMreN90z\n",
       "gbVSQEVB18Z+nGZrtItyFFxbpyvir+zJW3jOXDIz9R9ss6SwtnI+YVS/tfp/VIoMxn+5I38ZxPo/\n",
       "rz0Md3W4aBIsyAYfKdh5T3Ja1HMD3jzZ+EtUOiw6JIQm5mNIiNvb4BB9GEqcBj7pZr0088qVuHeN\n",
       "pVEQOqAAAADGQZ+qRRUsbwAPKqMrFfR8MUJAxaDknosK7xuahUMlUVpKgNoMLMW6g6HyMwX4BMjZ\n",
       "fQFPJnVxu7Ak8Wh4PJfNBD1iKVHZ0Mnk1why2Vi4FARtw2SJekS0bDXe58/Off056kQsqoJsUzl5\n",
       "Cf1iZOCxsxEydZpdr8KxnCW9X15pkJk28lEF81BbkgAhpHH478hoNQbKq8CIV5NS0iHL4SUAAn9M\n",
       "ZBVEZNnQ7Ev/uEQlDfIw1BziXofWlHB7Bz8s5AdELKQZMFXBAAAAmAGfyXRF/wATX8w/n9urUBfC\n",
       "F4v77TrhVLO6JaC7GeXduYnw7UJ/c0uwrvu87m6/bGtLjrXKWM0c5J2TMV394AO8sRBGQJOH12hy\n",
       "nVbcKCX/ZsF66ekpiX0b08mspY+EQzb9WWrOzpByayg/yC5z5vgn/87ef2dWJC//nLVok4AGdtRn\n",
       "eRQagrQMMlLoN/ZEHhVU2XxtwEPAAAAAjwGfy2pF/wATYYSfB/dSQ0uTvnrIa3OutpwwCFkjyIQC\n",
       "Ma5XFSta3DtDiwTObwpVEtxa//XexWGVQkbtku3E+1l2S1baMQEg950Xr4INmXWgZiS3qYpPSfOR\n",
       "zZSyEOh5VxqAVTNFYjGP1SS1M44uxhs7bA3IZ0PjWgvKCLgU4Y5nEVCUZ/en6TEks/HisJOAAAAB\n",
       "NkGbzkmoQWyZTBRMJ//98QAAVE3iaLPVaxGjbRHBUf8aID+pfmmLzO5PCRsN6XMHtBYqjkTylL15\n",
       "4EXp/QHnwVaytBFxc2sKGIJ4I6KVYE+d/Pk0Hl+D9D+ztnBSvwy0AgD/2Js2v9hH89nfWh/ET5vI\n",
       "bmhYjz2r/xK7v3y6uRqa+frtePhxlUrCreFUKkj034QL/RE11GwQ5l+/cXD5cPGJUOo/XTKqbmlY\n",
       "xqfNILiQ7pmT7XDebvOfSbO8hRti93p0fJTfDLB+t030PXFF0K0uRNR90sdJZgUTb/sxBTErXSaU\n",
       "kqPPpTfjXtbMyh6Hf586HrL24JWDsHMrAHNTgyFjXVhAo7IgnSH++Y1hZY69UjbyKZ9Mc0I0MTte\n",
       "3vrSL2DECfpXVKuQ5bSvGnaTMJJwjllvcGEAAACYAZ/takX/AAcVsBLUdM2OeSDSXBJ8ravwf8eX\n",
       "RMTMmP4wu2iTRDmeITbsYYIyM5DL/AgjM1pcuvBnjf7oXeXT1a9klD2fCs5K2YbSheHDcP1xu6Kt\n",
       "uhF3i1/j+AAWwC6HI9ZW/aohU1QJXurzOupnHOe82W9fOHO059mP5iO6nnCW/A6GmXT8QInC2ddl\n",
       "OvwN9Aam3OGwJuEAAAGjQZvySeEKUmUwIT/98QAAU93hqbVvQlYx9dIzX++Ase36CeWp6gJ1ggeI\n",
       "iAtomo1cIYxfzCD5Q28FctpLrBh7HIZdKiXbX3J3yNTnG3CFE3/EmRkD9KIB8u/2xv9guHG5fmSF\n",
       "aA8eo//0KX2O62GcVY1HmWHbb0PzvCXZLRuQBJHbK1yuAFHJulZ2QUW9Gu3lph7AOtj+1AlVVjr4\n",
       "GdXm8pOcoOr2EC2EXhd0zSj/8zYHNzCnUv0kFAuX3pZoLyxjI19tPL5F3dii5agFg1m285kUlLnw\n",
       "B8LDyUfel0fD4sd+k66IlPhhRoBjpwS+wC4cF7jzfcUH1sOTeXWMci9ZWWIFlHT2Uw3FtW2uGeOF\n",
       "UU+nySsThmWYi3urvum3GGn3sA+Xn0NCE38RINxNgTVzXirgc6vVSanhFS9ZhsEbdRsILzKjAK79\n",
       "95X0He/KojVinKVXcg1cwBY+tsV/I+rGaSDvONuQ9Gt7L43f5Bk2BVI1s+fw6lIo+F4KTNF5GRzJ\n",
       "FmZzOnhzned2ZKOFijDc4ukDjL08cFC2wcCn5GenQipDouEAAADmQZ4QRTRMbwAFq+jBj/HU5xum\n",
       "RGrKn24HZEZ2D9Aq+Ez7JpQmzgUB8IRTmgMM5bEFAAVQbtCsNF79wjScmfx77ns+3LUvGI7ElJ1/\n",
       "N8M8OqybvFvY+xwjJgKl7ZUlvdyBpMlRbX/dEhg02fVIdCabxtRvxnfLv5hU7G6n5VxTbnMu+iRI\n",
       "a2F2FB+Fg+VP9wbUCUsWKuAO63gX+NVk7lMLnaWGIVpwoCQ0HD5NPD6nbHCUhhfswHiuA5tRLco6\n",
       "nRxMAfG+AiXTAAgrsUV7SKp55+QwBI4uvugXmf/rynXGmEZQitXEOkwAAACaAZ4vdEX/AAcWGtQj\n",
       "DCu9p1M/AeKqVFKPVadwaNbOM8+8wF87eLkUN2qBnGIMaacGxflQ5OCnQjoJP1G567IeRqMXd1aZ\n",
       "rlVif0qHClTtgx6Zx6VNUfVFDQInbXapJHIBcpM4MLoHxYHwwNO8xcKKUJpsobTY8pNLMNPgeoSp\n",
       "yjOE9MzjA6MgqWh0VVgG9uZy2E7kfCaytLar0gAAAJ8BnjFqRf8ABxU3Oa6MuWVdJ4xBRGWmUMQS\n",
       "hS+cjNLf2lt8YrgmFRcorT1wDcMcoc/vJOFdfneoAR9fbEbRhUc28AczOb9WX797XuJ2pa5pdgEc\n",
       "LqW2gRJeyPtnu+2e3CqWUr2aOfrb/+y/77bw6VVS8RAszP+WMThG2+q1/0+GTaOUHb5p/7oWyXHW\n",
       "nM4Op+vEJtUGHAnYNCwUYYotTSEAAAH7QZo2SahBaJlMCE///fEAAFR5PtZjVD1h/lYA8qkGVnso\n",
       "JggKqn2IYiAGwy/LYtDTgWsk/5Ocdn56VvEjtl915VjeJ4TuKt+cih12SpiYZLNFHSh5eRHH7wqO\n",
       "ovixDC2TcTPXyiy5IMdIsae5jbPvg052aGUkZghhzsOsUhbUHG54efq5BnlvWaZ3/qHPx6lE69iK\n",
       "K5y5/elF3WJ5O1KMZrnDpWNUympY+AM9cUX6DnkZsaK3i/J9Lx/mQTG7xLwyYLdz/Gxqk+57zu2S\n",
       "aMCEVXAfZFSqtnl6T2x5nwxVTmt0kD+OO26mR65WKWrSWmmrsI8yMN4umOKvKeFVIJ4bVy/c/A4w\n",
       "c/O5rFESd0AOTPGe4IJ7JHIkfFFyclB65CrEQU9x/hdUAzgM+2N2vgDYQqF7makPSqnuJ1xB5vR5\n",
       "NDhrdlYW9wh+LWHSjZ0PhmuWJsbJD8CUSmnahBjqhD7Z+X1S68hX1WxlGXmzoukMx3tlR9AGHKFr\n",
       "Y6RFn+QjBhWq5iQ8y5HP93qUCVmeGO69SIVvPOH5yZNHTfsySiYU+zgLm8tNwrO4GS0Hl3hNQO/X\n",
       "EWO2SW7c8Sazt6RrtWW5Ga5VKFtcvXYOCm0umonBHxsuJ9BwiDgQn6hgmrnr2H7TFNqycg3jyOYU\n",
       "KOUcKXzX7/VWG80wduhzI9mYAAAA2kGeVEURLG8ABayeVZsiIvCnwNuv1Ttum7kAALJJaeq5Pvq6\n",
       "01yKSvG9K82ZDZROlZ/FqJEJTYCRmeKWBcd8jzpbCnUlk+pouLpFGIzPx/O++8pbFljqPMoNhu5X\n",
       "6FGrtI51BOLgc7RILc42C/JngH4mhBgqjus0l/SIwa2dcVZ0G3lyWLLULpUO1ggQ/u/9FVMV4wC6\n",
       "gvBD9wlIGMjWk7pEX/NmDFleA3H8HquhfncYwE05uYJ1Quty9iufbhCc4cs4fn/GlJ3XC8PlaUxW\n",
       "2j1gaM8s8obKALuAAAAAsgGec3RF/wAHEAErLsOrgw4PP9dEYZRGv4LWWhHbM4EiAVHRFUAs1SDm\n",
       "ciWkFl9E+F2JUlqJ4PzUAIIpRew+wZeBXEt+JqJwTZgCBbsvqKCuya8PAVUdZW83Ihz2+HTF9KHW\n",
       "+eN9fxbw95sYHeLIFK3Z7d8Qua4yihOeMMqVNhhuntQUvLhEfYKvOiq6qIl3HXCperRTa0rWaYNG\n",
       "2p8eNiZvxaJloRkDqVFE4oPgdP5ApIEAAACWAZ51akX/AAbnWw1VGuaav3ga0MS5O+Qj96Y5gDei\n",
       "3m+39Zyna31UOea/3tI+yNRZASGYdXbmsbd88XJXMWADsEGTAl27C3wvHbedguFFndkyZ3tc2zk0\n",
       "m6gFfBplG1DfYvMwXXHckiWP32SyyIubYzhfwjAqWr/ABku58nl414/dGO9sIuZj3CZkEYHfvdBk\n",
       "syfgagNWAAABrEGaeEmoQWyZTBRMJ//98QAAHZtIHxUDf2moJxSAwsfku6gACE3FARn2pVAJW+pK\n",
       "bzCraMxYwCtgXeDsabDQWoFQeX/BL1zo1wWpWkOvtOZwbat89soGbHKBQadhI3Um1C6bcbKN8ebj\n",
       "sGxce0gxE+GULDWGxEhWtL+0fcyNALt5dtBMauQQb+DTXCVHksyHMIEeBIKS/FI+NutP48/Qi7TD\n",
       "GZmSv3g9C5Nupt22HHzhdyvjI+zndIZwXLDTXnJKBJNY2cFdnHDGay7Q8FK9/yRQoIEbUFz2q4C+\n",
       "LHmNXka8kJhS+FizQBpeEt0YCXJ6jIw5AoMmB38+rWt8m1uusTaf4OPCmj8Ftvn9lHO+6SpD0ET4\n",
       "KniInNqDx+JF+IcdY5j5/LN5sXYL1G0GV3VF7fTpw7iwUXCW7oLarzcCNgzsUrmpgzCZt+AI3zLz\n",
       "wBHCSKM25aMcRObIOMMv6qiDgubg5VvEjdMlViGQpCzZHjZz/DT1lLB+bu9E/F6f0HuJsencw8J8\n",
       "lv1qyssLapCM5hF29WO6IHzhRZy+G+qQ2ZrI0LfC5mKuUlD6ygZ9AAAAsAGel2pF/wACjbjKzdP+\n",
       "cHNABOSXX4vUJsVeUf60oAH+rV23YK740iTlcxZHmea7p5cDsEVeEig8c8Pt6Np2MsvF18QtA1p/\n",
       "5Cnxvsnj+BssjNoW/VpaISHegxykAIndBCaaZ/RpalT0YXDUMxgMHsIOD5Wm9lWEmyBKJA/ANnNg\n",
       "/ubK+aSFLYzUNjej2sUIlVztWo9A98Ehy6wLZQex9YH52lXj3hAWB+1mS+yUACRhAAAA1EGamUnh\n",
       "ClJlMCL/+lgAAW0QPn9lw8Uflj3gcYoYZbHUFaAA05RHkraCV951elzkT8U2pWTaUi7U338ILUQ0\n",
       "Z9yjjWkHy4CiiRJXwUxpGTngWslAsF6+BHFT0U2eceYNZiuF5EhO2opsuEvBttv/goIRt7xKH2sj\n",
       "+dHgrMOX+RBB23psscIZY0lAtrQU7ZRZSzlugxg21rgH0hjEiKkIPYa6nO0GmjXQI6WNULFk8UXC\n",
       "yBddwr7bNQc/8wE+ytZZg70tGJgY4G96ijqf7qzoofh6DlHwAAAdH2WIggAM//727L4FNf2f0JcR\n",
       "LMXaSnA+KqSAgHc0wAAAAwAAAwAABIRT+ionVsXUeAAAAwJaAJqj+POuNQMQCX9tBwVk9eTVQ7Fr\n",
       "EgiO0j1NwcvqwQ/Qd/kzZEl0CJUm5kF/XW17Zai6CpW1irygs7JeKnV7FRR/G/E/DI3x5CvDrAT+\n",
       "xsHBsEGmh/n+11yUf+NknbI6EelZAJcdsaf/h6xHh6I9dmiTHCqp4nAddq+WQy5BpXVpk1mRMkJ4\n",
       "g7+tIXqXj0JaI3MMoCKNCfDf5HPyjcE2ESi+t1STNkj8IuInUtwABKBsX7Dsz6Jw2cRzNrwt9fbw\n",
       "4wu7694s/U2nfsC7dYUHweyekrPEl2RQmlSQV0ksE0DcHOxSgSS2MgUkqoJBfr35EutGraCU3fXf\n",
       "Fkb13eU3Ff1tlfu/XOACVfkDArF/zMfwoYEreGajMrLpBOj9sB4R5YODTzvigSN8Lld6RWwq5inQ\n",
       "JIdtXYnxP+vyRdUb3TArRHX/oxIIJofuhyrjj/pb0DOM9CNM7NQ9aZsDgKhPb3Ci9Xtkym+MjcMm\n",
       "bvz2YdKdwEhROg+TtdEZ+mFGV2SLSgNYqjj/MZPlNsyc/H9RO021SEzwwdBo/QY1CmNZSoJQi3r9\n",
       "ps0F0NegUvwJu3zvG8o/Sk9d7MrDyEzG9nxD9rJGthv5X2dJ2lvtVN/IcbkkOYasi4hL60+uBc7a\n",
       "g0lxfaLud6UEHgQ4QkO86znpbxjwbSiaoUSRbRRrRni9Z/PEzDq2/5O5m0/mWBMFqk8ewLPfRwv3\n",
       "RxByJHoPHHqKX88Vf1LuEc58FQu1qX3gwccrZ+xLkmfDY+qJ3yfGFZR2a9McxILM6e0ZeTK+AnRq\n",
       "hrqRt4sSlphDnXCtr2ucyFS5Lzy4ZNyKq0c7NOlx/4F68ALGD7d3LX9iX4KR1jvH+WrEJ9DqVCNw\n",
       "5VrE5I8O9eNc43vIWV9FGSlZE1BVKm7P5pG2fr7jf2wrL/SyzWwaAcnWIkt0MIkB7zIu3QubQ+fF\n",
       "NLIM+ZuWTffrOE1DwCubaztTYsAKXEO5ddkWH9Pnh7TaHQCaPVx3epaqeH58dBa5iaOSTeWGxqzC\n",
       "JTBsBOjGJ5EJ8ou8l/USrv17GgGwC1BgtvGHYMdOh1QyGvWNHZUNb4BLQwHwfnYyjQqusuqkueOn\n",
       "8CIbZAipNJ7ry8td50GJKycXQsC96z/MqwyRpBjbgWUhr3e9u1+ulBPlnIYs7SEuzVGJVImbNjS0\n",
       "p0S1e8U13x86uaazX85hUN0rhvPVFGnEUfJOEe0JgkGPhBpxMBMDihhpDR0Ea+AO3FqvhkD4+YTk\n",
       "olPDlOmILla0/bQg0J6baWUqzXlQoJRsz7b8XBblx/d6gy0rsM2ZqbXpaKKeCqlMeLMWnM+frU0c\n",
       "zK6IJKpH9JTw9TFgR/Geu+cP7qkD8fzKr4+h9B1l2cBzxSBMXeIBYRRA9K7xRE4FY+QjzesMUbnL\n",
       "eVHx07IzRHiOCzDzzm8bc5AaAyFWndYo6eDtIZJq75wejPo8UTr3wSoEj+FGlZBLX5lsRBfJ0wy9\n",
       "JfhRdY4kezEiQsilO8DDu3/yF2eu6RbkSRr/yAFjojBLBm1KUl+sSxuXRpWAtTNnJ66j0U9nIVbl\n",
       "lnFeqvpWUbZXkFxZOm4Ntl0FgwPHEpsdWUtOPI7K6NPZTMmT09FEVzQLEj2p2SJ66tWsgBcdnKJ5\n",
       "Gs8/EkFvM/zS4YdQopod2g0yw4jrM597E2/34wfZpnS/7yWCEEHluEMLv+ouHWjI8yQcChMDeYeV\n",
       "51p/BpyZjSDK7RfivcknQ0gtC/Wr9d5FOy9Q9XrWuisSlXzFaqVM7AbVKD5e1+D+xmsxczIg5Td7\n",
       "DCJw328wHUT5O5/V79748Xw8160z/0UcYM2G/O73y9+efaQ3r1o7LfLvvJttDY7MAlYxpHC8gEGM\n",
       "lheALizLSosx6ShdwXZGROmgJTTl7UnAmmQh+6UlcYO2hlCdPN1DgDVtBMhmvOehzeWTu4UtTkk/\n",
       "Zp9iKdjvUlmBBXkXgjS3hfGG/btpkgiTyupMMbsyUrcvhT4c+ofilslOgzBD0YQ2F9goU1/Q1P4U\n",
       "917iMK+lh3UWINrUovtbZq+j0YFtot6Tt7gmM5IRNAJCmTMngoR7i0Hjdw4CgJIzqGa9Ojv1ibAb\n",
       "KPQ5gDubxubcVgOdxpYOpLvv0k7grMec7exEp/+NI/B2ZELt0jr6A3ZWfXE9fBGCR+6Z/xjI+9AT\n",
       "LiUSS9ixgzRjnGUY14ywMq7M7zsJnsZge858wuCASRl06r1SNoJftpL4Y+4uk0S6UIsHuVPXEknM\n",
       "MOSCf9DGIUP6GnZghJ4GRGjxQRNR11fq1cLDFO1hAio/evlKCuzEZYNrQpMfXqc045NFw1Jj4Fxb\n",
       "rKPUgOppLfBFLU3RGh3FXAWoz3suVhnYzlwth2WAK+G0CK6GDFIxDcM4sxRwq8m+MB8HNkdURc/9\n",
       "6n9SCCOwubBMDoVBOvxavWDOnrqgUo4fTIiujA+NbxtsPtk//tMQMwzkg6xVQ81ofpLjc85p0Con\n",
       "Xsr98EjrZogf4xi5Tst9Rms0VLnyWI03emYv8+HXeBDSx6methLowDmuPy446sgIKXKMzClebVow\n",
       "3ZZZEM0UEDd4P/4zv628+tKpASFOIt16xHYOquzgV+2yt3TUUyuhdQXX5rXD8IJN354D8GwbB/lt\n",
       "PSmZqvz/BWxDMCym4IvawsX5FlBAykzcPuidGsi7ubdh5TEyk5GLCGEdjikqOlN5u4KmyOHB4D3j\n",
       "w0lue2rKDAYNovi90PqyH048Coyr3J9d/6w6vYvUi0aPLIABuqGcR8MwV4tvUfFNf84+lN7iO2sA\n",
       "hWpEYyODdgxXv/+uCJ9sZ2oD2lOehdCyR1jTZ57LMqwQi+huKURA11uVRtHBaf2otMjnY3xQ2f9s\n",
       "4fdh9/knJo0LWHhau5nfrXIgDNBO6E7GjuSqHSarVsAaJzFYNmTX5dK58SPkGQJS3VD2hP7GtcXT\n",
       "s+SVEhSMMP8BLHAvmqT2iU5kNnQO9XLcEWVCkijzat4a+LuHeASTxgDrpX+me4yJo2RpIzuX/ODX\n",
       "rTyJZ3Y8EFJYYjq/Q7mGzES2VOao9AoljclhtEB670sN0kP20c4OHwl7BsW0W2wzreczklk51ht/\n",
       "8Dh7fmX9sMN+c/TDTqhMHHys0FXgU6aXtprpw3xKhNwMml1NvXqqb7lYxmeXaozclp3tFoW1ueeQ\n",
       "pgwD4fcrW10kFUlNZuYLznPRiv4O06via3Uvji1WRMm5XlvmOTHecGQIm5+qIbbiqghtjY7znPXG\n",
       "LmZfZF0tozvxj479oWJjZJ+e2SPsEJejfzuDVVtuZqYcndMXKstbbdARzxdVwvEbsppIf7zotGDU\n",
       "hVhRcx+3/j7Dz965KmGuiQvNw5hbdJGOyTIv7AecnEQfOZoRZ2G7XZMnXrfeMaTKREoB9NvtYvwS\n",
       "OyR7U/eqIFZeQxmktIasGSoywMHp5v1a8ORdWwzM4lKYtnQpN+oasUblr+4Rluf1MJ2XvjFSKyn3\n",
       "w8QPZEILtUl8Ld8YiodnwIa7zkQo01MquvBGjSGzy9tHCp6kntVDJWGbKkLrUVFDzpLzUkT9eaHW\n",
       "mXK6Cjy7mkmDmj59JrrWkB1nzOobVWUPbc/NlwslUaGwH7FmLBnyToHbiAMVmIE052QUFP4EdBoz\n",
       "Jh1OIVRqR3mFu1m/Lb1xCytwmxZUBoLWbuss2E2Eq78Y0+f4MC2t5LljWSFDkAbgvnLAZRyg2cfF\n",
       "Q9V0pcIPoE6pFexcekeTkyU+N2yiTVsSpJ6HWPs1UOsPTh81AhvWuEDpGFzhQCiY58outCsAXk9U\n",
       "Z3ZsVpnIOJgmWwYMM1NWe5XloeMlmYDgAQGqWND6gJoLLmyRkh3jRR/4ghTxD/b3zxuS1W+nOCC7\n",
       "k/XZCKlXo+e+WTULoG+iLDnQfeko+0WfxMXi3wVo7ym9Ebi4AQqrKCj51GDLtG41UB3NjvrwBF14\n",
       "pvcn8IW/hutP91aZB+UjvQ8Btx6PdTPoIlFIICeDIGrQLAquKIMQIA0qRoopNxsy7ehh2xCDwWNJ\n",
       "COyntqQqfuzKffZsmqeEzvMgI/4+2k2cLzqJDQuyep2jlQrePOuhHlgzw43nAi9wivy4EEVLJNTA\n",
       "SwhU0JtvUHSxDeLV3k1KF6itjYRgWYkYm1G5RQ8unUOqfLdReTh5glOYW3Vxl2b6eVqvjKqK3FYs\n",
       "QduSaRY1Q7cEAabuiy+aRO/6MleRGZMOktAB+EtljpYNEww/acHuzroWD/wwWUhIz2neZfPTi8eq\n",
       "epmkag8Q3fij2sAlXT5xUS9nusAlrVCuVJbI9vZYO08yFpMQRXQ4Yq0rcns1v0IuKRAYXJTQxXcE\n",
       "e6h+idpp1aW7wITHbOAEoSkkbVnQKLlTEShKejs/PH7ogdzFSpOpj6bkGqE9RkBSrHxaSyNBQIeu\n",
       "tO1koJb+ri5XscWOWMAY1aaHIt26pENfgTvDbon1LIwAASxCRTpJNrhzs9XuTyx/m1qc6/39hRmU\n",
       "UsBZWnUk0ISyeEBRxuHQDP2lIB+rNztPiBl0jpka44KWTfFSmw55hceJQBdn6Tpro98T0gXBC7F1\n",
       "OoyrngYWAIo1XXmeCXsscUVL3RDeN1V39cGcAvhqom9KWPQyPQVu47FYwXG/xEIJYJqYVNSbSxlX\n",
       "vsFc1EebiOV6Qsz1KMqhtI1eEgMDdSH7w0nJgnEboAbiFYNn5QN5Ofn742qbBbDG+81qfI9ZsxeZ\n",
       "pe6eYw7vWd4eVqZDdqVI9zKZARq5XLYHk64m0UfrhD7xPfrdibIpidnrRE1TLV5K3WVZbXKt50k+\n",
       "KpkW5ffzLqVPlgcXK1kF9LxYUYPV7RSPCpUIALouH9VnqtT9NTaPfmIbv/ll2m2/IntCQBZIgOdy\n",
       "dOkDkHhXfMnqzSCxTf6cINn4bG5vuAr1XV09Hw/Vc7/mSqxD6E/D8RLaMP2zLvofHAFq56WjUsWB\n",
       "L6b2QeKKVKIpuM2om/ewgeRPXvIz8aaS6p+Qw/6peKVRPyu7Q5ynKVpvZhPetRBgjOHGqaxLO7tQ\n",
       "95ihavWWjZy8kjMaYVat69QcCvAAouzOYgyNn1yT0RYlYsckRXoY7uYsO/+F0VV8GIM4rwKBKs2r\n",
       "jHuFM+1K/IZi9/+auiXT6uFywKSQwx6xF5A7j4wO6nzAqD2pCGioFfnSv/JLib/agT+NGeBMEN00\n",
       "zg3VJQoTN03gt1FSpK2hAewGyskL1ZmsgLVB4qYaX+Np01/1HKoZyzTStEIwjf682ApCCJS23OFX\n",
       "G3shmTo/+shLamozB9b0PzN4zC5fO4CForTWtiBk/swkiZ7NusAb1v4qFfJKwxIvkflqFAt4PAr4\n",
       "OFFkDBNzAkIbN6DV6OFyA3FRrOvU351N0QqyQU7wRFMpAfjHPUiFx44OCIIzhLBnM9hICJMYPnFW\n",
       "a3ayjVBYsghVnMVifDADazcRIpVug/FZwAfoLiV7BD86R/gjst4es+zBhUVKBgLXOh7x/hKtl0BB\n",
       "enrVASHB5aZNJchHInTmjIO6PzK7k/FZNXaSm3w4wAditd5Be0RZ5Q66s1VsK9t3Bi8/AfiuUrGp\n",
       "Mk8lzfrbQR9j3GB3esy5IQ1ep05461gbTxnRmVHLc6pz1j382oj5K9o8BVNW7a+YlZZ4Jw+d6ChX\n",
       "pwID9NS8JwpXaHmw0KJnxnV/nvVhbIofG6aS64v1LrrUEknzJ92M1sKsRJWsjuJlnhqW60299g9/\n",
       "3I3fj41qwulEynmC/1/w4LeYIVjW9YRM5FlLeCgBkfQlMKp6vzH2Iq3y0yMDut3qJGhrb7GJmFVl\n",
       "3UCjS2wU0ui6KQSszFtc5sdL3kYT2/XpqWxtrGJR9aaDJH9eHAHJwvdfBizFzLKODCnfjKhlSuiI\n",
       "YHveu1eXvdMsno01794NfgoVZVLSmcda/I+GUEiUW6U9c6qGHnxfe1Ev9oIOd5KdoPZLo3sYZv0v\n",
       "w0aGhKkJntIdamUHf8gGR2qHeAwuUde+f6uD6x+AbOtMUJuX6tYyYJbjMKZ5CBw7fhIUV2MwCBBX\n",
       "pm3fw/3sLRXRQtMJG4odxzZPlbsM4h7Z5WLS7GycXrLMTsNu+8ycGTX4QdV6mQ4c4+nlHCUbNBAO\n",
       "URzW+Yt9Kdxw/2sCOqBI/n41FUoIZgJ1VtrLyl67kctwkuO5jqEK+bULv+eKsUYRwlWio3gwJrtt\n",
       "kDICq1aFDN87ByHaFf1i25CQc9odRac/43MG8VLSLsqEpMvZ8klQALcdT5SE5Z77HWNh9YL+FCoM\n",
       "ymBfUJa3qPjlzbrdCdQXPAL9V2YrGrV4jvWxVSXbH2ysTyZIFU1oxsUbp+fdt1pumdDD+H7k5pql\n",
       "vZPC9zOQSiAtY4Ez2yAqKpt+hen0tgCRdSY9hFLgJK58WBbH3EixGtlxJHXsr3N4BiUjzw5IgvlZ\n",
       "oAZo+I/Q2vZaJe901ZXuNa8zGR8UV11nCOvO7OBk/rbQ9JdlTbTMQnhMw3f7prBCYZ4YciKzUImY\n",
       "ckC5P0nuyP05fu2N1vNmOR9pAbsVN4CDKaSOTrjwd2NE6BGqPygM+FYB1w+pEqK7xYZqtoqP0mxZ\n",
       "Q3HzWIDAqVRbfI3kYIu5Rp+AG1Y2piaq1c+PabjzGmsEFAy5IJPKXBlEd439GbMpJg9XoJk+Y8hd\n",
       "Pzd1L7xZPYj6R9tej1D5RtY/NE/5xHBgT2GRDykJys45SSA4Qy/5H9INLfcw42Cm8IYxUGetKKRl\n",
       "2GGiA8A/LTAxVqwuS8Bd22jD/mL2/cYxMvq89s6PPZVpgk5CV+UlaYOK15CcA4HCS+s+1vGVHtcn\n",
       "Trgsl10ddTXVkU0m/B+Y/7Vp+NSd2pprB60MBpuIk9CnH7CT5QJ35fBcawfMzbKTljA7HQbEI5T2\n",
       "UxQGRknIqbxq+e5BGPx9Zm8Xh8FrZkJjgx8f8uu3nUVTa8qYg/iZsFlSChMMIrkZv5C8mKgTdmyI\n",
       "EYPf5KNfA6r/9LflEanaPlfwpvc23V5Qm1sjM3Os52s5dLrubMSDR6ikgzHPnNYH+M2bQhlFyxJW\n",
       "GdMVDQQjeQ3zU/GeSCJrzdDsPE+QGSWNMunYH+zKBDEqTxdCZFLyFVBQsgORSdTmkzsw9uf749CR\n",
       "b7va1Jxbt9jnPx2WNnuJ4Rddgoq9R4DU+L//X9eY48RUsXZBusZc4xzd1VbelBc7RWSUh6p8ETq8\n",
       "wecnDoMfFJP3AvTkcCHKdHcsV3ikmf4KYLJumGWlZ0y43PiqxhZ5aZ++FUnwba7ePYgxguXrReJs\n",
       "3CIFJlw+aiPOvILdiNO/YfW1PEJOJS70NRMejJFIF657AyF3Wtru1WmMARZiZf3qOO8qoaN/wv4L\n",
       "GOe+S+exg3CpaibRgZyGWIxgzvTWYThUBk50qDx6RwdWFPbKIQEFsw4VXaGq5h/UZZOA6sCyRxF2\n",
       "k3C44G7L/xUwwTEM8vwLRP3a24f9C3rbdjpGDwfCWNBb1aCrSDFngedrshP0krdEK9qCJl7k+C0T\n",
       "H2absOmquAsV9w99F9oTBRMOLpxerPdaHFNk7uObgXWDm87Vbzt1P7IJ954435f9HzSlrAbTOvLo\n",
       "uvigTLvGdI1BlSXg7Rhwe01mMhk6Me+tBfIKdaES7sQA1IUlBV25xiTYh4BB6ViFNDKyneEQwswq\n",
       "IbjL+delh9HBoTTbYO2h52jw9IUBXb6nuE8IfVdkLv6myCL9F/LBGwrCLKpG/k/Ju+4ccFTJseQL\n",
       "MCjRMgIxi4tfPKBCf73Y73DYKTJzf67Qsb3ZF4ATbvaDkNNoRc1ebhRHTuf+z0xF0y3qzg916UgL\n",
       "3Ne1rpJbuPdRXb8IzY5Iz2I1PuzG624hXwX7y3QTeUQynX2TSm/YwmBIlCf0sjV1gW+SSPERmLoi\n",
       "1wE+lcpEoogZF4CJyVbaJ7aOOYe9sVcp2/zGyWnuiPc/rzBaqbovKAe8+f8SndnfM1EXwc87Jo+O\n",
       "umbLFFyB5M6QPNEJLcZJjS773TpcI+PXrPlKP/ksxYBPzDSXhtDNw0BnMa7hKauvw+za3+o6FNEY\n",
       "mvFE2T6PFTdchhytgdL3dnTdP5Xq22Rd7w8NHDNGVzJECazHSLefc9WLSUHO9x1Iw74LMU4GoGYa\n",
       "ZJHwtFIUK165YRFGBytIm0YONserNTc3zPdf1PqCVQkfZ8ujs6pU+wpqHvu6Hr08cLTZD9l+4LHt\n",
       "5Usr9fyjsyl+llL3Aa15dxwRqHOFL0f+KPhkDVM98dYeBJgdq0JftPCw0V5QJzL9rN8/LqbeTOfI\n",
       "YJillZM0/36/FQJgh61wWAJIF6DvVNraWJKQx4St1DOF3WaXH7HOYG0DUw5Oa5bKf8B7xvpHOUgB\n",
       "VHYkvg3nTWLoG2gqNnwbKhfSb8PN8LZlP+L5P4x8DbNMJQIoy9eq76SZ1XQxCNGfAJF7Exhx/+Ll\n",
       "fvDM8sNZsA9R0n8YY3OUWhJuDBH7gtq4G1nUlfwtjV6zd3AtGw5HJTNKrQ7OTo90y7UdY+Fugv/u\n",
       "ChVUgDcSiTwx9yYOcrTZVsZaK9hisqooNIl65kwY4g99x8tpSaCEHDtcYaIdtkZo/FVpAqNmdYHR\n",
       "sPCVyBF6VlIENjGdgmOXxlaoHjUIHwckH7lTGhPgeeIaAxTblWx0W7aizw9GOiJYqvhLzVa/89n0\n",
       "bAaKsVDZ4OKtkoRI9TdpRVqk5pxwgW8aEv7T+5E9jBXC2dLBrKwDpotArIEGYcDwcyHCz/16BMNQ\n",
       "BuntsjZFnWXHtiCiRybLrZo9O9Q26LP+lEV5/W9+8vdOijOJ4XMIhnpJ9VfFpx1I0q+p/rfNDIbt\n",
       "3uZp8hzBvk/423gxSaFsmNb01hHmNm+u0p/M/Kqtn2Pd64JH5ffNjLik0baob450WwG2VLkATdqj\n",
       "R7sjEtSgGm8a+haWHN7pj9YwR8mkoHsQDn1JKY/ipQ3Rs7IWZEzmHbsTOOFtpf0ed1BDgcbkrotf\n",
       "vqmcr+y8PbuYoJZgNVZ6XnQl8h74ukg20dyLhmqy0QexI3/cuRt3+vARkr80nfXc/VB4KcCe2R4z\n",
       "C/XdIYQPeFVjWONdvuGUshzZbLw5z+XNffuN9dfzEtzNpgDyx7vFuoWQoju72zeBo/74R2LGNygD\n",
       "FcqFu9M4WuyDeXd1wR4vBOXCC+xfQh3ehIJNBuaN1LFeW96AbH9JrANv/+P+KdbniREqXG7Q1Drt\n",
       "F54vF9Bu8ShyIS4aU7cHTtjnUVXS9JPvW8TxlzDQaLfBda6Odl8QW9mkLPeVjLhvWR5MwzLQVI6s\n",
       "pmxG1sRrpeN/fG2vxuQgcH36/HSPJAAHBlTAPSqKhaDg1BNK51FWKiVUpuHaJ6N0moFY654cVWIs\n",
       "EOMZJv8PXpoG7X+hD+HXsOiSsebJ+EaUtG1oA3ekAb02Uyb033PgztxQRPfppd4yBzz/wZdcRShx\n",
       "126hdGjuVSR4ly8+2yXJ5ah1NUcuaHtvf1dWmoISRBQ+NZ2SNk5RPN03dwyt2V6iymAPCUq4cHDF\n",
       "KirHzB+K/hQQcmPyiSj8ED+VN7clIEexpgfKEw3DdTzzpf6/NIROdq0/6hm6yeSlhwasjA9gqSY9\n",
       "Fn8/N5okeNPVIoop0rk5wGUekrlUlsw9Um+5Mffe6c4pswn6bhxVCEyLAvaWKmuZPQq4O0p/tIjV\n",
       "ERZdZxtGKqip7N5WcOGtdzBCGPHoFQi+M6rf7KPLWwiBOMlmyGYllgiOij9Hdw0pDAswxrAUwUek\n",
       "By3F2pexNjbs22Q7G9DBvXh+0Ss5bTt1XOqW79aIyM2NXVvzqDm1g4RCcQw8bWu8pJnXi+dIFGFq\n",
       "5x17+ouQhAGld4pdEwRUDAWWRy3p/qny2YEeCFp+0KujEgU9QE0x8xpkKDWO/33omQuRT0lkw2GZ\n",
       "weKpSho3OjjK5cEmiJeVOLCJ5iBAYVcU65JOUloAtkzqI7Z9VYNwpb2eewoOn5SxGYFS95TZk7LS\n",
       "95ZH96RoH8yR2wQU6FFXoYwrE2RTKgAAAwDpgQAAAeVBmiRsQn/98QAAiqzXQAgVnoSy9QEleEp/\n",
       "XqSQNKZeElF52EddudjbiFiE36aG5rJ9lPWPb81eF/uY2IM978vXaWx2R9oOflv9PO4/q6qkVw2O\n",
       "tt27dXzkh4u6PS//yn4jDUQ6MZtsXdCOA1Hs+uNQgzsc0dtQdcSyxqacSbiKmN/fJSPjLzHyv//K\n",
       "8ONHmw2yjFG66GwJkXYW2f6G4L9Il1rm6slNV7tN4pmYffMcgQ+fdzV8fryFfD3bF3qqrnCnNQf7\n",
       "geO+S9KydNwl+8aolLOtxPZlekbTkX3apb7GGpGppghcyJGeJfO3K+hQQmJ2BO829mRQ9nSt4llj\n",
       "BfDWw7NVmfl+qLJEJzBlYA/AxdGK5+25EMQL81sKOVPhMfdYTDH0lnol4PP9WVtUEJKk9m3GubBe\n",
       "ad8MU8LGL6QrJM9pSyi/oxy5lXDXbd2REd2LXnfzGGAntRDcqa0zm2RspDpPHFNML+r/AjspCDu0\n",
       "I2CcaYnRMEj3LCiC5SSteIbIXRXIRhoIQbrx4WdYqlNRgs+OVsGUuTtQE4shI1rrHr1Z7EanfLTI\n",
       "1/yqcz59LbV96FX61u2TI53440L2JnlrBRzKyFc4EA0m86RkA9ik5l0GalbAU56CvlRrc/JVqIng\n",
       "RBuiYAAAAOBBnkJ4jf8AGhqvjzhugpWioZyE8kTO5++BHgehPbiwKlR0CotL7uvN+EDw5MtdASlp\n",
       "bUk0tBCW5NkiHWLA2rqabG9LXsWEkmP6fhyF5FKljtv2+itv0sjYmeyBIWWJQKvmsrJMrNOtX6O9\n",
       "ORScitfPwCax6fMS91qQgzLOQKA6U4n/sBFHR7EUje4NErl0JESQNlxNECMqaK6pA7X9TVABn1gl\n",
       "M/onTzv9WLh39VXEbAjPfmJA1vmvuPo5c7voHBway5ks1Uh04BxnPgk7sq8J8ZYt/6eZ5W5hAgr6\n",
       "BXEV3QAAALwBnmF0Rf8AC+vUXiu7SuOPa5kgBLXYcjWl3pas/1zbAAIbYVUKCvpyv9FEo+qFu9f9\n",
       "slHwytvAsP/8wZn60Toau7qW6gIO+r/LVImjTHQKQY3HcqEmF6rfYLYrL6RjoWAoT960cDvrg6L6\n",
       "I5pc50zzUYHWEeZevFz+LJckOaPNqxQPnCnBoB4qBCvwPPTVbvb8cma9zZ72vQXwnuPKmXhmSi+B\n",
       "GNlv4VnulvTAxy+68vJt+yuIYAWwPa6T5wAAAKsBnmNqRf8AIEGTPcerfjBi4Qt3aovNRwHll0oE\n",
       "XPVGPyGKcKY2z/uxmfyIAGzjPg5kmCP5hyJaW5fr8jZA6l+LhefKBMHFBxZDvvpoCRf3zpePyHza\n",
       "+9OWfDPxj4Q9i3ICvKr6cU1trhzrhmKUeUvIRP57kh8v7DP7kv0K2kE5aAyf0Vj05b9N1nphVmKt\n",
       "w0gvpDvAM9g7yzSjeSiJiupi1IHfhB4O6IQABDwAAAJRQZpoSahBaJlMCE///fEAAYn03XxmaLDu\n",
       "twhGYpUp/H0yoeU/naCm+i3u4JjNlv1fZSmXh4TXmuYmoLYmzEIQk8+zpAqJLm/xJbeyTcwFW3SK\n",
       "XjUTarOi3Hdie53CWCFSpM4H/zpS4+iou4z3wKsXZHlDgIZ0UE6ica+Wu+QyUNTBq/CRfxjoDsSW\n",
       "Ylsmg0wGlJmljWVndZXzFikueW8j1NtLc2Z6WJ/cRhqa29sOt7pxapI9EnoS+kqjfEbiGl//0wc9\n",
       "vPOegeN+8UakZAFNfxsrj5CUXP2qLbC1uVrpiX2z6qqkVjW6Hu/TChp2Fe8wI8iKFMWm4j1qaPkk\n",
       "x34yHWNtYsOC9CUfrAn+OehmGcc2CYvDzrfNaSy9ochP9BbOYjkiIg1O638SZQ5L/PzqRz+mNGma\n",
       "FtBmSXvkzIrqq/z2K20S0jOAjcs/RSt/ujkSZP4Qd/BU4GhLGYjd/zPwbrOiy+t341eAPq1NqbKP\n",
       "I7Jz98t252FJ0Lrp1QREcAm+VOru+jdzbiTtALS49zdNsSZsnfhlzrUq8RnY5IT4985TKwR39k6f\n",
       "MKavoo6SulGOdfL0ru/PYro2L24d+OjInWVVlQAZHnkPek2QMwsFIQwgB/pO7MuDah8DW9qatyyh\n",
       "dkDwJGuqfPilBuVGyubq+nYPnIZ3xXYUlyQxfuDjWFySZusV88lHfi96r5o1cC9iPBQ349w9JXFQ\n",
       "N1+78c0FQLh5E9GnxHk9u/s3/2MjNYNUILUoUbPSs09SvFilpEv/+kn+EuaItZVg6GZ8fmuMVlAA\n",
       "AAEbQZ6GRREsbwAaXh98Ghdojmv7L31d8fGHHQ8PmfJf/bX4Ke2/aPU3VjoZIWfbqnSzD5+5Ud02\n",
       "fELAFV9YGyZOKxHPRG5aAXX8QDevodgThVMIoDtjm4VITZaOih0UUKaszNEtCHFFP7l/AnKFxQ0y\n",
       "oEN11N2gZMRIYoYp1EnQCyUohT0V270caNz7lVE4N3MMw3LsQDIr0NL179PRdTyhqbw+H7hERPYl\n",
       "2q7NF3ttgJrq++Y4GHd0A1cEK2kfBDEnsFY7y64F+jJN+vj8lBTpZa2dIRJYPslpmwGH68ciFuKI\n",
       "QcZMvdJ1JdwM0cYtd8U05ZGL5mWLEbIaQpSGs/o6vLXlHp/mT5RaSlKnXERJQ0vnluLYM9Iw14fX\n",
       "OwAAAL4BnqV0Rf8AILTV5Y3bD4pZA93SlISjjGlz1LbqJIRXn8+RrmkxJ8sD99UJCEcLsZQMVIlw\n",
       "jYZTCrGRHosXGzkhsgtWG/3b+CtxEVAcLEcSC5jePYIATO2NWBnlxs8y2F6UeE8C0ezBTEdP863b\n",
       "L+u0F//LeC5zJ7WSr7SpHD91CJOaFT1rBx9sFM69KDotQP0bFS9v0ZAMhFihyoJbEHZ7m3KhXWk9\n",
       "pIz2p4DN502b0JlWU4h+adf2z2U4EphuAAAAvgGep2pF/wAgq7y2N2xRELCzQTQkB4KlRKKcuKDi\n",
       "BMltOiiXk6TcY0sq5qMkw/7mbgxIZME4o18eGPxnrwCT8AIPdAxyr3bGOkSGRIdHUNcU7oMxcTtp\n",
       "t6+j2AhkHGzEIn9Td44KyH/vK2VmQ79Dk/wJfR69N+MGxvEOjmRVT6pe01szJLcqDC/A+a9brgCm\n",
       "kfWTbg+zRT+WsIMNJ6GHUWRggQKrNFaTfv9RQMq4m5agrCq24yxrZFDFeJaxdSEAAAG7QZqsSahB\n",
       "bJlMCE///fEAACHdE1lizSWMgjtgU2eNDxwdxrcIDb/5EaBqVAYgXqwWBo7KIA+/md5rSy4PalyQ\n",
       "60c7ohMgQV53qpmovQ2w3On+aj5REEI3CLFiRJHelPl6Owc9R5I2GI77XYYw/8NtB7QLVoIA9UwL\n",
       "iiO86W87+dybAtSRpaKGVMC6wtKjNO7vbtKZ6XG2N/OK6Og6MarQxV1oG0SPJAf+oPF5tUGYL8yF\n",
       "FTLtzjQgesTdCYggr+eY2bGgOc/KfauJ5/2iX8sdRWHE05hQ6BQfxJvLJmZEhasCY1byLVvH/ySp\n",
       "oMe//sziXrLOSCJcUxLzXgGXxDjThuYW/ij5/xvn8Nzvqh86qmq3sVDAQHRunxu2P4dimj7lri4A\n",
       "mQYMJZYvNa9NZvOKnhtYJsH1f8kKb+JKlCMP+abACc8o8GlZuB7rViBzEpqadjP9uVtEPmkZEEfO\n",
       "QLVtn+ZV4GS9qna4bGBNZU2F++/1KwAnzVveKG7RFFHcWbREyDBpb4rHSDXU5gz950G7vFFbheN3\n",
       "eXAwe4xa4vX0qftHFvjIzgc4MfHXMU8WW2Db3SS0+7fciIinMnYAAADwQZ7KRRUsbwAJkejB0Y0K\n",
       "UlYKX6/TRc31zYGOu51GXIrjpsItiYblKYmOGT5lBMNTWV8496FJx78yLGmu+FPCkM2pp8kJp+vv\n",
       "WFUEGhfATqSMoAP8ORcScGiioYmElRmH6cizdzZy9DApYTJ2gJAmcrkxYZAfABo4uqWzviJw350X\n",
       "ZQ7dYhfTILwua/DoFCV0XlYkFPdG49nboc1Lm0CTvFMbnWLDqXo9ydvjZVXeqCxvp40HOGEcizaC\n",
       "qbr/yzdb+ZkWPUlyhrk0h3BqACZcksQMBV3PCYVyzhPl0IfbNjjf73/o8spsfYqADi3lchq3AAAA\n",
       "vAGe6XRF/wAMHHaWyA03L51RrL85ZZf3RT0txE1JfyTFGGNDMDIgBPv0ybB/WIsPafTDPcM+bzY0\n",
       "cvbZZ4h+inAUyzfJiSVPQzHyWI2eAEHqe+1IpkRTqUfnKL0HotA30+JOM3eTDIZSdRatawyELmne\n",
       "EN6t4v/BenBG0DOdJlMnLBa8PbmVcjo73MNFQ2Vre1u1Iz3yGhbzpgaFNDUiNb2oKoSTlRFRiG2o\n",
       "XkRTEeWX1k5TVjipvGwEG0KDAAAAtAGe62pF/wAC6Zo1b+T6l0SO6ogP156T0szvtlqilJKEr/az\n",
       "iEPAo7PS+sPanX+e+KqGGwNABD7vkeHX68BrZ/6lXJ/1Ymo6OelEL++Yhh8OlZSxYZUIXGap7In1\n",
       "JNpKYsrKgjweQgNYUVXTI3R8E9B4CPoywfcQNJKt3Q3khHjJ+B8UxqXwPpOwkoBcPUtkvfvDnlE5\n",
       "pkdOW4SoPPZRnLUWq+hSeSflG3OsFGnEz/5m+CsBJwAAAfVBmvBJqEFsmUwIT//98QAAIJuF4+/n\n",
       "edcGc4vu+l5i+dYq2i5FiMks+mhG8a2D0acWkoit1WGz6WoAInFBiTvIk178t+smO9IoU8uyNsaO\n",
       "qc4dwYoEzIxD3Z01zL9PxxZ/Jtqjqj79SahFRA1Sa/JAmBq8X8MQTJeJynUZbkleAs0C6TDALCBe\n",
       "O99ksSjyLnsLjJzN6nM9uK5I5PtckUfiXoX5Of1uSs9bvOpwMjnn59kyTqZfCXCA4qxvtsjeSb/e\n",
       "CLX7vqqV0zjUsX2LnW7S+0ZLuFsGAyDDNXwEJ6WiK0q4UkUBZZ1JoqjIG0jHCDIVrA8sKdvHE0Co\n",
       "0iCRnmSajh1qQ1U9082KEY3D4msoPbshr/ZF+8uoWHjhOesoFgcSfSBEurGh4BMQKBXf9FY0xDGi\n",
       "GUEtUe2M1UEqLK0hKgCqfFjtwsz1xufVJWT4ZCJ0I9o6sRNm0BcCUCUXuYaVkXmprsPn2o8YPqKH\n",
       "9sutc3umtZYV78xlO0admc0wvh+aRrPiym1dMkehjtoBEe5dQKdB4KkrAi7eDQLjoll0pbkgEtVE\n",
       "rgebew+O5kSdFiHf/VTvqJKqY33NgEaGVPDk0rGFpZldG/5GgLw79ubWaUL+nS4CbzS6NCr/v3Nb\n",
       "5PS6aEdhU3hvFAhuINscOL4LddoTnqEAAAEEQZ8ORRUsbwAJkejBrpHaJ4u2lJsrbByAM+5VnP3c\n",
       "ih2IsLvrPa8/10AZufLCrOVAq/CVs0ThA4Ws1CWWhic/apgzq6/0pAchM9mV8h1UIhNqZELNXn+O\n",
       "88qnfL6Hwn06wVCL7+yj76mUJahUHyWG+d3sT0rWzmzg3SsMaKUbHxsv0NXp/yQyweaaOJOTsplD\n",
       "Cm8qfICxr4+T8aAUX0JSTMjQTLHqy3TIXiMWkATd0mfXLY5t4/8xTg+4ZLEfWOYy2B9SxUR+SC0c\n",
       "WbFfnJ9jZGLY++ZuRcSJPKCXMLSQpSRR0p5kBDjkaTp8q71XBu+QinfVNKI/Utjw6TS+PZ20QPeJ\n",
       "kl4AAACeAZ8tdEX/AAwcdpZ3BM9KOhFe9YmkYKX/KxRYEI1+wVKpJ8BB5i/4iZzghXGDT8udlBZi\n",
       "Ay7RyKtvL6ehpNs5uZn2fNUQvwWwLHyYkRNtlXQYBA9HTAxUnsu2th82RUHpeBTO9hGQquhhGweH\n",
       "2xcbmCUG58zxB/O5ezo6u6i0JNmWwACORI5L5dBnn+3LxiO6n90AG+YuJQGLcXgkGzAAAAC0AZ8v\n",
       "akX/AALWMZP4e4mS6obHVOwjN24yCB9rpI7X0mcgvPdR4id/XT+RGW9kC9d/kv5EgmVOZjZVPJTa\n",
       "w7t0mniwqiKKGKVbrGKYMKdrwXj1Ed9CC7IoANBKlKfuqVnq13UVv9k0W1vOII1l6wQagn4u+tBW\n",
       "8VtJ6VkzwXbgUBgJpqWiv6jqb+6clXDbZmuKQg87Zwcs3DR06bWifwdwDG3ARkrH9bxU1Fx7pQ7T\n",
       "9rnXABDxAAAB0UGbNEmoQWyZTAhP//3xAAAgzLl1wTN174Eeud6vQBDV3ninrt1Ycpuv7TvmVtne\n",
       "cuXd/b/XQjSeNpJ3BgpWog5x/JdccE3+Ob2xH+RydAeNA7gQ2z4jQ4DV5dkj338PFB6OIbtsL9C3\n",
       "R3kqHlaNyS43aUbpcM/YRQzHZup8ar+AfisNQ+2KDO6Qcx1fBuBV2yx2acSRPw0Aw8xbah71ZSjj\n",
       "JQT6G0SUHo8LuR3wRIagp4Zbvk1RnreHUHk2omzOGdizFAb1ofNTIoSt1xsIXIcR+zqhRjZJxP++\n",
       "oiwR+WMgJ23p8ldIPlMyrwHfm4bKZZNiXn263IQ13vPZTlfAUNpmbntPzuuoZGxjcRj3E3Vk0112\n",
       "8zTacsjkQtOCsihpKvaj+YPnJAkPnDa0Qn0VhwjQkyqOVThd41Vxe0m9bvZMEUHPjyIfFdgjPzBf\n",
       "gcAFNp+VseYg/ZqMu/Y9IbYhHpBiyEIW5dOIe7OdBRCJmb3dID/YMccSCeeRdg2JJUFOX2sN2cLK\n",
       "OPBR7b/K7Fw77o2dYvR4xBRPTZxcj6nPZffoPDDoHuZJ3Ftq0crLRjOn24FM8xpW4pJ2VYEoR+w/\n",
       "CLGeeWeuQFfO4ov0A2B7lX6MKAAAAOlBn1JFFSxvAAmR6MGukeC1cC9zB9y6hYzhrymbgSwdgvUV\n",
       "sBE5g9FoOqhhxGZ+E5Xb6PEOCuVv5VP2R0znvAc/TC5LW+RP1hdBI/ttVdSgi4V/97jcAJj4s87U\n",
       "z3d6kuw+4XHt50haHba0kmi2XAh+XVC1/19OJ+o+9leaHxQkeKRcl9UkAuENE0uK1rjdbHPUTO3m\n",
       "BsOHl8JAbmXi17zr9IT+n89bbHY7sVTWwC4hMdgd2S/B8cGjohfNZlXHAijSs5nlBSUKNo7Tiy/4\n",
       "858WeI8Ko367OkxoqedFpJKTmgbUHZW6FF0FtAAAAJgBn3F0Rf8ADBx2lncFqZOiwn4YfEz2LYGE\n",
       "QbwC8zDG0+4xtas08bf0uoIRElrbx7TeJy7S75IodnSp3Yg9VJGg7QldCcRngCKzUeiMGNkIn/4w\n",
       "8G2qQ2LYRLHCk8VjGNaiA8a4hk96KI/LrbnKnv1WNR5kuZLLpwjJq0pJLFmJo0u+t7vMgzZsDXQy\n",
       "o477hAb2FlFmj4gqIQAAALABn3NqRf8AAtXL06j+Tv+hGJpDtaYw0d8O231dTSH/Rj7GzD1T0PUX\n",
       "mwlNvCSv0LvqPsWmlRpHT0FVteEVNuJHq+5HPQGVo0c5fnFLYBsorEGklEmAZIgtH2v8hrS98IMM\n",
       "40bZZF745EONTB8RE9v+TFNOAhBtNJCOgkqvsVUHhNBPgtvPGjVmQ147LPvDGLmQd+f2QASaqNGu\n",
       "85N8yiwk2LebLznQW1cIPVvUk1IsoQAAAdNBm3hJqEFsmUwIR//94QAANKJREW8oPXPNNfymYXBB\n",
       "1dz/+Zw8yBNpaJjn0E90K5AflgKm1KcVTnf+rX7Rih8qBIatYrFuP6GUjjoCV05Wg7ccYbrjaVpq\n",
       "S64P2smsic0s7FQpxCYzCCMm7XnJ/K0msSnRUBYv6zOeGKqXzz8wP70X7KGcl7jQiPO1NSjxDpud\n",
       "yymdsJmDUHlADlKReWplgTgqitae8f4vdPTkog9R/wthqghjz+M9e3vMfgqahoLKr44Ae+qRoQaH\n",
       "TSNKSKuJ+Lsr/HHZ6u7otYqD3NEj5ymwW/yMT6kW4nRBGpVuGolq9qd0Qc+hMgeU/WhTyPcNCv1Z\n",
       "oJOw4JS0T1prhmdduLMVokkViFeX9dcjw+giyutAAB1ygIC4/kWMzu/2HQeCVi7zKBx/pvBy1aJL\n",
       "zlkaS2zvCofpdzNQusFWORILJ0MfpvLjaLhhSP99u6/MS7NBQ4zs3zNvQZYPG7QkPEihZnPNdy7a\n",
       "wuv2wbdhHZx5yB46CZs9ghHuhWZVIWNj2e6R/db46aXh11iEZ49q26JTYY2DJ8t4/F+oVWf+4Gan\n",
       "4AKvq+Zn9op44Kr3HXMTxdpxVUeDPkUUwen2qIEnb7ioy0CPgQAAAQdBn5ZFFSxvAAmR6MGrK2C3\n",
       "Xy37UqVJBPSSeSjfYZvgXg91R+Y1Y/PntkQp8amFfTfad6G7Gy7a9QVd7tQxTxuZFcRSZa6ugubI\n",
       "I2HMniT2p+O0dpmvZl5DNTYjXmUWqxIhEhakFgzUlSYx7TmBpZLb3+mFYM6F/ztJ6amaVIkazc3A\n",
       "zaLV6r5OGpK+aYhkNgYivqNJGbDFtuzvre0pS9xmuAZ2xK+h92/rD2PtSxjihT39ugp3iKWiBao4\n",
       "ba4qUAEo3Tir6GTUlzb/0m62OhOX8NCNBhtv1FYmYWiBXdQ7kDkNQOqCZVmmtVTYr8tG9oYlZeeA\n",
       "thHC9mFE+UvCUDfxEdgcxyiLgAAAAKkBn7V0Rf8ADBx2lncFqZOisvI13Mk+wXcRKn5hrfqHKoyP\n",
       "XhDNVacuPR3Di0Z+Av6oZP3SxcAnMxJqUVPnnTp7Qg3m1+xSNTfVmWEOVDfFAPbRnzJv2rLhHSpU\n",
       "S0RHFRb403sd9MrBeIBoxNbA4EDcw5P2YivbMCh6cFA4CFS6ACnL5IyeCLmTL01m06KwAE4sevCF\n",
       "sxxxMnWjIj8LwKlHwBe83RQL9PuAAAAAsAGft2pF/wAC1cvTqP5IxI9W4UKddHpR0mD8TcyC2ZBd\n",
       "TzcwhoMxsjkqVbjST1jghaLI38y3rRo85KVvGVCHJMt1KxrpgwAamzl4OTwOYvwwsAiz/aB9EPW7\n",
       "nY2Lc25O1UmvxG01CrP7Eb2X32sHCmhH/tngt1O8NluaGg/tdQrm/Qac6cf8VbJONtXN3Jt5eo2h\n",
       "r77qfi2Ylmo5ImZQjS48HlfXvSbgp6EWm5s3b3zBAAABuUGbukmoQWyZTBRMI//94QAANPv+pr0R\n",
       "rQ/DbSLW2iHapjbOt+QzCZueLl4cRhLf7eA+wc09rdfZF/GPioYoaxO64gaxlN8Ij2xbQso9l9XZ\n",
       "KHACPQjy7fgvXCX1BoTZjCx+CBJJqZ+2lqZhOmKKayioNoTqBE+SktQ7iEsWZgV95SFvWpIqLvfr\n",
       "RSw05YfQKW+RybvvGYliQ591S2UUXcAFxSlTgcojsqgu5vRgxlrhUfz6IrO37r/Tt5Ohfj92g+/5\n",
       "H0cNpR1s54Oueuaf8VtSK/+onI8UT0h+RmPSPx+vfwj9Pgx2QmhGadbmRpyt8RFTwTQDREPwpxcR\n",
       "0+VR9qoOrS1PBCpYuk9Y36bzzVx3hGjmdnRlr6rOvinX1rwIXkGa1d8creEk8mKJ5CT0B0Y7Wn+2\n",
       "ZRNgdmLXiYcRPDVkWEr3jJ4e5sjSUvOrLLhYdaUQfEUYPD6xGJlpBfzeQJqMIQPdpGnc8HtVRRwb\n",
       "F55jNys+A93W4GBRrEo96Nn875K83gdIU/1eFn8XFPyO81CcoN3ay0r+InGKRYJMp4ojVmGAhflq\n",
       "WS5bYupvaYd9bGdh2hVm1W0QEAAAAMABn9lqRf8ADBx2lnguKO/vwwvn9O0E3k7lZQpnqAY/PphQ\n",
       "/jIeO+htG66h5Y2MRhQ4jxSDUC00tHT+KzQ0vu3zJSdDNqBgXUSeE3ACWZeKpMeWKnuxXYZRsGzN\n",
       "VcYBwEPDvMSWd6GL7xSLS2SsN4g4Dv0UeK4P4WuaDQZhhbg7YFqcadHk/sm3JVKwqHCbeoKUDFKt\n",
       "R9bffTeFU4dEivbCoJ8aud/yWwFqmnMf4Uj4v4H4WCqOGpHOAtdaPG6ACYEAAAFZQZvbSeEKUmUw\n",
       "IT/98QAAH6wwz7NZRpOoASobrABaa6SUD3XIvqIEmM4ydAQEcIRuGdfZUYeMsc9tFuBLIlZc+rSI\n",
       "PotKL67dV8dzJ2ZFXtytwkrZAMbBRJZ7esuQi4PHvq+veXcnf48aJ5La2IeN16se9Ag77S737G9/\n",
       "o1oXRzwQBAmlWpYQMK+EmP0W8Z7HJR3Co7jKwMvbU0x6qvmGui+dVvZd14qmN835sy6Z1TFSEjTU\n",
       "mhfGZdweqw6AV4l5/DtrKzVKHh2S+J3PFOqXHuywMo+RoSEl5C4X3yV7OEGEDZjTSX6lorVuFWkl\n",
       "YR423cuCSuzYoZ4j9NtMZ0C/Fh9YMdzAShL6ujnxw2WlVF4BqUKZhyT/Fzgv28gU3XRvEsNNVa0p\n",
       "8TZVVGO4E431qGEGG9W+o9z8gnlg4K5GigeNF+EAchMZPFWG11+hppBwLEZehE9glYyBAAABz0Gb\n",
       "/knhDomUwIT//fEAAB+rLUqLNeI+FwPlX3/osvyO8cunN+WCFfTHUwkLE3C0yCNK88bE8sZJAIM1\n",
       "G/QyGxEuwepnEOEhazCfSEV6ySLDnjJEutb9AWJLGP2qdLCkFzEsAYO47yEffEbmqe65ovex2drq\n",
       "h2h7yTYwCIWLb41pikBFcZmH6nFHFUgQ9djn7Wmn+/rMzm3N9ElCOAtfUP5rR9BY7jhsxKDoEblm\n",
       "5i79tYX5nD1SsWMWlq4rTaABU73weOU2aOp64SukGZpnaqiuFjj6ozT5HoFVGc4zNTOdwV6fwnW+\n",
       "Pv2y2ngrn/KJGsBsWMy0v/RgwppZPbuhFMqtrg/wICQIiS2UdHnu5rYZa6r0DLihTuLEvX3Aa05M\n",
       "KCK8KSwKZFhhCdiU7T0B11zbCTM6wuv5JRUE92xOaxVWChwGiiHwa2t89OYwJwz/T7RwWHAjWHy6\n",
       "jnqG79krvNKR2AwYlDeIpyyYncBzYQSU+JaMH+dxhDtUfIgOWyiQkxGWY3LtrTKH4UVMoRuEmZpp\n",
       "HTmHHbp2eHQi6otM4ePBTFyspETyktl6dmSQCTRPFPfImlnnxrr+rFwG/cAjcTAYfH/ynIrnl39H\n",
       "56EfBUAAAADLQZ4cRRE8XwAMHHaWMDbCX5mp/y+ly0O7DqYuVg5Lby7yU+Uf8KTwTnDpgQjsBxw8\n",
       "RZsG41NPUKuZehQUyE2P4B992XwapXJT4a+RAFETRjcyLBLMJJAHDQcDtXhpvgqSXQZlQ8/sh6HE\n",
       "ai1iTVYYlgYUp/ApMwuue4MI2TeMAPXDwoTG9qdsgrY2fK5jUeg7LW1IZ+5w7kD1k6CtFraYRSlh\n",
       "LGLqZCojW2p0BkTHdvRGekvZMqLSXqdxNcxjggg1gKAbzBXf6pX7A1MAAACtAZ49akX/AALFc7kf\n",
       "GY3P2wjaO7yXtqjzwZxpwn1U9fMq95xuouy2sdYNuMT9e8dcqP7hveEZ29aVfMP6XwpinteuYCtM\n",
       "rxCpvrZwqHydt+aNcD8ANi/AJQdyuddez4TEhBJb00RcqU5Wa2EvQxbQtkYKOOFl2uYjclYmUJNV\n",
       "23Q156TwywVuUZWjSdKSMoGxCNobjaf2RWiMViCzqPWngSVzLyXKBUvc1t4DY7sAAAHOQZoiSahB\n",
       "aJlMCE///fEAAB+wutdDiMYvK61hjOHSTpHQSB+4Up+Za4qrAVDbpT6VWjG5BeWycjOuPMJQ9JjG\n",
       "21Q4qrSMNW8DJOpBEydYnfisTCLQxXoGW0P23a9sEjnIWuCsSTCW7yRpmtGp0rtxB3FUnblcEwMu\n",
       "PUSVr0w0eu983qfqUe2Dtv/ph3Mt3k9KzXHp7w9UrhyKX1qmeuKLbvieRhUeF2McROwoVnV4CP0v\n",
       "BDizafEoEtaCjfX9CSI89V3LWDohG8fQ+7C4Czv3PbemigWTQ2tc0/kXg0rDvp0B4V7y+CGTZBSg\n",
       "di0Q1gC2X2/ZEzrO/r+IBpLGPdGtYvwP1iHepnif4PJcsy9ZNvnS065ZT511qCBBmsHKoEy80FAM\n",
       "Q6Ge1WR2QpHB41IO9kCT7MySb3zlpYVJuF2V4lJFpitwCcyj1nmnbR9w5fANfOxyq2xe0QZKbBbv\n",
       "r20vlLd/AuyRCFf4gVWTSrGnY9xv0OLzSKGqQIWCuDVNLmoT1Vjr1IYDcUA+bvyijiS5pNI2huR9\n",
       "zWyIppYSDKLVPBg1gbqtis2/+po7PVnUEJMWerCJsjEt8r6vBxLkams1BBjg4M76HulLReaFI2pA\n",
       "AAAAxkGeQEURLG8ACZHowYUv2V4qMh4rgcDWMCRtJy3Ljdx1Ozilrd3WVL5AiuvHJG16nNmZ+PEv\n",
       "mInWZE/ZBv5fg7LJA/kWlqXZ6ZWuRBbNSxA5RgnLvN24ZiMwIhx2IfgqBsw/C7PezPezMPq3g4Eg\n",
       "ZSVoydVFkzIT+XWXLEld+/PQI8x/dmrM8ABSsJdsr3WDKzbREKvT0EJNokVGY55Qh/+kZS7P1Xg5\n",
       "H6jmxF/38jOVgO5qy/y7794ikb7VzYMq1pSq0mPdoQAAAKUBnn90Rf8ADBx2ljgzNIPxZOUsGhW8\n",
       "5YCeisd712lDlJYEiW78CvkPvgvfBvo4NFP5C6o1JHi8A5PDdd+L8j9OZbfteamLODnfniS30rIb\n",
       "ssiIuSTTK0LVXvHqC8AycFleuj5aFWwUzcdHmbn95hKTMajGQSZFJLD11RbJInuzi4vXSeCfB/BE\n",
       "yrw/aF7KMrBqZNwRYVnPEaw02NljohI7QqySUOYAAACpAZ5hakX/AAD4Gpa0O7J4L0XisWuOaDDg\n",
       "DNJN68AllsWSOhZm/d22K7sW02t8H7JmzeA3eTw0c11DUuS88Oq+S8Jo/FcUItvgD5w6e0aghkZE\n",
       "ESEDVvNIQvWKHwjhDzOKu0yVhDSN456E4nBb8EjFkzRvVzf93QrIbOt7mo/MntBuB39slWs8pKG2\n",
       "898/JDdz2EpiLuDzd62BMSTJGo2G3hjPj2wJjrHmzQAAAgBBmmZJqEFsmUwIT//98QAAHvtWOH5C\n",
       "C2zHTNEmH9lUHS1G2HYlF38dw4WAw7nl/LiFnHqfuEtbR28OwIMVq/CHn/VKjQGcpcfD/lrZBFl3\n",
       "+YBzeaCdpcb76cfDfD1JUuyANxfEImoL28+iGr83LGcy3mI8wCc1ncgcLRvnu3NjZKhlXXsYM+6f\n",
       "/7L3a1dQJfsZpS6+o9S/zBUKa1MErgvyKM/PWO0tfObDvYaCweKLa9yeGJxNdYYlD2Mbj4nvqtaW\n",
       "NTda8UxFIvfQmt/onAIXbAmzyRP66w57qdHShbDZBh8iLXB9wCJ5sBxURbNP/bQeGKc90WDDX7ws\n",
       "GE22DeuemSUErPs6f61oj4F12SmJZkkHquhHv7+znukqC5eOu7Vjwy6c/4dc9NoMzW1TRp7AMVJR\n",
       "ZV8yhIjrQI2UkZRC2kHGaxwDs51aNnE/Eh/kNXY36tRyjkMhn9bh4Krcf5LdtxCZOi5CY31olr4o\n",
       "ailizVxWNliF+FpmcFl2mS8Kn9pNKS3NqMcRUk7TFtGTpSS9uG8r6uyIYGoSg6m81w0S/NQhosM5\n",
       "nePf20xjZY7iYdRSlrtIoO7S8YEH2FPNiWzxFfZlZJyfU0AogI1lqCuLJi7A+fpcSnveS/2TMy8J\n",
       "u4zSyBWRJLmZtDzWttNnlqt9E2iauchjFOG89zWOt5gu4QAAAN5BnoRFFSxvAAmR6MGGI99BK9J8\n",
       "JJ19WVFyeU+vCV4BS2y+DDsSa5MQrGupM4Rv7qhL+ZVbMzmPWJnRhFR8M1yZCWEFS4VQKilDBhuD\n",
       "TpmJlpvz2A0TwAEIHPP4czLJcvHZMz0MVQQsgACh3hZNiy/wc30h1T7m8FUqFaCtgYSqofmmiIYo\n",
       "ctSN1Wn+l47JhDHK42lTmPZ4BIjTjfTZlbVYTK+QTdW73yqQurDRCngkTLEgnbZ6C5Aq1Ivo96G1\n",
       "20+PVTM07MUQRQU/dPEZlCvQs0C+HezwJBKYApclW0AAAACqAZ6jdEX/AAwcdpY44fywVCLSGHpE\n",
       "vjosclHWZ7fIkxdsu+y2W6xFN1pda9fClRtjrqmr0TP2+YgjokWo8SAIIJkrNMuoZCCNXilopHmY\n",
       "YYkCVc8+d4ZvJqwuebWDUS8V1m4xvwzRS+/r0RJoqPgmZoPts8jP4Rf3KWhO3nHLiSXHRvSfVO0F\n",
       "13YsM70w4t3J5z7nKlulwJqh8FzRNgcUSWkxbduEL2dAM+AAAACiAZ6lakX/AALEMAox/4ZHr3j/\n",
       "uxo5nX5veWg/2dqbK1KmFNvztGADZOHpx50JPnfkpGZ96Sq51x0OV2ip2ZihTiFRRWoRpNC0fZjG\n",
       "vNcg90Ah0Ken1Dmf1CDADUl6Lhpx0N1G2k4GjMsFC7D4fTAtJtvFYQWars8/+CVq6XxIfIokUaMR\n",
       "IY09JfnijMVaLz5JeyvXhcQJBw2vxl2zehFvMFpBAAABm0GaqkmoQWyZTAhP//3xAAAe+1ficHJA\n",
       "00zZ+C12W4nsllvoB6zUtGIlx1yXHtG2whxKDbY6dphwbgdx9Y8kwyZiCka0L5TsbZaaM3so7+RR\n",
       "spp2L7ewJQ0Tazggch+VFuvcSZIAS6WFrpOD4wXCX7UFRRUazWMCihQmiF6LoFYUb9ARjJFd3YwK\n",
       "nhS0jyU97BN4hLxMMxY6IUIUUk53RjnPY+vZWkzG2EJwbHmwdrgNPk3qEKtN1vHx2dDqwe1O1qvR\n",
       "kwWMnyXSrwlr36L+W3IVU18vuMXB+eIw3dNxv/PDr0xwA+OYtVZgh05/LjlBquSZaSUGOOOfiRWo\n",
       "TDjAwyo10FCe3tC/y8Fe+w15CknN/lyGyLb29wpktnqJuaH1uEbz2BGGhnUtR8rIRgnyjsYY2QUP\n",
       "6Hs2Q9Yk4r0oIQNxEvta/UiQLDaKCeGaUYzF/211f8cSAr5zXiQ0BRFck0Wz4mK0jYiBCsjAUWGK\n",
       "/1sD4r7sCoh8R2vI+QMSEusZatJR4R+5K1HfBwxBcOrCQHMcU0qqBf5C9+uRLwAAANFBnshFFSxv\n",
       "AAmR6MFcgQeH6otKBZhunC/tRB3+DD/kkMBQZzjK5C9MyIedDJ15O01IED1oq03Ibdptio0M4CnE\n",
       "jjSMecpn/p1YkhKEq1R0kQ3A65Nsr3Y3TDYHssPX811h4jRF1MJRsu1ynBQOLa09SC+ecSBP294M\n",
       "Y+6x1LcGA7wFzhalEOcDATdJkuypIPB06sacQTgNqe4yUDAuR3Iaif/YQ62vZU9yCcTX06lzLMax\n",
       "xhhAzguwOCXx2mH0ZoLLlnXqzsd59wVq3PBA9obT/QAAAJMBnud0Rf8ADBx2lebLbQXhCkQn9F+c\n",
       "k58GVyvnggPHiFNeL0JNBH1OyGo/7x7JyJAHnnOLWJl6HcNG8DDLZOEOgOMW44car0sxlxtPk2aa\n",
       "AIuNXWhXQhxFpADQcTczoZv5/pPp9aUpQygjH/dpmMoKnrGYnLkQnrS6bkoApEcki4J6dhgRQJvN\n",
       "FhDRof01lUD6CvgAAACmAZ7pakX/AAKxy++YO++d9suzI8Bci57zJ925pzATXppubuAJrxl8R/fW\n",
       "qoNg81+Pmdbbq7bSG80X2aagD4ITsho5dbBQpnV6R9UvoIeZqJVfgM2Vvp5j/JHXi0jpnvf7dElB\n",
       "lvsLMNYg5duHhOoZinc9ngPCiSKyUwyxvCFhcSCaMaTKsqkh+ZqAPShv1VyOsTVIj3BdL5mXDrmy\n",
       "Xjz9LO7C15CpgQAAAbJBmu5JqEFsmUwIT//98QAAI5/wgbARiRxnvFeqQ0xA4fjk6Sj4JGdiZ9v8\n",
       "dw8owaSJHPiY9UCWr4ZpoN7KMnCjgR/Ml4y9JKqrlFiqTR7gjQwnplVE79YC9ZVvSwOwQXmYFk2y\n",
       "ZsFtiIqHQtCA9Cz1ud/ukb/KOPMzQmq9kPK9rMVO2CxQtkoTWYRj/nD/KcRdlZ52o5FbjYe0p3Ao\n",
       "bHnXEaZCz7SxDXCfHFdP+cv43BFTDWsF5pw8IeGH+DLJbs5MHSEjOsUZB8DSNiKXd8FnJHfz6hJ+\n",
       "h1YvHO5eNhwrHlmUS8FLwNbGbJcJRwuoDbESgKQX+9SfIChJI+3gI98Z+ig1DQzosAs332SG1vUm\n",
       "sHYMrCg0REVOh1f83o7Qc9YIOtAwS+VNyaFLkCJ01Wa7REF9X0iQ2hV8OhrzbnAVT8lo1oAEhh1+\n",
       "8ceDledDaflZUyWUQtQkVk2aeUcZj3SFbPJXmUbm/px59p3dLB/H4ay98s+6vgCzHOsj9nOHgniY\n",
       "REZpD/pLZo4fHgry06/4X3/i3DEoUiTT8f4S35jyIQ3WunpEcZhU4312HwEkMZwekQAAAMZBnwxF\n",
       "FSxvAAmR6MFfXXa6ljVr3L9C8CTBfsux1xPqUhf8ok/uhJVsRKiEUW3sYe67AjPufZTaQs/ELOoE\n",
       "sEABCMsx+IiHi+2KQacHFDntE5oKiJiTQaTX62c6Q9QLeCcK76ytUlGnrebszUaqIN1Og1t8vEIN\n",
       "IwaS8wkOqg6twoSueR2z19Ntb6PsOs1fhqouQNuhG7re+BHakzEGgXInHdiCh3ZlmE7CEcYHVdaI\n",
       "zLJ6a9shF49rW2ZhNFDeZuwBgNZ0Vg0AAACMAZ8rdEX/AAwcdpXvzFoV6ElSuVis5GvPkyBNQjRi\n",
       "jaxSVmMyrkAWYgcatOoOD8uO+7+abSTu1l28r0kUgDTOZPjtVkXKlecqtxSD7Odzt4VLzU1Mga90\n",
       "inFqlbGKCtpUC7VnyOnXuaaz5iupAX2mQ0lnaSN5MhFYxKixDC5KmGxTep8CBcOt944jIxcAAACb\n",
       "AZ8takX/AAKiT61cuIbu4ejI/kVWYNzzhDBR6scKa1XJM5h5AB9KRk3Clnzbzmvad5kJshDyrSye\n",
       "SFzx7qRpymTwEUgGQjDXCEcktb7z1uLQ7zydrRV+9nDnWBAJwfdtmyUhj79DLeHyRdaRu2Xgjvyf\n",
       "zzD/8o4TJnz5U3QuvhyHDdt0+rcuGMy+I5OEdczP8JTm9WZodcUJMccAAAHCQZsySahBbJlMCE//\n",
       "/fEAACO0Z64KeBhPwTXtO+gOLfM/pWH/AAOPhALz6h7+Pja1VnkllE2anbR3p0FcCZil0A4Lo8a/\n",
       "70ZUa6/LXbbt7Mpn9LLAh17jEU8E+7wdhJ/tGYzpVVpV/LIlyz6AqK0CMdLG3R3Qy9htRZ7/crDr\n",
       "AA1hqk64K88f6pr+wmeYXAc5jHiHwn5v8BtqHGXIhgVhQbxxuUlHp5J9bcGNji5XgumEkK7Bdbcf\n",
       "s9vBFM1NDFIUK9UCrqooA7c1bphTpZbNlpvyntWEHBs7NIA6oHWoJGgGbHZDL9kmpNordNSY/rYR\n",
       "ubY0Iu3pREEmYt4uBOSAWaSZIkRaDH3lfP+ZmmwptLRmX/nlArry2hv6RvChPEDs3h+ohS6muB5V\n",
       "fYTrHnc45Rs83WysvTMetqZ+AFFYJn1Ha2V+lshSNxrVRGkP7GMorNUUDFrudJobpm3UKdcSHpDC\n",
       "4CcX9zxs5i4mJx+1bA8k1za7o/FxgJjyu10hAL/O2y7B84g1n9BNqadkU6reAdvUZdEcffevFOcr\n",
       "JQCkHpzUKUQS1508DQ4yMZUdCTMpMoUH2nPtUKkNWdVu39+PrhFIAAAAsUGfUEUVLG8ACZHowiL6\n",
       "iPPc9ddHVlq0GeWqCI0xe3C6ljztHNKK/i2lKGd8l/l5LdDXFmE/UEQ4EsMnRPkVTK+U0Mm3Wov1\n",
       "KCFYYj7Nm1WXo9oD66/gUjfIaH+vIjWIL/6hIS+8d9DSSe8Qm59hafhQ/H4B6EnR83NqPJdwYamH\n",
       "G4E+uvgAE6+qXgwlhS5MYglcEhUXqIBL5RSFJAU8uHMXg0Xrv8S+vj/FGfGSxlYpSQAAAJUBn290\n",
       "Rf8ADBx2l110K2aQ/ecI5qE9TdMISMUO3Q+OAriFBLWLADOHQ8l3IwSgqSyHNUgO1i6tS5RlQaRS\n",
       "aBymcOEy89yaD/YHDdWOKFWihcL1g4/XOEoMeNCIlpj3b+fy5twgJr04zawldjEAKnLGTFynHPRj\n",
       "396Y4/aHto3qZD3FxvLU8AB/kgtLjdB1CD6ZjshVwAAAAJUBn3FqRf8AAw8VtCScut8JdWNrhRHQ\n",
       "XBzjzd2FiRbJvr9FkRpdgBzZqYQlGHnSczmO74jZh4mRFtnOpNUZb2Ll/BoHTDE2i2UGGqddOkvA\n",
       "L9w5FTxO8QQ4+0yHHedpQQ1x6cAAs6MRWnN4dF2ezXrDTKOiqSt7MCY40WjZ5sFz4cB74CPNjb7i\n",
       "oGHBVIc39jAmW1WF3AAAAX1Bm3ZJqEFsmUwIT//98QAAI90TXKoXwbjdMEL12x+3EAREaO9rDWcW\n",
       "k9SOTaBDXcV1wLHTOMm+UwM8YC3TNkg3cE50kmnnOdbOwHTHeyZStybtUImzp8E18OUta9cf4X24\n",
       "FZwIYlCNbfyDfZaAaxb22RpINPp9WuAY+933f0qoboU8SRQ5mb/lNtzeBsUAF+/C4V3kT7LLQ6QH\n",
       "eebxatYQlMdSyIE+zuyyTrwl5GSu+S6YBA45zQfe0w7/kFiNzkQN42G5pzdJKLvjsKMFvLGoPCuy\n",
       "aky+kEr+/b62zZsoWvAXa3b86XKxIHn++MpjXE/StNwYXwpcFXAYhufFTy9WLzfcVVNVOBuu+YLr\n",
       "sNixugP8dfWQPMCgovm2m2RF88d7JHIG32aaUbiNXdemnCnvTLLHBMzZOZ4AewwUv/J+MV/Jp+xt\n",
       "xCxCl/DRQF/76XRNVyaASsqQmxTxG+nmZKvdYv0Xd0slLDE6AJz82WPRwOoFXnPm6OUQf0y1I2EA\n",
       "AADPQZ+URRUsbwAJkejCJoVdWPd1b2QqdaSMiYnJB4ty+LPDq5I9WFQFMguG4NWBeaeR43OUIelq\n",
       "uuDeewLNCawCTjz0ngVZWDJ2o7uidr7eQbnV+R3Ptg618qe9otdYpw8lSApfEvYHbIijhqphEkc6\n",
       "FPbZgMuWBIxVrUpHd0p/Spplu2cS7G99UdKyFuTUurE0WIfFmenzBArzeWQOyfiIrRLnge8Gye51\n",
       "myhPoQ9+RSS0H85psMmoQ0ohOgz/M77k6C6NNlKF1yVmLWm38UMTAAAAiwGfs3RF/wAMHHaXXRJP\n",
       "kw7Iqq9qZkDaMnmDpkmdeYZ4B3pQRKlnpWK3Y2P6GWSSP1JAasKnusZKCspzQWgqqstOx13858Gh\n",
       "rXqc+v08j3Y5pTziVZJztUWmk/9Ktggifgz0lD76crM2lt8GQ0gvGDxPEw4aq5kgb/Ab/ic/35JM\n",
       "1f8ICQaDs4KOu4EAAACUAZ+1akX/AAMPo10LA01Ij7B5p77tJ/8jSzrNVqDJt6WNACD6ZFw845pW\n",
       "dT9v3/uludWWDf1jdXANWiuRP7cP2dT3ZgdnkzoOz5HmEjS+oKtetIOTta3eoCLH4ABZQt4oMG6p\n",
       "v6B8tm4qJQVBdaSwvgoIKLZUIZhKBDH94e/DAXWBoOoJ/y0ErO1LYr8P6mBmZT5FRAAAAa9Bm7pJ\n",
       "qEFsmUwIT//98QAAIqXC6Qw284AA4LcgKVih7db2HaHZuODQdtK90wD0B5lkOFXWwvWwzAjbRMeS\n",
       "VL1AlZHHG6ICuPGY2x61CN0F5ld5CezJArXmp6A42ldZjOwEKfUKvtcmluV+HS45p6Nzq3wS/ChE\n",
       "qVYzS9kBG5bWintE7HJ2UE3HqqjBpV1PknPfkN3Xef7sQ1fmEDCcfNL5s+pFp/JIjL9tKZEQ+PF/\n",
       "GYtfIfHRN5ok/OhgLeQrGfxOmzuqPVcqW9YDJ6TL5Qpud1Stn5zTQMsZHg5Pb8kR6B8e+DIraTnH\n",
       "VjfC9UPIrLuw6Jta/5/VBETQMjy+RtAI9Bryx7lSl3XEDPdcTc7h0bW6++RY01MbGF9LlE3iezlv\n",
       "peArrJ9GmG/I8oNm3lnagxZ3gwvNIrRU5C8nbv1tV5TvJ61TLBiDpRULpXfsgQi7bVq0+Ls+iXsb\n",
       "kg6nzcXbQiAOaFabzIVyYdXPnvHPnDRO/uOKIVdduIkKXF6YJjj95hYC3TRLagAoiF+KmTkQum8K\n",
       "pvTqb8CGnMAsoF6UsgrvqJr8PnP3jIv8AHs44AAAALNBn9hFFSxvAAmR6MH7ABs1COc5qZf35PGV\n",
       "gbKCE+pllFBex/eo+IlhufLyLUEd4QYvIqEV9QFokPpPiOoqanVQnvwmirYVYH1RagRsgfWNHmfD\n",
       "AQdrc6d3TULI+7nYn5Ydj8CQ3UInBN9Us+CahDRcDk0gJ5gCLzTbz1Bf8EbFyi7lORfRSAafr5rJ\n",
       "GY5fTT+BDOUCqVWDegz+Nm+8cdsVlECroFPkUjIEgpXFBMy7P8UoIQAAAJQBn/d0Rf8ADBx2lw95\n",
       "7sDm/gjJoCWjpW7WGqcXPRP1AM/wovAg6A8T8Yq1eG8LIe1S679acqTelTYjHveNPY1v2AZ1YjDi\n",
       "lbd693RXpBzACDuYbhHm/mCBgB70VTmoEFCXMSxOdON09+Xj0ul653F3qWqYL9gjoOA544o15yEy\n",
       "LFBi+gxAsFHHbVk4uENCy9LeTym0AAAAkwGf+WpF/wAC+utqEkLgPhLRmPfq6jK208gSTVSkjmy+\n",
       "tLoSB9QXPu5J1o9fVCIpcYzxRlOMt5lx9muYmsee2BmV/NLts38lRCQL84SjV3XnIFbz7f3PJoN2\n",
       "e4wz2r07JW3t/pbNQ5d5PkBoQQPipIbUzEPcGFAJa9lIFIviwTjO+EWFm88rpyeW2yP2UCpRAPAC\n",
       "DgAAAdhBm/5JqEFsmUwIT//98QAAIt7/r5tMc2AJXuNKR2sa/1rYfxdCayfDt+KnOcT1NZWId9Ua\n",
       "brC6oj6rjjxiB+oA0nymdk+4/FkvxwkIcVqR9NHYGFXPd28xT1Dyi8gn/7wR+oG6ZFSg/QtmSDPL\n",
       "Xa5m6oAcWJ374RhmFzfpsT6+iSwLxXzo/YhIbhRoFpMhhdignUXIJC6eGARx7Zp1kJbP+ADhmbw1\n",
       "O6vKJ1phtGyjOlvC+WbOMXnMF2/3SzoNcqQz9R+x0bXC6uXOlR6xZXyKZS50WK755/Lq0Ws0hDUv\n",
       "RNc68++U1QrBxfeUh+B7RnDafxstDKQeXCRGBzbJEy9rrbKVj5rpZS5iRlA9FhwcredbOAqWRRG8\n",
       "RaNAug0vbdsC/WKDqAFBYnz0tepYUBjNusaBVJNOj+w07cX1OfpQHSKluBEBJxCimbqn3bOO9oKN\n",
       "+l3T+RF+6CxUrCm+fxhqIzBEhF8/TpMy/UrhIeHBS5e6Zn4vG28t1nEbYlr/m9L/wRSyIuyZETvH\n",
       "HZRJK9rwnWl1QDpA7FhZsNsxhKzg6377IlW0CLR42p3LngSWPzPh0UCI3Yt0JdYZmz/Pc41i0DQz\n",
       "KpCOthsO4vBXakczVeTx9R4XBZj3AAAAxUGeHEUVLG8ACZHowfw9p/rW6gOzGmtXGvifru3VCwFj\n",
       "pkYxzSKNaLp9Y3uk5gBMQR4gEJKKdyfQHPmgivpT7FfotmEHzkreIqTjREBujNt0TsL/2zUaR59u\n",
       "gA0oucXXD45MG+Rib9MvG8z5hVWX1LVBauh/rgyvbGW/SNNgjj3BVeHll1sMkrmkH3j8KRFuPQz/\n",
       "3EE0hoBt32iiXb9rFok9xU6xOn/WFfOU+0YNrhIXKxgDMaBFrHdpGQFAOJcIvrFfshNwAAAAlwGe\n",
       "O3RF/wAMHHaXB+pIaugUGOdn49PXK5tosFsP3D1thtE/bC0EIXwYh0F9zNgkkdxTvWkMTlBIqGey\n",
       "6DJMO3Rghd8tdJ6gs8K6Zwga+Vt5Da0lDiq4ac/Cp1KBgJR/d+rslTOlH0gXFlxIsxwvyQW5Ezm1\n",
       "krXKzqavzz/nwAdfcfF3nwr4707yKc812Vb67JMtJkVNOmEAAACXAZ49akX/AALpWkbqE9huzQSs\n",
       "15GKyb8/bH4bl8/IyQGExlXhSlMI1trn3LRgtel0KY9xyYP5wOjeaMxgAEvTUGYTm41+kFpH9cK9\n",
       "+xBbNOm5JQ1mob0+Fv16kgRcra+N2v6EafzYfvq0UrTo5pV3hH44QsTnyeP6HXYbzk2jkbkBde6E\n",
       "R1043cYMLSfFSkTFC1FJeV5S7wAAAWZBmiJJqEFsmUwIT//98QAAId7qjDXODoAMfUzHbNuAAOPi\n",
       "UfrBbC0k5EteN5YTGX9wJG/QmBaV9BmlJmDuHElsVvXy4MvVdQlAx/NTUR/0T8KdsyXMhqcxpK/Q\n",
       "qaHwHzo3Sht8yWyZ4ciFupc0vRBXCIHA8gwH+W6QJuskCX0jLcD9f58fsSNGBF8s/C4kGp4zkZWr\n",
       "3pTrycl65Dud2cQ0tccny5Bq2efEMjtSPlOZM65s03Uky3jAYeThEt+fsexrtDe4p9Y1EYUmxObn\n",
       "B8aIVQd12+fCFhiKer6ZoEubXwyQgNnk3TTIOa53sz1ddZO9CPU83fI4D5BQYwvVCB4XQ42bu+mw\n",
       "Wb5pke/lSwov9qMeHpK/sF7VvFt8E3jJmyvJnsuyUtFd5Phqx/2IYIfoJRfARcJtwF/8k2SW0Pv1\n",
       "omCUds2L6Pe15LhmbpMzBDV8oHVQCkNIC6SeLEe82E9cB7MhvVFXAAAAqkGeQEUVLG8ACZHowdQz\n",
       "oS1mC/3gPIttwcB9ahWqxq4pSxkUjFrC6wQBZTjIYB8WpCMs4pGqAXNK16lI/dgaO5I53fn37b1c\n",
       "xdfD/ZCjezWnYs/8rtqIK79vpuQ2Zl4EHGjvj6XX5jPqbv/y84CuSazP9bcNfcA229qnUHz6hheP\n",
       "QxazYHg0UezaB2hKB2bNhM7M2/lCEULLHq/10CJUb+wmyNriv48P4puvAAAAigGef3RF/wAMHHaW\n",
       "x3nuv7R8m7tzFgW0zF8FYnW7UdaM9ZccA+lLtAxVnBi1Oo0c8LCA2UFe6mnTOIl1ZkG91eCoGYGM\n",
       "gyz8AR6//0ERPggnp9BGXADdBcy9Dfnnect8IjH9i8W5q45V6W/Jlekc18wvtRKlTHBnokgJXwPS\n",
       "vca6xVQIBQe2LKBc0AAAAJcBnmFqRf8AAtdaRuolED5/eDlwSwius8tKrMiYT5U/yIKSQbbq481Q\n",
       "1W/P/jh8QHcWkTvHRVRBSvQZ6il00jJrvE890Z0cUDGTPf0H2Gv6wba/DshNiUbbtkYahAyDs8qF\n",
       "VFLa1nn235lw3QRI21MKupMarZTBwBXv7yX5jvrtiDigfdZCFDiGmy2znMXHNGoSZz/qXKKBAAAB\n",
       "aEGaZkmoQWyZTAhP//3xAAAg3RNZg1xErCwho7Chls1na8eeJDiI6gBrCWdSXD5ff8NOFrjRrVEs\n",
       "XWNpAXdx0Qxz+C473ROMN+TL13hKecuhYcy0PhUzD0ND8mxvY0r3s+xeTy7eThihAd9w0AxpGcMH\n",
       "A/IT2q0qfKfJ+VbLHLPaL3MhLnKz+Sz2RMIfyqa7k/9BMgVc35h/tf+hJ4I3Kcl6qBn3hNGq61wj\n",
       "Z2J1Kw+jC4BJg6ifTx2h23WvH3vaR45E/wuVGZvEN/oCQa3Qf3Y85T5qRY7VxHGyupDr2H2VUUwB\n",
       "O/Ol2cGjzjM9O+/TQLsZoaH5+N+/kasRT7ovgFH8SW6z7BlK35btihsJ35MAN1eQzGpkExsRJsRq\n",
       "YVVAOKye3lUlqXkkCI+hyf+xLleYAQ6MY93w+deCT2U5L+Dks98q7vSR8iNQxNrsSA77uSlXSo9t\n",
       "Hm48n0aVyDBgyu7QjsKpnqLvQQAAAMBBnoRFFSxvAAmR6MGsM6EgylmGVfF9GMXq6RruypuKccSC\n",
       "uFZE29FI55RIEPQXsiwLG9ajLKeIeugcyQCIFZt7vNYslfBpkFLEw/XEXpdqThiNN8es8AEnZnXI\n",
       "OOpP/QKWYFfgSiij7Vl6OOkdFTkwwL6rePjAsCMVLPB+q8U+GLCIBbwC3yM3KnwTi74QDZp4cP7e\n",
       "RItzR3GwtVckeNEDtdx4XFkiHN+WnZnnaUdf6036M7B/1WJz+U25m5hxEJAAAACmAZ6jdEX/AAwc\n",
       "dpZ/mrvQE/GTh6MoF0ERadFhjGOgALJhaMd67aGNjMjLhwm/r0X1JEvG5jhGfm0dOBqc3caifPtf\n",
       "DCXsbooQrC7OoYdciHmAIVCZY6AI39l7h0rs6PbP6afCDlgAinXhXYylIV4YS3ZGI+UsA+HCXXcr\n",
       "6CDhZ6ynh4pP8n6HTNpFGLJElEepMZENlif+kBaA2BLbfsXFm8d42oA7oAAAAJABnqVqRf8AAtYv\n",
       "artr7crbIV0riG3mJCqCCslovm+qPrgt6S6dVWDZH9Mi9mQMjgDMJ0t1jY21zx4T8IiVjEToIBJ3\n",
       "+l8vzj88q0KGcxMua05PCKZOjDfAB5CvhvGh4MtN9E/hswVaGejEkxHmfv4nxqRCJFyDD/nmv5Eb\n",
       "P9P4aR2gaQ5oMB5gOQtgj9Hb4UEAAAFhQZqpSahBbJlMCE///fEAAB/d/1y9xguD0X82g9MqA9VL\n",
       "oxaQRMAddyqMsZzgP2uTVA5uTWzxceQRCwgJp41kiOU5yEeitAV4YpEYZopjh1O2ZMVqt8N4hY7C\n",
       "zkxQ33rXBC/rTVYglRZ8QRWjxzSRKC1p8DD0mu0wGlaLeLqc9HbN3HWzMt3iJRa0NIfSKYdSYAvm\n",
       "gm+2ar9mamI8Tiw7A6YcjFQFddCVO3lLbRP3/xhRcnne2e9Z3x2eMko3ltP6Fcj5oBcY6wmVjuv7\n",
       "pIz1ijVlv+iKpX4K05xG7AQDDq4eioTYqCyvlTJMVwydBrsNVu8lxlfN1waHSAXunllhPPLF8vP2\n",
       "jEcqn6loGw2g5BQ583bC6CKmJdcCxQQO0Ow3zfRPibWUTzNvZW5PeLgcoWUHYQOXvRDfKmwTkB8j\n",
       "Jv5yAL8m8Yp9dEg84UmK5EP/MJO7YZK8ISSUZNdWlMeJIakAAACoQZ7HRRUsXwAMHHaWMmpRfJBT\n",
       "THdYABZIYTL6Q6RRDifyGYHQySL2oBviMMatDDuYINuAhOCpG1QthXYL5W6c/NPhgt+eeePDIrUQ\n",
       "f1qz6HN/hcuYtSBm+plG4akOca5Y/eUMmopXWV2uOr00/GdPhbEZBtHe7e8DzQIGAo/3hXk5Xxgk\n",
       "oB7Uiocv64D8aAX7QbLSoDjKEhEkJ7g2KmGnLear1/tK1oRdAAAAoQGe6GpF/wACsj7pw63/FNzD\n",
       "P51UTir06YHrY122Oo2W+T9IHYqK78pzx3M/Lt25QkWNOBtwVOiGhanl7Si/esQHcqi5fGHT0BGD\n",
       "F1fblJhkiZTlIhxX5R0U6yZdRWmsvgzZp1dQfCd/ZfFe+mVArV4oOq+aD6gHIfldxh5Aq1rD6n9Z\n",
       "H99ypwelprCFmXyltDpxphViGEKu6nXeNLELwFsCAAABfEGa7EmoQWyZTAhP//3xAAALr7DL3rfj\n",
       "IrNcmrcBwA3dWHfKI31GQP0lLYQIQ1v9IE/EptkoAWtiUbhYp1YzYNvApG3lG5lxS+4m/K+kLkw4\n",
       "kga5Q5gn3RncYrJs6BgaaElGlxoV4yLNla2b/mYQKKgAw/KFjExa65XHOX85BC9KazCBjrhRZagr\n",
       "ecAtnV9Xlv1fbDMotM89s0L0q6pUzRJWMJ/r2BYb/ozu/xWV96/giFOpE+FpgDHlbm6dptWSUHE+\n",
       "I4p+t83c38we+r9c3QVh42A+cvVWRnS2sN3GFMUcEOKBC3Z4mdO2qdx8Bn6anDmE2+iQ+hZ4LSv9\n",
       "+iKKIwuyH1IK9PBiJmk3Ayn4Oqyrzulv7smlzePh5pJak2m45WQY3VKd4yP78s7xBhM7sU40UdI4\n",
       "xi601tit1/08aQj53cKn48hRRMsl3jwspFZI0MGSs+vLzl5pR3gNmp3b8/UD29WxIMcjJaE1KWor\n",
       "cWOLQ1DGAa3uQ7VG5BxxAAAAsEGfCkUVLF8ADBx2jwFizyp0Va4JyUv5ExzmNZWd0slGY4caNzp+\n",
       "ZL4D9Az92sr4EgpZy6P1nLZMRK0CpLKprAaBBoKpdDZoJXPGZPD1GIpcAVUG6N130T2JVtD3+xbd\n",
       "T3AV0uh5jBDDZKVACqi3MAQgHuxzo93SpisDqdsXZPb2CZLnwAaotm9nR9xO7VLlOXShmXmhsIJJ\n",
       "Elmh0SV4tk9LivDHPvuaa8+tYa6Lt/1bAAAAjwGfK2pF/wAA8obUMx1an3Pgh/4275Qctq9scvCB\n",
       "mibJ12JaJ3hBC3Y7BmHOiNL8756zeEFBrP9fpReAj7qXtDQ9QlKFXoOgGapfJ+xNuX0vKifgOs+8\n",
       "lJ29zH6ar/RQoMrtFmrwqtRNhvVzImgQAFUgGi1GHOXkXGk4eSqWorYV+LCuV2sAVGUsPGjeJ0FB\n",
       "AAABiEGbL0moQWyZTAhH//3hAAAR7ompo/HHyEE7jg6eXLAANpxVDan32DZ+4afKurCt3Bczhwm3\n",
       "Z3Aw24R5QS+ra7zTQl674ENwNiKoWu+H5hFZEKwhgI9nUec91L19IihqPEs3yTlhPsUs2ZbsW+FP\n",
       "6aJJCpDTk1Rcw45wSoZASYq7RXVmMpkcr9C4GUUcDZl8SsEPIwZJqLgiWrgGYk4ltvr9ZA3mn4Dn\n",
       "QiW5NjOPxxvLUMwZga5Ze+fBoqA7KgFL0+Y0ZQ/CBgetJmzwgJOuYusHl+LuzLoclTpzorsNObnM\n",
       "hIRTRy9cNpbyrzOKTPL6MdFRiFLLYOWrrUTmF4yhCOLdzgCrG45twVxpRugQMJMalO2166Pzg6C1\n",
       "bIx8eXAsUm/VESvCjNsUPgzUfSH8IWS2JbHYVbekzM3T9mMp3vur/b1WnVxjYNBOR7UC7ZorLM8e\n",
       "mk/SPCd/4zC0XmhpjZOtQbwmYdzbc9Hc9EpFVcMY8YV0aMpV4pxx44RvnjRXzwX9TdP2iRvRAAAA\n",
       "tkGfTUUVLF8ADBx2ju0J3LJ956SoPYIoHelJq9PlsgmRfNTG0mGFxFigSbEZ2Rfz4nvMKWz7gq8T\n",
       "TWIpoDVrWVMK7EHH8Mafcrp6uAHVAsSTGXgI1XV2DUX5qwCGEDpJbxo5S6qIf3AcpzKLWH8RwJCh\n",
       "J9BelhogiuG+N4laAqLijbuFN0K6NdRt0fyPFoaSSrO/3UWOkn3PdCBs1zPs8XIrlci1Oh1h4LHv\n",
       "wppVQrI7NNPUmC2gAAAAnQGfbmpF/wAA8rw4pe9nRcke8kr/HN+DtYjG+gbvZP0FCBMDBNFM5G0s\n",
       "R3Cg1MoT4IXYapzdGLrbb8lo1rLscE2xAdvn2ahmIQA3I9vdCqj+Thz8/Yt+VKUzHTJRnzjL/Q7h\n",
       "td54BYIlwwqVncSpOOOxycLToCkNgN4x7bU1Fv2iHWyGmdBRH96OABgDpgcwYqQ6U1LzyHA9ap0F\n",
       "W9AAAAGEQZtxSahBbJlMFEwn//3xAAALHyfWXtxFTf/rughLuIkJzyQWodjhKrC0Gh4cLszO+wQm\n",
       "suqG9bVSVM5zndHAwT2Ji9sZw/5gMoe3PMyzmUJVCZ8bGdpRF7YTuQzTCGMcy1lPIW9s18LFXqB6\n",
       "ho6asBxzlNBI98aQ0eEYlkLBWVieQZkeRsidTQYWCDA2/PKy7v1Y0Hk3rwMR+rtVGkwRCJAMXnkJ\n",
       "FlFhcJBNcZDroY0ip8llS0Z02lMTkoekfxFBn6+r0URIMF5bQiu/N8UtHPtuAnRRFSdSOjFumha4\n",
       "7wnqXYh2iJzd+7JRdn+Ln7NX6B3cmtpRx9+EaChdPggAM5Xf5PR5v0N+b+/apI1zksLZlKunb8zl\n",
       "DPDdtN9RDvo0G4Jtkb7LsKmnjqPOEBrvrD8boMAi0t53nmDvKmH2CuN4DC0xAL7MXPd8EfV4bHNJ\n",
       "Vg4/MdpirXXdyhcT+LI//jlSwIk7ZXWDCpkjW4Lz3v8Ir9j4qP6pCpisQ95jNDRDs/DLaQAAALgB\n",
       "n5BqRf8ADBx2jtSRoMnK5lnJQe2NkV3EjcMi8mteBrNBw3040QYnV6KjsgZ9vUYhuhPUEVULDdhu\n",
       "6yw0c/nEuRN4ZfHxO1AGM7fOmt3MZvn+12L1v8qLktlJEE9ONsSFRMcOF+kiF8BHVhVkAIaEd558\n",
       "p5CHEQgfZW92b4OnRqCX2eIidC4PAEMDxd5D7kq29944yMVQBMqWE62zWDMMfpOYyvXj6AgawKO3\n",
       "XSXFoCkWp/VSYjugAAAByUGbk0nhClJlMFLCf/3xAAAK1/dIHuPnhr016tWNW2hx31nOmPRooGD3\n",
       "nAhtWvFdO+MNHJ9Ir7xo+EPQW25Y53IQU3BU5EbiWJeVJ7TzRPA3vY1T7cXPQ0kj80D/PVGaKra1\n",
       "pp3ovM+7huv9PhLBQ6B3JyUbOzIxAviQPDafTZffTBKNYuhhE+8qhgTqmuUfJO75rD/dqrFKi3DL\n",
       "jo9tXQfNnDHR48UJDC7WDPkLipMQir4dp+cBX4ZcyqPjRpv3ucx9x02FoJ6FTpltr7tEfQsSs3Je\n",
       "1OsSxYJr2Ddl3KLijjoyup3GvIufA4gWxaR6aBa6Y+7EKF52J4N6AmSGJ2pAh7+JaVXbXXzv0xXW\n",
       "tKMN93c05wyB6m5dA4hEtBrejrpk0JIeUqWK8mrIbqBlO+9+KgggXfUB2AFYIr0MEZquGBFmn2eD\n",
       "U43hFIFCQXofrsFGAo5ixcrOQnapLD2v6ceh2vwi8LW40i603tVWi0KZAWfXMatdniP3rZwDFbpp\n",
       "8GLvIPIRtuEyBkp3i/wyfJK0GzAw0IezYNIQfpGMWpsZftKEiYMtQQVXHMlWHvREVWM/vsHowFk5\n",
       "B9TG9YoadyEBYkdDJshI89wAAACsAZ+yakX/AADnhtQ7tAhv5hr5MGR/CVgkmTtYMLtRNLgHtq7u\n",
       "LAID629WV8MWJ2MOIPlmQXAPwp+icC5vbHsqi6Ny3qyd3DK6l4lk3+w3Gvq2uSgwjMyf54OAeQyR\n",
       "ZES0vL69tMeW0x8kQATnn3NrFEHs5dzjwCnjhnAJqdDlWZ6+yX5jLYlWfJb0yBRYAOsED2O4FMq/\n",
       "Dj2ztLaTPaLdy+Zh5cZJ2UvcolymJQAAAXtBm7ZJ4Q6JlMCE//3xAAAEU3CB3s1c6ZxuWCR0kcAd\n",
       "yAGrihF4DnIwUIaFY/vMrIX0LLnsLQC0Y45MRlBvug1ngJh5AaQSr1gCiR3Hfvd6xCNhVHixT7VP\n",
       "K6+dEw9SjgzF0/c9r8tlj0idrw5FGyHKVx02Qtr2kH1AMjdzf0OH1hovpYv9IJ1fLLVjT46zvI1E\n",
       "4Sgo/z07E72GekscorJCfC5W08wEgeWTqKepjC6GwZ1dcSJ0TJJFUuCZvvEBC291waVIbe4lvHWP\n",
       "XuUdUYi4k08KAmAIsfrDrEn4Viat9U4uBe446GmcWuVjBR97l3xbg5ioQl/NZyIh0csSIFI0gHMo\n",
       "lWdwSkB1lAfJJur2B3aNnQNSdzda5XFwppK+byhjpG0eG/kKP5K9hRrPMXHMsgQLWltT2BIhW2Cp\n",
       "fgNBxDfBO2b0aWR7ToMX4MpRN4SMFzIyP+X1D760M9COKHDL0K7ThHOHZbqbHxbqRKfbGf/7CC3/\n",
       "AT+uyT9xAAAAtEGf1EUVPF8AAF+dd/fFFzYI9cGT1m7lld6H0EX7/ClV/hooQW79ihuMKCXevHsc\n",
       "CIvwDuuhb0WJxRSlHwIQzCP2Kex4AThBqJ/U9kP2RK0wRGMyD+7bE5EwSSl77fsex7rh5VNQvU+P\n",
       "ngjdbSPASabupaXcx50d34AP5tJAvoWCsAOXVJKFpWYN3XslfEvqu5klI0Stm6iiN/evbmiyRLiW\n",
       "M6BBEJcrDVxCM0CDGMAW3GiLaQAAAJ8Bn/VqRf8AAF9nWz24kYjNj1zWUvgp17cv9T4KgMYQ5UMz\n",
       "g4EjHTOuyACmOBoatTGyarqsGqU+aa7bvX1MoXvbuhLhr6PKpmtMbnrC4URwe6CN5bhhZ8T3Ap+Z\n",
       "JrdhO0b4GJxVMDzE/Z1ggzXS6eWYtWJM4xtdxIwk7OO6QJO1bCamOuCKe5NNR8oRF/1bcCKUtACY\n",
       "YlYxDrZRb06ZyrYAAAIBQZv5SahBaJlMCE///fEAAARTiDOhiUU8q/4zsF+Cm7RLu/eH8dgmttJA\n",
       "1WZtiFiBs+sotQv4e8TYizI8h+PgZlzOcJdl5jc5ZxSmfjVkWdTY1q/AehXp8hx1trSmrir4fiFd\n",
       "2hQ541KxnYHiyHSiiKEkxOwkCiadsu/rH2sZ4LxU66RrAZOV7yvGPsrNu01kxZPfgzWRPiqYWVEy\n",
       "RvQI7k0H2ueusoDgkRLHl5BQsvUBqxewyaa1HzEYPm3YVN0exDSg9Lih0MkfuZPM+3+jnfmyIRjN\n",
       "LtDsjv45ObiAt+m1vvg0LS1Ja27GZ6tLMczgIg5TFh8gZ3XCrJaCPw9bAQbXg9mnPnVZX2EMSEYO\n",
       "UiZ46V02IltsltSOGmbOE6fd6NIqNHZSwVZkka0X2sKSjHNxaqUDgp8xCJRRaD4U4UIHZg8a4fuS\n",
       "gr75/O30ns2GRWX7CjAP4D3j6Zrat+A2Sh6solJbTFgATpZWYEmmS0d16Flw73Hz8Y9JhKo2yR+W\n",
       "jGE1vVR2uGrkX0TI4w5rpK142Kogk7kmilTLo1+zjDIX6oPCkjCXRN83L1iiAf7z6YYZ3piumWkz\n",
       "mr28TVLjC9z3k9U7SkUQgDjZl2/ek63rv0O921l4QDe21yoUbpAejSIlVxucvckIbQlGeHS46K1J\n",
       "+ASLRFJVS6lkCVxwkxgQAAAAv0GeF0URLF8AAOJBlvl495Me5goIwsDXTrCSFuK0GZ8xuleX2gGI\n",
       "wZctYAcp4I/UY+2bIWf+dEhHa7qgBIuRa8cNXMb0ly6ltQ4rm3V8q+FOOqTwayyPFSDYF1FgYq2X\n",
       "H4LdESJhylfUbLwG0NlctjFgsneLMp0MiJd7c0S/dTDLU89Ui10V93V0HVw1gftXr5d2EoeDNzh4\n",
       "9sHm6giyqlWOMPICpXsq+3tlL/S/w0HtbA1vJwASnLsym6lhnJGxAAAAhgGeOGpF/wAAX2dhMnR8\n",
       "7VK9JCgHPrOS0HBQAj6VYsYmEfAujDb553r7Bhrwr308a6bMOJUsfVRuAHN5coqF4t/R6+GYSyXe\n",
       "0Bsp5Dbkas5hMkaJtpzu3WJGiztaphw0YfzZbVwYW5EPpclW4pU9aoYSRkFA+oKta7fRfpisd3Bt\n",
       "QjAOqwYMAAABokGaPEmoQWyZTAhP//3xAAAEVRPgiVeWxPQFcEYP2AA1sj/5yJOjCLLJl+4z8XGl\n",
       "NG3p82TZhGCx4kqjVNzKzQlPU8YNJfHE+4BaEGm3jxmLn1Qu01P9mGOaCYUbLgD159K6CwbvKGgJ\n",
       "+WJ5BSNq5W9zeqwTVTa/bl57ZGOVDJTsFv1tVJinuJJLFWl4W9FAqihERbwpF6o3DC9b2zcULk9b\n",
       "8IaY0FD4mqH8AGqL6VFLuQQxTWrT0gRDCpWTa9A3wydttkEzBOechdhjwgvjMdkPsJO27m8Ou+Zt\n",
       "3nRBZMWSGh08hRtIMj06cP8DYfHd3L+EoV1+zdW6/5i8BdMJRhfCG06ee1ySNXzPu95vDWnWJfUs\n",
       "oV0gy6duz8GbG9Ex9zHkf//HLTzhW5sSh1J5l4R4aisERqyZiVJTnrArlK3CvJsQ9wqwjfZ//pby\n",
       "dbF7al4j96MApHC1oGPidWLN/FdGxO9O5MM7O6BEFkkUNCiDGE5c/2YxFmwUVhp0G8AroOiDXeyd\n",
       "BO4KmiXpCVGD8nFExyIsj+h/baUzdmhccod+JUAAAACqQZ5aRRUsXwAAX6+mWRvNqht8+/w6EJHp\n",
       "IamAfTWkgE/SNCRpocHnsRDzx71G92EFetoz0oooWVt/qgmVVhuOuBcK9q/a0AIDlmI3D95jYR/3\n",
       "KqTt/6wUqH62+C9r6TQ8eBOfW6Z7yiK7MWCABSIqtz8mPHSBc2vRt9bOuKAVSYZmXATljBZSYV/j\n",
       "Z0XXR95Q5xxzTXuJgM8KxDJKcUFyrkV/OdebCllIyakAAACnAZ57akX/AABfnT6heMPJy4Zb+iU3\n",
       "S6WFBCsFuew5eIYUNNiI9jXOkUNwljblWEqNBwpMvbmDyYeQGS4AacjWbeCpbfoRldFxl+xNryX4\n",
       "9XoAGwffQs11cluZqLklDR43lrU+pZhMjjoT7fcp5Zm/7XvHXtBovUhcny2m9FtPgIRUbtHJEm94\n",
       "pLYHpzSFQpxEHouj2IrYdVXlJFvYxWgnvleJx1raI4AAAAHpQZpgSahBbJlMCE///fEAAAxP9N0H\n",
       "XYclL018k45DDI+e0+8Gd7oFHumie1iKYwSiNr8BD2L/5m5r0e4pShFoLaDjirSbKYGgk8lDWTxn\n",
       "4uZhU6Wmx37sEhUCVp82QiK4UyvBcS3FkqmyhAEre2YXfbac9TYCBSwmsc7PHWMtbq23Y4EA6YMd\n",
       "DINWR0zOBqtOPDpTQW6WZpJhvRcJSDTYY95wSiMkK51nt9qowXlFCMyd8LO39RCQjQmXtVUGQya7\n",
       "8DgQ3142gpkNq0wqCq/FYG1w00M+8koedOd9zxQbkHaBkbYyR3jqO6cMQbS7gKzU853VKo7wJaVv\n",
       "DRC/PwKHX2KWZDqihpSG8mVfvbFYhlQRODore3XbSkj84oYhWfMvp7X8tMqh9i1o7VZzLaPJBW16\n",
       "8rHChCUrwpll2MHvZbFwcg73XW6XWo1zL8jS97RXcqbqvu8VZO2yImhZKGD6i1s8VMh/W1mraIBH\n",
       "tl6//jIwiefLJUN2i2L/wEio92F1aYqZGKpHAtCwY7IPLBN/xt0M+0A5+lUlUktasbZIjkaCguuD\n",
       "tIkGk8cAYJ4A1+WSdf1BuSURgeAsD3o8PX1G93a9LaCP7HsBpZfjL4CRWwh+9Qhul1+/CNIhxFSF\n",
       "2x77/4sMYIndfllBAAAA8EGenkUVLG8AAEt5ua+BjtEGVPw5IFfEOuK2xtF1VshtVRazdM8a5cOd\n",
       "KXYOC2aTQgsVHpKxUphB1Ihb43ADdNDVA9hM08tdFEYcn7MT7oBpHcU/1hPCngRIVx4QiprMCg34\n",
       "WQjFyi1KZyIUNxwvCZBnFKCSQRn/UoAYI4hH626ScYVoWO+IoLCm90xLaMx8PBXgDGnqE3iLuTOI\n",
       "SPly/NeEj39CFzM7EcKHVp6R1XewfOtW/AfF24d80P9F65kzsZJJLAzD2kvZ4cGlI/UvL3PPxI1K\n",
       "cPuOxmtPu0isLVEZmvi4pbEcbQlASdeomwgdEQAAAJQBnr10Rf8AAF/HfdmgXHZB2gmhPutSByZO\n",
       "RkHn69KkAD2T1ysnQTh+zqP7eN2sWFSLEel1OtUHQ+qNQ5y7vBstYYrCQeeGCPwFuZpeAcpn2x10\n",
       "ydB0nDEqeCCdfx7bd2Bx9uuLfgxGF9PfByWR9jp/22rRc66342weEl0SXQvAcqyfVB9xlIUmnMPw\n",
       "RzclUZhEwzEnAAAA0AGev2pF/wAAX2bR7AdaquIV9q4412GYc09maaJYAYd5HayXfGyxWnrVHTUy\n",
       "Mm6SctAz4cse7x3koxIUmoQxjb7DX4Syv8yvKFdthQIDi23XoKGnKUPjsGtwyhAGD8OUScb2E7bV\n",
       "uHqB7Wm3zfOEmCMDtaJJZVYKHMITNCKKSnJMqDKfBzvoTVa+fH1ooY6kraQfb+opKNck1nb7ylOH\n",
       "31CvH5G1X7bdH+Gf0JFVEvB+VruIbRz16QueDytZ4vCu/3t0wVGDpvm/foL7eJxmbsEAAAIXQZqk\n",
       "SahBbJlMCE///fEAAAxBCx1f465KXpr5JxyGFhsKU/TxYU1ml8zdICfpsEwZPSnCMbpb49+ltEo7\n",
       "ZjwCAKSwiN/jfXv+3kiujp4nleRYPy4FW/Ut/XOLHTBzB4aMWRS2LtF35gZB4KnHIOAf99deiC5W\n",
       "tTnNtc3vCKIG165PQPO1CK1GWVgT8zzTW35erFK5PrE4P5t2fh8UG3Vg/h01wS2dHIO3TQsZyTSU\n",
       "oInFK0O9MObJnJvSrMD9ekPSo33E/k7Gd03008nbyeEGyZ80ENWvbZ0SksZsgsKoVVtkbfSTLf1l\n",
       "XX6H97Z8LLjFrZhgb+vvjf07dGn5xE8l6PLLK0PlfrDBDTagkvnN2WGGoWndomgAO5o4Hanh4Nfj\n",
       "T6qlqE7mQXmEKac5/gluRLKOpgQB65AXUQw5t40PlawQnZ/g2WUFKXLfS+yrTW3MdvC7/aP/4+hf\n",
       "0Shrtw+s0Ewxivro1v1W88zKlGWV1F0hTxu+bfdWraTwDKi+1/QETDbGCeOhcTCNtINBuX6jm36T\n",
       "Cl3E8c6qiH4++vt36SR6I+uaJeR0hoiFkhpTVBfOx9O2CwCJLDsNMjfFDVWoPgyZWlWmkUBqgll9\n",
       "CbKh0iySr/Rd1hGbsoW5umD7mzq0lKA+P/TDswpURwhgQvdPVceD155JGYH3B2i2shKcfu7Q39NF\n",
       "irDgyUBNJRyqmlRafKtVQcMv8wAAAN9BnsJFFSxvAADS1irX1gWvOJYYQ3v2iBpFrgF1n6A6Oy2I\n",
       "jb+kBi5RhrFUhgyQoidkZWKvVvDs8vJHb/t8z8jiLdoa9vxeVnexo1qABN5/xW135x32W8rbNW8a\n",
       "d3y5sYnA8lL9YwlWgCTIvW9BpxJbN8LqzOj08wkUwRAWfS1VxrC3D7JhVtqDoP0idiKBANuhOr1g\n",
       "0+tBJt/+Rr+1tzuWl9KEHmyfakqzmDZkvnAxCodOVhPIee+dy1T+yew2Ik4n8uGJfYUz8K9MWPPA\n",
       "XdWwBW6fQC0dQ7KTQFutgA7pAAAAtAGe4XRF/wABBQkt4g19U0Pz1AqPHFeBObB5DI6KjjLYnXEY\n",
       "9qCAnn9UQ20Pwl0Mxn/wfi+aLXO4d/NvxdJ32kAIS3DSnO1EAt5YRyvqnAroZWlCTrwss3F4Qumm\n",
       "rHrKjEGQvohW45rBmX+silB9TNtg5Ym/w3Ph1xYwwd3qP0POZ15iNoh696c2f1Rfbrtaa7LvXpX4\n",
       "JprbboO1PIBW7uoRMLqaI2xf3ATWWQ75zg/gFUaygwAAALABnuNqRf8AAQX0YMaK/+CttW5W/be8\n",
       "h2qze5JwlQeweYq4ekN7Sb8Ad0LNg6gAhnugXC82HtnYRPRaV9oFZ6DKkXTwvs97HfwSFSxtuWxT\n",
       "9OaSbWz4sewhyb3WOsGVPmLGemJO1yXJXW2CAaKfjoqUWAeRRX2A2JYwU5Svxu0a3No5QD1klRrY\n",
       "H35GLoWGR/6T+ya3v4gLphNLqRLnf+pWvMJFGTDHms0NkhscY6iAgAAAAdxBmuZJqEFsmUwUTCf/\n",
       "/fEAAAw5kofRpp4A3K9p7zud+RPPFDeUa5oV7d7vY4L2R4OLkQBCtrFoahkmgzzV0TLpryMdeMqV\n",
       "8YywgViT5wDjxBs9rtlkLS7QVUvR/8l3QTJ7P+/BzRwY78oOQ7ll3ZZkt+a7H7HSeqGmhZUdlqez\n",
       "58xRMIQHb20GfAxA2NHz1f/ozo4bARFx8jY6hX4oOqyM6vy8r24w7brbih/OTeZy2k+w2DmRa5zK\n",
       "7zgn+jdmVEjzn6qEKGuX0RRJ7VcvplZ0F4OrfknRIyGxC6t0PVQ/CVyLVhVfzWD1nJvGpqO8Shb7\n",
       "mOyIlpqP2cZqs0N2kqgy1S/L/1X7gJJHtmAVr7EQ5sj+pZz7T4Kn/S1RLNjrsLwaw9J8Royo/P5Q\n",
       "7gI1EQIt2YNU7+R/DvovPz0QEXgX7uFvnxn2s7TsbxjbpPGXYKsjaqxJGMVv0YK+xuLTZX/J1fxs\n",
       "jq9eMDEOkzDTu8Rkfwsnrp5+y5oQImvxKjgY7bsGexixB/wZh4ROWX2lE8dQAs4WVAHdv2/UZTkt\n",
       "G5OTA5xpqtq18DeejxRMlw1il+0BUNKUKkD8jgmUjUZOVKeVtq2YzDDJ94dlEWo7Oumj8BvTGEcI\n",
       "PP7UtIyJWAAAAMcBnwVqRf8AAQUwvzw78TfWC201x9NytZlnndzy7wzyIjJ4Cl5Ck92lcZlwrd0I\n",
       "vxIZWOSjdSDByMR0hjtAG3S/ddZjTPu1TfvBXQ+YruI82DjBI0Arh8bCSSeRDtFKpr63BAC0i2IS\n",
       "vhz5kAEJJRgOPD9rMnd3TxjARbwbG6fxskLITBpDvpuPTWsCw88m8fySlsBOh/EiiVN1CRSIMgGc\n",
       "aR2cpp68AJFZcA1Ovnq47tvnjnzdRJbWSBu325Rc/pLuGTMMcpXnAAACG0GbCknhClJlMCE//fEA\n",
       "AAyJPDbDtdmObfl/eVKQDvt9n4DyBgx04hU/spdCLQENe8A+1cIpiwHfIHIUg6IXvxgvNkm9w2ik\n",
       "kx+C424VENymTfPIbyKyCWKseQyZe1o7wzx4eDZd/Rb6mU8qZhJKYVuy7/1XLJbw+ry+sGjvYo+P\n",
       "N4fIgE6tpjK17nih6DQM1HGOrgrKF+v15qio8YDgxpnzTkI0AILRiKsjhpqRG+NhkpYPiT8KlSS6\n",
       "LKg0cDomriS73iTXHv1+X4L4jRvOmIUbpaCK241HBWqem7oEo6Ts4p0CGyB2q9OwauuB41QzlqzZ\n",
       "QitQbNwsfiMCLz3W/i8h4SfnbZHG3iBIT+5xa2NfLCs9X59YE5wVz1Auxf0QWjFRO1pk9kwcCi9H\n",
       "PH8/JNqT1jYQpdX1KnnLyeDu8issCKRyVWvftxaphiigyGItektOy8jHri4ATVO3bStayfkZ2aWv\n",
       "NNmSk6WQ3PNkQeenWqTS6RxYdff5drW0ygdjWve1moLB8cJEVaBEPvtRMAAWBxlLv5LmMdGjCOfE\n",
       "n3fA9bgp2s2++TrK8+DXVJbY4PsdqUGXMwrJXFR/mVp02dxVtQCYapzeJhmScee2G1Wuhyt/muFD\n",
       "76KfpTPiNK0SHVCMqkhDmJpxEYBV2/VWHBcy/zv3lToQswCemL0jvRcdV13dHe5JO0bG8Pjnj+yn\n",
       "2Zfp9H3KvAb7/1jwAAABGUGfKEU0TG8AANhIQTYXz5rTxjI7ovyORcztcMDAk9eLpNzPI+rj9wgJ\n",
       "cBkW9rgAEu91qgJSGe7Sj+uKQt2xl/VKrb4qBX34vCZDzJRljfkqItKfGmSWdeFXF8zAYKDxx3f4\n",
       "B7o9rTHUHcqsqOnzZjxHfpk1g2Y17FGPRlgVX4dt0W2xNRjhgmB9+bfvbGfoRiDKfjgC1TtBLp8P\n",
       "08ZFJGjey3llvE2/26YEurG05TJWfT3RMCumfFTBe8HmI+6zZQ/wmwvkE6mlABh8RSNmf6VqeZBx\n",
       "mwft5CwkCSyeIvRQ1PYwWsPOrSsp+3buAd3LrrUhL72bwKx5OAjBd8IngjRA7ltsoQjF72pUIeTE\n",
       "h2jLcgTNU+bLIxUxAAAApgGfR3RF/wABBhy8NrGFabxhRVUXq/68H8GDqISubY/+HCoSa+WPg7tN\n",
       "SrkRJrHPJ6GmqnFaZaAEJIz/wrM8RXU6HTz2Pi3lFxuqA70CEuCxTrZP1pDsQ3za9wl45UvWxjTM\n",
       "lwE1cv/NNCq3RSj2SCr5CH6ZHaZDzX8/ACbMvy6I/9wsDjpV6Aj0qB+xNuxmIm57Cj328vWgH2hH\n",
       "FpLLfhAuwgZAA5oAAAC4AZ9JakX/AAEN8n1WwKTR30aJqY0OajWH5wP1ZfIVwBac92Rfa0ZvPhAW\n",
       "svhkuR97fDA92EkLNAB/zDP925x5qgsm8T29Hzuv3XKAyvJz6P3XQDj//u36mipVKE1lTkHyLCM+\n",
       "Wt34lB15edCHaku7uL/FBafQd9GelD5v0kq5wPloCS6FeZ6YOKGUg38h0xgtO2I+bVNejJSKmfte\n",
       "RdVtmjR/KAgOkwimMLTQeNtJkuuBDMZZfrUBLwAAAlRBm05JqEFomUwIR//94QAAFI5OQ9PggxA+\n",
       "0fWh5uyWAyWpmqAqFSEYWbNuwll1nZM64lwlh5qQaLeWfknLrjbnuX/JzwQzId4bK4dVspup+2bW\n",
       "L/H3/am//CeXfPalgtFswaK4JLrekDyxM2q7+bmjgje44xALfWFX38nEd8rI2/i/BDaj9qMBTduv\n",
       "tc3JdXp1Wd8cOSLXTDdweTHRw5cLrqLsXU4NfP7PuykzWyJ4wWY86GIth9Bo/V8j93X+qQfCGH5N\n",
       "T9BscnuFofvP6UnMNRjHbMmNDyZcwbZeXizxn869HcW/1rEEn2bpWjMK/xyFmHrO+6c2OjX47w1s\n",
       "EzMP2kbAns8vyqWDz9k/MqI/e9tQvFsKTgg310m85594ZvTIfSJsA7nNqbu6mvjrNt+ueoQLAu3U\n",
       "m6YHWxvd/nJpDtW+QLXPwzEp0Jn06av/vfn//EOcF+jklAJ0OiWR/JBXIgFma4fyA6aNJ6l4hcPd\n",
       "nVFFF1E1B8JtVVzxN8lC0OauCb1IIN6tdfzw64GqhG8PdU6LpZevHk1uTJk9ITKngeZkk7GMnILI\n",
       "tOCS3H3nd3/9tXBXQogk9y06pQKnZw2djNGIQtX30PRgUxojJYPGfNgALojKb6ZLOokRwRhc2pNf\n",
       "HogKOjPGalnUdsHjaz0QhV/JV6a1MNDSetL1EMsYtz/7YzKTEnMw2pFYgipopnULBdcyJQH5hd0/\n",
       "Ri8SvXcmlAa5I3GxA7LoWU8Q7JBXtE4u30Tdqw6Pfs4UbT/fXV4vli2bHOu4BFkr3Z4/6lakZL/p\n",
       "TwAAANhBn2xFESxvAADXy3MQOI1jykyMOz8ykHK4ziAzebZ/IRC1LbTnmDibOEknQpI5NiZIkKa8\n",
       "dbrxWTwsnrkxUAranEQuFZuhntOaaZU4wAhADGBXmPitw+ZAiSImRgsqRP54nfA+/XYVgOU+S+5M\n",
       "Eq9vNfjfpeT09ALZzgTShoXW+S2N/Ly9DVDGMpAY4S7rBbQtHjrXUyoyegUWUuOvBmMEZX6ANN2h\n",
       "fuudbVnrUuWgtuOKFF1UTZ3NPKp0YzDdc96lwcA25mgmwMtbx4nkbAEC6dRJgLbq+u8AAACgAZ+L\n",
       "dEX/AAEN9ewoC+iOv8dzFART+ddFfMBhCxomUzCNV18LU8nI5DfUxKfnTpNzD3XmXu4mhRRbp5RL\n",
       "b1LDaex7D0VySxgBJOdhSBSksb8/vLqsqXpmy2GLw0fUC9ft4Zj7jyxhakkOt/PC3Qd3jm3Qu//c\n",
       "HxUttB14Gc9UoEar4DfHxD3LdXzjiybkHLyplo7LCtq9jesITLs/FmAs4QAAAJgBn41qRf8AAQ0m\n",
       "PRnAVPmYQxkdecDqrrpYs8/Ijnt1PZqCbGuIZCETKEEelIohSGaJNqxkv79i5R6u/cKXpzzcafgs\n",
       "sdjr7GzHbpvRIH23EqTbKdkM3CFVJ7VTMb5ILccChLMcmxHuUdbpKyfYdyV0ivSOmB0Ydb2ZYR8z\n",
       "CAU6L3VqyHWhLa7+hvYFCogwiCnE4upgI7yh6QAAAZhBm5FJqEFsmUwIR//94QAAFGZNWXShMDIa\n",
       "IWGW0DrisonDrIABTlibg2WOKe7Ccm4DE7PV/S/DzguTZyRX/U0WdTdsjo/HWm0pKWh9m29ro6G6\n",
       "Jm9X2U4UFzWZdwsJA5oa73ea0dsk4sFbTTwHAsUWjqEYIge2vCYpSA9azDbHcCPqS8tbJjNa9yM5\n",
       "9hDRqwNshZhX2lkLOFbIANBkrEesQjIMgT4m+keMUAqJKCjsMYB9L39y4aSCwVt+IKyk8MqRmHA4\n",
       "BxX28WCtx82ZnWA7oaco1Ne1QppP4xVDqV0wbk0EYy6kbnA3GgOT78QXLO3xyjrB5jGOScpdwDzR\n",
       "9HrPMFx6eHLq2Mp2mk49zUxoN62bWQB7HqMeZOSPR82CfIyONo8KfJo52mD47WPWGkII/PYRxrlu\n",
       "tMgePOHDkM4o0TtZxTSzRahv0HAWMM46fe/+7MJ94HWZj6AdotjhY4nGqwiQEkhK+JhGCgl3q46L\n",
       "+fc5AeIPAdkC+AFmVzY62GlFlUJgwUk69wfTI/Js27zQ8yWFEwt5ruAAAADCQZ+vRRUsXwABFdXr\n",
       "uijbEUD2COaqwmwuph7oJ8Br3UBBXSpiiztRTc+UOiVRvSuAlRMO4kpRUl5pgNsmVO2zrkVjzp4A\n",
       "CmTjicsrRh84sL4x/IwsNdAceW/A3f2iQj8qCmIvASTBfXcl6p0oGp1Hiigo4HgIX+JYJx2LZ4ti\n",
       "aurodhVhWpi+yjQfFZkadmoXM/YSaxIxnFlIWmTdm5BpjMqJf7iz1rNwAua5WcRhHw9625XAGeY3\n",
       "g//34kPQTNndRxEAAACRAZ/QakX/AAEVF7Cws89PN1F/4xbmkW3FPvuTN3TEif8GE7xtqsspP/Gk\n",
       "IOXbIkCzeYhOqtzUHUw0hEWDO6f3BEsUOfC1y7KWtfockNBvrYnFGJp3qlx1TD1ZqLvsL12O+otk\n",
       "cxlWLGNBcE0od93eWJQlORXmy47StDm1XwsRj3FtNzYeGpfAOP6JB/3SxMguIAAAAUZBm9JJqEFs\n",
       "mUwIT//98QAADT7/rMhR2QSn5XM2DcfmExE9EuK76MUNcqlS6DSDDdpFADw4neEtRJ69IhfrWIee\n",
       "K/kQ3ULbzkqjia6tdOs0PyX3PPPkhynrk3pn08/cLdWeRnxa896APp/oYnLsb94FFKxBIglY1HeR\n",
       "8Migf3jV9h8lEjE6LKsS/yDwlCHXzNzUbz5M8ewNwcR0AvBnDhTmnYxdSTKsKkJBgtMtZihzM62R\n",
       "iKYx8o9DQXBJ76UsnmjNMxoGIkgJFyEwu5BlABnq82pDhqqdOFPLM1r+FkjMqPic6VA/7lzicJxA\n",
       "miUU8PFP/0RH2ri9C9KnjnO7Pxh209MhiQCMiF47mZPYndRxa5Sg4pfWeJkWxXJQKTbkQy0ezj9f\n",
       "ZjvO7RyX0RmrON6kcf3/b4GMD6wXVdLY0mUua/bhODfPtAAAAZhBm/VJ4QpSZTAhP/3xAAAjm+wG\n",
       "glaZcUqaAAGbcnxK1g/JnkdyIIFsk1hjfpJJHtinzIYPG02o3EEixeY8SNOuILHFfloQxbEYO5le\n",
       "HA/JjcuSnOuqYK/u9Bj9kSMYq6/3D5TPuWN8JoB4lqITWkTrQ132MaSAfYfnQFblPtf0p1QaPlXG\n",
       "Yjjy6QyjSwLnGObr4beCet4k+6GXDjb/Sv0GcZ0bPg1C9q9nSxSnEhxCJCzZZrwNKiV2W2AaDIcA\n",
       "ftDR+vz+7twpN912U8WsYh2ec9pHM0snt/zPC5mAPVXSo5/vd0cpXO+EwLJM9UJtVK2+9z5MvWfu\n",
       "DWPi8OBrbXMemeHknQ/CJlv4OsHJq3BgyAhEMdbq8T/uqelVHKgtIk9ojoV0uHWywln+VCLKaa3g\n",
       "zVRVSQaDiCDC+r0DH2iGkts5PvsoPi/c99gvB+BeUpEf+F4PWKcIhkzXGmWjTl5H5Fl+A7lMuYyh\n",
       "SKOUxAYnaX0HJeKPkyhyMwuGJl1Wlc4YolLxXh9ZPSHOf+qs/BHtHDlvn6QGiykAAADFQZ4TRTRM\n",
       "XwADESN2bcTahakd+VWvUakUFAZACWI9r+wfhPjpizLsTWE6PusPnhk8h88E0MJ6NHgDnOC3bvz3\n",
       "PGeOOgIDR1Y5L0pB4GRCpjNr3tGAIgKHf1jRfvaC3dDDJumBcmwsVtnuzRVJ0Lyi81omq/DtTKkf\n",
       "4oKIja1veK13e1oJdVz+hi3ud+z/LV8uqDfmsYnojkMy4wHv/ZOWOdCIecTfUJnsV95tt7e4+lo0\n",
       "tJp6sHwtkgJgrY4YqBYMgz4chVMAAACaAZ40akX/AAMRI3TmFpRo/NNxbad8kHkRS/6S+K/tGvNK\n",
       "yygF1Bg2zUk5ZJo9xVaVjLESlUoC+osqCIQkKkvW/z0w0k7ugYOciEWlfqgsZ0/CZjEYcgX6Nyr1\n",
       "nO0/+Bms32gyDJ+08I8OHdgoeTXRAeAmvNcM14I7OWFKgliyZj2wVtm+fNDvNcostmMzox1xlxKq\n",
       "Ek35BjgKSQAAAbpBmjhJqEFomUwIT//98QAAJKimeOOy9Vg3VFqD7YBvnQgkej4oAr2TamHlCtHm\n",
       "n4Q+yrXLpvf+JXrQXdiasuaYO+5Z5ysLXSaxSNW080g0Qb4Uttg2a8GtRUm+nVCtjSTuxamC9s02\n",
       "KnKblj6Ma7TtlT+7DRcR6hWtN3NHd+L9ZefTt+Ja9GB6eEKjJ1zAg4w/cHIhQ4mpjp5POHcwVpsS\n",
       "dfB0eDbT1mA42dgsi89EaQFMidQ41evZVKXklvPWRU4v8WWX+9ahS/LX9jE1jqE3IXeR8PyNL4f9\n",
       "ONkmg51VpBWmtXYbU6xY+aQ1DmnXa/3ePvKZqCqlNQOL7Fyta2DzTIluji4K9P/sOwNSvfbTcu+b\n",
       "KQITTDqKfONJQrYZNEToAkklQ7fGn9o4fPMCveXWFfyKcpCSYjXxlcHzqynd4v19Z3muoFIoGvN7\n",
       "fuYwBSzPGXn5dSS178NuXtGfjOhhyZpaePzOMAz1bQkoCbFOkBb4uGeT2S5CN5/UxF+dSdUZQUr1\n",
       "1tIi1NhFhYA1Kj552IO0Ekhz0aHwS+eK2bD1bIDd+1KuVvihwXPbGMoOXgpZZtVKVGzJl+FBAAAA\n",
       "yEGeVkURLF8AAyLuFPWcSiVu3VJNDsNaaDBdbtNcZ91vs0AIRr6EqNxe6/LnJVnGRB/MytM8rSKt\n",
       "ksLIvMLJPy4Mmlz8n6k/PidWCe1PcUy7p6gRiDLUDXBQ4QU2GA4pRp8K/SZttBuHUaE86l6rptwC\n",
       "8UJSf4/L/mZ2odP1SNIAZPB3pnMNAGYul2sm06X+qMG4wo/1H62xFQfpZbp5bYdBLnoIHBZ99K0u\n",
       "r5wenMVmq3gKOV4PFqnos/3JnyAwhkLB3oiDiXuiAAAApQGed2pF/wADIzq055d2UugACyMviGuN\n",
       "NWBAYe11zeMbdZzrwEXoDj8shVYbimIvnrc0sIR7C8uWyBu81tj2+livFl4ELehIY553OK1kLF22\n",
       "zpp1C8AWBAZYdave85aho2xcNgoXvtFW7OM1iAjkU55LcsIaGMF8wkRwO3fYhUJOjLmFetWVm69y\n",
       "8Z+aPHUnBS+YKZi6ex4TkGXgHgmwVmULpoDFgQAAAcJBmnxJqEFsmUwIT//98QAAZsnhsOUt69e6\n",
       "MSXvYeGTFRdtBqTQDSacAoCSMDC5xUGzOoDf/KydhESUSNIORrmF3D2RHM/RF3PNvRLEaGNQ4YDL\n",
       "Z/ROgv3Apac/r+/iTAUp+8Vwu1UVU5EbClAuhazSAfyANPBA0PbVk/IDYckcaL5UI6apjDxFnjEE\n",
       "nU7ENNc+gNFyOk1HzHPfjOD+ymiyQ73wOgrVdbzziL7XeLG3TrGSK5tlorDKh6jxCW0WEQg3m5i4\n",
       "VMWDoOLwXyylfts1N3N4e7Ar0Ts+6ptTh0S/kvfTn7dHu0PXXmsIHN15lHOVc1gQuaFDL3TmqkLI\n",
       "AoR3G967l67xyX0HVoAouG+IOuTeyY0XQYmp4PWgSeRMbA1UIAt5N6uCXqJOg9nDd/oxSYecrUNO\n",
       "7rDUBue7eiV+/NNVP7IIOwk6zGWpwncqJqMoS7l/77G5enMML+wLIojMpuYG+F3hDdnwwG3+/LjH\n",
       "yS/0I7vSoXIvuYYv0gYX8l2SjamWN6DYvjS7nryRMtraIrEIF3WgxhIzt92pVzjgfHLmXxe8BX99\n",
       "FjWfdeZ7UImDy1gtHb9tyvXfuet9YPX2h34AAADeQZ6aRRUsbwAG5oGMHjyT9pbQcFH6mHW34ALm\n",
       "+BFqDW7ybjT8UyheVxZN+Qh0Iimx4PoBwqhBWfxznKkARvHQrvmrgficLKddfe7wnkwYMEg5kSpI\n",
       "fVksl59iIE8scmv4ZqPi4a2M0tXJne0ixr4rqO9D9IBuQZoYz126wfmRc0usfEKNke1RFjIKH41b\n",
       "j8v3kufu1GaRvoS6DvyYzpi2+LVicKvAMWreJT4GT4c/+5lBoizI5zGuDx1Fn3/jzTRZy938DrBx\n",
       "/qlDKP1BLrc8+QKyOlLRTGJkqfnZPwpgAAAAqwGeuXRF/wAIsOXTqcHPZK2SGLJWn/HVq/ENTC4I\n",
       "7noemgAAapI28fOdKkNPE53BWK/Y2BmP1yqKQOCMNqzZ3AbeCXEqVzFMS9npQ4StEwu/tHGcGJdz\n",
       "Xc92Yzsnyv2PA6MpKYcPs/AARR9LfFIg0/f0wyVMr3UMV76TeAlF0nIfSg7+3z1upyffHkO25hod\n",
       "XzdC+ox4hZR9dgrdgPaYXbzL/Lu4PvzyfC+dmQAAAKABnrtqRf8ACKmRCsm+AsO816OwppG9ZkDF\n",
       "1BhWUXH/KUlUDoAE1JM0ErAq2U7INQMKfaQjGySyhAOoQb9F80ThP7Az85jBhlIGsgl6YExXlAJ6\n",
       "4ttg7StpVga2ffRCWNPEmtjZOf1aYKkx9nV+DEXy5uIh6C+tjr7+0x6IwOZ4TCtlWpIH57tP/UMp\n",
       "wvvXTqhOxlI1ukg8jUH+tefpjgz4AAABw0GaoEmoQWyZTAhP//3xAAEc3CFIfAgBYAwkfCexbyl4\n",
       "sntPu7uwb0aP2ZfvmhamiFxrpfGqyBc/+uS1TtopI6WNDzp8NJVikbPu6uddNej6pH9Y+ZStzecQ\n",
       "Gfs9xhsJfqKKFDQw76Kia7NLHkjrXccws8pcL49y+szL/6QNCI+l5A+1rqkXD23n5KvIH4BkDmv1\n",
       "Gss6+6SMSfl/VWddoMqcRpe65YXG9kbZrngEzw9Ykk8oA/25wIT0gZBNSbgOF3HlZX49JXKCi3st\n",
       "CiB/m/D9mm20pInNKvvQqO6I3A6aqWmMFYfnsfvApgLY7IUXhsHhOZCvPWZ1ByxuraGUYtPSm1+D\n",
       "9OxEgIXvl9chI8dCWPvLBSe31/Zn6MkmfPBcC4FkhJMJAqgq26bBEKmcUJxMsQ+n1tXYYbYfyjL/\n",
       "/DXjXHF/iciSK7GPLllolziGh0XFctrGsat154A52ZjdPGYGzhXc9OEnRmWX29ePj0UoQuEV36Re\n",
       "c07V8LZ95fR7K0geUPyOf9AnFg232rumu0xi7ABz/qmMncK8VQH9/0gYSRIez8KH3awVUWnVqwh9\n",
       "TUd8mXJefozL5ian+5BJfcLNea0AAADRQZ7eRRUsbwATVOhPFN2ieHE0RT9Tpb2mwPg1hXRIP6OP\n",
       "r3QQsmX5Uxl7VKZ1eVBnFBT/LNV5TU0Qqfi65Az3H/WuJQAGy0ZFpvgJFQO9eAuKY7U1zR/0l1AH\n",
       "O6y1iN54tvJkkJEq0Cpmb64QkOHJCnl5Qxrb5Fae7WjGKAlgbcFtrMFRIZevzgnJKLxVNQQ+pwii\n",
       "LLB2WY8CCVvUOnOeVKUUL8NoLkvRL9UuHx3jFzyquFkBDBCphrMb2jiZKJguYrsOPvlAxhr9/cf1\n",
       "sgoUDk8AAACVAZ79dEX/ABiMeCe1J6g7A17n7HTuekzktvlBhdgPfoSQQWih2+RVnDgBbODVgRwE\n",
       "qeXlC2iq9OmdLWuDmQIJ6xgrh1dbg3cgJ9RSMLKxfQAQyyqpUwvfJ/bEJjQpDnELSutveNoi5aAf\n",
       "mGHacu2NN79wfXWCj7KhL8ThSg9IEM8twL3VJqfvaGnp7CNPVNRpxWHIM+AAAACZAZ7/akX/ABiL\n",
       "0ZOv0eDpQpz8Y1YsupT6Yb6WBPksH1xjSteFVaqnIoWw6xPoccZTCpZl6ZgCkYTw7wPVTm0K5m2A\n",
       "lOYx8JDtf2OUxbSYMFgBBnB692lxfQk72a5OtjnT6YeNxR7h7qpyr5QGODxjBUI7qo6e9zIw7v2F\n",
       "p/q4QlF9W3jHU6DUG7fVMpDU401jjHl/QqCrbARNAAABiEGa5EmoQWyZTAhP//3xAAMiV5+ifVRL\n",
       "iMMCNzbsqkUmVhvm7up2gKQKgA4ABCX9RRl+ALuQNlkJeTzRaOHz8qF+XCqt5RQJjex3soZIBNlm\n",
       "gNzLsppnS36G7mVjqspVyAhpEFycyn8X69+cPzvW3NO1dG/e6SJ9a6RJQZ6+EPjumfNlEKNRaD8W\n",
       "dlmFKi5XEWtlLRufssRinj4ZoKVLKTb2F0IaHinDn27bPkwcVdyfhoHEJ/UlpNe0CB3aGnrW5Gco\n",
       "iR5tYebR1BmjXxxXhethjKl/7vgzVHs3ug+A/rA8S/ZQIJZh0foJ/uF3cok8h7eurQ8RnH3uBnHU\n",
       "IKhOL9cecsISzaFl7EyAfhZMNTP9NfQFcyat33kQQCfSlZqpekJw/mQVQw9AE8VyVupKpKBZUnen\n",
       "L/SuV8RnEOCDEMhhxfn5yVS3op9rhZMD4RQiM1+55RaSBkEUPafVoDMMIBrsO9XkoatfNibgJWn9\n",
       "nteMjE1SKyJGRgdHIMkkA/RkN5TTh4da58jgAAAAs0GfAkUVLG8ANhNIkezuSsvzaW4B/os/KsEF\n",
       "K5sJ6wfLXvfkGtfJOL0DgHCuMjt1QJfZCwzSS72nKpiuQwa6tWqK/XnHGjUnduI8uUo1n4Q80yue\n",
       "XD7NCFqTLLLZjtSpSxd5pU5SGE6OABtRRAYOwgb2Kn6HdSR2KnqOybBfvz4j+uJ1BO8egnyRYfVI\n",
       "bMQDAGit39LFTvBniTlTe1pFVFbtlIUBHGN5aIhnEldr2txDvcrjAAAAkQGfIXRF/wBDhy8Ngymb\n",
       "C57m24tE0wRPD8GKsjnjfJfFpQsIRGSM2lSPXzf6p+uWfF5R0Tdyh1LAXsl1fVf3XiyVQeqjndH/\n",
       "nHwObj4qR/5hepwACH4W6cqglDFr0uaZ/NHPNzBM2Yass4XPW/JIFltalxpjFjTvZCR6kVILsulE\n",
       "spOmF+eMINnhxR+z0DgAVsEAAACLAZ8jakX/AENqjvMtyyRNyxWVQbM8nMWxKc7TNkhcYG5k5ZyT\n",
       "7Owd/e4gEr2YhxJNtIH6NKCdcH2i5dyQF76ExMZuxjEh6RoufHidFm8I3aT+aM6zBM8LnLDyTNAi\n",
       "EAinc9cFcZ8L5D8PfO6+icWjqCYpX2oJHIpK8vktCfOCXDV5/WD2NywimxFcQAAAAaBBmyhJqEFs\n",
       "mUwIT//98QADNmSOrZ0rVQUl1SISu1QAlM3VI8R5IaPaux11QlqzjCu/4F7tuRhl+mvcw9nkniaa\n",
       "XVw6p/W90imSJ5AXATyugX0FPJEm4sk8e9qkaSxMHzwaTQ+uRndEe7VUAK6446TkX4Frie8Tkrmw\n",
       "5upYRZp5BbN/tts7L61yZgksBA2sZQgbP7s707iqzvghNshFIiQYi9kl5e8/rd6qxFOpdvnMWHLI\n",
       "7MaXM/6kaz/30Vb/nHFPIyFwX/B0WjpjZkQ6JhT4o2KiR1cfDJq/sYsnyHiyGkBHy6hBujdC0ES+\n",
       "EYCfPBQhoKME9l9EB5xFN75P7D8NhcmT9f2UpWZJibDVj4S3iLj9bsjhnLXCbKwCgqYavT0OF//1\n",
       "K1l5gBDVXYuZDMSFm9E4JtGyOT5bI9yVA0OpfLXvsHfgRWKPSqOz7R0FkyknBduV19A2u+w9vGPV\n",
       "515aj70GXA0yx0CUop/ifJuGUtjO0p5J5yeym2La6Kcbcd2ft0TrQI3XFwLOAMUGAto7c4StZCWp\n",
       "WNcolkZipEcJGAAAALJBn0ZFFSxvADdWe6GPPTHt62PGTp2/5cVoAAkqipn75tMGDjCOW6bqsD+u\n",
       "RdzqG6L2ZWt7scmyjwMi7BLWPeiuAIQpmNhJOAKAGwUeMHVKG6zdanSAnlH5mJ29LObnSIO/T5Aq\n",
       "WxhIMwQPzdmGAm5abX2g+cFn3+ULOBgZT9kmfmNSxAHKVTLiMNqMglrUo6gMao4Dwf//IDRosEQu\n",
       "nRlN4INZ5YGaD7SnlmjZQae1kVnxAAAAiwGfZXRF/wBFVHAsNRWDfgQCByrFyePFdRdTFVBS5lFm\n",
       "ysbefrTRK0jrr3VHw1zJS/uduAHo5JomyQLQC17Zucl29cCOhr46zUKf0g6W8PAfAbyISun5PX8j\n",
       "idgwUBzZF9sWKAvu12l9FEuUu5L3JmmfkOUNXoLNJk73HdCUbiKM9qGRDs8eA8VdC0MAAACQAZ9n\n",
       "akX/AEVrgav1OB60sNfRtu9JXrAsPB8WY/uWk/ox/EdndxYVPFMy1ZCFI4Ci6I5oUfeizCHcpFm6\n",
       "22gwAGxl/2V+VmBYi/6O0VzsC71/3m7zcx9R1fcfBdcOWnH64+5BM19SyP+4uqutJfOUa17RzZGJ\n",
       "HBCW5I0MaAC8MZzxBfqAV1r0Y/9QVZ5RXbPnAAABykGbbEmoQWyZTAhP//3xAAivXLo5amCgA2Wu\n",
       "f/v9SXgpKIy6ZXoNLVOSOQNOk2vqqdLo/kj3Gz+u3kCrZE0pggAu0yIfLMAG+TiY3N2W3KebZugs\n",
       "PpnbKJ7gwnQeWSrzNfmRvGgeyN8JFoX+lgA3XQwmbxcuoJUr4fYCABYJlgXzSXS+dM/0TTMn5md6\n",
       "E0jcD8U2Sx78So6JIF1ldcyNR2EnOTrFweXtCcHXrxNKWWEsYgSPmINRCPIgk8qjIRkBov0JhrOS\n",
       "RRuVdC7UeiV0XsIdIUjG3D5Ng7PgWlVYJX7D66D44W2CKZ2WtunmM66O6eQNyYcWwUeM3nbKKbS4\n",
       "mJ75CrFOv6HSDYFXnrLP0T+ssQjJOLiFWITykGaYOaZFw5kfxehBMJk8hr54a/smfBOZufEUKNyy\n",
       "cX1SP3LRvPgY0Zc/QyJgZfQDMG/sJIViZJGPTFehZjfcOaxqOk5SbLgSzW+J5ldLd9FIj/wvDMXJ\n",
       "PGClHVesMuXLYtzAmefjrT2MhNalekLv9UiFp1geQ5lod0o/O7PjERxONhwNlTYsGYiaKIP2i1UQ\n",
       "bH4Ue4YhmJYwc9zQtUAcngA0dCwEXgdS5W4HdNIQBm2gAAAA40GfikUVLG8AlT1KzSEPLgAnZSvq\n",
       "3LVekwyMbyRKbLRV3LnI5L5OcuKJCoy7TzSQr2akwRVcAbL1O3+4mNEwrT+mp4OD12tjrBb4iNRG\n",
       "pI5Vqp3U1SUHEfBq8U4RuL65PegBlenHazlP4SuFVDHw05wvGIKibMOxQQO2Piqs3pZElEpjLrVn\n",
       "vMO2l6A98TJqAOcOyNP+rQeXKKm3bOKzZq9804r79uNhObrnuSVsQ4c1ipCIKtnPr3XBWUcYQJzF\n",
       "SFJOXWtdz7s6HEXUlFSQIu6Nz6jjh9f4VkA78FCxEdYVMxDxAAAAnAGfqXRF/wC/00QAg/Ij1Xon\n",
       "KMaq7HiDnhHfjzpwuTzswKOLbq4RUJCiiEJPpVkdBJQYcxn+EYYc0jhJpLanvDfDK86/CTZyom/9\n",
       "7YMzzOow7i+ca/rlMPnIEgD01w7WwO2QYP4MESHr0cniPrNvNVOKxXMBTwinBkunRBwBuNOdCaS3\n",
       "WbdSoP9U1//b7T/BCoSqHcvl21vIi8A9IQAAAKABn6tqRf8AvrqRcgA2edO4uQ/byyNUJtNeYQw9\n",
       "aSYfGN+kEaxlsC1kLfkmRF2Q8WH9ufKXju9dcp49EguUOpBhPNPpiZFLFqqwsp4BN8M+H5pPDpE1\n",
       "J4LvDpanuVIZuh9i6gmRWqfY0pbAY5fQI9donUdOQDeCAv9kRBPj7k/DxV6UeGuJgzXz/nMtAE7k\n",
       "Xtp78QEW90ujxRcNNE4gYdxpAAABxEGbsEmoQWyZTAhP//3xAAissCAYAEkSZGeoKPdjJhhXaTtM\n",
       "Wt7mTgxbu46lHL1sIwn6YF0Dd8bS7O64q/fgSJQpR/uJCtJpZukIGyXUqHz5rhWOCmv2qpL3JYyl\n",
       "ay0yVAbdiUG0ckXEreOIytDMbGmkuktIAgp2+VDEEYmxCNeH01/cDt8VEoZxpQcclrUMbpglMHy5\n",
       "g2hdgRpWVrLon8iT/CiSSTmiRyLFRLhpp796LEjGcoqm0dsfOmuZPCBMezbL8WLbXVpfdyFTpUX2\n",
       "g+r4QMcWS2AmXWEJPsnruCoJVDC66VpkI8KYWVvvqF1rEQM9P9bkl6tabcD+fzo4ohDKeLkR7AaM\n",
       "sOdDA3wr0mS7ytqJ7XUhijzv10muOPBoDOh/hwqzeNX7Wmv7YnwLz7VM8/agtuW+k/ZzUn1e54Qr\n",
       "moNyRZJWvUMc4PZZyDWDw2WoRPjm92eRxNEeKnLdQ7W1Hs2HVVoxWGb3Ozq1TqQfrDWe7HyG3nVY\n",
       "pk85N0uDUy8vdR3y70YwKJb8YF+8VbOJ2WV9vzW3xlhlUG5hdYWR3v7fjDocA9ewX14BR5zS/1Et\n",
       "KCSwFwZRbRlPUR1Sil8uQ2ANAAAAvUGfzkUVLG8BpP5jdV7OttUeNWyISF5+EXWRP4otnHxhIRpd\n",
       "0r7NEzSOPotAcgjQRi9XGda1O2/FsKGhlqTafY1xS0ylYH8JDZ9qxG69LoTMPM829punlpyN2lpo\n",
       "gL64AnSIneShPUEZr9qN2CNwAwge0NtRMjFTh1xEJgNiGYW/ycqVZfM0Vo6rTKiFOkwknF2Ci2Nq\n",
       "1wl/C5pGP1mbL4LRxtIsrnNJpss8exE/NJcSFMATzmhxVjLVTtrFtAAAAIwBn+10Rf8AvqxbjUb1\n",
       "DJhS4SDFSGgMF8LmK7UzzlTN96lI/YAq4EJXL0lTwOvjauW644g1q846yyUQEX8c1pWy0Mq3a0Sl\n",
       "40WML7SA8gW40qQj9Wa/Q1mZakTDeacPVSHJSD1UH/cXiCXvK4gBJ6mmbDqOQ1sjturO+gYloCDv\n",
       "Ntd0qUfbIBOwCbDDjgAAAIQBn+9qRf8Avs9D099gZJ9Apqyo4ojpqlQg/2SJ+7RpAEh6QDfefKwq\n",
       "5GkecMoS8pFdQ7JC83n+t/Am1OK5oM2hCbtjqq7BHQ+OIDsvV9pGpPjJFhlzCU7SO4hYtjODQFK3\n",
       "YNl6Q/XbsY5CphSiAsA3vHIjn0+nWi5vBKf6lxWqdsiM5OEAAAHGQZvzSahBbJlMCE///fEACKcZ\n",
       "otyAWrEGp4Ry8/fl6gBanmvXP+D3vS1eFcI8uRkYaUOg9nEkknYjaUKTV68LsdEkpjFhsD6/+vbf\n",
       "ANnfxdUH0xrCxMpQEGnzp1AbB7MWQkzSXqiefz/C3m/+3drw1f7fgrCTvT3tdHTcmmzqrvZ6Z97B\n",
       "YVPB+RnrYxVGxk4VJVK+AA8krS/k4H5Nnl5ttE6HOt7V+smVxD3rRY4zUbUU4+IZlcyRVn8UlUx5\n",
       "8EVUWMQVjMhdUmSVaBGEmi1YJRMuGM0UN/G3w0TuGqgJJW+lgMjPi/8T6+b2H5yR38LBNr6dcF2Q\n",
       "fQ9MSE/ZBXRfCdpYiX7HF4hsxyaiIp/I+RnF4SyOVYrA59oK1QOUceJihmnLg6bI3Gi2bgztL6ZO\n",
       "UOLUMbOyt71tbFNO27LSJWy+kvovveuG1f/eyd0hooW2XD3aIHn1a8Rf2xdxet5N1xHZJGBsIEkG\n",
       "Y6YztTxMD8r5isrVmlbrBwBTsXWNp6Nillb6HYXp95oFDnfTyohLn7D9zT002xKW3HlfRRH74War\n",
       "RhpNpx3Tsby3O4ZrpE047l5q7YQZNvbt28BKRweKECt9MCrB4gAAAKxBnhFFFSxfAgytXPRwyCou\n",
       "DvsE+aKqx8ctnKHs0QY1L3eY/uqZmuCO9B5FklemsRd2Kd15Vn3dgDR8Wrgh+TcJyqSykbHi/k24\n",
       "djD9X0ZL+XwJZGFYCap8TlywFz3R4rpnEtK8Ki5vhYDmbhZjZVPCUbZX3A5Z9b1rGSh31aL/d1tZ\n",
       "OvLRosLl4P2tKsSgRzTMAymZQy9BvyQIC5sSucHh7ncTVhxQdAtje1iAAAAAlQGeMmpF/wC+zDIh\n",
       "ga3c7wjH/YGYiCjRwASmhOkIVkaRAZbCElUBizzPAWoDGSmT3s0OueGciDHJHw1rxu+2NnpWGYwe\n",
       "6yHUtf04sGwdKCuqFM/aJ39J/iRiaypqe5P47LKr12Uv5U0J9bJdn7NSPMjwbUv+sI+8bYt4TIoW\n",
       "Brgz6/28H89vVh+ANUEEn/ioYPWAy3n/AAABaUGaNUmoQWyZTBRMJ//98QAIpxFhuTLuw8Gc5egy\n",
       "DuGl6+8Rj/PJklmSSrgrh4AAcMB2TL+F2R/w0V0+BUigkM6Kl6tB/v2BO8TvO2MwoQmDdDn2Ucx1\n",
       "odhRDnDlwENoq/zg8ijVe8d9V/ZzS7ZnFCvSnK4hdaPOt4EKxNy57WEQAoRHG0rEVwih4/MAFFkK\n",
       "+8b19q18RXcUOK7iy49wvrhsLw8yU8NvPbuqZtMsp2Wj2AyvnbDfClHjnI4z+y3F1AbQECYC9aIa\n",
       "DUvSFGJwlRAdzIOn8hjB3pShVJ6cGBk4Wzp4fLC4N915QIqQKwIJpWJjjKG+90TJhn4Az25Bgkki\n",
       "UcMe2DdYinIbDwaxftonrpP+oEvtrXRrXTPfvfHhYL5ln/5wFDJTxMfoyNMnj+t0ttA4AXsYqK/E\n",
       "Q5kQ39ZAPxMGAsuXay66O8aprnRqTYmmiqJeodWR8on8nVw6hRJ5S/mIxnfmEpkAAACTAZ5UakX/\n",
       "AgytXWH+bLc1pRiVqsnNHJYsfNoscz3qFCBmZSPmFxpJ0/KtDHZAoJ3qM1Uu9RsZIbgYm2EiiASJ\n",
       "76NQiix4Sli4uESAniNjpMqWVHJMK2KLa771vnz8kvDiwZmZPldJ+Cx1o3HNsUtTkaewL9L0MIPx\n",
       "qdl8yNkOTymwyisrzP42cP9Avfl6f9aH2IOBAAABn0GaWUnhClJlMCE//fEACKb0/Gk+B4AbrsYf\n",
       "nV1yC+FC4NmUNfXY57yEhofplaMv2pKNFxy9rj2kmNfFqb9sorzs+E9BQgSQFnvNhngL+4WmRNno\n",
       "/ceHP1grhTop3Ub/ve9H6QSTGOMixYgQ/BBqQ6+7HsSNbPWMJqVD+7qnKj576CPtf22Wu5mq7U84\n",
       "8vYN6eE/gwSFW9UkCwscdEmtPWqE9r0Py6+f5XZZY+jhkymq3TBu2E0Bg6FU15LBQrNz8apKKus9\n",
       "XNbQmwnBuz5s2xpFA9j74X085GIr0gS9POejQ48Yycfs+NZCN6B4F/Cksv4IDVFpajNmk3i84tPX\n",
       "EVsK33yLLUQGXMLqT0eHPaUXNS4jYPvlANJolm9c0qcT4eJR5eiCNUUa/Giv3Q1KVEytaDVjWHmU\n",
       "8pd8ZjG3jEtxET8Z6Hql11hpcq9Cj5/oLhmXUbc9HWCpFrTWvvUZBDF6nplyBEsEoec1OAlNHPMV\n",
       "RiXIL3LkNicn2Hon2nsIgtC1ZJWzf3pIsG9Yhy+EE8yvKuhgFTNyTjHfPSntOGAAAADJQZ53RTRM\n",
       "bwGkyWADx2g1ACKIKQn55wWaaoNfZJUbwiClLj1e1uyNb9huJUlAtoQVXBzyFK1v+/iph9XhX9az\n",
       "YXuc/pwxUEcKKtw6FnyZ/Alu15cmrog7H17S9DCmFu+If8QG9bg++iKpdeVvDOnUZ50a29fxJORx\n",
       "E3GC7A2HdqKo07z5p1gJGnHh8T0eO+RYY/WaM34imk9TOLqdnbrJkbEk6VkeZ2vwJDINeHQDm6/J\n",
       "wA9M9Cy/s8BehaFqLMCKDPOf8MLwVmPAAAAAowGelnRF/wC/TRGVYYwggAXT2ShDvD0dqR6UByDj\n",
       "aaz43YlM2HpwfXhsg0CA4AOxZsiBJmmj7Zn/08pqkqEtqqcKaCfrGSkPuNlbaGhrym0GQcXPn+YC\n",
       "GYw6Kl0YrRC3oQfsQr27m2F5EygGeyZ/JwG/b9Wk8UiEDHOeEBwF19cS7OhEuP+r7kgIb8n3T5uV\n",
       "JqbP1/L+bpSMp8Qh+KPHulDgLyEAAACYAZ6YakX/AL7GTJ7QSwOagXQyX0MXUrKjQk2/+0DW6wX3\n",
       "6kb1J5588snWlMz96DW/hq+WfLiyrNif5ulrboZ8IK4Zy/iaER7+hrVuRR84SYb4De9+zlWa69Z1\n",
       "ynZLSouZy+uUFihew5hKhCWwCNRqRXAAIIkVrSbZ6mCWC9MJgmMdmDsBh5ANdz6xEFtzmc+v+KAA\n",
       "CEjADegAAAG7QZqbSahBaJlMFPCf/fEACKopbsqgAfy+YjyZrxT7mdgGWQ59U+8SZllIRC9YutSQ\n",
       "x/8WpdE5fpgVAwN131PPO8jMFYraYR6aR0EGhzXpyrRCJ2lvNxwnSpjk9gk7uFbszTk3yduIfqVl\n",
       "Xa0v9apkSly9xXbQt+ITzzOiZFk8dxS+y08erfhG3vPGBSyO760h1X+fwkH9jwKm8HQdlv0JmMzr\n",
       "w3/3jcil+I+jbiGmk15DHUXIbmWCKzcDnkP0XiPrLGGDYkAXxWUhwklQnlnufcjA5RFXaRQ08GxP\n",
       "AKWgS1rKvLaC+SbD+a1VE6bX71zZM48WuOm7DtetFoD5NalOwJt2cxCaPs6gbXhnZWqtLwVZ6KFf\n",
       "94MzvniF3N9Ke4Em1bKuvQtGF2Jm8IAhNQ29p2fcGcg4PDSi3AK1Uts0IRfsodr+41luA6IMaJFR\n",
       "BoIPY3DdA1cDfDrhyOC1cWi5uyCI6LUtkDnlXU3RpQJqiPzYIQpb4rx9CVLstrxo+iM/6LvNQFWe\n",
       "kFLQT0rVIHZrSxS0/zv8ZuaYM4r5NnZpVZrSmNnyvJHclf93aU9X0cHgDd3xeMvrfkhvUY0AAACb\n",
       "AZ66akX/AgysVZOK8uYFzvgkt+wxeJK1QEZwpiwZp0Adfh8TbcrmiVr6HssX1fnBKfeQtf9WgFBg\n",
       "rSBU9wt0eGXRQNRN52+NgLRsMApvcK6LZf7QWuOvlXpCGEeg0Qd8qG6nlYc8cn0jJJJtpwt+9a54\n",
       "ABBO6u2G78wP+0oRnPDhDRarFUfHH+BUhAaDJvC0dQav8w5RctRRarkAAAGzQZq/SeEKUmUwIT/9\n",
       "8QAIqioBtZdAAJhigJmNLTedTLkpxRv13omv4iyiuC1ldysA3DYnaw8gsUZfterBft968B4llWnP\n",
       "a8ORzu2ktyx9IVVcj3uVJ2Bldyb1CYU8KtmMKIsFD9QxvsflSxwfDG4+GbGPs/f7pF9n6dXLy1j4\n",
       "1MwlSt5dr22m7FbfSEaJ2EIg3w7ZUx64MuWuiXVpfyxzzfNs/micdxARHGtpx8hrPOfNedLUXD/6\n",
       "2a71sPBWyfRMrfWoML3XuVaw7Fdse6YMfzZMXJqBGAJ6neIQ5YiKR4M9Y5NY8/wyaa44xhXAmUID\n",
       "wU/CanzLolVgzyTNLAlaa5hyXg9ttuoDpoCPmurZPDU+3H6dgs0O/yAfGfgjF62c3WtV7NA/ofDI\n",
       "6DEEf1BI9IBgdPO+MyBMYnXJhrFyy0KEJn1VxutiFuZgWBhTSCvuJmXZVw1yOAe9pZA19iIwLrbD\n",
       "XgqheQLKKCTk0JLJThiqnB1eaJd0c009jyB1nAcAl+KoT48v9kGlxzZR6/6T4RbjViIBgXd30H/E\n",
       "SiHVIKWkwgX10XfvlaUL4aMliBLYzFfcAAAA/0Ge3UU0TG8BpMkI19RXUyKSGABs9BlAZVHL1ht4\n",
       "CvTcNXZgapgeLp0/FcnyWT4C7hwYauRCFoV7879l5dQ2GAADWZ4UAOKDVzcXwnOXmgxI6AI7lauq\n",
       "V5WoZK2FrwkNMbEOfTgrgNDx2oD/TkOkR/FAlTpYKbwZPUZvRHJpn7Tka9CZvfoiTcURPiZELBpk\n",
       "ggcnQSClKoa4mBf4OLjVdFc/793fX756lv3QzNuIkpnssQfFFpG1nfJ55MFG59+XFDQQ6CYREfnF\n",
       "jOxdDma4vV2/TngjX5Nch/+qzC4nEmgTcu4CrDzBm9PkyU50Yvu9nN6KesI6KdoipwRhQoBZQQAA\n",
       "AJcBnvx0Rf8Av0pV2I/TcxiHUW/4ACUA1vJZrIRlAazgzSi8C5kgA6/Rgivfq1fudsXL+z2guup5\n",
       "eNAtMkfYZhC2WsOIAEVev/eDaYTRnQAsOUr3gOAz/c+F4s6fRXvCSTqvK8f3+usc71F+RircMsam\n",
       "uQEoQYuxSQDGmCM2cVvY9Z6TVlF54nySlxKLLjYLlnO8LbOLNaF5AAAAqwGe/mpF/wC5Hppie3AA\n",
       "h2wFuc0BTvfv6xbMI64Y0JS1ojQriNVJrjiaZ8YJznOVImPeRnz08ZorQGklAQpDTKKPC183JKjx\n",
       "ngMq7JzhKnnM/SUkeU97tBGZwkfyIGhucAerYjggU/SZq5GmbzRsu3CYSAiurz+r/7i9VpCXJBcB\n",
       "Eiy4d+3lW7PB1jSZyIVMvqbIlnxTgGAiiNmS8YE+aCB+Qo6PCn/5wx14fAAAAdtBmuNJqEFomUwI\n",
       "T//98QADJ+mwqVg0+/vfcAPjdfgQTF+ZPvjGfii8QBTwTxK3IHNkMsJsQksb0+aH/XXVptPV8z5Q\n",
       "7w7JTNf/64vFmeqLATtm7EIcepxHXKMOOV6z0xhEF8sbFkeOr527/0G/a8LGBfIcLYBNlQvNyBrT\n",
       "QlnVNguvfsqt0q55Rz934sUOBhtdVw9ssRgPBBxpXHyl5vcHw+Cb2g3HLe4dC7lwe9cTAlUNZbBJ\n",
       "HE39oDz7VRXJtl8ymXVzzM/evqpW6WOJMioCK8wdLiiS78DxRtXLySZYlQGbAS3pBkas/MAj/uWo\n",
       "rClmxehU6WQWO0WhVYXYFKv4JbFCe6lecqWRcY6ruErkfx9c89gBOVAoC6PoZha6VmXsF4CihDDN\n",
       "+8rDut/n+PuOzupGEd+Ys+LaTxvEeXp7G6gaykI+0ZdiBFUfKd7Iyfvk8V9zo8d+FkzL9bbJagP8\n",
       "y2gEsn6RJNywzMuY6M9HHLnIylGYePWIr0bIKoZAt3GmfJq0p90wGo8gSM53/HbNNvXRDh3U+MoW\n",
       "OR+lAi0AaI/ke1nK7pidYK+RKt5iCMSspmlKkUpyyGUxca4fZAH00bW7djjQyf/H0Kcz8EZ4A6/L\n",
       "d+OCDD3rDk2xAAAAvkGfAUURLG8BpP2ospFtIZmfXNbtnZEa1Czxeejxere0RxABdfqKlkoQsX2r\n",
       "MMb3rfJCqApExsy958e51/ijYwRv9AbYCi6rSfot92nJuoKQXKyFZ77RtvXplAf2laxiRcIOMn5J\n",
       "z6rSIhPuXurg4dvKx2t98U2pKQ/SAQvFTAPVqMdzgO2cQLp51FT1Cwo5lzpaj/bg22qFodYa0aMS\n",
       "t9nna5iAZucSEr+jrHAW5xcQniO17aRxEdtFUs1bXdAAAACiAZ8gdEX/AENIoNmDvF4gxHxdLgph\n",
       "fvkZDdC+034vVIsD6pLcFUro0PByw7JaM0ARqLR7XW+tMlDG1vf2nZngP6Tu63Zf3FXONQ1nbYar\n",
       "XRt/D0gMUKSfwJR07pKvAwdCTUnRHQ9tDSJWnvtw614ajcOkni6keBwHy7y/oIxQFZy3J1b0NF8n\n",
       "5XaL0/6+E+9OphsR+oba12kWiDKTokAU4KJBAAAAkwGfImpF/wBBSVFZts94eXiHCvgD9OvpUafA\n",
       "onZPlqEtjETDw9BQNrlV3nNG/kJcw57oObBS5cfAAvCGxof85QKWQtpjW5Okm2gW8eAAQdv7I0Dm\n",
       "aZQUk9S6CDpMkCqgbE034timLBz8lqsT7jLlJ68/imvBLkq7RRyOQdolTIs+gO9IcIaxZdnxsgBV\n",
       "Dqpw2oz5gQAAAZpBmydJqEFsmUwIT//98QADE+6zSI95qu6UPyJr9QSVJMFfEDzxdkvIjK68eeiG\n",
       "M9hV/t57tv1G0NLY9zuh+U945MJDsvXwNg6skgyi4UquzmFI060FEHIhhYyXLmcpGFEhi7q9KiQD\n",
       "+1giUjgx/vPgUsbuqPjli/9KA6sWOZLGSmG8lAMndnk+z+LnukRqPebGSAM7wv7TtDVqBRm/9Ujd\n",
       "j9iELJZ0eCW8Nt3vFuID6s9kdsKRRH80r5o0K/Xmdj4XFoQ4pF+JfxLSXpd8WTG4WcGWSTry2c/p\n",
       "9reV30iCF30tYrXfbV/jxu/wuU7fSI5JNvfxcmYsxoKptolIP442kiTWSDPz3m2J5cp6po+2NRSM\n",
       "EzSonVwbS9whsUZaSQsoiHt970RFSs+taJU19TLTuRspZwKBJQkHyxDbYfFDXLNt9R048XFIjGSQ\n",
       "2MbHxrJ7CCLBd0yhjTWPFAZZpQJe0vkO9AaPMPOqxKoQS8wMAb0NBWEZ4yHo/jzUHvwHrM0FVx6+\n",
       "YmAIzMpwvaW1RnI160zHuetCed2ggAAAAOdBn0VFFSxvAaT9qLKBbSGfejDcpSwPjVQ2r1LMqz53\n",
       "hkXjAACKgVs7Dm+c/W4dI56T16l5VJb9nY7yVjH4pPVQgtLRYML2GXCgafxsN/ulC96o8pW2gpiu\n",
       "Qvk3Y55I75Ysm1EO84sqLxf9amKzYpeB4/qIv3ax6Ae+lCsaoJQ+51KgQ9yUtBg2cLceFZhhEAUf\n",
       "QhfeSHvlDk8UxknjRlNqbCXeDxCAYi1BnwNBotqvOsDVjHvE9yi8dOEJLAzA8QGud1Nl1h+IWEFl\n",
       "D4Llg0pspQ1xxVoJg6QTssUHhqImYNNhUXpI0PgAAACoAZ9kdEX/AEFArcbWo4DG4pbNfzLRPwpP\n",
       "BgPp+WDg/z2GIK469expdwAXgPA8yZMRhHAHyHT6VEW2/r0YmW/1bL1aF0Nro/i6cBpqA4zhE+rm\n",
       "2Emv0mZpZcLsfnnYEoaaC2/1z6RFj8gDIMTTODlqTdvDc9lmYCyUP2LFKdbBJpMx2NTigORi3Wru\n",
       "TF3siijlEF7HZA3RmMjEEt3yBiz6KFgOyzfTAD/BAAAAoAGfZmpF/wA/cFoeXNx+He1z18qbe23x\n",
       "cNPptilI4amJ63X0L+g4FysXUqBcMXXojXk2Ey184/G5xhJ/9t5BsERfmJ3TYozdeEHRkH5N5VKc\n",
       "gjil3d6XqJRZmQd6glRPxk3IZGqOIKMzPbVz7BfORTvrxKLULgo4cCK70HbAnSvQ/e703y07SS5Y\n",
       "EzHS4IW7l6+bZTo5g1VgAN6UoGg8K2AAAAIJQZtrSahBbJlMCE///fEAAQ7om1mNQEfBgZtGvQQA\n",
       "3EAWAImuGNp6zPCyEPO59x5OiT7KiXrtCacOeDDF2+DyFgk9FlJ2Hody9S4semYXcQtFHePE00tc\n",
       "UyJ+FD8pZBiUZmrSXS8nN2sbFCgejMyA0jk6iOmTkvIWIaTeuDtgxtPsCqZA1CKqSkAGSTG/QudN\n",
       "fA6/xanMv8cT4Zpxcr3iVHdG7fkzLx0n4LT9CgI2EVdbaCeya03jCYMRycBEkA+1E8iOb9P3GQzc\n",
       "cqhwAcgbGM2ffnugh6wur+MfX6DrQL61eJEjXPKWLlrwrDZIXczlk74SGCy0pd1kUTjZlzAcfSAZ\n",
       "bxyRW5g6W0vSk/VOKXJTm5fth1iaJSJdQIj4xK3kNsaJN+fFpCROPBDZdftLpJH6Etja62I4dpy0\n",
       "BpiAeaKTJQ22wBtIHH/XADSM83eHvRIMfYIayJEcbygj6BgxOH9L1frbNzcphDADE+0sYM+4tLVT\n",
       "d1RV26VOsrAo0SWvgnor5mjwpb/+x0oKhRXCBNDGCO23hqY810UuegF7DQbhxUXNKhi0o5ix0tLy\n",
       "I8loI4EaiDtGjrjroUd62VxaIgJGCB9xJbP/mwe6fAeOZjz6jBFHAbRPWeCPanIPsCsHjGLKmDpf\n",
       "PS8kwxKiA+CSqGfHkK1kJ0GvRFQAhUDS7lKTP9utEE0ARcEAAADZQZ+JRRUsbwGk/aixCuo5kbTN\n",
       "krQibJUQ9D0UmPW0Ln/wFVIJ0RlsX7viSKdHgUyoYwNJJJRQY9kbNYKEOYR5SaZ7QhDhlVRPVUpr\n",
       "6iiUDaO2vM9LFiKB8FYpdXvw41tnSk7hgVWSLTlM2S9xknBi/zuF23pYnACbJSgyIuuC6piH+Oz1\n",
       "hWOFDCcSgSonma+WFFe7vIrdwUSWFiIvd4sUGUgcQY5BRZDfSD2zTXFclPKjLOoUai8y0IlDVA+g\n",
       "XBFMrjufUitT9NhaLQqAZS3sBA39yoUn6l65hwAAAJYBn6h0Rf8AFzumJiD58FblkXXHk6nGw+3s\n",
       "8zynIEOvVHhuHFQNfrc2TPdhdHpYE1FAc25MZSYoDHw9hoaI0csraaVTsWsfkqXeaAA2esKVmSiT\n",
       "uZ3NDjQfWiqtNDb5SwoOxFL73jm6WM5i/Th9vOgr39rtFxlRGmKiYbUEKwUbzRxdCoMzxywrZ+Bb\n",
       "ayopko6+2r2oAb8AAACiAZ+qakX/ABdLSXgZdUK6zygzfp0LyWYcQvqEdbJR+54dSycM+S461SXk\n",
       "bc3kOExAehrI0k5V9qruKRcoxN/TsMqZsJtIYK9nWe4RIZQ9M9mrQCdGXYV6BtiXWpOEwYHybyR8\n",
       "EnIRgMVhb61kkwTkeIDunWjYZAv+ldm6tQkanTuOd+TRzEgICtBFgicrfPPTIfG3s14D66dkeTOP\n",
       "lSlm7BDxAAABuUGbr0moQWyZTAhP//3xAABifTcH82wDpQkk2QCDE75WzcCdm7VwrwTlN56Q7/ei\n",
       "9f1Un70J0oBpVXvFABN5JwmKkfaccBLs2B3LicmNcH/IydlqqDsoGnhuOnundaFPWgB2KepUoVT3\n",
       "42+2EQSLsLDDXyWC2PmFvgPZsC0+5psHdkYlNUCfS6Et9UKllA+55TNN5Khud5zbp/J8uwJNTREY\n",
       "oDrVNjm1cHiyUTrLzfp7/BpsUGIpsQbn9CDTL+vPXSKrD+EHlMBrYKxXTaUu/TEWHSfRpl3y1Y5l\n",
       "FY0QoQjcalmoaU3jYsfEzJITEDQZ6wC3MN9YrKjiSJedTPboS2UOW3+oiAAY/ebMubzgUZWNIzSt\n",
       "YOER1N8gBCfL2SIUJ6yKZJInnkyGTHgIRSRxXdcJXX14yss+KkYHq6DC90BHl04mI1okm9nhphvj\n",
       "j2WpU6iXcBJSSQAkJiqX7yqlC+MqQuwyvDl1PDju/TYisazGvTbppiP4MdyNlZKnBZOxZoRPucwx\n",
       "+G7W72JxYfRlnFJopi1njbn63EL6xAhYUj2LUL+QEK9MGtz8Jk8R0JQFO72rP/JpZO4J+QAAAOdB\n",
       "n81FFSxvAaT9qLCILp3jMdkRAnPuBlPHuL5hmp+FuPSv1EJ//ta+TOzc++4umc5uTE/cA6tvcRj1\n",
       "XbhEzqtfFMhmTnw3c2aKuC13tqIV+O+bW8Hqpu0YckDxK+CTStRHOauYz59sFohklSBmrwj7Oo1J\n",
       "0Hu7iuj+lMGIES4lorve44aV4alhCd1bUyEunf5Wzx/M1Arf8CRYr4csCBnCzg+bHqQ8xj9Sd8Pf\n",
       "ElcGqWoUl62PaV7kJ3To/SqybldkceoaI4YzqeQ8QLOFJkS20PB6m4j5fpDVcwmxjZxfHC+xb8h2\n",
       "AekAAACOAZ/sdEX/AAgoFcGVfnqlXCMipLrX9Dj+kII0OpOZbjq2Qet9wzRZgUJsh7TN7ueqXctH\n",
       "1SqNO63k/91y1NCb7AYFIjEuHOokMq/IjqaOqvpvugu4c+QVNg0LsDg7QmaLIvnmuFTpKk+/qo9i\n",
       "NbVElMShHnUMbC0BiKPVA3swWyNdnJZUYa20EtnrqsAD8gAAAK4Bn+5qRf8AB/Dm1VValVAiTAYz\n",
       "O+QS1HutOTiAH0FzFenSzZZ2dwpR42VRpEEbGfiEzxK7+iME4U0KNoxiZG+se1xL9RGpj6VWnJI+\n",
       "YV7Y6itmC3VYF1aBT4OQw4tZ+fpXpWuLI5ZJJn3fCkDsgIYx1NxCy56l/y10TP5yAzAQ5U1vB3kH\n",
       "lVS0WOK1OuIbB7OqLN5Hc/k7DmuV0ChiqtqOpkZLvxdmgKx9VFbkE3AAAAGQQZvySahBbJlMCE//\n",
       "/fEAACHdE1ttftQ3k+EzQS2wADZrMTDjf3EX6lza4mcA1XBBPkw9n4VNS+eCN5fqvmYmrPBEyf9f\n",
       "3fQmgKHvnTZCf7AH6QPr80MPPr2IBOU5/UTvV1IhR9erVjU0xmSw8yRnJ7NiFw3li+xm3ZlEc8eO\n",
       "PuJPOJMc2rtyTaTOc0ZTeWi/T1BlYpl2fFtDUVIBbIUYHyw/wl2aMXMjH79LhsRvsX6YcxzqX+xl\n",
       "APW0t455HkMmB9LehkP8uJ3EZSaNhZEv79pfe2jSd4waOdZXLvYINcXus/oBxjRCeoBYM53N/1n5\n",
       "k0sTqJfxWGlsy93U0dFaSKRRIU53hXpkPkBVZhR50sntL200Un2cYNu1FAoMNpovqgzbIF25VdC3\n",
       "Lkk0LjAxBpWIa3oNbyFX1iuIN01FKSK/BGjHv1XefoNsOtCaJqmUabvCY1KzJVVHjP/K4Ow9zgZw\n",
       "zr5kdSSW5u7vplivA3CXTC7h4vOwLMrkuDr+Vs5SgCfgbZtGplSIKZBaThOVgQAAALxBnhBFFSxf\n",
       "AgysVcGytBRefYEr+LCnXP/PJrJeFTu2pY2065mdtBafJJx8AHfj1piUmxT3FP4Pjv718xQhKyAM\n",
       "Ur9/N1iBYP2ZoZO9nqe+LHZliYjoaF2I5wvNwlhrxd2GNtH44ZsNqND4Ra8LFkRWRIXR0lLwE2cZ\n",
       "2EpCmpibGfZkraauypiFEQiRCBQMCInT9USkAL/TxFgNysK8RK64KXi/W6MCQDJg3IijH99nJFmD\n",
       "FilwY/6pA96/xwAAAKkBnjFqRf8AAulpMK6bPHiZtQAai9m8xwMHoPNjitzI/wLALI7GuXkQVlID\n",
       "Az6fLUDMAhuV28ZPCJmGgAawL11AAHTNB1hLjBrr3sEz9RZ+/vg9Roj6irExG5ubAYD9KNKAnFxV\n",
       "cLPVIk35irGjvZ6nzZ4QvNlLGWtVrLvr/2innGteGdynrAatAKBax+m7dLvlRG9ecWUsP7R6Ma0Y\n",
       "qB+S7hFH4BteP6uAAAABtEGaNkmoQWyZTAhP//3xAAAMTv+1mJ5hrq3Hd7s1f+QJVEJjFmzmu0ce\n",
       "kpaokKk3YN010hO52wgNHUTI+kxwE40u+BYTWGZoJqfbo2WgK31vHfNDa3NUn1z06pD1/G+GtE53\n",
       "oHmHxzJ1JLmsn3uQu/86U65bVWqon/2zYfI94jZKoSiz7c8EN5PnsAqa9leE1HQ8CAeUqO+wl24N\n",
       "oVJqt77Suw/4rSXiBAQv2ULdxPN/Q2fKjwsD1H0n9TYaEKww2ZAMXWtLE5xE63kgQH0reH7o5XyM\n",
       "l0RgZPXsw3GA/9c9yFIw8zWogTXWvvEFaUc2R2fuQ4pTGNxNUnBR4wcDMAk4k64eg5PgUl2IhfFz\n",
       "wAxWOY11eAiCJfwotvFnE93xodJu++WYNee5QMm5c+bfVikZ1wCzO0yktSnyn26nT8pYu/cQ4Ga5\n",
       "Pw2rGqxg3DiJSYVpuIj8hD3rY+VQLExTxGOlxUPjiMra3D7q4+bctPaOvBsA2A9JkotREbbzCG4o\n",
       "6dIcw7YIUsbdd560u4lTe7rTthJ5cCZtvJfW6GmDyII2jffqDSBDQvwXBeyHRywuNuGQdIEAAADw\n",
       "QZ5URRUsbwGk/aiwSQW0uGPYrLPOzsKNknkB0ANcsuR9MtklueX962KPdCkn77MLGtXYSJFENZh7\n",
       "NxwUR9Od1cCSblTlxGcKBrUqG+bVc5Ww9L2TeV8RhZQjeMZuhKdYKaiqqD9p+vXOlN4dCMf78A76\n",
       "bFDFIsJQ/+Iw7Dl4xkJUNLm6xkXrHpwmRJZNJpSNo3gKjJv7uwgudEbtxFHk+TRzYKTygtdVtudG\n",
       "rU3hhU6M9SE8izTdkyvcE3qTVKrxfAu7jYl57N7jVWid4OaBqMQCiGKY1WExlnPophQfkPHve8+S\n",
       "Ns+n0Q/l6jc4oFbBAAAAoQGec3RF/wABBfaOocDQ7fiwAY8Z+Ps2ojJ6DduP1WXnSMZfpkaDcPnk\n",
       "8u7FzndJzK4+QAZJnBq/Zmk2Ei3cUp20UF8I92KUqVxi06e/CXbwFPocAISVln9NZk5RPNJdLfmh\n",
       "hmEpRkbBTyioa17mEjCBETN7G2gEhf1oFp9Tx2eB9YuHamCKMqQytiuwQ2px9yt7uKp7BqMT6ygq\n",
       "LQmR2CghAAAArwGedWpF/wAA/iNHTj5SgugxLdfsjz8JNP/Z3jshvDAAQI7L64aRvdMKh86iQjHS\n",
       "VMqStswlEquUa5lx2V65NdrjoyTBCzUp2PS3EPRQWdPBmxRd+sKwDw2EIFZcTXsf+A1nau3SbWm7\n",
       "hwfHnA7U+hETDraAumo7VKOnvLW66mlv2d35bjIvTSj6nCurs4IbAPFBlhZ40QgosvsDQ3ZWKUyg\n",
       "ocrom1LUi3WAP3YJkwoAAAHAQZp4SahBbJlMFEwn//3xAAAEM3241AYVtSYu337TsQK4CEAFUxBl\n",
       "d5oWO8qx9cbJHIGUe0TANFLBhgG55vXFjZUGLukGrUh+/yVBwRZmHAAQO0+Sp1TQ7o5n5UaCiX9T\n",
       "3E+z9zwmk2E0BpnjA5rS+SBsEmQIt75o/3/pztLrf4PHnLrg3JPgSX5e09dBaeVOZca8U6OrXvJL\n",
       "iZmtqJO57DlPtI+Ds9gxlprzaM36lC8OSfsjoV7XrfgeAKKadfrVQ3twjVFU/EQ56Wj8y8vmFOvJ\n",
       "wemoEa7ugavGV0AovEeUsmvh6vbKv1sqxIMrJCGkuQ3kNwj8L8lK7GkzqJVcwKIAEJTPFpca3hvG\n",
       "thAVCOVj4/fxX3MENLNZgyLffU8jgG8d5j+QIFzX9BEO0h1QoE1/xT0Jdhss9GV1AatyodZkIJss\n",
       "wv8hs7tw0udcMSfzF31dcCzOrf3rCftWkwZG34yebyvGyAR39rcPXe4OpxIo4zCOyUfClRRrP988\n",
       "fyiP+xwHEYblJP946FObK7kC61vBflsXY1v4x5uwY7rBySNrjht+zqmcQs+00sSUQJkKbvjSZiPr\n",
       "r8xWocl34PETKgAAAJcBnpdqRf8CDKxVwYZWeb3r2jH5tAulJnBlSzPPcCdSoYPIsK+rZyvPd+Mn\n",
       "BvzRnTAmpqDxAdVgACHkZ9hq2uSgix0AsFSkc1ZfSbX5+AmTSjIXgIzYCpsbnp9LL1oXJTFNG02Q\n",
       "StGJM+Fk9n1Lm39c+ccheYTrBye2OuvF6frAMHfwfEPB/6ltqfoAzR+yQDV5xFXD2BUxAAABx0Ga\n",
       "nEnhClJlMCE//fEAAAQ73/XwXyungJJt7wBl99rUuJHKW50nfsWf//KZfrEVAOtvmbywkFimia2r\n",
       "rPrJO10gVf1mRF71bKgo7vL0SwSMoI9+MF0VksxrxpmjvCrr7VwLVgmrYh7zu2Uv5SAwOeTc+XE0\n",
       "JhjSV+5mGwRJoRV07bSrwHmqCAQzLJImIna2lODH+UjmZYIuRm7q3rPhiyQz/9LRd+WTCKonlLmb\n",
       "feS4ZovmkYw3ADD/o/INfhaSHp9bm1L08F05sKEwSg9INv4xZSBjLLUYnXDG5HZJBTr0i7cFK9Qi\n",
       "w2EYGyR6J1H0TZeeKQOU4BnyK2vNfG0UGQSsv5/7t8d1N5Etfu+MD5K97deez5OiM3cT5c+O/DVl\n",
       "+/OqMnbEeuL7/vIdQX9L9mrz1Xj8Reoj9b7D8ZLkyhSwHF4S9aCurC7nJHBQvbzRJ2wju89sLs0k\n",
       "Zua+7uCR0GivJwJRu3v5eWdspCG3ZHmhMs29l7vI/BYj0uUzCSCPgDLkJlLaZH945kBmlxdVWsJm\n",
       "rz4WkRy9l8ME7Y0Eq0TZtd+a0A4ifjoKij+gZfT7RSlA0oo64/LkacmYmv4w+vAvGDOCkARcAAAB\n",
       "EEGeukU0TG8BpMkSDxDKbFBJWh0jSbjXTlERW9gBuwAEPLUZDlpmiKASJqZYvnqr3RPTxs/TqKNZ\n",
       "EyvsSNCiCVPmX8RtgRo8Kaf4kKRKKWwTZFLZdBEDgisGgtaxyVjxT4Ffj/8tKaFWqaNR1yKA4rxG\n",
       "9r7okUDEGME0oWJ7MD4Gz1LkSl+9WoxPsWgArd4R7cLQgBLN57jDruutcVSR/PKTgIf+/TSRmN5f\n",
       "vxvn46Prmuv3zQZ4gUuFk3PH+yIKQD6flLfmef6aA3NufI593Q48A9PZQE6//Moi0rdisINTIojQ\n",
       "QAmfLvmqCZIirT60NMl9sQt7htGymEt2XZssIjWLvcRYE9w4sUwLUwFfK0MWAAAAsAGe2XRF/wAA\n",
       "XPd+MCBYeZ9CO72XXhkqvW5RH+AAo/lVQTDZCHYCmMFKNr4wH82AIiUp3GY2k3uwigbdyjVryuRE\n",
       "9aupmFuusrlU0LaxdeQTwZNQ3RHJfFVqyHfh48bp9Z4jmBtO1yZeqbdG6nORUNOSkAnahk0ztWuZ\n",
       "fFmCP68NbyRyKodn6eFzhufd08C6lQLNxb20bSKrA5hyKaf22/dqdSiLHPUFvFyGX9COCyXhAAAA\n",
       "vwGe22pF/wAAWrSqH2Z+hQDJPKNbR2/TadmY4qR23jwUAGxERV/qsph4+Ok0v3weUB4maI12Z6pG\n",
       "iyM1ccKG69uZzBOgQ+9B+3LvDegBueGsOBS85vw794hOlRbPddLd064vIagwJzX7twGeijj1z/WQ\n",
       "72M7Uo1PRYPa7/eFS4AFE89g+1jS5a8w3qn3BvwEmwJjkO27L8S3Fe64wNawItveSaP7sFqUSDDg\n",
       "nKDrQWxD3zl8ljw4uWX3w/lHNkXAAAACBEGa30moQWiZTAhP//3xABfvYi04O5vIi8ePN0eLgoyi\n",
       "VX4iXoCXaYtHbDEhpE4AWHynu5TSnvwSu6rIEB1uj69GEBLtAsRs/y4xhlDPqqEuzWizcMhSyny6\n",
       "nFVsWXYe+ztypZtGBI2qwi4S1tPVxX0dOGTvg5/cwKsRufN/y9/sK+wQC9H3RNF2LUwUeYrboLbU\n",
       "nG051m/Ks7sX6/hORnv11UgcNI3B+Q2jvJbGvSJWGBDPxrJSeWhqxr/gtdtMljKMV9TjL4lC6uCI\n",
       "ATrRAK5LF0WO0TZrGz0RbHDg6GHXS6th/I0GXsMJAsCXFjVLXjp8t34dLEWZp5h3Uj2dqAeAJJjt\n",
       "k1aGkpiuIaSa7yO88kexP6E72IMVRfIkCUGvdlWwD2empy7beA+cKJDLP3v1zeOsEKerjWStGa1V\n",
       "kYmcbe3+9qhNAsPlZvkJT9L67wQiHaW94S5bJ0VwXflhgPg1KkJYEqHqB1vfTSl8nscGnW1QeIPU\n",
       "7uF3xZQ+fbcWYYJUPAjzqf6+kpbImnaHQlNDgAq2XM6hqpkltwiCVC8mEG+WZuZybNAqgS9FfAL7\n",
       "uSsZgBfKvoo57qBQ0Td790WntQmUd7X2y78XfJCkVuJs59BJDImBeggpZUAgPuhDkACc2loR0EYj\n",
       "pFJxdD90l2AcEgJ+g391LpJkrGoU6D0RcCgP8QAAAMRBnv1FESxfAgyr6QYYq4BaldiHWLTQuwCg\n",
       "L/TO5XV5dAl3z3zCnvps5jZgREJlOLJIfSnTrq4Ap/1bky6gvEE6rfOZ4AXmW0LXVA8S4TQiVgGN\n",
       "Sd6H31ACs6a7IMGDQYO1XnsbEZHgQVysnBjzwxaqdeeaftUKPMboADyotNCQ+H5/vKoWewAqli1N\n",
       "V92eItbs7EgZHfqO8hx0m1tYxmfN4Kd6DjoKWnuFndgUgbaTwhb6UVblZywQJDb73BOialxOjIr5\n",
       "AAAAuwGfHmpF/wAAWHRLw2vj5+F3GFlCIaiTa9B4Ym248AIUGlfhsSshTsldOXQaiNdLLePoYfzK\n",
       "WUYnb7hvszSjKz3Byb/G0FoqhTU1loEXEZFgQs2Gle+M12innJbx7dIcwGtc2dthyQO+f/cf9nsa\n",
       "zdT/R4QhwG8lEMgeZFxS5IvjVdhKVaX+s8jXt64KHgDYdqPaivbuSewcRVMo0u+aBPCKOFHfNLz4\n",
       "1gfUv4rFzXZKWeQEZuC+KyYIHzAAAAHlQZsCSahBbJlMCE///fEAAAsZuqj+ilezwAEKEu25oHuU\n",
       "+alaP6ayaC0hxmJWlMSLz+Vytm+Mq3jEkouvtz/zGAD3uFgYE4Ql/iju6b+8txFVsCCVLDS/fCGe\n",
       "+sPVuoFGigMV2wKg/m8Fk1rKuyrwS1O1VdCRUqkmjOWjosQ1Rm1nq8b7cAOyZ/whVGpGQnLLxmzM\n",
       "SbWzffxQI25VljHbdL+rL16EiT3t3HStf+DRxi7CgmcJHgNPc+hiGg8ZdM6D/D6kuLOOvOFSgMAK\n",
       "3nE6TLIakPPlNPFm9MgN+oBXNftwJyTdfOyJGKCA5cLbNWy6zDAtlCEtZY7tGQk0jwtJYBV9t9my\n",
       "4PJMwcnD+yI2Lpr4Mmjc5T9fRHniGHW168PLQQ3h+ra0Qir+tOByWUb2g9M0ZEwBzmVe4sgtVwku\n",
       "Mx0w48cu7VCjqMuRoysH0v8zc2EGx2s/G+/eZ2BJfxxjjjSOmCzVDInDgg27NvqOgJwSG8ocKjcs\n",
       "MpIi7hfzdtjq9rmxmUMYlFJuX7fY6RA/1yvtuBgyTdfMo1ftWHvqxwS07eOxuoP5uEgUITFXydRH\n",
       "3fDv26N2eyGVH996nY4kccqiipKpxrk1fwTi8y4X5YM+yS5bRlhjfWQscTzJkYVcDh/BL4EAAADM\n",
       "QZ8gRRUsXwIMrXPyDvMBN/TwcEw3fL8BFZuYRGaduok0dHej2oOsLYDYWHd6g/MU4eVIyX3TqYw6\n",
       "IyB7BnaMw7Kp+XIkan3YAHlBfeJ/ZgRqcdmWEWWbZP8IAhawnwF6AcBSfKQHgphOg+77fZF0n/MQ\n",
       "cdSLuAIKnBTaysMqbgf8vHzQbpUS8tzMXzrF9hQxwaPwqE5qf/sdBSPcUxsEPbo85WCxnpBGjm3q\n",
       "vRwGRypSSR6wYAxgYK+FJqH4cuWj7ycLE9PGRLR6cvk7AAAAnQGfQWpF/wAA7Z/0hoTzH2wQfzK8\n",
       "TBadrc7tfxaMj+EsCJMCMt6Tj6kNitDTi22UXL9BYfKAD2wfvNP12WBLccv5bs1PzDdx/TG2McJm\n",
       "5rO8OS6eOBaEbYDXDxV88AhirkcCQ4MDDb3TvdVc+keyJiqzliUKPoGJ4GdlLfRsDAx8YZDSqHUW\n",
       "Ua85jMxj4qEkKiJjZrhIswCgP0soQ8EAAAJMQZtGSahBbJlMCE///fEAAB2bkEZSwGoxDnJs93+0\n",
       "7V3idmOGd/UduzUeMQnYjQc9i4s9Kvit1rfaQ4hzt2SQAtbviaTqXmZo60OgJr2n/+Guf4Oohp2g\n",
       "O5tlMKSorELErRmyL09Q1vLlSiLdsQoFj+55Tjf7WP43WEIddioUPXtVaI3eJaimmKnlfPpehDa+\n",
       "7P0DBecqzgdP8sWkyC9DVg5uBNSj6OowYoIGzwmEbXJ5vOA4nOshHTdXKZfOZNn7BGbDhzRTcQ7+\n",
       "RaAsOAkyMUZ6LuDAOXh+jE8MKEDoie5oXkTXWsEqW9GSfr1HBhN9+4na5x8BQMuS42ZYem0ASvw/\n",
       "/7KqD/YJ8/yD0KaWB7raw2V+MAXTpT8J/XefCiyv627EUgCZnW/qDo9jCgo6RO/642hLLkOHFtmq\n",
       "MFLjwK+HdVQREuwJWTmLxnG3Ghf3RLzkxppHhFCSSsEZ4YQgF0Hy+XEcpk8RLDlnIfy0qcgiZUDd\n",
       "+bvE5zHHM79On30Lfo4zUYq4TiOxPrBtNqid0EULatdT6pZQc6+XbcS/GE2EKU/Zm0tVEJU0Y2zD\n",
       "Q2ZZ7fo7Bsuj9Ze/TnbKLbiEqAvYmKmss0kGFW0G6N7NPNG7jgpW5l7PeTHSFeYrrVMuggegcr/v\n",
       "6MB2KWQc4GdWoCnrNUIFW1xC1rquc5imF2fkBtX0L8eizKGpJmAkpV9eag6qay3YUbD7EKehDP/U\n",
       "KBCd6JtyTc2dIneRKt6N4FmehL23IONeAuYhckXk6XNciOZbLObHt02jP801AAAAz0GfZEUVLG8B\n",
       "pP5NjWUXI4TIRmdnJmv/++2ZxonvrSKbYQ8ktpinW/YOLlRr83gtnHyOLMWw+OgqpCo0vBkKhD8j\n",
       "eKXUrG/R4cbMbW8AiV4Y4buxHhoAif3hVvyGmJXVyacVbd9xV6I55ChwQLzTRZftgvWfUzX/Fmo3\n",
       "5i4fVfIq7v+zU09uJ1IApc7QjU/aPc7XE03wQfp9LtYNDmXLikaww1jyC1fXggS5zmuaHe+9cddP\n",
       "jNsoQr6hX7XRoiupAeCUnjVARGXTR4bpiSQ44AAAAKIBn4N0Rf8AAo/vaHHzJ0ed/OLO8XlN8RWF\n",
       "4a4imZtmgbV34G50Sc/oeAxjRdiieDccTO/2XLyza+qkUXwpxeFYP+/1y2btzNIA5sDzweD1vupH\n",
       "zWAdVBW5l+gsADUob+d9ynvsDbx520oq0Nr4sgw2gpSg2kUCixqEVtUcxPv+EMMlZG+h0CoziKQA\n",
       "m17W49BX3hYcDkLMNtSSwgECCTH4NqAAAACwAZ+FakX/AAKNomC7Xzi+7xiHE7jFh6eXCk63b5UN\n",
       "7Z0N1rvjSiAFq79Da4Bh9hdy/2AGbiHC6wJLSf3nIOe8urRDSzy7+XRc7YqoYvRD7LJ2/bOiquIc\n",
       "8S04EDW7jPKtUyycHNH+ykkmFCGAX6f5N/rftJl/nX6M8uq52eTTwVbxPa3lwLReV81Y+PbanHp1\n",
       "uJCF2mm2+6sR99ZoiEtbIsfHg/ysg5CAI72my7l8JeEAAAHGQZuKSahBbJlMCE///fEAAE93QqwG\n",
       "8Bka9XppSSoAf/0KbeNeLyW0mJqoUny5s62ruYdYA1Q/gJP9ClqUr1kXPsw65ncxhxYxyave6Dih\n",
       "2Ktz5hnqgWvH2Tcmfn2OIHJBSTgIuzj7ZNEemyidQzaEcXlIcxcVvu3IC/BiBDQ7SCPo0rvfr/UQ\n",
       "GOqMk2HS5TkOHWaL5LV9DETiEdWS/CXm5SZTjebMVO9igkDAVtupvzys3y0bJoefxHFOO1MWRQNQ\n",
       "6/b4flrIcLlCI/dUjw83khW6zS3IV4F5FCLtuOwEZ3hJElavEbgm2iLLrUuemOmtXjPcKfADpBHA\n",
       "B648b1c/eLb2KgWHpSYuMmdEl3IzUz7vxg9qeuMkXIYMbbnCIayzQ2LRA1HU/2CwQB4foRdbMmIC\n",
       "/7P92X/avoYQYYSk1N9dlLQn0MWBWlxtsUvytkFIczpR0VlqXwEyZ2nZv4fq2dSRqWFnCZr5vzoH\n",
       "CDnUIah4KY1G9wUqrXzJv5ltNLfFYhwtpKT9evW4FOGwmLJdcImdWL0liYn8rQU3aA3YJcIxsRgI\n",
       "NVPDM47zCD0zrT/sxq76YB8UnkQojzON5ABY5O8p8Sp2bAAAANxBn6hFFSxvAaT+Tg4wUAGTlzLN\n",
       "P1Q2ENC+9g+k9zZD4uhMbW+39uJD8rLWu/aFinin/Vw5xaUpRk1P8QA0iS2/DSShLWVBIG3h2dnh\n",
       "TA4PBAXAgQOHLjSOwtaOOAAB+BOHw69a7HoBPZ2Rx5OWK89w3r1parmuTIlwJU9Q0Wrk8yonlvzp\n",
       "kZ/OLAKNMzD0/KR8fsm3OYMt419gAjJOUfv0N/kFBHaDX42G5ylhL7HA+EQC9m15votID6R+Gofx\n",
       "F5ZX5QgNSU8wy/UkqJ3Gfy5lHyRGsKsF3v3rwMqBAAAApQGfx3RF/wACjbhiXiO3KP53usiQgB/T\n",
       "51YwXbXzUH9hmLEDZ0ACBAZtGOj/GNsSPOk+8y+OwigshFWJZ4QqVifFrd2Gav8V+4xGcyhmHAM9\n",
       "tNFYuAf+AE09qbJjvaPMaU5G/7kK9sF+UnAzmi8QK/l3HPrLeXrCIJbYL2hyM+T+c2aqRLPkWy2h\n",
       "CCwkLEZ3o/mX7vknAHCA6wX1GzqKfT4KvJwI+AAAALABn8lqRf8ABuP3H7UKaILh1lAACyO5zcwY\n",
       "nASc2ajSapTjQo3wMY1PgDxKL6Op/rINXrTJz8Vy4drV6/Odt3PWDomj6VQ7mw6m+pMz1ehyGult\n",
       "zY4swMt5hx2ZXituVFr0X5UU4lSqYEIHxHSTk3LATeI5tNHhPOmTjCCzpCCCyN6XHGX1pFqK7UeF\n",
       "fSGgAygYbPXNfX9RqTKTaMWs6wAbKsYml4tiCaSyJupPMgBXwQAAAjNBm85JqEFsmUwIT//98QAA\n",
       "16lRbpvvSK1I9/Qx4P5L9mQNu08UEE/AFflSDI4m4Dwt/rk/CFWOzkk+zQgS/+hEagOzlJ+euQib\n",
       "7Q5VHIunJdq/T3fVMhWsMnuPSwdNzxBp0Dq1YXJ1KtX0UvqjTj9ke6urouiy8Ov1OGO2XmuhspNi\n",
       "N0xdRBMrwR9zYJ0JU/sWrPapxDP7qqSws0g6NnGBsSkUmm3Nfw9zj0Upcak57Ywx7MWiJV+u8fyT\n",
       "G0SoUboKeZ7Z7Q1JGpFMcOJr9R0cZ4mcGqveSKGxfleUGE8bWEgQ4ULDnRUa0LHX5DkGljDpANyV\n",
       "Fp/SgjPwYSXVC9ht7UBMf0si3WoJ0lPpYkRGuA3GkMqMXwZByhjmhGL2MJqhJisqxSFmygFuO2mI\n",
       "ID8CMt2NTA2AoQAeWQCGTFS9XeB9PJ9TbjKoSC8yt9M7tyJb28nxV/6ApItmbWiA6sbMj0a5jU1v\n",
       "Tcqtejdoah6vr1QxrWVh9nKuI2TSFKc2mjRHG52lo528qCFwKCC+ieD7oQydTQqzvqDgqvmZlBAK\n",
       "RViJ4KZ6fmzBY/MZl7CtHq4a6V4/eOz7hwr+lf++Xm5+sR+k+1VffgwJh6eNZVruqTjDmhoZ65TR\n",
       "0TCFI4muHAJ04b1v+CQPKhQdMaxBo6IWQplRPzJYLe97wKLYRc2lhflYAN8HeuwGBivxjP2AT/3R\n",
       "D6w+AZnDRg3VQoBSXENRJ4+qDCAqIg9ATIchGpSimO68qQAAAPVBn+xFFSxvAaT+T2vGPusbJl+/\n",
       "jEcpuovNTeDqm7pEDP5irX+g3i07Lzm+Wc4DtLaVIr/zP5gQhv13Cu02ePzasOH+jaCsozO1vyIg\n",
       "DQunvyK28DNVCsBRLKpDqCnLwp26hTY1KnjHT2Ce1MHX3RTSzgboXqJg7PRAslMTVresHkoRm+oq\n",
       "W7v64hoO5d0wMMcSGnLN/zhefonufGU2P+dC76AOUVR3VRM5EwE3erLvAtt5sktAY/XF1ACBN+4S\n",
       "c43uWceMpHJJVqP3NpVFSsLraPui5lNcP7MZnE9t609HnutTOkvX6fmsM0uBMZSYXegxGgDqgQAA\n",
       "AJ0Bngt0Rf8ABr0e0u51BljLm6CcQTpbuilnVK9ftoJ27oPG4mGZL4kGIugW8Fjm552qIoJvB7aZ\n",
       "1/Tcpf+5XHj3/2PpeE+MlF0muIYaxceCu7w0sayrlhHNe2AWxuPAaQv3IAaFJ7OFBoWQQA5tNI4T\n",
       "S01rvd0vW0QxjF7huh2gFdVI9OM8Tywa+BucpyxgbZzpv+C3jk2E81GpUGtBAAAAuQGeDWpF/wAS\n",
       "X0YK/Os27mg7TGXgzCtUddds3Q2c4vJELqEdgddc2tEttFTSc4XyLUzFWqvQcdm/Jyjz9GWefPMZ\n",
       "5X45nxsofPKqOQ9YN519ZG2frkLoYw2ZzcteIVVvyALy609bdhrL6905mKlFylitpThrNjRMJXVb\n",
       "4Vup9/p7J78szfCRw5AAEQKJ5HNPhMXdzYVXGUNwIk9kWUIzTv//0VWUN9zVLj5O/nUuvGtC/bUu\n",
       "mkXXcAWUAAAB0kGaEkmoQWyZTAhP//3xAADXlRR+rZ3gnVhJaao+xHtPz9AMdKdp2S9Q7Z+EfMCs\n",
       "FovImnKAwkIONPVgIZSXZRUZQJNA32rsrvDHRq3L6RqPDPRavUBls/xU9VOt9++yl4non9v0OzaS\n",
       "HZ2kcnUTxgU+03E8f6It9AJA+J7uNh3L1DwmJ4RO22ZVlNftL5/lBJeHNamHWnTwf0zCuziZ3rpf\n",
       "RQl3I8dEJodzJ4HWqXfPFEyigTUOjDDVlcOuyB8F6/5OajYInz+grMWNC+qki61TPvSTXmzywSGn\n",
       "hAgkEV9Ie4D/GsV3uKFI7oSvEyRoOv8oIJyigi94ONiuaZ5RZvap0LDjhL2fYLhrWeyajLluNTSw\n",
       "lV9MuDUqzgMI9r+XIR9jOTnODLrEb68Fn+I/cdA2nk3FM/khNhTgEnFjNw1yQB8p+P3rwvFG12mB\n",
       "eyyy7lNqIfVMp6TsFK4EE7xwgITYY+1hjkIbzq3hoO6NwDRI6XRIbee1/wg4Ezyn/p2twtNfsqwx\n",
       "bzXavzhgKlsjPHy4dM7gqY73p2ZA3CqLoFOOUOqZ52WE8cyRlF4i9wdbdG33mSIOCNrmt58PxELi\n",
       "pFMF9XMZsD7sAc7NaxQuzOtoHdAAAADkQZ4wRRUsbwGk/k9qKbcYaaQOPF9Ssg/tyyZCPmPpdRIp\n",
       "oAFWouY8E5rwvF3o9kT2OIUN3dUvlzE1bYiABGTTe92Va4hYoHK7Zxq3WYngoWSmD0EDN2lNtHhu\n",
       "1p7v6EsM1w4BSvH8m5k5Zxhb8bcIaNf153g5e86wYCKZ3+wCxe5DYVy5AVxPyV1BRFhGZhzVbUMQ\n",
       "l/q5gkGgx9zfKaEhCLhTJ1T4lWGQKmACWiC6xomFWimrMWo0oDklcxIpz4CO7/eGZoXY2U2tWanA\n",
       "aU5WGyHKtSWSzEZciKk7VCAP3Q2XAKCBAAAApgGeT3RF/wAST7Zb8FQZYzCgAAg8mJ9/L8xBmtXs\n",
       "PZmgh7Sahl1JgsI8yqMxeiw8bRH8cTPWli3vMY5lMa8zLKAZj7RNeagroRN2F0pX9/+B0e/uDReT\n",
       "6aT2kO1mywaMSRQjZ9GVCUCpHPxEb6mWxmQALKBLSbYviQOTIsg1RaDDU3t5jwR92OQimODAc0OJ\n",
       "JMAEu209xsWYsi7y3kADXDlWggAgIQcAAACxAZ5RakX/ABJRtcjBRSO51cUAHogem5U8fiCGk7ER\n",
       "+1R1TgbmdtXo3WjZx7ulGWGSKtC6rRQa27Q2BMQyUYDGDlN+2of+GhrxzBG1fiX0n+AFQrn+iDWu\n",
       "lm7olAMmf+ZLYJt/OeMc7C+OEKbrTmDt/2X08s3RuCk98lELv/bvdplYL0ZAUU+90aIjI4lumHlJ\n",
       "0ootuIoXLnbcadYlrEO9rULG3+me1yuqPkInWjSxaAFBAAAB3EGaVkmoQWyZTAhP//3xAAJN1nHc\n",
       "7PqI10Kk3YWBPjz0XX4npgD3sCAVnO07jQfWQoSt2hG4Q8/0LfUblr3Vx7rrdBeIY70fTFjuy68F\n",
       "/DnaRHAjURRxAGM1uuTEt2L/261PSTB3HEjFpcrxm+Jhh+eJIWFGpmBPOm6yiqVe2R5WDyXrT/4b\n",
       "j/AJ8BOEruaFXCi8sqtOYJ3+5AzYyLj3z16h30IlFbxg3os1VdUXX/Q5Nu78KIBk6GqGbO7ddWcB\n",
       "7jn18vJRykjo5CJyVNFK6rja1bV/crT5L97KVPXPqM4KlUiq5XEF737v9N1L77u5TA485Bseyn7+\n",
       "ubE+O2GVxXplI49H7dMASSmQjROeSpTpe6gcUjpnpnd9+ddD3qx2VkUYdC/Wi2N6IXh24WyTq5Kt\n",
       "C8jTAd7HSGTpH4CfTJmzxyBoLRNqx4Vn6Y72IFDbATEbb9EpFtrUg5B6OwKkbeVwQqWBuzSRvZBS\n",
       "TA8ZOx2kUf3rJAWitGSzQ961YlmNn4+w3M0bmMYiTy5NurDQkF4iX4vGF3BRmHDdH2jdDn1cdgBJ\n",
       "2BrnqebkPthyr7/tnoz8nDDqjt/+ILjVZ3NvKdcri5DJ5D5cMYW9Rpmk+dR/uft67Q/CC22cQgg5\n",
       "AAAA7kGedEUVLG8BpP5TNrzbsYY3Na7YhSYQLphj9l1cjD4Gt4ACERMUmLxdGUS4+sFeZNmew1hJ\n",
       "LTxbTQsSZZwgRosqHcWhiqM+MHrdWdfR+l5K65tHZZAgloDYyK3FHfeMteg+Nrtcuy+1/zQ1fSnT\n",
       "kipflNxiE1lpk+HX+1oGCZ8BetdwKCX/PeRHZEpUZpVs6n0Acr60MkcGxMe+EirsPDvBWJW4JMwy\n",
       "hlmVdZETmmlpdfhSJrwqjTM0lG6etAgioe5V74O2qzVCDHgaz2RgsxOl45gM4yjlWZvUcrLfy7gl\n",
       "L2Cf+TML/7qB+ETzQcEAAACtAZ6TdEX/ABJSJ0W+bJs4H91nrU5MELiWOtpt8I8xb0Khyxhm9evp\n",
       "IdPTEzrLNwcQY1is2m+/d7BQCk6uYU2mw6qLF3eexc5ZRlmb2PAsKp/CfSb94mnlrjq4G9h2nhMN\n",
       "N8+z4CvchY028HbYSMksqZ3M83pWxaagGuAoN4RHBqvbCLv4uYJU7YMIjr6FxR5KFFKZn54Byxn0\n",
       "8nzS5WueJQhUICX8kmRcFFFwEXEAAACgAZ6VakX/ADJR7elGXFSY5ppT+raErq06v/BsYrcwHy+x\n",
       "gBXjtDU69n8yzaWC1fpTFtevJA08AE/QSZ91QnkvjOv+6ZFB0ykiy1HYYLo63kMTZ+oUxu95dUUy\n",
       "z1ZQ8AkMmN3mvOygVM21rFx86pRChiiNGIWZ+h28wAg7w/Wk4BEeA5Fro+4BC/Vu2I4qj8qFYSmo\n",
       "yVuM+8AxvQfsKgPOsAAAActBmppJqEFsmUwIT//98QACTdE1mBnDwfXYKUE6aDoSOpSdaP5ylF2G\n",
       "ij/YjFE2iAqrF6nR9X+omatclL1UoCOdvP9CKOeuS9sznqvwIWYFIvDsDwhpvwo2tfvmN7+zSH4J\n",
       "6eQMg0GCPLNO5NFoHHODZyOOzIM4lJECG7PvGPqGL5bM+hFHk3UuNzXb5aGZouHNTppmxS/zYrxJ\n",
       "qZ+IquzIICniVuWLVd4kt2tF0vmX91kNx/1E2e84R3ZUo0wUY1zBl9elGAg2pSVrK7xd5Vv/ETWj\n",
       "CWylgsjl7ARCWjVuso9CYiW9J6dROjaKBDHD19huP9KS7E3Svj1tp3yTTs8g1ESx9mGNDlEWQgsc\n",
       "ZPfeFgkZsmuqrve0bAYNFVbwIVMJTPOX/v+MnZq60sm3RJgPeHBZzuRSJay3auV4l42BvEAwLdAf\n",
       "UIa9cgAobrFyE2QceM/QNEe87PrVdpHQGdtVF88xZ2r7AvTQoRhKxZEphEmAQSpdiEfd87hs37/r\n",
       "K+HG46R8OW2eSPWFeVR9kaE8rMmv4v0ANQCpnMu3o/7pyecJfjLNUzDrCncoHV9auWo2bxGQTAOI\n",
       "LxyxKCT0A0otfQBdzG2QRrbUH9AAAAD/QZ64RRUsbwGk/lM0CyF1ZolqD4fmOlYXMmNszF39xS4I\n",
       "mSoHBIoReEh+fhVIwsOmOG0Bh7aZCmZaheevrYuBQEbYZ+joA8Yg9lkbDUwgBSfXFoZFwy2x2A2N\n",
       "39FgvmYgyBQpgBXQCO7T2ZswlY1RwQW5WLMofXYi8/geDUiFhKxEmj/bAhj9TMc3NGXKS2v/LWKa\n",
       "OBUMmWwwSTl8xUzxUYgqSSF3Xe3oQyoT0eNCLlSMIF0T4nubHJxAqEpd26Nmx3vnJip3pA0u/3ro\n",
       "JSLRIi3hPxIK+G8d61DdYCdaQSOLSoOey9jW5DZsloWArIaF06mqSz2NrlzpUGwHHnuLAAAApAGe\n",
       "13RF/wAyLumL/y1Z3H1AYVHO5xzZR1ldh5itdemdm6GbhpOi0KGcqJg9E/OA8fnLWMBJXaT7q6S+\n",
       "Aej84aDW4a37lklViXyqE3o2nREWzSwDda8oUkqw85DFGaVw7iyeIASkcxuGKvvRHu18ckBEeCim\n",
       "yrSKTtD2JveQDTe89CHCEpZCkixkV8v5Wlv7XxdoKln+x11N2I6Tw8hoTwN0Vp26AAAApAGe2WpF\n",
       "/wAw8VtMXIqQWdJMQzoBAHFSL95IdFvjdxcStxoM7SMVS3iynaV9VcPkNKSpr9GW+8iTUULzutSE\n",
       "o/V+CWeCTPuwK63c5WXehIG0o4Ktlskfv0KgS0uhA8Nnwpg2Me4vJY6tY7X3+COovvj9JcFUh5hV\n",
       "1ebYXn6sZ/MiweF6LPHdYQJdOiI0B1AEYooe5IQz0+18KSDqkyir+wKYC6cVAAABoUGa3kmoQWyZ\n",
       "TAhP//3xAAI6XAM4WMLQkwEVAX4SzcQMkLTzF7WhjMTZpOPpsJzarXSejMjP4H9CUxOwfmyco+bw\n",
       "rf/gxka04IvY19h1+9Hu1Hkv2GPCOMzyuuCp+lf5phR3csvLxqqZFOJnU9WsAKDfa3MrJmJvFshA\n",
       "7rT3ThtV0p19XKqTJQmFkRLH+wnGfb/hcPUZl1F++Z2ynK+YRAezAWPLzHrPk7RkG/enAQE2WMjm\n",
       "0Z5k1yoHWRzEDqNpmlxQXV6BeGsdsgos4Sb83cgVICkUQAy6heznteJpfHz385o09Tkoxo+HGv7q\n",
       "MA4S6lx/Uc7MWCfxbAURqc+lmpjbmXjctYyhfxKJabAmJ26Qo9z7+zj8HMYZNCtmJG4S54iusqeV\n",
       "a/sP0bCHUVrdHo16kcgb7kU95aHoclnGW5a9KXig5XxnNONaT1VTIKYbEK/DLb3GQ/jIGRp1uOyb\n",
       "xWCM1TJ259ONT5L5V33rmPSreOP93BlrrAJiWZ+fkvDA/SNYggj3teSmpWKKLjEpKCRdefWzcRPE\n",
       "2ohAn+G1xPhUYQAAAO5BnvxFFSxvAaT+Uw7fISbeiJkPKoP1apoHiUWfJyRgBOF8cLUroDeB2v4c\n",
       "fJToaQDUNMzNsqYBZq2qY0jkMdxI+mMmB1YMvkE+FseEk1029l0S4PaYcY5Ifeggx+tCM3OL4954\n",
       "Sw7IWXu1FrB2zMhpXFwbsIN0o/YxKFeGt0PQOP8Fz4coD5ekeebT1ubtJB5rnz3W2ENJcAahpYlx\n",
       "+WSjkvLtQvS1HTPDEdnwSFXJj1SHX42yCzUsjg9D80TuodHN6WOs8DytMMjKaTEx/Ohun4SsOzIr\n",
       "dQRNmHckVaCwrwNCAHViBFq1gCFDBd+AAAAAoQGfG3RF/wAw0Dc2mJPrcE/JhEsBH+rdMaz0e/Ic\n",
       "deZFaWyWusMbFDPUTT3heMvLfBvHG+2eoD4sbramsuZ3s2sXgAEPmVgjchdhmIIJRe+iO5AlrBMK\n",
       "dfeeESQbEEA3BadPEvLaGzFbmMRnXdzXbw0mcM/nbPOurdIoEM5/0K1enF9yYjJGmmUcZOvAQDWe\n",
       "SGhnUDiqLF/bEwYnMgUkyP8JAAAAnQGfHWpF/wAw8Tk8wx8rwj24ZpxdZGtcNytFI6D66sKRdFhC\n",
       "UQe9j1yBVOoFQk+a0+xq7p/QnsboQDPESDnfdihFnzJs2sUw4AnCIsB7yscOJp8ibLQrtfgKqVYW\n",
       "79K/tTS4GGkYWfD0d6ckBkljuqfTGBLXWmw//Hbvm3lxbvonCY27osg1I1rLsdHSpupcg8M4jjfs\n",
       "WYnggLTmEe0AAAHVQZsCSahBbJlMCE///fEAAj3RNZd51AVwIMQa6zJS0ttFdiLEWVPWXmbQw2id\n",
       "y7CT+TX/qPjDkb/CwDA5qVD29unpQgHKyBJQcUaKVhV3SrMMLOxItwApzyKB5MfJb5DVyqJcTTvx\n",
       "9JC1afrZqvoFeXZFfPyDfPxeObMi1vQVNp6vE0yOPeVUFutP7QP6NnioeXKZvxAk9RLp4+j2ufjo\n",
       "QsLu4rN+wx9Do9ext602VlAs/gi1a7KpdtWGGlbIRsKz4mTcbjS2daHTKqPvlNydmZ5cFhgfY8eJ\n",
       "Mvk11+6r90QrDMOqmjLkzyEMdeFP9jHXLI35FcGeCpXnDPEhYKRSUv1OmyL5WL0v3P/wFBxVMsIB\n",
       "xbuOk9UeBvJm70V9dHZvLa64Pv9hNbC/qyDvUYQQ48sRrmsr/j82NLd0Rr4NQ4mWZdMf9BxNSfhK\n",
       "MIyLWDAdVV2tvV72we/uR8sEMzkOGs+RGHB6bcDBi6Z8LZ6sUcJm/uhop/sJ36zSUmoT08zZ+fEp\n",
       "0RQqLgCL8cpARjug1DZY5LIEePcbzpBzdDaaqvAubcwCj2YnHT3XkPL7rGKtYdAiULI7fpCBHOij\n",
       "yVhyPIJ0/6GbiHzO1z+iuB7IFtUlJQPkzAAAAMdBnyBFFSxvAaT+UxADPEj0Mg0lAhZqoUdGXUdE\n",
       "H4o6m12uzZhJqazbwQuNRpHBF1+hDvdKEWMdY8FOOHyJsNKLu0CwqwqBxTAfR5N4CN1uXtYjW5Q6\n",
       "iFX4C4tg/Nw5PISzWCkNGY8+L0JJgn97ye6DJbks0cKzlQEJlLWfLFOxcS3sURkbd4q53xNTlkzk\n",
       "1YHWbeObv/FfSav19TiiHu8jGD/DDAqNxQpg6aLOiXvM2vS/I8+bHIh5zx9kMMQoSYGO8T8TmmpB\n",
       "AAAAnQGfX3RF/wAw7uz/euFFdoc0ej+tX4BKwUbvQt6wprk+yzWgYoZB2ORTd/cmUmxEb9OpQOHp\n",
       "xLlMaqOq2GdFVFXBZYuBvnyslXUU7s7XWMSO5R/gz1LAQMreFgDiY/d48F2cWiOwDgYIGFve8qtt\n",
       "NTzR4RT09iUJcP8FRi0rqxjQiAvsB6R5lvTCFiPU6NqS807k90r72kH1Tt1yVnAAAACPAZ9BakX/\n",
       "AC+zDulzXOcm+XEe1dEV6NhhmCuFgG267fZjxoxEcGq693Kk2eCkMM5MHguntMEWINIwyDlCHyqZ\n",
       "1gi/XCIM1a22fTsU1GiSVAt6DFa9LLSAkSj6PQGZBLWdI3Hn91/lwzQQVoIJfFE+y9DhUHlPeGfd\n",
       "G3rnlhVDBoofa/gINP+RAgMqNUXhVq8AAAF+QZtESahBbJlMFEwn//3xAAIpuLbbUYvJbwkAN3cc\n",
       "2dXTXhLJPyXqUfY6nq/LEU+KYN28uZrDFy6Jvo4xQRQ1fvdLyng/Ncq1XuDyP/k7I5LLzMnRnwGT\n",
       "jBsvrCLi12A6clnO2O/bHFcXi3kuOkf+7CgpJxbnxHAi/Sj5X5HkCz8ily6MSAsi+TU9yB7OfWWE\n",
       "WcfSJvowMngUPEL2xE/MzSiZNnSxGLZojyZeUSl3SxVwpJAAedveJEni76PNc8IUqtNGWZETLlrV\n",
       "ABBuayBRKM84twChAN1ywbEGbShMF+CJ+hdgHxr6CFA7eQ3ZKHYCDu8lPGMJGBqevGX3nM39rL9h\n",
       "X2D/4tQttylbOl5iItgQcqfB6cKnPuxqqlFSXGxiCSgacwmqr9KORqCitTTxGDHyN3yYNnNGxaRJ\n",
       "tQp34Rl/vvZPKbG+sn9BDQqpSx7/C1j1BeHmrYSGMxAJW/M/LiYNVko3HpQb0CTNjHGeKIhms/FA\n",
       "QSW4+RubcdwjZQAAAJMBn2NqRf8CDK19xYdZchW6cSpt1+MdHfV7hrvrV4lAeeJcQMjtmPP5O8v1\n",
       "hgoSYbANYhzJ5L6LO/U2JPPpiTr66jEAoJgk/bjBFivmC8c/J41hJf74A+88xZDnicrqKjnPe1Oq\n",
       "cYZylRSPwzIMmUQN59psWpKjsv4jmOrPq/O2SycKF040GZOdTvreEpzMtXLnzoAAAAF5QZtoSeEK\n",
       "UmUwIT/98QACKbixECdU2bT3HEFVyttQCDCcu9GXzC15jtm2P+XZiEktmo9lWp7vDOu9HNS4quiE\n",
       "h1Tf71HjqliHh2DcE37CnvQIc7Tb/uoP9qVi7CHtfUw9e/Q2IciNs2x3qXtknbe+8Do4wcDGhFcN\n",
       "rvrvJ3BL+DFUd2baspIA5pi9E9tbyW9QKV5P1IL2d8Y3szGhqEdce3q4QHexDtdZRFE7cxdUBxZ+\n",
       "WrUav6OdrvoaJXuQGw9oWGnXHV0/BEIg4iVA5E6LdODuJFpmIEnATcGdHPoYslDoi4VMY3kbmK80\n",
       "bXSvte51KAWK06LcCu911Hzi2pWesjLl6Z1A21aYgnoHowKhv2MF1VLbWSsy5uORtf081ZzdYYmM\n",
       "VYQASc75xLJ98hwsu/rWdnTJC5HaCceFySzD8g+wyG/uLz1CqKgtlNC2JAaeOSEmANyp2d84EVHB\n",
       "hmmNd2C3y8Hw0a2fmq2le7hO4KQKSybF8y0AGVAAAAC4QZ+GRTRMbwGkyWl1hOrSjc/ldY509nV/\n",
       "lwoZVCmwf1JD5+I5Wn0esQkKlUycl13R4ceE7e56QXIXha+cf56+QJ1TPkhuG0PVsWZCNguvBRES\n",
       "/H425t+m9BF0M5JgoPaOMN4o9quwnt5PU5G6cL04UC6SiTrP/LHF80JKfXF78SkLaNrl+8i7egTc\n",
       "sQoyldMMtpWKoSF93V9M47CqojbGV04L8BjrgiTxEBXYWDy1ysmDFy+eYLGTgQAAAI8Bn6V0Rf8A\n",
       "L7g93bFolvXo19ccirZYbcLLe/TkstH+Tkk66aJBpGxXRkSqpHjuhPSMe8+Pq1pgTcbNXFFsYxEQ\n",
       "8ymxIiRGaNniuAFBA6GvCa8U/DOmRKdvHZJnt65xegQjlKw7Uj3aPqUSOYSLdh+XVxznENiv+J9T\n",
       "VXDs0DUIoXRxNGxJOlAs3U14AFOpvAAAAJQBn6dqRf8AL7NWDyHekP+oA5kUsGmL29K10Iv2OHw6\n",
       "pWSyJY/pxNMnLaHOQZNdL2Vmx0RZ1y7RGKCoQB4t2BJ7otyaUFqyhE+jatxZJ36Shw3mfBusiKFw\n",
       "aj7moPjl4ZAlUjZdwTsjUa7sPk1pY0dI6ewujUo954hMWDsunj1X/fZqHrlKqHXVA0NwWIrw0nsS\n",
       "IbqBAAABk0GbrEmoQWiZTAhP//3xAAIt0TazGqnmipapDvyf1nGd6hcJHLiAbUxj76nbS2l1FxWG\n",
       "pW/p576AXldtIWYAfGBYzgiJh/WQQpTUm9KDX7Call4UgjhEa6oofPjIfJWLomzCTk1U00cq+ApK\n",
       "c+JznJCJSz9NJTklcCktWEsEeHRw43b2fHYMr4z9puu+pzBGL/S/quWbQnW1tL/HlCoefQZrVdfV\n",
       "If2x1wZu83VNvj9ZtJUnAoNhQpicx6pj6w4sM0cMvxjxq6XA9w1BK5dBkxm3fmvPAJFNqyyg4rIp\n",
       "lU1BXLn2BiBVl+jsmNZhuZ34/pgMoVPM8IruUfl1b88ngeuVswPeSTsQEKPdgeYeajXgLzdLeakp\n",
       "TRzARFE9CLYwX29YbQgdZo2Yu44NxVNgy7zzqQ6O0hoP+C1nQYeU8le7oGjB+TmsP9KnyEOBnBoo\n",
       "G0W6+Mq92Psbj9R/p9hcKbdcg+JYvMj1CKsZCLDojC0mOqBjxBJETzYkzKPpvSezZCnzBUvm7aBJ\n",
       "7B4hJjk7xCgM8pQAAAC4QZ/KRREsbwGk/lLr96FpZBqgTz6V/AExLAb+8TKk1MMdhy/SjrXiMLvq\n",
       "bYt+YU6TuuMtsgWCFV1Oax2GRtf8AmZk9VaTjodRT82ufwc4FZWQZWEGBCdDaJsme+sjSJUa4mIT\n",
       "/IAqWHxj2IfasuHRtbM76tzqlGp/mVX+FFzaOS0g+ZKOXW/zCPkqijbpy2XIbogHDamBh3Zg5JVm\n",
       "FntD66fLYhtNhLosLm5ZcyS5gcJLTqqmWFe0oQAAAIsBn+l0Rf8AL8UBiPSo0BAbFKnlMrtGNwQH\n",
       "oYExgMiHEDn//VgL7L35rINgFvWhUEvYxxY5NZITf5JvSNRIlkygl1RLUVCdaq4ydptKEGQ7bsVe\n",
       "DaZYajKW96vPtNqt0V3/0bb26lRPBim6hG81PzlFM4suvJlui0OISAA+yWRPEUNDWw9l2z8Oj5st\n",
       "AAAAkAGf62pF/wAvurL9ol0tRg2HWXkGHGCmBAHzLpnrDXj4U25B9ezT+damf5zWplsZXLch1VLv\n",
       "iipFBnHcKA7FHJVytAlYljT6dJSqCNxxlVUnEO4/xCERKtqgkPE3MeUlW/1xAeg2PjeX/Gx7j8aM\n",
       "I0nn+RTyneWxzxxjL0bC8hbWJaX8T+6sncg7Qls5hhUUEQAAATlBm/BJqEFsmUwIR//94QABPen6\n",
       "A+HTKP8PJYX497T9CioRh7v1rDW0Aen7JXUkVasv1V9LrU6JxxACFNyw9OqaOxuhkTgDK96LBmFJ\n",
       "Pk8nhCZ1D2QezxKIJpk74mEFzPFmU+wP5v0F3YikA9AoASrLHUfDiHkSWyBY5McYW3814pKT0xK1\n",
       "TdOwl6tGvZBS6dVUGPojsSzaTqT6CBk2y6yOu2dCFy30XCSOGCI0B1hVT8QesyxCz36FwonHLVN7\n",
       "U5Xts6Tnxx2Xtlai94lc33KftISOT8YXUHmUlmEz6MHACWA/O8D/mnA7C6htW5lvw3f9h5NdQrqz\n",
       "YYMzev1RHAvyAXUUl4dbgiRDEb7pjzQc4Z0THH4t7Wl3hlIN2IpBwwa21QXKPjjAwo9QsqvqGZ5x\n",
       "Ak1LiMITBt3BAAAA00GeDkUVLG8BpP5PPCldOJuKx8sJD4ls64jBHuHRLrJAEusAZeX4PohDSTxy\n",
       "zdN8XJuyxNgiPa9o3d3zg09OW+aud6JcVah6jlp8Vf08lH8uu2Lq0mkZYcC2tAaYgw3c2eKvponI\n",
       "tHVYNS6s/a1Yt37wEWISKwAZ3sriVyZX5zrAmceI0yd1mYv7IdJHgNMLkNE+JOcIMZ84JjcWZ1aJ\n",
       "3ZJxHCXewlXMAIfvyn4szht2PiG4hJ6p1bXFvQYLIMRC8KClA97paosg1UhSFwJKZ3KnDugAAACe\n",
       "AZ4tdEX/ABDlmh+AHVQTPbzwiuGuV8W7JZ1NaZLlEm9NkMYMGQCSq4Gqac77OT5OIVTM7VCpPk/0\n",
       "YOf570RGKm9nBcWu7S9VSA09u9j8JfY3cBQYSkGBu3r1lSgtOCMWcq1RZ6rOIPrV7bUdlkjoKpef\n",
       "dpN1hcoy49/lCJkzwN+HaOCaAZu0XqyXch2Kj67WdWRBk1hDBwuUNKAAwIAAAACaAZ4vakX/ABDa\n",
       "20rY3qDsMR5l8j7JeVNzmDjprZxF5QGCOumiuaYJK9EM+qPoRGZWg/78tjJf51Prp12vxs59DBss\n",
       "oCNDctBhLU1NUfZC7OygJVOhhpHPdvMi0e48PNKXoQ3NxLPd2Sdxc5ui1NgBzkrNNgnqnQm/fQ2Y\n",
       "v4+rbviTsx31fIrjHGV3ryDJRzdvL2IFjwGTRLIZDwAAAS1BmjRJqEFsmUwIR//94QABP+T4YIhE\n",
       "6A1OtV4fVBED7CmcgH9Wc5yflCM/u7goJoDtMCRWvvKmAG4wO6c9x1+guw4hh1wOtT8Fd62le1Pd\n",
       "/Dpgnfdv/mrCCzeSePKeQdtV4C+GOn50n5nPiNDGijTg4SYmfvVSYt4jG8TXWDcpFPqUo/FLBup1\n",
       "2Kao9WOSXM3nUPv7nS4w7hSe19w5MeTO/g3Qg9u5XujQ+lF27KzkguV/V9CK2PaXvhUHf/FtxjrD\n",
       "AUfZ6ujsR9iWDq/yXnl+i4r7q2crt9xxL0mrhDQVKuUC6hsIXz69xwE99oOziQsvOq6NvVVFfyxR\n",
       "31NzuA4IIlX2z5rFXWNLLeQxfJRMxzl5hCpqBiiW3+9t7fNfP3bhKRr/oOmm/EnDFBVMAAAA1kGe\n",
       "UkUVLG8BpP5PO0B/E2Arjp3RJLSlQ6x2MDIftPYbE+rc9WQE85EIUcUT6OZUalu81W/QOyBSy3SL\n",
       "rsWDcjCEHMeKpYNr/bmcnt4jqpGFsGp2mc1wTUImLx1H0AbIWfbr01kOrwJzXEAVnOy8UYq4tkj1\n",
       "lcaBGw0GS9zrLBtga13XXcsNd9xOD45t/WJfQ15uaSVY3eAfKo6rJZ6OPVoHiwqLtAzMfIE2NmT4\n",
       "ltKmIkmVMKnJ40Skg1qDZezQt+fLt2Z49lOPKkFrVndIoAPZl7vjN3AAAACZAZ5xdEX/ABDSED0g\n",
       "T6jnCY7C6dyOGuMNxKYkZ/uBOb7qETkgiatl1Hyof+mvXHS95PItCjwJcnyI2ifDgiYI0OpHdsSf\n",
       "snfp9+aNFLhvd3T8lXmD/IrEq0VCYHEvX97ccFhaHH7jqE1gI/v6x1cqkoxLE3YXmTn7YWJuXDLN\n",
       "LiGwJWWKF8iSGfg+6r+PXWYBboXr46OAAKmBAAAAlgGec2pF/wAH7JwrN0/scEJBL4voeCMiK7Q3\n",
       "aBVsOIhy7IfGHUoTdiv28+PT5oOtOpuahwGjLNeWVqaOFwJAwUpYV5v4LHUCB89bLmytdCvfw+y2\n",
       "QweZZvMYO3jncXWd6v1DpepFmPmcs8lXpA1FGuXWjwBgcXNSVB9oOPoCInwBIbrYm5cpSY3OIFlK\n",
       "B7NGOwOIcYDLgQAAAOtBmnhJqEFsmUwIv/pYAASHrqKf3LRwIlYYS5rHup/0MNX04nohHt9qVj/S\n",
       "k17e9NNWJJ34MITpxmtMFfkAOUGMPo25jlJOIjRktSSeP2RUvdLOFOdKT5fMsuAJrEnwIzrudpka\n",
       "ATdS78SAy516YOjRaT2KTeAx9uNzHPB3EhAm1xDjkEXmc8z2fOH/CoU9odL6l0OdlQt/DDZvbHy9\n",
       "uGVDYG9uWxBDI6zr5BtilOhPMlVzIVwC1sPlCNczgmyRWjktUrsYKh4FNQ3fxL8HPvRDgJrrOV7x\n",
       "hzZpGRMcrFCi5G5WDZkxYoG8/AwJAAAA6UGelkUVLG8BpP5P8g2Kjy7l//19I0xFRUB5joeSq+t5\n",
       "oAR9n2nR/vznJpEUBRmiIHzYkXM2NfrVSgPLSkNEWNqjjmcHs6FQXKfmhqNQ+57OkTHoCAWEIQEB\n",
       "A9so9QfJil8/oC+b9JPEnCRJ9IDPd7twlCRMRJjQQRXuBsjJoWhmradv0rW4K1YEb86AuLH3NRbb\n",
       "QZCBTD7UDS4TDoh4Z9IvLJ2+wBWaKC5emWnAcysUbq0Uy+oaK/iHd9GRhb1oKBVV5P8irpniRdA+\n",
       "jhGLy7F93LR6CiEEYUiOvZv+dCeEcMnAVZQTMLuAAAAAnQGetXRF/wAH8hsLkjZJwckbNqWw3C83\n",
       "34xbKOxQE3aHXIoOh6qZc++wRwvQfvtDhPh2LgEzxECIDa/jgdSNxEw9NzoGPKjIe3j13X97cAAh\n",
       "8yZtkFstKHoRdWgxEjEJtLBjw5jDerfK/BwmR8X0/w6pgFLVBgS5Ydx59Nc995bbyWiftNVpjHJz\n",
       "E5wbPjs+hyVsFlJgk8azvEChAxYAAACdAZ63akX/AAfs7FYOBMV7e0AAQUAA8mpbUSLDOrfuyuJu\n",
       "L33SS7khHRIBWhZN0pG2T1Sl6rrUhN2ahmOYmC09zEvRO/IrVJb2IqG5B3+Q3n79RR8NBgATIs7g\n",
       "ejaCTcGP5YhsJRdbpzz2vjAhwNw/vwvuArPWvLtMRIUndwuZrK7T7V+EKyAYZ7TWyEnKrw7CaTb4\n",
       "hghXkf9rDwBgQQAAGdJtb292AAAAbG12aGQAAAAAAAAAAAAAAAAAAAPoAAATfgABAAABAAAAAAAA\n",
       "AAAAAAAAAQAAAAAAAAAAAAAAAAAAAAEAAAAAAAAAAAAAAAAAAEAAAAAAAAAAAAAAAAAAAAAAAAAA\n",
       "AAAAAAAAAAAAAAACAAAY/HRyYWsAAABcdGtoZAAAAAMAAAAAAAAAAAAAAAEAAAAAAAATfgAAAAAA\n",
       "AAAAAAAAAAAAAAAAAQAAAAAAAAAAAAAAAAAAAAEAAAAAAAAAAAAAAAAAAEAAAAACgAAAAeAAAAAA\n",
       "ACRlZHRzAAAAHGVsc3QAAAAAAAAAAQAAE34AAAEAAAEAAAAAGHRtZGlhAAAAIG1kaGQAAAAAAAAA\n",
       "AAAAAAAAADIAAAD5gFXEAAAAAAAtaGRscgAAAAAAAAAAdmlkZQAAAAAAAAAAAAAAAFZpZGVvSGFu\n",
       "ZGxlcgAAABgfbWluZgAAABR2bWhkAAAAAQAAAAAAAAAAAAAAJGRpbmYAAAAcZHJlZgAAAAAAAAAB\n",
       "AAAADHVybCAAAAABAAAX33N0YmwAAAC3c3RzZAAAAAAAAAABAAAAp2F2YzEAAAAAAAAAAQAAAAAA\n",
       "AAAAAAAAAAAAAAACgAHgAEgAAABIAAAAAAAAAAEAAAAAAAAAAAAAAAAAAAAAAAAAAAAAAAAAAAAA\n",
       "AAAAAAAY//8AAAA1YXZjQwFkACD/4QAYZ2QAIKzZQKA9oQAAAwABAAADAMgPGDGWAQAGaOvjyyLA\n",
       "/fj4AAAAABx1dWlka2hA8l8kT8W6OaUbzwMj8wAAAAAAAAAYc3R0cwAAAAAAAAABAAAB8wAAAIAA\n",
       "AAAYc3RzcwAAAAAAAAACAAAAAQAAAPsAAA7gY3R0cwAAAAAAAAHaAAAAAQAAAQAAAAABAAACAAAA\n",
       "AAIAAACAAAAAAQAAAYAAAAABAAAAgAAAAAEAAAKAAAAAAQAAAQAAAAABAAAAAAAAAAEAAACAAAAA\n",
       "AQAAAoAAAAABAAABAAAAAAEAAAAAAAAAAQAAAIAAAAABAAABgAAAAAEAAACAAAAAAQAAAYAAAAAB\n",
       "AAAAgAAAAAEAAAGAAAAAAQAAAIAAAAABAAABgAAAAAEAAACAAAAAAQAAAoAAAAABAAABAAAAAAEA\n",
       "AAAAAAAAAQAAAIAAAAABAAACgAAAAAEAAAEAAAAAAQAAAAAAAAABAAAAgAAAAAEAAAGAAAAAAQAA\n",
       "AIAAAAABAAACgAAAAAEAAAEAAAAAAQAAAAAAAAABAAAAgAAAAAEAAAKAAAAAAQAAAQAAAAABAAAA\n",
       "AAAAAAEAAACAAAAAAQAAAYAAAAABAAAAgAAAAAEAAAKAAAAAAQAAAQAAAAABAAAAAAAAAAEAAACA\n",
       "AAAAAQAAAoAAAAABAAABAAAAAAEAAAAAAAAAAQAAAIAAAAABAAABAAAAAAEAAAGAAAAAAQAAAIAA\n",
       "AAABAAACgAAAAAEAAAEAAAAAAQAAAAAAAAABAAAAgAAAAAEAAAKAAAAAAQAAAQAAAAABAAAAAAAA\n",
       "AAEAAACAAAAAAQAAAoAAAAABAAABAAAAAAEAAAAAAAAAAQAAAIAAAAABAAACgAAAAAEAAAEAAAAA\n",
       "AQAAAAAAAAABAAAAgAAAAAEAAAKAAAAAAQAAAQAAAAABAAAAAAAAAAEAAACAAAAAAQAAAoAAAAAB\n",
       "AAABAAAAAAEAAAAAAAAAAQAAAIAAAAABAAACgAAAAAEAAAEAAAAAAQAAAAAAAAABAAAAgAAAAAEA\n",
       "AAKAAAAAAQAAAQAAAAABAAAAAAAAAAEAAACAAAAAAQAAAoAAAAABAAABAAAAAAEAAAAAAAAAAQAA\n",
       "AIAAAAABAAACAAAAAAIAAACAAAAAAQAAAoAAAAABAAABAAAAAAEAAAAAAAAAAQAAAIAAAAABAAAC\n",
       "gAAAAAEAAAEAAAAAAQAAAAAAAAABAAAAgAAAAAEAAAIAAAAAAgAAAIAAAAABAAABgAAAAAEAAACA\n",
       "AAAAAQAAAoAAAAABAAABAAAAAAEAAAAAAAAAAQAAAIAAAAABAAABgAAAAAEAAACAAAAAAQAAAoAA\n",
       "AAABAAABAAAAAAEAAAAAAAAAAQAAAIAAAAABAAACAAAAAAIAAACAAAAAAQAAAoAAAAABAAABAAAA\n",
       "AAEAAAAAAAAAAQAAAIAAAAABAAACgAAAAAEAAAEAAAAAAQAAAAAAAAABAAAAgAAAAAEAAAKAAAAA\n",
       "AQAAAQAAAAABAAAAAAAAAAEAAACAAAAAAQAAAoAAAAABAAABAAAAAAEAAAAAAAAAAQAAAIAAAAAB\n",
       "AAACgAAAAAEAAAEAAAAAAQAAAAAAAAABAAAAgAAAAAEAAAKAAAAAAQAAAQAAAAABAAAAAAAAAAEA\n",
       "AACAAAAAAQAAAQAAAAABAAACgAAAAAEAAAEAAAAAAQAAAAAAAAABAAAAgAAAAAEAAAKAAAAAAQAA\n",
       "AQAAAAABAAAAAAAAAAEAAACAAAAAAQAAAYAAAAABAAAAgAAAAAEAAAIAAAAAAgAAAIAAAAABAAAC\n",
       "AAAAAAIAAACAAAAAAQAAAYAAAAABAAAAgAAAAAEAAAIAAAAAAgAAAIAAAAACAAABAAAAAAEAAAIA\n",
       "AAAAAgAAAIAAAAABAAACgAAAAAEAAAEAAAAAAQAAAAAAAAABAAAAgAAAAAEAAAIAAAAAAgAAAIAA\n",
       "AAABAAACgAAAAAEAAAEAAAAAAQAAAAAAAAABAAAAgAAAAAEAAAKAAAAAAQAAAQAAAAABAAAAAAAA\n",
       "AAEAAACAAAAAAQAAAoAAAAABAAABAAAAAAEAAAAAAAAAAQAAAIAAAAABAAABAAAAAAEAAAKAAAAA\n",
       "AQAAAQAAAAABAAAAAAAAAAEAAACAAAAAAQAAAoAAAAABAAABAAAAAAEAAAAAAAAAAQAAAIAAAAAB\n",
       "AAACgAAAAAEAAAEAAAAAAQAAAAAAAAABAAAAgAAAAAEAAAKAAAAAAQAAAQAAAAABAAAAAAAAAAEA\n",
       "AACAAAAAAQAAAoAAAAABAAABAAAAAAEAAAAAAAAAAQAAAIAAAAABAAACgAAAAAEAAAEAAAAAAQAA\n",
       "AAAAAAABAAAAgAAAAAEAAAKAAAAAAQAAAQAAAAABAAAAAAAAAAEAAACAAAAAAQAAAoAAAAABAAAB\n",
       "AAAAAAEAAAAAAAAAAQAAAIAAAAABAAACgAAAAAEAAAEAAAAAAQAAAAAAAAABAAAAgAAAAAEAAAKA\n",
       "AAAAAQAAAQAAAAABAAAAAAAAAAEAAACAAAAAAQAAAoAAAAABAAABAAAAAAEAAAAAAAAAAQAAAIAA\n",
       "AAABAAACgAAAAAEAAAEAAAAAAQAAAAAAAAABAAAAgAAAAAEAAAGAAAAAAQAAAIAAAAABAAACgAAA\n",
       "AAEAAAEAAAAAAQAAAAAAAAABAAAAgAAAAAEAAAKAAAAAAQAAAQAAAAABAAAAAAAAAAEAAACAAAAA\n",
       "AQAAAYAAAAABAAAAgAAAAAIAAAEAAAAAAQAAAoAAAAABAAABAAAAAAEAAAAAAAAAAQAAAIAAAAAB\n",
       "AAACgAAAAAEAAAEAAAAAAQAAAAAAAAABAAAAgAAAAAEAAAKAAAAAAQAAAQAAAAABAAAAAAAAAAEA\n",
       "AACAAAAAAQAAAoAAAAABAAABAAAAAAEAAAAAAAAAAQAAAIAAAAABAAACgAAAAAEAAAEAAAAAAQAA\n",
       "AAAAAAABAAAAgAAAAAEAAAKAAAAAAQAAAQAAAAABAAAAAAAAAAEAAACAAAAAAQAAAYAAAAABAAAA\n",
       "gAAAAAEAAAEAAAAAAQAAAgAAAAACAAAAgAAAAAEAAAKAAAAAAQAAAQAAAAABAAAAAAAAAAEAAACA\n",
       "AAAAAQAAAoAAAAABAAABAAAAAAEAAAAAAAAAAQAAAIAAAAABAAACgAAAAAEAAAEAAAAAAQAAAAAA\n",
       "AAABAAAAgAAAAAEAAAKAAAAAAQAAAQAAAAABAAAAAAAAAAEAAACAAAAAAQAAAoAAAAABAAABAAAA\n",
       "AAEAAAAAAAAAAQAAAIAAAAABAAACgAAAAAEAAAEAAAAAAQAAAAAAAAABAAAAgAAAAAEAAAKAAAAA\n",
       "AQAAAQAAAAABAAAAAAAAAAEAAACAAAAAAQAAAoAAAAABAAABAAAAAAEAAAAAAAAAAQAAAIAAAAAB\n",
       "AAACgAAAAAEAAAEAAAAAAQAAAAAAAAABAAAAgAAAAAEAAAKAAAAAAQAAAQAAAAABAAAAAAAAAAEA\n",
       "AACAAAAAAQAAAgAAAAACAAAAgAAAAAEAAAIAAAAAAgAAAIAAAAABAAACAAAAAAIAAACAAAAAAQAA\n",
       "AYAAAAABAAAAgAAAAAEAAAGAAAAAAQAAAIAAAAABAAACAAAAAAIAAACAAAAAAQAAAgAAAAACAAAA\n",
       "gAAAAAEAAAIAAAAAAgAAAIAAAAABAAACgAAAAAEAAAEAAAAAAQAAAAAAAAABAAAAgAAAAAEAAAKA\n",
       "AAAAAQAAAQAAAAABAAAAAAAAAAEAAACAAAAAAQAAAYAAAAABAAAAgAAAAAEAAAKAAAAAAQAAAQAA\n",
       "AAABAAAAAAAAAAEAAACAAAAAAQAAAoAAAAABAAABAAAAAAEAAAAAAAAAAQAAAIAAAAABAAACAAAA\n",
       "AAIAAACAAAAAAQAAAQAAAAABAAACAAAAAAIAAACAAAAAAQAAAgAAAAACAAAAgAAAAAEAAAKAAAAA\n",
       "AQAAAQAAAAABAAAAAAAAAAEAAACAAAAAAQAAAoAAAAABAAABAAAAAAEAAAAAAAAAAQAAAIAAAAAB\n",
       "AAACgAAAAAEAAAEAAAAAAQAAAAAAAAABAAAAgAAAAAEAAAKAAAAAAQAAAQAAAAABAAAAAAAAAAEA\n",
       "AACAAAAAAQAAAoAAAAABAAABAAAAAAEAAAAAAAAAAQAAAIAAAAABAAACgAAAAAEAAAEAAAAAAQAA\n",
       "AAAAAAABAAAAgAAAAAEAAAIAAAAAAgAAAIAAAAABAAABgAAAAAEAAACAAAAAAQAAAoAAAAABAAAB\n",
       "AAAAAAEAAAAAAAAAAQAAAIAAAAABAAABgAAAAAEAAACAAAAAAQAAAoAAAAABAAABAAAAAAEAAAAA\n",
       "AAAAAQAAAIAAAAABAAACgAAAAAEAAAEAAAAAAQAAAAAAAAABAAAAgAAAAAEAAAKAAAAAAQAAAQAA\n",
       "AAABAAAAAAAAAAEAAACAAAAAAQAAAoAAAAABAAABAAAAAAEAAAAAAAAAAQAAAIAAAAABAAACgAAA\n",
       "AAEAAAEAAAAAAQAAAAAAAAABAAAAgAAAAAEAAAIAAAAAAgAAAIAAAAABAAACgAAAAAEAAAEAAAAA\n",
       "AQAAAAAAAAABAAAAgAAAAAEAAAGAAAAAAQAAAIAAAAABAAACgAAAAAEAAAEAAAAAAQAAAAAAAAAB\n",
       "AAAAgAAAAAEAAAIAAAAAAgAAAIAAAAABAAACAAAAAAIAAACAAAAAAQAAAoAAAAABAAABAAAAAAEA\n",
       "AAAAAAAAAQAAAIAAAAABAAACgAAAAAEAAAEAAAAAAQAAAAAAAAABAAAAgAAAAAEAAAKAAAAAAQAA\n",
       "AQAAAAABAAAAAAAAAAEAAACAAAAAAQAAAoAAAAABAAABAAAAAAEAAAAAAAAAAQAAAIAAAAABAAAC\n",
       "gAAAAAEAAAEAAAAAAQAAAAAAAAABAAAAgAAAAAEAAAKAAAAAAQAAAQAAAAABAAAAAAAAAAEAAACA\n",
       "AAAAAQAAAoAAAAABAAABAAAAAAEAAAAAAAAAAQAAAIAAAAABAAACgAAAAAEAAAEAAAAAAQAAAAAA\n",
       "AAABAAAAgAAAAAEAAAGAAAAAAQAAAIAAAAABAAACgAAAAAEAAAEAAAAAAQAAAAAAAAABAAAAgAAA\n",
       "AAEAAAKAAAAAAQAAAQAAAAABAAAAAAAAAAEAAACAAAAAAQAAAoAAAAABAAABAAAAAAEAAAAAAAAA\n",
       "AQAAAIAAAAABAAACgAAAAAEAAAEAAAAAAQAAAAAAAAABAAAAgAAAAAEAAAKAAAAAAQAAAQAAAAAB\n",
       "AAAAAAAAAAEAAACAAAAAHHN0c2MAAAAAAAAAAQAAAAEAAAHzAAAAAQAAB+BzdHN6AAAAAAAAAAAA\n",
       "AAHzAAAbYwAAAqwAAADqAAAArAAAAeYAAACuAAABtQAAAQEAAADGAAAArAAAAcoAAADaAAAAuAAA\n",
       "ALMAAAFoAAAAtAAAAaAAAAC4AAABsgAAALAAAAHkAAAArwAAAfQAAADYAAAAogAAALoAAAGAAAAA\n",
       "0wAAAJIAAACUAAAB8AAAALAAAAIEAAAAyQAAAK0AAACiAAABwgAAAMkAAACWAAAAlQAAAUsAAACN\n",
       "AAABWgAAALMAAACMAAAAjAAAAXgAAADGAAAAlwAAAJAAAAFKAAABoAAAAKgAAAGBAAAA7gAAAKIA\n",
       "AACmAAABuwAAAPIAAACmAAAAqgAAAWwAAADNAAAAmwAAAKcAAAHDAAAA3wAAAKsAAACuAAABswAA\n",
       "ARAAAACtAAAAuQAAAh4AAADtAAAAtgAAAKMAAAJuAAAA8AAAALAAAADNAAACJAAAAOkAAADHAAAA\n",
       "ugAAAjEAAADhAAAAmAAAAL4AAAHsAAAAzwAAAK4AAAG1AAAA/QAAALAAAACjAAACAwAAANoAAACq\n",
       "AAAAuwAAAd0AAADPAAAAvAAAAZcAAAC2AAAB+AAAALMAAACcAAAAnwAAAZUAAAClAAABpQAAAMYA\n",
       "AACJAAAAjAAAAYoAAACxAAAAlwAAAbgAAACoAAAAkAAAAIUAAAHCAAAAtwAAAJQAAACLAAABxgAA\n",
       "AM8AAACaAAAAlgAAAc0AAAC5AAAAlgAAAKMAAAF0AAAAwgAAAI0AAACZAAABWwAAALwAAACcAAAA\n",
       "ngAAAZAAAAGMAAAA3QAAAJMAAACbAAABwAAAAMoAAACQAAAAqgAAAbkAAAChAAABkwAAAMsAAADC\n",
       "AAABdwAAALkAAACfAAABTgAAAKQAAAGDAAAAxwAAAKsAAAFfAAABvAAAAgIAAADsAAAAtgAAAggA\n",
       "AAEHAAAAuQAAAJwAAAJEAAABAQAAAMcAAAIkAAAA5AAAALwAAACyAAACHwAAAOcAAADDAAAAsgAA\n",
       "AeoAAADuAAAArAAAAKkAAAGaAAABtQAAAPcAAAC0AAAAsQAAAjMAAADWAAAAtgAAAKwAAAHKAAAA\n",
       "3AAAALwAAACfAAAB1QAAAOoAAACpAAAAnwAAAgYAAADOAAAAngAAAKAAAAHKAAAA3gAAAKUAAACl\n",
       "AAABwQAAAMEAAACSAAAAkwAAAbMAAADAAAAAkQAAAJIAAAHDAAAAwwAAAIgAAACYAAABxAAAALUA\n",
       "AACdAAAAkwAAAToAAAC9AAAAsgAAAJsAAAGDAAAAygAAAJwAAACTAAABOgAAAJwAAAGnAAAA6gAA\n",
       "AJ4AAACjAAAB/wAAAN4AAAC2AAAAmgAAAbAAAAC0AAAA2AAAHSMAAAHpAAAA5AAAAMAAAACvAAAC\n",
       "VQAAAR8AAADCAAAAwgAAAb8AAAD0AAAAwAAAALgAAAH5AAABCAAAAKIAAAC4AAAB1QAAAO0AAACc\n",
       "AAAAtAAAAdcAAAELAAAArQAAALQAAAG9AAAAxAAAAV0AAAHTAAAAzwAAALEAAAHSAAAAygAAAKkA\n",
       "AACtAAACBAAAAOIAAACuAAAApgAAAZ8AAADVAAAAlwAAAKoAAAG2AAAAygAAAJAAAACfAAABxgAA\n",
       "ALUAAACZAAAAmQAAAYEAAADTAAAAjwAAAJgAAAGzAAAAtwAAAJgAAACXAAAB3AAAAMkAAACbAAAA\n",
       "mwAAAWoAAACuAAAAjgAAAJsAAAFsAAAAxAAAAKoAAACUAAABZQAAAKwAAAClAAABgAAAALQAAACT\n",
       "AAABjAAAALoAAAChAAABiAAAALwAAAHNAAAAsAAAAX8AAAC4AAAAowAAAgUAAADDAAAAigAAAaYA\n",
       "AACuAAAAqwAAAe0AAAD0AAAAmAAAANQAAAIbAAAA4wAAALgAAAC0AAAB4AAAAMsAAAIfAAABHQAA\n",
       "AKoAAAC8AAACWAAAANwAAACkAAAAnAAAAZwAAADGAAAAlQAAAUoAAAGcAAAAyQAAAJ4AAAG+AAAA\n",
       "zAAAAKkAAAHGAAAA4gAAAK8AAACkAAABxwAAANUAAACZAAAAnQAAAYwAAAC3AAAAlQAAAI8AAAGk\n",
       "AAAAtgAAAI8AAACUAAABzgAAAOcAAACgAAAApAAAAcgAAADBAAAAkAAAAIgAAAHKAAAAsAAAAJkA\n",
       "AAFtAAAAlwAAAaMAAADNAAAApwAAAJwAAAG/AAAAnwAAAbcAAAEDAAAAmwAAAK8AAAHfAAAAwgAA\n",
       "AKYAAACXAAABngAAAOsAAACsAAAApAAAAg0AAADdAAAAmgAAAKYAAAG9AAAA6wAAAJIAAACyAAAB\n",
       "lAAAAMAAAACtAAABuAAAAPQAAAClAAAAswAAAcQAAACbAAABywAAARQAAAC0AAAAwwAAAggAAADI\n",
       "AAAAvwAAAekAAADQAAAAoQAAAlAAAADTAAAApgAAALQAAAHKAAAA4AAAAKkAAAC0AAACNwAAAPkA\n",
       "AAChAAAAvQAAAdYAAADoAAAAqgAAALUAAAHgAAAA8gAAALEAAACkAAABzwAAAQMAAACoAAAAqAAA\n",
       "AaUAAADyAAAApQAAAKEAAAHZAAAAywAAAKEAAACTAAABggAAAJcAAAF9AAAAvAAAAJMAAACYAAAB\n",
       "lwAAALwAAACPAAAAlAAAAT0AAADXAAAAogAAAJ4AAAExAAAA2gAAAJ0AAACaAAAA7wAAAO0AAACh\n",
       "AAAAoQAAABRzdGNvAAAAAAAAAAEAAAAwAAAAYnVkdGEAAABabWV0YQAAAAAAAAAhaGRscgAAAAAA\n",
       "AAAAbWRpcmFwcGwAAAAAAAAAAAAAAAAtaWxzdAAAACWpdG9vAAAAHWRhdGEAAAABAAAAAExhdmY2\n",
       "MC4xNi4xMDA=\n",
       "\">\n",
       "  Your browser does not support the video tag.\n",
       "</video>"
      ],
      "text/plain": [
       "<IPython.core.display.HTML object>"
      ]
     },
     "execution_count": 3,
     "metadata": {},
     "output_type": "execute_result"
    },
    {
     "data": {
      "image/png": "[encoded data removed]",
      "text/plain": [
       "<Figure size 640x480 with 1 Axes>"
      ]
     },
     "metadata": {},
     "output_type": "display_data"
    }
   ],
   "source": [
    "import numpy, math\n",
    "# All the parameters of the simulation\n",
    "box_length = 10 # How wide an area should the particles be scattered over\n",
    "N = 20          # How many particles to simulate\n",
    "dt = 0.1        # The timestep\n",
    "k_particle = 5  # How stiff should the particle-particle interaction be\n",
    "diameter = 2.0  # \\sigma or the diameter of the particles\n",
    "k_body = 0.1    # The stiffness of the spring holding the particles in the center of the sys\n",
    "\n",
    "#Now we generate a Nx2 array/matrix holding the positions of all particles.\n",
    "#They are randomly scattered from +- box_length\n",
    "pos = (numpy.random.rand(N, 2) - 0.5) * box_length\n",
    "#we also generate a Nx2 array of velocities initially at zero\n",
    "vel = numpy.zeros((N,2))\n",
    "\n",
    "#Calculate the force between two particles\n",
    "def force(i, j):\n",
    "    rij = pos[i] - pos[j]\n",
    "    distance = numpy.linalg.norm(rij)\n",
    "    if distance > diameter or i == j:\n",
    "        # outside the interaction distance so return zero force\n",
    "        return numpy.array([0,0])\n",
    "    rij_norm = rij / distance\n",
    "    return k_particle * (diameter - distance) * rij_norm\n",
    "\n",
    "def body_force(i):\n",
    "    return - k_body * pos[i]\n",
    "\n",
    "def timestep(step):\n",
    "    for i in range(N):\n",
    "        pos[i] += 0.5 * dt * vel[i]\n",
    "    #pos += 0.5 * dt * vel\n",
    "    \n",
    "    forces = numpy.zeros((N,2))\n",
    "    for i in range(N):\n",
    "        forces[i] += body_force(i)\n",
    "        for j in range(N):\n",
    "            forces[i] += force(i,j)\n",
    "\n",
    "    for i in range(N):\n",
    "        vel[i] += dt * forces[i]\n",
    "    #vel += dt * forces\n",
    "    \n",
    "    for i in range(N):\n",
    "        pos[i] += 0.5 * dt * vel[i]\n",
    "    \n",
    "    scatter.set_offsets(pos)\n",
    "    return [scatter]\n",
    "\n",
    "from IPython.display import HTML\n",
    "import numpy as np\n",
    "from matplotlib import animation\n",
    "import matplotlib.pyplot as plt\n",
    "\n",
    "plt.clf() #Clear the figure, as the animator leaves particles around if the cell is reurn\n",
    "fig = plt.gcf()\n",
    "ax = plt.gca()\n",
    "ax.set_xlim(-box_length, +box_length)\n",
    "ax.set_ylim(-box_length, +box_length)\n",
    "scatter = ax.scatter(pos[:,0], pos[:,1], s=250)\n",
    "print(\"Running calculations, please wait!\")\n",
    "anim = animation.FuncAnimation(fig, timestep, np.arange(1, 500), interval=10, blit=True)\n",
    "HTML(anim.to_html5_video())"
   ]
  },
  {
   "cell_type": "markdown",
   "id": "e3ddfb58-fb39-41c1-b45e-edaa7e66cb9b",
   "metadata": {},
   "source": [
    "## Example to run off-line\n",
    "\n",
    "The example code above contains some magic to render the simulation into a video, so that it can be viewed in the jupyter notebook. If you want to view the demo outside jupyter, a different version is given below"
   ]
  },
  {
   "cell_type": "code",
   "execution_count": 4,
   "id": "72104eb5-d382-4117-b5e7-22d12fef809d",
   "metadata": {},
   "outputs": [
    {
     "name": "stdout",
     "output_type": "stream",
     "text": [
      "Running calculations, please wait!\n"
     ]
    },
    {
     "data": {
      "image/png": "[encoded data removed]",
      "text/plain": [
       "<Figure size 640x480 with 1 Axes>"
      ]
     },
     "metadata": {},
     "output_type": "display_data"
    },
    {
     "data": {
      "text/plain": [
       "<Figure size 640x480 with 0 Axes>"
      ]
     },
     "metadata": {},
     "output_type": "display_data"
    },
    {
     "data": {
      "text/plain": [
       "<Figure size 640x480 with 0 Axes>"
      ]
     },
     "metadata": {},
     "output_type": "display_data"
    },
    {
     "data": {
      "text/plain": [
       "<Figure size 640x480 with 0 Axes>"
      ]
     },
     "metadata": {},
     "output_type": "display_data"
    },
    {
     "data": {
      "text/plain": [
       "<Figure size 640x480 with 0 Axes>"
      ]
     },
     "metadata": {},
     "output_type": "display_data"
    },
    {
     "data": {
      "text/plain": [
       "<Figure size 640x480 with 0 Axes>"
      ]
     },
     "metadata": {},
     "output_type": "display_data"
    },
    {
     "data": {
      "text/plain": [
       "<Figure size 640x480 with 0 Axes>"
      ]
     },
     "metadata": {},
     "output_type": "display_data"
    },
    {
     "data": {
      "text/plain": [
       "<Figure size 640x480 with 0 Axes>"
      ]
     },
     "metadata": {},
     "output_type": "display_data"
    },
    {
     "data": {
      "text/plain": [
       "<Figure size 640x480 with 0 Axes>"
      ]
     },
     "metadata": {},
     "output_type": "display_data"
    },
    {
     "data": {
      "text/plain": [
       "<Figure size 640x480 with 0 Axes>"
      ]
     },
     "metadata": {},
     "output_type": "display_data"
    },
    {
     "data": {
      "text/plain": [
       "<Figure size 640x480 with 0 Axes>"
      ]
     },
     "metadata": {},
     "output_type": "display_data"
    },
    {
     "data": {
      "text/plain": [
       "<Figure size 640x480 with 0 Axes>"
      ]
     },
     "metadata": {},
     "output_type": "display_data"
    },
    {
     "data": {
      "text/plain": [
       "<Figure size 640x480 with 0 Axes>"
      ]
     },
     "metadata": {},
     "output_type": "display_data"
    },
    {
     "data": {
      "text/plain": [
       "<Figure size 640x480 with 0 Axes>"
      ]
     },
     "metadata": {},
     "output_type": "display_data"
    },
    {
     "data": {
      "text/plain": [
       "<Figure size 640x480 with 0 Axes>"
      ]
     },
     "metadata": {},
     "output_type": "display_data"
    },
    {
     "data": {
      "text/plain": [
       "<Figure size 640x480 with 0 Axes>"
      ]
     },
     "metadata": {},
     "output_type": "display_data"
    },
    {
     "data": {
      "text/plain": [
       "<Figure size 640x480 with 0 Axes>"
      ]
     },
     "metadata": {},
     "output_type": "display_data"
    },
    {
     "data": {
      "text/plain": [
       "<Figure size 640x480 with 0 Axes>"
      ]
     },
     "metadata": {},
     "output_type": "display_data"
    },
    {
     "data": {
      "text/plain": [
       "<Figure size 640x480 with 0 Axes>"
      ]
     },
     "metadata": {},
     "output_type": "display_data"
    },
    {
     "data": {
      "text/plain": [
       "<Figure size 640x480 with 0 Axes>"
      ]
     },
     "metadata": {},
     "output_type": "display_data"
    },
    {
     "data": {
      "text/plain": [
       "<Figure size 640x480 with 0 Axes>"
      ]
     },
     "metadata": {},
     "output_type": "display_data"
    },
    {
     "data": {
      "text/plain": [
       "<Figure size 640x480 with 0 Axes>"
      ]
     },
     "metadata": {},
     "output_type": "display_data"
    },
    {
     "data": {
      "text/plain": [
       "<Figure size 640x480 with 0 Axes>"
      ]
     },
     "metadata": {},
     "output_type": "display_data"
    },
    {
     "data": {
      "text/plain": [
       "<Figure size 640x480 with 0 Axes>"
      ]
     },
     "metadata": {},
     "output_type": "display_data"
    },
    {
     "data": {
      "text/plain": [
       "<Figure size 640x480 with 0 Axes>"
      ]
     },
     "metadata": {},
     "output_type": "display_data"
    },
    {
     "data": {
      "text/plain": [
       "<Figure size 640x480 with 0 Axes>"
      ]
     },
     "metadata": {},
     "output_type": "display_data"
    },
    {
     "data": {
      "text/plain": [
       "<Figure size 640x480 with 0 Axes>"
      ]
     },
     "metadata": {},
     "output_type": "display_data"
    },
    {
     "data": {
      "text/plain": [
       "<Figure size 640x480 with 0 Axes>"
      ]
     },
     "metadata": {},
     "output_type": "display_data"
    },
    {
     "data": {
      "text/plain": [
       "<Figure size 640x480 with 0 Axes>"
      ]
     },
     "metadata": {},
     "output_type": "display_data"
    },
    {
     "data": {
      "text/plain": [
       "<Figure size 640x480 with 0 Axes>"
      ]
     },
     "metadata": {},
     "output_type": "display_data"
    },
    {
     "data": {
      "text/plain": [
       "<Figure size 640x480 with 0 Axes>"
      ]
     },
     "metadata": {},
     "output_type": "display_data"
    },
    {
     "data": {
      "text/plain": [
       "<Figure size 640x480 with 0 Axes>"
      ]
     },
     "metadata": {},
     "output_type": "display_data"
    },
    {
     "data": {
      "text/plain": [
       "<Figure size 640x480 with 0 Axes>"
      ]
     },
     "metadata": {},
     "output_type": "display_data"
    },
    {
     "data": {
      "text/plain": [
       "<Figure size 640x480 with 0 Axes>"
      ]
     },
     "metadata": {},
     "output_type": "display_data"
    },
    {
     "data": {
      "text/plain": [
       "<Figure size 640x480 with 0 Axes>"
      ]
     },
     "metadata": {},
     "output_type": "display_data"
    },
    {
     "data": {
      "text/plain": [
       "<Figure size 640x480 with 0 Axes>"
      ]
     },
     "metadata": {},
     "output_type": "display_data"
    },
    {
     "data": {
      "text/plain": [
       "<Figure size 640x480 with 0 Axes>"
      ]
     },
     "metadata": {},
     "output_type": "display_data"
    },
    {
     "data": {
      "text/plain": [
       "<Figure size 640x480 with 0 Axes>"
      ]
     },
     "metadata": {},
     "output_type": "display_data"
    },
    {
     "data": {
      "text/plain": [
       "<Figure size 640x480 with 0 Axes>"
      ]
     },
     "metadata": {},
     "output_type": "display_data"
    },
    {
     "data": {
      "text/plain": [
       "<Figure size 640x480 with 0 Axes>"
      ]
     },
     "metadata": {},
     "output_type": "display_data"
    },
    {
     "data": {
      "text/plain": [
       "<Figure size 640x480 with 0 Axes>"
      ]
     },
     "metadata": {},
     "output_type": "display_data"
    },
    {
     "data": {
      "text/plain": [
       "<Figure size 640x480 with 0 Axes>"
      ]
     },
     "metadata": {},
     "output_type": "display_data"
    },
    {
     "data": {
      "text/plain": [
       "<Figure size 640x480 with 0 Axes>"
      ]
     },
     "metadata": {},
     "output_type": "display_data"
    },
    {
     "data": {
      "text/plain": [
       "<Figure size 640x480 with 0 Axes>"
      ]
     },
     "metadata": {},
     "output_type": "display_data"
    },
    {
     "data": {
      "text/plain": [
       "<Figure size 640x480 with 0 Axes>"
      ]
     },
     "metadata": {},
     "output_type": "display_data"
    },
    {
     "data": {
      "text/plain": [
       "<Figure size 640x480 with 0 Axes>"
      ]
     },
     "metadata": {},
     "output_type": "display_data"
    },
    {
     "data": {
      "text/plain": [
       "<Figure size 640x480 with 0 Axes>"
      ]
     },
     "metadata": {},
     "output_type": "display_data"
    },
    {
     "data": {
      "text/plain": [
       "<Figure size 640x480 with 0 Axes>"
      ]
     },
     "metadata": {},
     "output_type": "display_data"
    },
    {
     "data": {
      "text/plain": [
       "<Figure size 640x480 with 0 Axes>"
      ]
     },
     "metadata": {},
     "output_type": "display_data"
    },
    {
     "data": {
      "text/plain": [
       "<Figure size 640x480 with 0 Axes>"
      ]
     },
     "metadata": {},
     "output_type": "display_data"
    },
    {
     "data": {
      "text/plain": [
       "<Figure size 640x480 with 0 Axes>"
      ]
     },
     "metadata": {},
     "output_type": "display_data"
    },
    {
     "data": {
      "text/plain": [
       "<Figure size 640x480 with 0 Axes>"
      ]
     },
     "metadata": {},
     "output_type": "display_data"
    },
    {
     "data": {
      "text/plain": [
       "<Figure size 640x480 with 0 Axes>"
      ]
     },
     "metadata": {},
     "output_type": "display_data"
    },
    {
     "data": {
      "text/plain": [
       "<Figure size 640x480 with 0 Axes>"
      ]
     },
     "metadata": {},
     "output_type": "display_data"
    },
    {
     "data": {
      "text/plain": [
       "<Figure size 640x480 with 0 Axes>"
      ]
     },
     "metadata": {},
     "output_type": "display_data"
    },
    {
     "data": {
      "text/plain": [
       "<Figure size 640x480 with 0 Axes>"
      ]
     },
     "metadata": {},
     "output_type": "display_data"
    },
    {
     "data": {
      "text/plain": [
       "<Figure size 640x480 with 0 Axes>"
      ]
     },
     "metadata": {},
     "output_type": "display_data"
    },
    {
     "data": {
      "text/plain": [
       "<Figure size 640x480 with 0 Axes>"
      ]
     },
     "metadata": {},
     "output_type": "display_data"
    },
    {
     "data": {
      "text/plain": [
       "<Figure size 640x480 with 0 Axes>"
      ]
     },
     "metadata": {},
     "output_type": "display_data"
    },
    {
     "data": {
      "text/plain": [
       "<Figure size 640x480 with 0 Axes>"
      ]
     },
     "metadata": {},
     "output_type": "display_data"
    },
    {
     "data": {
      "text/plain": [
       "<Figure size 640x480 with 0 Axes>"
      ]
     },
     "metadata": {},
     "output_type": "display_data"
    },
    {
     "data": {
      "text/plain": [
       "<Figure size 640x480 with 0 Axes>"
      ]
     },
     "metadata": {},
     "output_type": "display_data"
    },
    {
     "data": {
      "text/plain": [
       "<Figure size 640x480 with 0 Axes>"
      ]
     },
     "metadata": {},
     "output_type": "display_data"
    },
    {
     "data": {
      "text/plain": [
       "<Figure size 640x480 with 0 Axes>"
      ]
     },
     "metadata": {},
     "output_type": "display_data"
    },
    {
     "data": {
      "text/plain": [
       "<Figure size 640x480 with 0 Axes>"
      ]
     },
     "metadata": {},
     "output_type": "display_data"
    },
    {
     "data": {
      "text/plain": [
       "<Figure size 640x480 with 0 Axes>"
      ]
     },
     "metadata": {},
     "output_type": "display_data"
    },
    {
     "data": {
      "text/plain": [
       "<Figure size 640x480 with 0 Axes>"
      ]
     },
     "metadata": {},
     "output_type": "display_data"
    },
    {
     "data": {
      "text/plain": [
       "<Figure size 640x480 with 0 Axes>"
      ]
     },
     "metadata": {},
     "output_type": "display_data"
    },
    {
     "data": {
      "text/plain": [
       "<Figure size 640x480 with 0 Axes>"
      ]
     },
     "metadata": {},
     "output_type": "display_data"
    },
    {
     "data": {
      "text/plain": [
       "<Figure size 640x480 with 0 Axes>"
      ]
     },
     "metadata": {},
     "output_type": "display_data"
    },
    {
     "data": {
      "text/plain": [
       "<Figure size 640x480 with 0 Axes>"
      ]
     },
     "metadata": {},
     "output_type": "display_data"
    },
    {
     "data": {
      "text/plain": [
       "<Figure size 640x480 with 0 Axes>"
      ]
     },
     "metadata": {},
     "output_type": "display_data"
    },
    {
     "data": {
      "text/plain": [
       "<Figure size 640x480 with 0 Axes>"
      ]
     },
     "metadata": {},
     "output_type": "display_data"
    },
    {
     "data": {
      "text/plain": [
       "<Figure size 640x480 with 0 Axes>"
      ]
     },
     "metadata": {},
     "output_type": "display_data"
    },
    {
     "data": {
      "text/plain": [
       "<Figure size 640x480 with 0 Axes>"
      ]
     },
     "metadata": {},
     "output_type": "display_data"
    },
    {
     "data": {
      "text/plain": [
       "<Figure size 640x480 with 0 Axes>"
      ]
     },
     "metadata": {},
     "output_type": "display_data"
    },
    {
     "data": {
      "text/plain": [
       "<Figure size 640x480 with 0 Axes>"
      ]
     },
     "metadata": {},
     "output_type": "display_data"
    },
    {
     "data": {
      "text/plain": [
       "<Figure size 640x480 with 0 Axes>"
      ]
     },
     "metadata": {},
     "output_type": "display_data"
    },
    {
     "data": {
      "text/plain": [
       "<Figure size 640x480 with 0 Axes>"
      ]
     },
     "metadata": {},
     "output_type": "display_data"
    },
    {
     "data": {
      "text/plain": [
       "<Figure size 640x480 with 0 Axes>"
      ]
     },
     "metadata": {},
     "output_type": "display_data"
    },
    {
     "data": {
      "text/plain": [
       "<Figure size 640x480 with 0 Axes>"
      ]
     },
     "metadata": {},
     "output_type": "display_data"
    },
    {
     "data": {
      "text/plain": [
       "<Figure size 640x480 with 0 Axes>"
      ]
     },
     "metadata": {},
     "output_type": "display_data"
    },
    {
     "data": {
      "text/plain": [
       "<Figure size 640x480 with 0 Axes>"
      ]
     },
     "metadata": {},
     "output_type": "display_data"
    },
    {
     "data": {
      "text/plain": [
       "<Figure size 640x480 with 0 Axes>"
      ]
     },
     "metadata": {},
     "output_type": "display_data"
    },
    {
     "data": {
      "text/plain": [
       "<Figure size 640x480 with 0 Axes>"
      ]
     },
     "metadata": {},
     "output_type": "display_data"
    },
    {
     "data": {
      "text/plain": [
       "<Figure size 640x480 with 0 Axes>"
      ]
     },
     "metadata": {},
     "output_type": "display_data"
    },
    {
     "data": {
      "text/plain": [
       "<Figure size 640x480 with 0 Axes>"
      ]
     },
     "metadata": {},
     "output_type": "display_data"
    },
    {
     "data": {
      "text/plain": [
       "<Figure size 640x480 with 0 Axes>"
      ]
     },
     "metadata": {},
     "output_type": "display_data"
    },
    {
     "data": {
      "text/plain": [
       "<Figure size 640x480 with 0 Axes>"
      ]
     },
     "metadata": {},
     "output_type": "display_data"
    },
    {
     "data": {
      "text/plain": [
       "<Figure size 640x480 with 0 Axes>"
      ]
     },
     "metadata": {},
     "output_type": "display_data"
    },
    {
     "data": {
      "text/plain": [
       "<Figure size 640x480 with 0 Axes>"
      ]
     },
     "metadata": {},
     "output_type": "display_data"
    },
    {
     "data": {
      "text/plain": [
       "<Figure size 640x480 with 0 Axes>"
      ]
     },
     "metadata": {},
     "output_type": "display_data"
    },
    {
     "data": {
      "text/plain": [
       "<Figure size 640x480 with 0 Axes>"
      ]
     },
     "metadata": {},
     "output_type": "display_data"
    },
    {
     "data": {
      "text/plain": [
       "<Figure size 640x480 with 0 Axes>"
      ]
     },
     "metadata": {},
     "output_type": "display_data"
    },
    {
     "data": {
      "text/plain": [
       "<Figure size 640x480 with 0 Axes>"
      ]
     },
     "metadata": {},
     "output_type": "display_data"
    },
    {
     "data": {
      "text/plain": [
       "<Figure size 640x480 with 0 Axes>"
      ]
     },
     "metadata": {},
     "output_type": "display_data"
    },
    {
     "data": {
      "text/plain": [
       "<Figure size 640x480 with 0 Axes>"
      ]
     },
     "metadata": {},
     "output_type": "display_data"
    },
    {
     "data": {
      "text/plain": [
       "<Figure size 640x480 with 0 Axes>"
      ]
     },
     "metadata": {},
     "output_type": "display_data"
    },
    {
     "data": {
      "text/plain": [
       "<Figure size 640x480 with 0 Axes>"
      ]
     },
     "metadata": {},
     "output_type": "display_data"
    },
    {
     "data": {
      "text/plain": [
       "<Figure size 640x480 with 0 Axes>"
      ]
     },
     "metadata": {},
     "output_type": "display_data"
    },
    {
     "data": {
      "text/plain": [
       "<Figure size 640x480 with 0 Axes>"
      ]
     },
     "metadata": {},
     "output_type": "display_data"
    },
    {
     "data": {
      "text/plain": [
       "<Figure size 640x480 with 0 Axes>"
      ]
     },
     "metadata": {},
     "output_type": "display_data"
    },
    {
     "data": {
      "text/plain": [
       "<Figure size 640x480 with 0 Axes>"
      ]
     },
     "metadata": {},
     "output_type": "display_data"
    },
    {
     "data": {
      "text/plain": [
       "<Figure size 640x480 with 0 Axes>"
      ]
     },
     "metadata": {},
     "output_type": "display_data"
    },
    {
     "data": {
      "text/plain": [
       "<Figure size 640x480 with 0 Axes>"
      ]
     },
     "metadata": {},
     "output_type": "display_data"
    },
    {
     "data": {
      "text/plain": [
       "<Figure size 640x480 with 0 Axes>"
      ]
     },
     "metadata": {},
     "output_type": "display_data"
    },
    {
     "data": {
      "text/plain": [
       "<Figure size 640x480 with 0 Axes>"
      ]
     },
     "metadata": {},
     "output_type": "display_data"
    },
    {
     "data": {
      "text/plain": [
       "<Figure size 640x480 with 0 Axes>"
      ]
     },
     "metadata": {},
     "output_type": "display_data"
    },
    {
     "data": {
      "text/plain": [
       "<Figure size 640x480 with 0 Axes>"
      ]
     },
     "metadata": {},
     "output_type": "display_data"
    },
    {
     "data": {
      "text/plain": [
       "<Figure size 640x480 with 0 Axes>"
      ]
     },
     "metadata": {},
     "output_type": "display_data"
    },
    {
     "data": {
      "text/plain": [
       "<Figure size 640x480 with 0 Axes>"
      ]
     },
     "metadata": {},
     "output_type": "display_data"
    },
    {
     "data": {
      "text/plain": [
       "<Figure size 640x480 with 0 Axes>"
      ]
     },
     "metadata": {},
     "output_type": "display_data"
    },
    {
     "data": {
      "text/plain": [
       "<Figure size 640x480 with 0 Axes>"
      ]
     },
     "metadata": {},
     "output_type": "display_data"
    },
    {
     "data": {
      "text/plain": [
       "<Figure size 640x480 with 0 Axes>"
      ]
     },
     "metadata": {},
     "output_type": "display_data"
    },
    {
     "data": {
      "text/plain": [
       "<Figure size 640x480 with 0 Axes>"
      ]
     },
     "metadata": {},
     "output_type": "display_data"
    },
    {
     "data": {
      "text/plain": [
       "<Figure size 640x480 with 0 Axes>"
      ]
     },
     "metadata": {},
     "output_type": "display_data"
    },
    {
     "data": {
      "text/plain": [
       "<Figure size 640x480 with 0 Axes>"
      ]
     },
     "metadata": {},
     "output_type": "display_data"
    },
    {
     "data": {
      "text/plain": [
       "<Figure size 640x480 with 0 Axes>"
      ]
     },
     "metadata": {},
     "output_type": "display_data"
    },
    {
     "data": {
      "text/plain": [
       "<Figure size 640x480 with 0 Axes>"
      ]
     },
     "metadata": {},
     "output_type": "display_data"
    },
    {
     "data": {
      "text/plain": [
       "<Figure size 640x480 with 0 Axes>"
      ]
     },
     "metadata": {},
     "output_type": "display_data"
    },
    {
     "data": {
      "text/plain": [
       "<Figure size 640x480 with 0 Axes>"
      ]
     },
     "metadata": {},
     "output_type": "display_data"
    },
    {
     "data": {
      "text/plain": [
       "<Figure size 640x480 with 0 Axes>"
      ]
     },
     "metadata": {},
     "output_type": "display_data"
    },
    {
     "data": {
      "text/plain": [
       "<Figure size 640x480 with 0 Axes>"
      ]
     },
     "metadata": {},
     "output_type": "display_data"
    },
    {
     "data": {
      "text/plain": [
       "<Figure size 640x480 with 0 Axes>"
      ]
     },
     "metadata": {},
     "output_type": "display_data"
    },
    {
     "data": {
      "text/plain": [
       "<Figure size 640x480 with 0 Axes>"
      ]
     },
     "metadata": {},
     "output_type": "display_data"
    },
    {
     "data": {
      "text/plain": [
       "<Figure size 640x480 with 0 Axes>"
      ]
     },
     "metadata": {},
     "output_type": "display_data"
    },
    {
     "data": {
      "text/plain": [
       "<Figure size 640x480 with 0 Axes>"
      ]
     },
     "metadata": {},
     "output_type": "display_data"
    },
    {
     "data": {
      "text/plain": [
       "<Figure size 640x480 with 0 Axes>"
      ]
     },
     "metadata": {},
     "output_type": "display_data"
    },
    {
     "data": {
      "text/plain": [
       "<Figure size 640x480 with 0 Axes>"
      ]
     },
     "metadata": {},
     "output_type": "display_data"
    },
    {
     "data": {
      "text/plain": [
       "<Figure size 640x480 with 0 Axes>"
      ]
     },
     "metadata": {},
     "output_type": "display_data"
    },
    {
     "data": {
      "text/plain": [
       "<Figure size 640x480 with 0 Axes>"
      ]
     },
     "metadata": {},
     "output_type": "display_data"
    },
    {
     "data": {
      "text/plain": [
       "<Figure size 640x480 with 0 Axes>"
      ]
     },
     "metadata": {},
     "output_type": "display_data"
    },
    {
     "data": {
      "text/plain": [
       "<Figure size 640x480 with 0 Axes>"
      ]
     },
     "metadata": {},
     "output_type": "display_data"
    },
    {
     "data": {
      "text/plain": [
       "<Figure size 640x480 with 0 Axes>"
      ]
     },
     "metadata": {},
     "output_type": "display_data"
    },
    {
     "data": {
      "text/plain": [
       "<Figure size 640x480 with 0 Axes>"
      ]
     },
     "metadata": {},
     "output_type": "display_data"
    },
    {
     "data": {
      "text/plain": [
       "<Figure size 640x480 with 0 Axes>"
      ]
     },
     "metadata": {},
     "output_type": "display_data"
    },
    {
     "data": {
      "text/plain": [
       "<Figure size 640x480 with 0 Axes>"
      ]
     },
     "metadata": {},
     "output_type": "display_data"
    },
    {
     "data": {
      "text/plain": [
       "<Figure size 640x480 with 0 Axes>"
      ]
     },
     "metadata": {},
     "output_type": "display_data"
    },
    {
     "data": {
      "text/plain": [
       "<Figure size 640x480 with 0 Axes>"
      ]
     },
     "metadata": {},
     "output_type": "display_data"
    },
    {
     "data": {
      "text/plain": [
       "<Figure size 640x480 with 0 Axes>"
      ]
     },
     "metadata": {},
     "output_type": "display_data"
    },
    {
     "data": {
      "text/plain": [
       "<Figure size 640x480 with 0 Axes>"
      ]
     },
     "metadata": {},
     "output_type": "display_data"
    },
    {
     "data": {
      "text/plain": [
       "<Figure size 640x480 with 0 Axes>"
      ]
     },
     "metadata": {},
     "output_type": "display_data"
    },
    {
     "data": {
      "text/plain": [
       "<Figure size 640x480 with 0 Axes>"
      ]
     },
     "metadata": {},
     "output_type": "display_data"
    },
    {
     "data": {
      "text/plain": [
       "<Figure size 640x480 with 0 Axes>"
      ]
     },
     "metadata": {},
     "output_type": "display_data"
    },
    {
     "data": {
      "text/plain": [
       "<Figure size 640x480 with 0 Axes>"
      ]
     },
     "metadata": {},
     "output_type": "display_data"
    },
    {
     "data": {
      "text/plain": [
       "<Figure size 640x480 with 0 Axes>"
      ]
     },
     "metadata": {},
     "output_type": "display_data"
    },
    {
     "data": {
      "text/plain": [
       "<Figure size 640x480 with 0 Axes>"
      ]
     },
     "metadata": {},
     "output_type": "display_data"
    },
    {
     "data": {
      "text/plain": [
       "<Figure size 640x480 with 0 Axes>"
      ]
     },
     "metadata": {},
     "output_type": "display_data"
    },
    {
     "data": {
      "text/plain": [
       "<Figure size 640x480 with 0 Axes>"
      ]
     },
     "metadata": {},
     "output_type": "display_data"
    },
    {
     "data": {
      "text/plain": [
       "<Figure size 640x480 with 0 Axes>"
      ]
     },
     "metadata": {},
     "output_type": "display_data"
    },
    {
     "data": {
      "text/plain": [
       "<Figure size 640x480 with 0 Axes>"
      ]
     },
     "metadata": {},
     "output_type": "display_data"
    },
    {
     "data": {
      "text/plain": [
       "<Figure size 640x480 with 0 Axes>"
      ]
     },
     "metadata": {},
     "output_type": "display_data"
    },
    {
     "data": {
      "text/plain": [
       "<Figure size 640x480 with 0 Axes>"
      ]
     },
     "metadata": {},
     "output_type": "display_data"
    },
    {
     "data": {
      "text/plain": [
       "<Figure size 640x480 with 0 Axes>"
      ]
     },
     "metadata": {},
     "output_type": "display_data"
    },
    {
     "data": {
      "text/plain": [
       "<Figure size 640x480 with 0 Axes>"
      ]
     },
     "metadata": {},
     "output_type": "display_data"
    },
    {
     "data": {
      "text/plain": [
       "<Figure size 640x480 with 0 Axes>"
      ]
     },
     "metadata": {},
     "output_type": "display_data"
    },
    {
     "data": {
      "text/plain": [
       "<Figure size 640x480 with 0 Axes>"
      ]
     },
     "metadata": {},
     "output_type": "display_data"
    },
    {
     "data": {
      "text/plain": [
       "<Figure size 640x480 with 0 Axes>"
      ]
     },
     "metadata": {},
     "output_type": "display_data"
    },
    {
     "data": {
      "text/plain": [
       "<Figure size 640x480 with 0 Axes>"
      ]
     },
     "metadata": {},
     "output_type": "display_data"
    },
    {
     "data": {
      "text/plain": [
       "<Figure size 640x480 with 0 Axes>"
      ]
     },
     "metadata": {},
     "output_type": "display_data"
    },
    {
     "data": {
      "text/plain": [
       "<Figure size 640x480 with 0 Axes>"
      ]
     },
     "metadata": {},
     "output_type": "display_data"
    },
    {
     "data": {
      "text/plain": [
       "<Figure size 640x480 with 0 Axes>"
      ]
     },
     "metadata": {},
     "output_type": "display_data"
    },
    {
     "data": {
      "text/plain": [
       "<Figure size 640x480 with 0 Axes>"
      ]
     },
     "metadata": {},
     "output_type": "display_data"
    },
    {
     "data": {
      "text/plain": [
       "<Figure size 640x480 with 0 Axes>"
      ]
     },
     "metadata": {},
     "output_type": "display_data"
    },
    {
     "data": {
      "text/plain": [
       "<Figure size 640x480 with 0 Axes>"
      ]
     },
     "metadata": {},
     "output_type": "display_data"
    },
    {
     "data": {
      "text/plain": [
       "<Figure size 640x480 with 0 Axes>"
      ]
     },
     "metadata": {},
     "output_type": "display_data"
    },
    {
     "data": {
      "text/plain": [
       "<Figure size 640x480 with 0 Axes>"
      ]
     },
     "metadata": {},
     "output_type": "display_data"
    },
    {
     "data": {
      "text/plain": [
       "<Figure size 640x480 with 0 Axes>"
      ]
     },
     "metadata": {},
     "output_type": "display_data"
    },
    {
     "data": {
      "text/plain": [
       "<Figure size 640x480 with 0 Axes>"
      ]
     },
     "metadata": {},
     "output_type": "display_data"
    },
    {
     "data": {
      "text/plain": [
       "<Figure size 640x480 with 0 Axes>"
      ]
     },
     "metadata": {},
     "output_type": "display_data"
    },
    {
     "data": {
      "text/plain": [
       "<Figure size 640x480 with 0 Axes>"
      ]
     },
     "metadata": {},
     "output_type": "display_data"
    },
    {
     "data": {
      "text/plain": [
       "<Figure size 640x480 with 0 Axes>"
      ]
     },
     "metadata": {},
     "output_type": "display_data"
    },
    {
     "data": {
      "text/plain": [
       "<Figure size 640x480 with 0 Axes>"
      ]
     },
     "metadata": {},
     "output_type": "display_data"
    },
    {
     "data": {
      "text/plain": [
       "<Figure size 640x480 with 0 Axes>"
      ]
     },
     "metadata": {},
     "output_type": "display_data"
    },
    {
     "data": {
      "text/plain": [
       "<Figure size 640x480 with 0 Axes>"
      ]
     },
     "metadata": {},
     "output_type": "display_data"
    },
    {
     "data": {
      "text/plain": [
       "<Figure size 640x480 with 0 Axes>"
      ]
     },
     "metadata": {},
     "output_type": "display_data"
    },
    {
     "data": {
      "text/plain": [
       "<Figure size 640x480 with 0 Axes>"
      ]
     },
     "metadata": {},
     "output_type": "display_data"
    },
    {
     "data": {
      "text/plain": [
       "<Figure size 640x480 with 0 Axes>"
      ]
     },
     "metadata": {},
     "output_type": "display_data"
    },
    {
     "data": {
      "text/plain": [
       "<Figure size 640x480 with 0 Axes>"
      ]
     },
     "metadata": {},
     "output_type": "display_data"
    },
    {
     "data": {
      "text/plain": [
       "<Figure size 640x480 with 0 Axes>"
      ]
     },
     "metadata": {},
     "output_type": "display_data"
    },
    {
     "data": {
      "text/plain": [
       "<Figure size 640x480 with 0 Axes>"
      ]
     },
     "metadata": {},
     "output_type": "display_data"
    },
    {
     "data": {
      "text/plain": [
       "<Figure size 640x480 with 0 Axes>"
      ]
     },
     "metadata": {},
     "output_type": "display_data"
    },
    {
     "data": {
      "text/plain": [
       "<Figure size 640x480 with 0 Axes>"
      ]
     },
     "metadata": {},
     "output_type": "display_data"
    },
    {
     "data": {
      "text/plain": [
       "<Figure size 640x480 with 0 Axes>"
      ]
     },
     "metadata": {},
     "output_type": "display_data"
    },
    {
     "data": {
      "text/plain": [
       "<Figure size 640x480 with 0 Axes>"
      ]
     },
     "metadata": {},
     "output_type": "display_data"
    },
    {
     "data": {
      "text/plain": [
       "<Figure size 640x480 with 0 Axes>"
      ]
     },
     "metadata": {},
     "output_type": "display_data"
    },
    {
     "data": {
      "text/plain": [
       "<Figure size 640x480 with 0 Axes>"
      ]
     },
     "metadata": {},
     "output_type": "display_data"
    },
    {
     "data": {
      "text/plain": [
       "<Figure size 640x480 with 0 Axes>"
      ]
     },
     "metadata": {},
     "output_type": "display_data"
    },
    {
     "data": {
      "text/plain": [
       "<Figure size 640x480 with 0 Axes>"
      ]
     },
     "metadata": {},
     "output_type": "display_data"
    },
    {
     "data": {
      "text/plain": [
       "<Figure size 640x480 with 0 Axes>"
      ]
     },
     "metadata": {},
     "output_type": "display_data"
    },
    {
     "data": {
      "text/plain": [
       "<Figure size 640x480 with 0 Axes>"
      ]
     },
     "metadata": {},
     "output_type": "display_data"
    },
    {
     "data": {
      "text/plain": [
       "<Figure size 640x480 with 0 Axes>"
      ]
     },
     "metadata": {},
     "output_type": "display_data"
    },
    {
     "data": {
      "text/plain": [
       "<Figure size 640x480 with 0 Axes>"
      ]
     },
     "metadata": {},
     "output_type": "display_data"
    },
    {
     "data": {
      "text/plain": [
       "<Figure size 640x480 with 0 Axes>"
      ]
     },
     "metadata": {},
     "output_type": "display_data"
    },
    {
     "data": {
      "text/plain": [
       "<Figure size 640x480 with 0 Axes>"
      ]
     },
     "metadata": {},
     "output_type": "display_data"
    },
    {
     "data": {
      "text/plain": [
       "<Figure size 640x480 with 0 Axes>"
      ]
     },
     "metadata": {},
     "output_type": "display_data"
    },
    {
     "data": {
      "text/plain": [
       "<Figure size 640x480 with 0 Axes>"
      ]
     },
     "metadata": {},
     "output_type": "display_data"
    },
    {
     "data": {
      "text/plain": [
       "<Figure size 640x480 with 0 Axes>"
      ]
     },
     "metadata": {},
     "output_type": "display_data"
    },
    {
     "data": {
      "text/plain": [
       "<Figure size 640x480 with 0 Axes>"
      ]
     },
     "metadata": {},
     "output_type": "display_data"
    },
    {
     "data": {
      "text/plain": [
       "<Figure size 640x480 with 0 Axes>"
      ]
     },
     "metadata": {},
     "output_type": "display_data"
    },
    {
     "data": {
      "text/plain": [
       "<Figure size 640x480 with 0 Axes>"
      ]
     },
     "metadata": {},
     "output_type": "display_data"
    },
    {
     "data": {
      "text/plain": [
       "<Figure size 640x480 with 0 Axes>"
      ]
     },
     "metadata": {},
     "output_type": "display_data"
    },
    {
     "data": {
      "text/plain": [
       "<Figure size 640x480 with 0 Axes>"
      ]
     },
     "metadata": {},
     "output_type": "display_data"
    },
    {
     "data": {
      "text/plain": [
       "<Figure size 640x480 with 0 Axes>"
      ]
     },
     "metadata": {},
     "output_type": "display_data"
    },
    {
     "data": {
      "text/plain": [
       "<Figure size 640x480 with 0 Axes>"
      ]
     },
     "metadata": {},
     "output_type": "display_data"
    },
    {
     "data": {
      "text/plain": [
       "<Figure size 640x480 with 0 Axes>"
      ]
     },
     "metadata": {},
     "output_type": "display_data"
    },
    {
     "data": {
      "text/plain": [
       "<Figure size 640x480 with 0 Axes>"
      ]
     },
     "metadata": {},
     "output_type": "display_data"
    },
    {
     "data": {
      "text/plain": [
       "<Figure size 640x480 with 0 Axes>"
      ]
     },
     "metadata": {},
     "output_type": "display_data"
    },
    {
     "data": {
      "text/plain": [
       "<Figure size 640x480 with 0 Axes>"
      ]
     },
     "metadata": {},
     "output_type": "display_data"
    },
    {
     "data": {
      "text/plain": [
       "<Figure size 640x480 with 0 Axes>"
      ]
     },
     "metadata": {},
     "output_type": "display_data"
    },
    {
     "data": {
      "text/plain": [
       "<Figure size 640x480 with 0 Axes>"
      ]
     },
     "metadata": {},
     "output_type": "display_data"
    },
    {
     "data": {
      "text/plain": [
       "<Figure size 640x480 with 0 Axes>"
      ]
     },
     "metadata": {},
     "output_type": "display_data"
    },
    {
     "data": {
      "text/plain": [
       "<Figure size 640x480 with 0 Axes>"
      ]
     },
     "metadata": {},
     "output_type": "display_data"
    },
    {
     "data": {
      "text/plain": [
       "<Figure size 640x480 with 0 Axes>"
      ]
     },
     "metadata": {},
     "output_type": "display_data"
    },
    {
     "data": {
      "text/plain": [
       "<Figure size 640x480 with 0 Axes>"
      ]
     },
     "metadata": {},
     "output_type": "display_data"
    },
    {
     "data": {
      "text/plain": [
       "<Figure size 640x480 with 0 Axes>"
      ]
     },
     "metadata": {},
     "output_type": "display_data"
    },
    {
     "data": {
      "text/plain": [
       "<Figure size 640x480 with 0 Axes>"
      ]
     },
     "metadata": {},
     "output_type": "display_data"
    },
    {
     "data": {
      "text/plain": [
       "<Figure size 640x480 with 0 Axes>"
      ]
     },
     "metadata": {},
     "output_type": "display_data"
    },
    {
     "data": {
      "text/plain": [
       "<Figure size 640x480 with 0 Axes>"
      ]
     },
     "metadata": {},
     "output_type": "display_data"
    },
    {
     "data": {
      "text/plain": [
       "<Figure size 640x480 with 0 Axes>"
      ]
     },
     "metadata": {},
     "output_type": "display_data"
    },
    {
     "data": {
      "text/plain": [
       "<Figure size 640x480 with 0 Axes>"
      ]
     },
     "metadata": {},
     "output_type": "display_data"
    },
    {
     "data": {
      "text/plain": [
       "<Figure size 640x480 with 0 Axes>"
      ]
     },
     "metadata": {},
     "output_type": "display_data"
    },
    {
     "data": {
      "text/plain": [
       "<Figure size 640x480 with 0 Axes>"
      ]
     },
     "metadata": {},
     "output_type": "display_data"
    },
    {
     "data": {
      "text/plain": [
       "<Figure size 640x480 with 0 Axes>"
      ]
     },
     "metadata": {},
     "output_type": "display_data"
    },
    {
     "data": {
      "text/plain": [
       "<Figure size 640x480 with 0 Axes>"
      ]
     },
     "metadata": {},
     "output_type": "display_data"
    },
    {
     "data": {
      "text/plain": [
       "<Figure size 640x480 with 0 Axes>"
      ]
     },
     "metadata": {},
     "output_type": "display_data"
    },
    {
     "data": {
      "text/plain": [
       "<Figure size 640x480 with 0 Axes>"
      ]
     },
     "metadata": {},
     "output_type": "display_data"
    },
    {
     "data": {
      "text/plain": [
       "<Figure size 640x480 with 0 Axes>"
      ]
     },
     "metadata": {},
     "output_type": "display_data"
    },
    {
     "data": {
      "text/plain": [
       "<Figure size 640x480 with 0 Axes>"
      ]
     },
     "metadata": {},
     "output_type": "display_data"
    },
    {
     "data": {
      "text/plain": [
       "<Figure size 640x480 with 0 Axes>"
      ]
     },
     "metadata": {},
     "output_type": "display_data"
    },
    {
     "data": {
      "text/plain": [
       "<Figure size 640x480 with 0 Axes>"
      ]
     },
     "metadata": {},
     "output_type": "display_data"
    },
    {
     "data": {
      "text/plain": [
       "<Figure size 640x480 with 0 Axes>"
      ]
     },
     "metadata": {},
     "output_type": "display_data"
    },
    {
     "data": {
      "text/plain": [
       "<Figure size 640x480 with 0 Axes>"
      ]
     },
     "metadata": {},
     "output_type": "display_data"
    },
    {
     "data": {
      "text/plain": [
       "<Figure size 640x480 with 0 Axes>"
      ]
     },
     "metadata": {},
     "output_type": "display_data"
    },
    {
     "data": {
      "text/plain": [
       "<Figure size 640x480 with 0 Axes>"
      ]
     },
     "metadata": {},
     "output_type": "display_data"
    },
    {
     "data": {
      "text/plain": [
       "<Figure size 640x480 with 0 Axes>"
      ]
     },
     "metadata": {},
     "output_type": "display_data"
    },
    {
     "data": {
      "text/plain": [
       "<Figure size 640x480 with 0 Axes>"
      ]
     },
     "metadata": {},
     "output_type": "display_data"
    },
    {
     "data": {
      "text/plain": [
       "<Figure size 640x480 with 0 Axes>"
      ]
     },
     "metadata": {},
     "output_type": "display_data"
    },
    {
     "data": {
      "text/plain": [
       "<Figure size 640x480 with 0 Axes>"
      ]
     },
     "metadata": {},
     "output_type": "display_data"
    },
    {
     "data": {
      "text/plain": [
       "<Figure size 640x480 with 0 Axes>"
      ]
     },
     "metadata": {},
     "output_type": "display_data"
    },
    {
     "data": {
      "text/plain": [
       "<Figure size 640x480 with 0 Axes>"
      ]
     },
     "metadata": {},
     "output_type": "display_data"
    },
    {
     "data": {
      "text/plain": [
       "<Figure size 640x480 with 0 Axes>"
      ]
     },
     "metadata": {},
     "output_type": "display_data"
    },
    {
     "data": {
      "text/plain": [
       "<Figure size 640x480 with 0 Axes>"
      ]
     },
     "metadata": {},
     "output_type": "display_data"
    },
    {
     "data": {
      "text/plain": [
       "<Figure size 640x480 with 0 Axes>"
      ]
     },
     "metadata": {},
     "output_type": "display_data"
    },
    {
     "data": {
      "text/plain": [
       "<Figure size 640x480 with 0 Axes>"
      ]
     },
     "metadata": {},
     "output_type": "display_data"
    },
    {
     "data": {
      "text/plain": [
       "<Figure size 640x480 with 0 Axes>"
      ]
     },
     "metadata": {},
     "output_type": "display_data"
    },
    {
     "data": {
      "text/plain": [
       "<Figure size 640x480 with 0 Axes>"
      ]
     },
     "metadata": {},
     "output_type": "display_data"
    },
    {
     "data": {
      "text/plain": [
       "<Figure size 640x480 with 0 Axes>"
      ]
     },
     "metadata": {},
     "output_type": "display_data"
    },
    {
     "data": {
      "text/plain": [
       "<Figure size 640x480 with 0 Axes>"
      ]
     },
     "metadata": {},
     "output_type": "display_data"
    },
    {
     "data": {
      "text/plain": [
       "<Figure size 640x480 with 0 Axes>"
      ]
     },
     "metadata": {},
     "output_type": "display_data"
    },
    {
     "data": {
      "text/plain": [
       "<Figure size 640x480 with 0 Axes>"
      ]
     },
     "metadata": {},
     "output_type": "display_data"
    },
    {
     "data": {
      "text/plain": [
       "<Figure size 640x480 with 0 Axes>"
      ]
     },
     "metadata": {},
     "output_type": "display_data"
    },
    {
     "data": {
      "text/plain": [
       "<Figure size 640x480 with 0 Axes>"
      ]
     },
     "metadata": {},
     "output_type": "display_data"
    },
    {
     "data": {
      "text/plain": [
       "<Figure size 640x480 with 0 Axes>"
      ]
     },
     "metadata": {},
     "output_type": "display_data"
    },
    {
     "data": {
      "text/plain": [
       "<Figure size 640x480 with 0 Axes>"
      ]
     },
     "metadata": {},
     "output_type": "display_data"
    },
    {
     "data": {
      "text/plain": [
       "<Figure size 640x480 with 0 Axes>"
      ]
     },
     "metadata": {},
     "output_type": "display_data"
    },
    {
     "data": {
      "text/plain": [
       "<Figure size 640x480 with 0 Axes>"
      ]
     },
     "metadata": {},
     "output_type": "display_data"
    },
    {
     "data": {
      "text/plain": [
       "<Figure size 640x480 with 0 Axes>"
      ]
     },
     "metadata": {},
     "output_type": "display_data"
    },
    {
     "data": {
      "text/plain": [
       "<Figure size 640x480 with 0 Axes>"
      ]
     },
     "metadata": {},
     "output_type": "display_data"
    },
    {
     "data": {
      "text/plain": [
       "<Figure size 640x480 with 0 Axes>"
      ]
     },
     "metadata": {},
     "output_type": "display_data"
    },
    {
     "data": {
      "text/plain": [
       "<Figure size 640x480 with 0 Axes>"
      ]
     },
     "metadata": {},
     "output_type": "display_data"
    },
    {
     "data": {
      "text/plain": [
       "<Figure size 640x480 with 0 Axes>"
      ]
     },
     "metadata": {},
     "output_type": "display_data"
    },
    {
     "data": {
      "text/plain": [
       "<Figure size 640x480 with 0 Axes>"
      ]
     },
     "metadata": {},
     "output_type": "display_data"
    },
    {
     "data": {
      "text/plain": [
       "<Figure size 640x480 with 0 Axes>"
      ]
     },
     "metadata": {},
     "output_type": "display_data"
    },
    {
     "data": {
      "text/plain": [
       "<Figure size 640x480 with 0 Axes>"
      ]
     },
     "metadata": {},
     "output_type": "display_data"
    },
    {
     "data": {
      "text/plain": [
       "<Figure size 640x480 with 0 Axes>"
      ]
     },
     "metadata": {},
     "output_type": "display_data"
    },
    {
     "data": {
      "text/plain": [
       "<Figure size 640x480 with 0 Axes>"
      ]
     },
     "metadata": {},
     "output_type": "display_data"
    },
    {
     "data": {
      "text/plain": [
       "<Figure size 640x480 with 0 Axes>"
      ]
     },
     "metadata": {},
     "output_type": "display_data"
    },
    {
     "data": {
      "text/plain": [
       "<Figure size 640x480 with 0 Axes>"
      ]
     },
     "metadata": {},
     "output_type": "display_data"
    },
    {
     "data": {
      "text/plain": [
       "<Figure size 640x480 with 0 Axes>"
      ]
     },
     "metadata": {},
     "output_type": "display_data"
    },
    {
     "data": {
      "text/plain": [
       "<Figure size 640x480 with 0 Axes>"
      ]
     },
     "metadata": {},
     "output_type": "display_data"
    },
    {
     "data": {
      "text/plain": [
       "<Figure size 640x480 with 0 Axes>"
      ]
     },
     "metadata": {},
     "output_type": "display_data"
    },
    {
     "data": {
      "text/plain": [
       "<Figure size 640x480 with 0 Axes>"
      ]
     },
     "metadata": {},
     "output_type": "display_data"
    },
    {
     "data": {
      "text/plain": [
       "<Figure size 640x480 with 0 Axes>"
      ]
     },
     "metadata": {},
     "output_type": "display_data"
    },
    {
     "data": {
      "text/plain": [
       "<Figure size 640x480 with 0 Axes>"
      ]
     },
     "metadata": {},
     "output_type": "display_data"
    },
    {
     "data": {
      "text/plain": [
       "<Figure size 640x480 with 0 Axes>"
      ]
     },
     "metadata": {},
     "output_type": "display_data"
    },
    {
     "data": {
      "text/plain": [
       "<Figure size 640x480 with 0 Axes>"
      ]
     },
     "metadata": {},
     "output_type": "display_data"
    },
    {
     "data": {
      "text/plain": [
       "<Figure size 640x480 with 0 Axes>"
      ]
     },
     "metadata": {},
     "output_type": "display_data"
    },
    {
     "data": {
      "text/plain": [
       "<Figure size 640x480 with 0 Axes>"
      ]
     },
     "metadata": {},
     "output_type": "display_data"
    },
    {
     "data": {
      "text/plain": [
       "<Figure size 640x480 with 0 Axes>"
      ]
     },
     "metadata": {},
     "output_type": "display_data"
    },
    {
     "data": {
      "text/plain": [
       "<Figure size 640x480 with 0 Axes>"
      ]
     },
     "metadata": {},
     "output_type": "display_data"
    },
    {
     "data": {
      "text/plain": [
       "<Figure size 640x480 with 0 Axes>"
      ]
     },
     "metadata": {},
     "output_type": "display_data"
    },
    {
     "data": {
      "text/plain": [
       "<Figure size 640x480 with 0 Axes>"
      ]
     },
     "metadata": {},
     "output_type": "display_data"
    },
    {
     "data": {
      "text/plain": [
       "<Figure size 640x480 with 0 Axes>"
      ]
     },
     "metadata": {},
     "output_type": "display_data"
    },
    {
     "data": {
      "text/plain": [
       "<Figure size 640x480 with 0 Axes>"
      ]
     },
     "metadata": {},
     "output_type": "display_data"
    },
    {
     "data": {
      "text/plain": [
       "<Figure size 640x480 with 0 Axes>"
      ]
     },
     "metadata": {},
     "output_type": "display_data"
    },
    {
     "data": {
      "text/plain": [
       "<Figure size 640x480 with 0 Axes>"
      ]
     },
     "metadata": {},
     "output_type": "display_data"
    },
    {
     "data": {
      "text/plain": [
       "<Figure size 640x480 with 0 Axes>"
      ]
     },
     "metadata": {},
     "output_type": "display_data"
    },
    {
     "data": {
      "text/plain": [
       "<Figure size 640x480 with 0 Axes>"
      ]
     },
     "metadata": {},
     "output_type": "display_data"
    },
    {
     "data": {
      "text/plain": [
       "<Figure size 640x480 with 0 Axes>"
      ]
     },
     "metadata": {},
     "output_type": "display_data"
    },
    {
     "data": {
      "text/plain": [
       "<Figure size 640x480 with 0 Axes>"
      ]
     },
     "metadata": {},
     "output_type": "display_data"
    },
    {
     "data": {
      "text/plain": [
       "<Figure size 640x480 with 0 Axes>"
      ]
     },
     "metadata": {},
     "output_type": "display_data"
    },
    {
     "data": {
      "text/plain": [
       "<Figure size 640x480 with 0 Axes>"
      ]
     },
     "metadata": {},
     "output_type": "display_data"
    },
    {
     "data": {
      "text/plain": [
       "<Figure size 640x480 with 0 Axes>"
      ]
     },
     "metadata": {},
     "output_type": "display_data"
    },
    {
     "data": {
      "text/plain": [
       "<Figure size 640x480 with 0 Axes>"
      ]
     },
     "metadata": {},
     "output_type": "display_data"
    },
    {
     "data": {
      "text/plain": [
       "<Figure size 640x480 with 0 Axes>"
      ]
     },
     "metadata": {},
     "output_type": "display_data"
    },
    {
     "data": {
      "text/plain": [
       "<Figure size 640x480 with 0 Axes>"
      ]
     },
     "metadata": {},
     "output_type": "display_data"
    },
    {
     "data": {
      "text/plain": [
       "<Figure size 640x480 with 0 Axes>"
      ]
     },
     "metadata": {},
     "output_type": "display_data"
    },
    {
     "data": {
      "text/plain": [
       "<Figure size 640x480 with 0 Axes>"
      ]
     },
     "metadata": {},
     "output_type": "display_data"
    },
    {
     "data": {
      "text/plain": [
       "<Figure size 640x480 with 0 Axes>"
      ]
     },
     "metadata": {},
     "output_type": "display_data"
    },
    {
     "data": {
      "text/plain": [
       "<Figure size 640x480 with 0 Axes>"
      ]
     },
     "metadata": {},
     "output_type": "display_data"
    },
    {
     "data": {
      "text/plain": [
       "<Figure size 640x480 with 0 Axes>"
      ]
     },
     "metadata": {},
     "output_type": "display_data"
    },
    {
     "data": {
      "text/plain": [
       "<Figure size 640x480 with 0 Axes>"
      ]
     },
     "metadata": {},
     "output_type": "display_data"
    },
    {
     "data": {
      "text/plain": [
       "<Figure size 640x480 with 0 Axes>"
      ]
     },
     "metadata": {},
     "output_type": "display_data"
    },
    {
     "data": {
      "text/plain": [
       "<Figure size 640x480 with 0 Axes>"
      ]
     },
     "metadata": {},
     "output_type": "display_data"
    },
    {
     "data": {
      "text/plain": [
       "<Figure size 640x480 with 0 Axes>"
      ]
     },
     "metadata": {},
     "output_type": "display_data"
    },
    {
     "data": {
      "text/plain": [
       "<Figure size 640x480 with 0 Axes>"
      ]
     },
     "metadata": {},
     "output_type": "display_data"
    },
    {
     "data": {
      "text/plain": [
       "<Figure size 640x480 with 0 Axes>"
      ]
     },
     "metadata": {},
     "output_type": "display_data"
    },
    {
     "data": {
      "text/plain": [
       "<Figure size 640x480 with 0 Axes>"
      ]
     },
     "metadata": {},
     "output_type": "display_data"
    },
    {
     "data": {
      "text/plain": [
       "<Figure size 640x480 with 0 Axes>"
      ]
     },
     "metadata": {},
     "output_type": "display_data"
    },
    {
     "data": {
      "text/plain": [
       "<Figure size 640x480 with 0 Axes>"
      ]
     },
     "metadata": {},
     "output_type": "display_data"
    },
    {
     "data": {
      "text/plain": [
       "<Figure size 640x480 with 0 Axes>"
      ]
     },
     "metadata": {},
     "output_type": "display_data"
    },
    {
     "data": {
      "text/plain": [
       "<Figure size 640x480 with 0 Axes>"
      ]
     },
     "metadata": {},
     "output_type": "display_data"
    },
    {
     "data": {
      "text/plain": [
       "<Figure size 640x480 with 0 Axes>"
      ]
     },
     "metadata": {},
     "output_type": "display_data"
    },
    {
     "data": {
      "text/plain": [
       "<Figure size 640x480 with 0 Axes>"
      ]
     },
     "metadata": {},
     "output_type": "display_data"
    },
    {
     "data": {
      "text/plain": [
       "<Figure size 640x480 with 0 Axes>"
      ]
     },
     "metadata": {},
     "output_type": "display_data"
    },
    {
     "data": {
      "text/plain": [
       "<Figure size 640x480 with 0 Axes>"
      ]
     },
     "metadata": {},
     "output_type": "display_data"
    },
    {
     "data": {
      "text/plain": [
       "<Figure size 640x480 with 0 Axes>"
      ]
     },
     "metadata": {},
     "output_type": "display_data"
    },
    {
     "data": {
      "text/plain": [
       "<Figure size 640x480 with 0 Axes>"
      ]
     },
     "metadata": {},
     "output_type": "display_data"
    },
    {
     "data": {
      "text/plain": [
       "<Figure size 640x480 with 0 Axes>"
      ]
     },
     "metadata": {},
     "output_type": "display_data"
    },
    {
     "data": {
      "text/plain": [
       "<Figure size 640x480 with 0 Axes>"
      ]
     },
     "metadata": {},
     "output_type": "display_data"
    },
    {
     "data": {
      "text/plain": [
       "<Figure size 640x480 with 0 Axes>"
      ]
     },
     "metadata": {},
     "output_type": "display_data"
    },
    {
     "data": {
      "text/plain": [
       "<Figure size 640x480 with 0 Axes>"
      ]
     },
     "metadata": {},
     "output_type": "display_data"
    },
    {
     "data": {
      "text/plain": [
       "<Figure size 640x480 with 0 Axes>"
      ]
     },
     "metadata": {},
     "output_type": "display_data"
    },
    {
     "data": {
      "text/plain": [
       "<Figure size 640x480 with 0 Axes>"
      ]
     },
     "metadata": {},
     "output_type": "display_data"
    },
    {
     "data": {
      "text/plain": [
       "<Figure size 640x480 with 0 Axes>"
      ]
     },
     "metadata": {},
     "output_type": "display_data"
    },
    {
     "data": {
      "text/plain": [
       "<Figure size 640x480 with 0 Axes>"
      ]
     },
     "metadata": {},
     "output_type": "display_data"
    },
    {
     "data": {
      "text/plain": [
       "<Figure size 640x480 with 0 Axes>"
      ]
     },
     "metadata": {},
     "output_type": "display_data"
    },
    {
     "data": {
      "text/plain": [
       "<Figure size 640x480 with 0 Axes>"
      ]
     },
     "metadata": {},
     "output_type": "display_data"
    },
    {
     "data": {
      "text/plain": [
       "<Figure size 640x480 with 0 Axes>"
      ]
     },
     "metadata": {},
     "output_type": "display_data"
    },
    {
     "data": {
      "text/plain": [
       "<Figure size 640x480 with 0 Axes>"
      ]
     },
     "metadata": {},
     "output_type": "display_data"
    },
    {
     "data": {
      "text/plain": [
       "<Figure size 640x480 with 0 Axes>"
      ]
     },
     "metadata": {},
     "output_type": "display_data"
    },
    {
     "data": {
      "text/plain": [
       "<Figure size 640x480 with 0 Axes>"
      ]
     },
     "metadata": {},
     "output_type": "display_data"
    },
    {
     "data": {
      "text/plain": [
       "<Figure size 640x480 with 0 Axes>"
      ]
     },
     "metadata": {},
     "output_type": "display_data"
    },
    {
     "data": {
      "text/plain": [
       "<Figure size 640x480 with 0 Axes>"
      ]
     },
     "metadata": {},
     "output_type": "display_data"
    },
    {
     "data": {
      "text/plain": [
       "<Figure size 640x480 with 0 Axes>"
      ]
     },
     "metadata": {},
     "output_type": "display_data"
    },
    {
     "data": {
      "text/plain": [
       "<Figure size 640x480 with 0 Axes>"
      ]
     },
     "metadata": {},
     "output_type": "display_data"
    },
    {
     "data": {
      "text/plain": [
       "<Figure size 640x480 with 0 Axes>"
      ]
     },
     "metadata": {},
     "output_type": "display_data"
    },
    {
     "data": {
      "text/plain": [
       "<Figure size 640x480 with 0 Axes>"
      ]
     },
     "metadata": {},
     "output_type": "display_data"
    },
    {
     "data": {
      "text/plain": [
       "<Figure size 640x480 with 0 Axes>"
      ]
     },
     "metadata": {},
     "output_type": "display_data"
    },
    {
     "data": {
      "text/plain": [
       "<Figure size 640x480 with 0 Axes>"
      ]
     },
     "metadata": {},
     "output_type": "display_data"
    },
    {
     "data": {
      "text/plain": [
       "<Figure size 640x480 with 0 Axes>"
      ]
     },
     "metadata": {},
     "output_type": "display_data"
    },
    {
     "data": {
      "text/plain": [
       "<Figure size 640x480 with 0 Axes>"
      ]
     },
     "metadata": {},
     "output_type": "display_data"
    },
    {
     "data": {
      "text/plain": [
       "<Figure size 640x480 with 0 Axes>"
      ]
     },
     "metadata": {},
     "output_type": "display_data"
    },
    {
     "data": {
      "text/plain": [
       "<Figure size 640x480 with 0 Axes>"
      ]
     },
     "metadata": {},
     "output_type": "display_data"
    },
    {
     "data": {
      "text/plain": [
       "<Figure size 640x480 with 0 Axes>"
      ]
     },
     "metadata": {},
     "output_type": "display_data"
    },
    {
     "data": {
      "text/plain": [
       "<Figure size 640x480 with 0 Axes>"
      ]
     },
     "metadata": {},
     "output_type": "display_data"
    },
    {
     "data": {
      "text/plain": [
       "<Figure size 640x480 with 0 Axes>"
      ]
     },
     "metadata": {},
     "output_type": "display_data"
    },
    {
     "data": {
      "text/plain": [
       "<Figure size 640x480 with 0 Axes>"
      ]
     },
     "metadata": {},
     "output_type": "display_data"
    },
    {
     "data": {
      "text/plain": [
       "<Figure size 640x480 with 0 Axes>"
      ]
     },
     "metadata": {},
     "output_type": "display_data"
    },
    {
     "data": {
      "text/plain": [
       "<Figure size 640x480 with 0 Axes>"
      ]
     },
     "metadata": {},
     "output_type": "display_data"
    },
    {
     "data": {
      "text/plain": [
       "<Figure size 640x480 with 0 Axes>"
      ]
     },
     "metadata": {},
     "output_type": "display_data"
    },
    {
     "data": {
      "text/plain": [
       "<Figure size 640x480 with 0 Axes>"
      ]
     },
     "metadata": {},
     "output_type": "display_data"
    },
    {
     "data": {
      "text/plain": [
       "<Figure size 640x480 with 0 Axes>"
      ]
     },
     "metadata": {},
     "output_type": "display_data"
    },
    {
     "data": {
      "text/plain": [
       "<Figure size 640x480 with 0 Axes>"
      ]
     },
     "metadata": {},
     "output_type": "display_data"
    },
    {
     "data": {
      "text/plain": [
       "<Figure size 640x480 with 0 Axes>"
      ]
     },
     "metadata": {},
     "output_type": "display_data"
    },
    {
     "data": {
      "text/plain": [
       "<Figure size 640x480 with 0 Axes>"
      ]
     },
     "metadata": {},
     "output_type": "display_data"
    },
    {
     "data": {
      "text/plain": [
       "<Figure size 640x480 with 0 Axes>"
      ]
     },
     "metadata": {},
     "output_type": "display_data"
    },
    {
     "data": {
      "text/plain": [
       "<Figure size 640x480 with 0 Axes>"
      ]
     },
     "metadata": {},
     "output_type": "display_data"
    },
    {
     "data": {
      "text/plain": [
       "<Figure size 640x480 with 0 Axes>"
      ]
     },
     "metadata": {},
     "output_type": "display_data"
    },
    {
     "data": {
      "text/plain": [
       "<Figure size 640x480 with 0 Axes>"
      ]
     },
     "metadata": {},
     "output_type": "display_data"
    },
    {
     "data": {
      "text/plain": [
       "<Figure size 640x480 with 0 Axes>"
      ]
     },
     "metadata": {},
     "output_type": "display_data"
    },
    {
     "data": {
      "text/plain": [
       "<Figure size 640x480 with 0 Axes>"
      ]
     },
     "metadata": {},
     "output_type": "display_data"
    },
    {
     "data": {
      "text/plain": [
       "<Figure size 640x480 with 0 Axes>"
      ]
     },
     "metadata": {},
     "output_type": "display_data"
    },
    {
     "data": {
      "text/plain": [
       "<Figure size 640x480 with 0 Axes>"
      ]
     },
     "metadata": {},
     "output_type": "display_data"
    },
    {
     "data": {
      "text/plain": [
       "<Figure size 640x480 with 0 Axes>"
      ]
     },
     "metadata": {},
     "output_type": "display_data"
    },
    {
     "data": {
      "text/plain": [
       "<Figure size 640x480 with 0 Axes>"
      ]
     },
     "metadata": {},
     "output_type": "display_data"
    },
    {
     "data": {
      "text/plain": [
       "<Figure size 640x480 with 0 Axes>"
      ]
     },
     "metadata": {},
     "output_type": "display_data"
    },
    {
     "data": {
      "text/plain": [
       "<Figure size 640x480 with 0 Axes>"
      ]
     },
     "metadata": {},
     "output_type": "display_data"
    },
    {
     "data": {
      "text/plain": [
       "<Figure size 640x480 with 0 Axes>"
      ]
     },
     "metadata": {},
     "output_type": "display_data"
    },
    {
     "data": {
      "text/plain": [
       "<Figure size 640x480 with 0 Axes>"
      ]
     },
     "metadata": {},
     "output_type": "display_data"
    },
    {
     "data": {
      "text/plain": [
       "<Figure size 640x480 with 0 Axes>"
      ]
     },
     "metadata": {},
     "output_type": "display_data"
    },
    {
     "data": {
      "text/plain": [
       "<Figure size 640x480 with 0 Axes>"
      ]
     },
     "metadata": {},
     "output_type": "display_data"
    },
    {
     "data": {
      "text/plain": [
       "<Figure size 640x480 with 0 Axes>"
      ]
     },
     "metadata": {},
     "output_type": "display_data"
    },
    {
     "data": {
      "text/plain": [
       "<Figure size 640x480 with 0 Axes>"
      ]
     },
     "metadata": {},
     "output_type": "display_data"
    },
    {
     "data": {
      "text/plain": [
       "<Figure size 640x480 with 0 Axes>"
      ]
     },
     "metadata": {},
     "output_type": "display_data"
    },
    {
     "data": {
      "text/plain": [
       "<Figure size 640x480 with 0 Axes>"
      ]
     },
     "metadata": {},
     "output_type": "display_data"
    },
    {
     "data": {
      "text/plain": [
       "<Figure size 640x480 with 0 Axes>"
      ]
     },
     "metadata": {},
     "output_type": "display_data"
    },
    {
     "data": {
      "text/plain": [
       "<Figure size 640x480 with 0 Axes>"
      ]
     },
     "metadata": {},
     "output_type": "display_data"
    },
    {
     "data": {
      "text/plain": [
       "<Figure size 640x480 with 0 Axes>"
      ]
     },
     "metadata": {},
     "output_type": "display_data"
    },
    {
     "data": {
      "text/plain": [
       "<Figure size 640x480 with 0 Axes>"
      ]
     },
     "metadata": {},
     "output_type": "display_data"
    },
    {
     "data": {
      "text/plain": [
       "<Figure size 640x480 with 0 Axes>"
      ]
     },
     "metadata": {},
     "output_type": "display_data"
    },
    {
     "data": {
      "text/plain": [
       "<Figure size 640x480 with 0 Axes>"
      ]
     },
     "metadata": {},
     "output_type": "display_data"
    },
    {
     "data": {
      "text/plain": [
       "<Figure size 640x480 with 0 Axes>"
      ]
     },
     "metadata": {},
     "output_type": "display_data"
    },
    {
     "data": {
      "text/plain": [
       "<Figure size 640x480 with 0 Axes>"
      ]
     },
     "metadata": {},
     "output_type": "display_data"
    },
    {
     "data": {
      "text/plain": [
       "<Figure size 640x480 with 0 Axes>"
      ]
     },
     "metadata": {},
     "output_type": "display_data"
    },
    {
     "data": {
      "text/plain": [
       "<Figure size 640x480 with 0 Axes>"
      ]
     },
     "metadata": {},
     "output_type": "display_data"
    },
    {
     "data": {
      "text/plain": [
       "<Figure size 640x480 with 0 Axes>"
      ]
     },
     "metadata": {},
     "output_type": "display_data"
    },
    {
     "data": {
      "text/plain": [
       "<Figure size 640x480 with 0 Axes>"
      ]
     },
     "metadata": {},
     "output_type": "display_data"
    },
    {
     "data": {
      "text/plain": [
       "<Figure size 640x480 with 0 Axes>"
      ]
     },
     "metadata": {},
     "output_type": "display_data"
    },
    {
     "data": {
      "text/plain": [
       "<Figure size 640x480 with 0 Axes>"
      ]
     },
     "metadata": {},
     "output_type": "display_data"
    },
    {
     "data": {
      "text/plain": [
       "<Figure size 640x480 with 0 Axes>"
      ]
     },
     "metadata": {},
     "output_type": "display_data"
    },
    {
     "data": {
      "text/plain": [
       "<Figure size 640x480 with 0 Axes>"
      ]
     },
     "metadata": {},
     "output_type": "display_data"
    },
    {
     "data": {
      "text/plain": [
       "<Figure size 640x480 with 0 Axes>"
      ]
     },
     "metadata": {},
     "output_type": "display_data"
    },
    {
     "data": {
      "text/plain": [
       "<Figure size 640x480 with 0 Axes>"
      ]
     },
     "metadata": {},
     "output_type": "display_data"
    },
    {
     "data": {
      "text/plain": [
       "<Figure size 640x480 with 0 Axes>"
      ]
     },
     "metadata": {},
     "output_type": "display_data"
    },
    {
     "data": {
      "text/plain": [
       "<Figure size 640x480 with 0 Axes>"
      ]
     },
     "metadata": {},
     "output_type": "display_data"
    },
    {
     "data": {
      "text/plain": [
       "<Figure size 640x480 with 0 Axes>"
      ]
     },
     "metadata": {},
     "output_type": "display_data"
    },
    {
     "data": {
      "text/plain": [
       "<Figure size 640x480 with 0 Axes>"
      ]
     },
     "metadata": {},
     "output_type": "display_data"
    },
    {
     "data": {
      "text/plain": [
       "<Figure size 640x480 with 0 Axes>"
      ]
     },
     "metadata": {},
     "output_type": "display_data"
    },
    {
     "data": {
      "text/plain": [
       "<Figure size 640x480 with 0 Axes>"
      ]
     },
     "metadata": {},
     "output_type": "display_data"
    },
    {
     "data": {
      "text/plain": [
       "<Figure size 640x480 with 0 Axes>"
      ]
     },
     "metadata": {},
     "output_type": "display_data"
    },
    {
     "data": {
      "text/plain": [
       "<Figure size 640x480 with 0 Axes>"
      ]
     },
     "metadata": {},
     "output_type": "display_data"
    },
    {
     "data": {
      "text/plain": [
       "<Figure size 640x480 with 0 Axes>"
      ]
     },
     "metadata": {},
     "output_type": "display_data"
    },
    {
     "data": {
      "text/plain": [
       "<Figure size 640x480 with 0 Axes>"
      ]
     },
     "metadata": {},
     "output_type": "display_data"
    },
    {
     "data": {
      "text/plain": [
       "<Figure size 640x480 with 0 Axes>"
      ]
     },
     "metadata": {},
     "output_type": "display_data"
    },
    {
     "data": {
      "text/plain": [
       "<Figure size 640x480 with 0 Axes>"
      ]
     },
     "metadata": {},
     "output_type": "display_data"
    },
    {
     "data": {
      "text/plain": [
       "<Figure size 640x480 with 0 Axes>"
      ]
     },
     "metadata": {},
     "output_type": "display_data"
    },
    {
     "data": {
      "text/plain": [
       "<Figure size 640x480 with 0 Axes>"
      ]
     },
     "metadata": {},
     "output_type": "display_data"
    },
    {
     "data": {
      "text/plain": [
       "<Figure size 640x480 with 0 Axes>"
      ]
     },
     "metadata": {},
     "output_type": "display_data"
    },
    {
     "data": {
      "text/plain": [
       "<Figure size 640x480 with 0 Axes>"
      ]
     },
     "metadata": {},
     "output_type": "display_data"
    },
    {
     "data": {
      "text/plain": [
       "<Figure size 640x480 with 0 Axes>"
      ]
     },
     "metadata": {},
     "output_type": "display_data"
    },
    {
     "data": {
      "text/plain": [
       "<Figure size 640x480 with 0 Axes>"
      ]
     },
     "metadata": {},
     "output_type": "display_data"
    },
    {
     "data": {
      "text/plain": [
       "<Figure size 640x480 with 0 Axes>"
      ]
     },
     "metadata": {},
     "output_type": "display_data"
    },
    {
     "data": {
      "text/plain": [
       "<Figure size 640x480 with 0 Axes>"
      ]
     },
     "metadata": {},
     "output_type": "display_data"
    },
    {
     "data": {
      "text/plain": [
       "<Figure size 640x480 with 0 Axes>"
      ]
     },
     "metadata": {},
     "output_type": "display_data"
    },
    {
     "data": {
      "text/plain": [
       "<Figure size 640x480 with 0 Axes>"
      ]
     },
     "metadata": {},
     "output_type": "display_data"
    },
    {
     "data": {
      "text/plain": [
       "<Figure size 640x480 with 0 Axes>"
      ]
     },
     "metadata": {},
     "output_type": "display_data"
    },
    {
     "data": {
      "text/plain": [
       "<Figure size 640x480 with 0 Axes>"
      ]
     },
     "metadata": {},
     "output_type": "display_data"
    },
    {
     "data": {
      "text/plain": [
       "<Figure size 640x480 with 0 Axes>"
      ]
     },
     "metadata": {},
     "output_type": "display_data"
    },
    {
     "data": {
      "text/plain": [
       "<Figure size 640x480 with 0 Axes>"
      ]
     },
     "metadata": {},
     "output_type": "display_data"
    },
    {
     "data": {
      "text/plain": [
       "<Figure size 640x480 with 0 Axes>"
      ]
     },
     "metadata": {},
     "output_type": "display_data"
    },
    {
     "data": {
      "text/plain": [
       "<Figure size 640x480 with 0 Axes>"
      ]
     },
     "metadata": {},
     "output_type": "display_data"
    },
    {
     "data": {
      "text/plain": [
       "<Figure size 640x480 with 0 Axes>"
      ]
     },
     "metadata": {},
     "output_type": "display_data"
    },
    {
     "data": {
      "text/plain": [
       "<Figure size 640x480 with 0 Axes>"
      ]
     },
     "metadata": {},
     "output_type": "display_data"
    },
    {
     "data": {
      "text/plain": [
       "<Figure size 640x480 with 0 Axes>"
      ]
     },
     "metadata": {},
     "output_type": "display_data"
    },
    {
     "data": {
      "text/plain": [
       "<Figure size 640x480 with 0 Axes>"
      ]
     },
     "metadata": {},
     "output_type": "display_data"
    },
    {
     "data": {
      "text/plain": [
       "<Figure size 640x480 with 0 Axes>"
      ]
     },
     "metadata": {},
     "output_type": "display_data"
    },
    {
     "data": {
      "text/plain": [
       "<Figure size 640x480 with 0 Axes>"
      ]
     },
     "metadata": {},
     "output_type": "display_data"
    },
    {
     "data": {
      "text/plain": [
       "<Figure size 640x480 with 0 Axes>"
      ]
     },
     "metadata": {},
     "output_type": "display_data"
    },
    {
     "data": {
      "text/plain": [
       "<Figure size 640x480 with 0 Axes>"
      ]
     },
     "metadata": {},
     "output_type": "display_data"
    },
    {
     "data": {
      "text/plain": [
       "<Figure size 640x480 with 0 Axes>"
      ]
     },
     "metadata": {},
     "output_type": "display_data"
    },
    {
     "data": {
      "text/plain": [
       "<Figure size 640x480 with 0 Axes>"
      ]
     },
     "metadata": {},
     "output_type": "display_data"
    },
    {
     "data": {
      "text/plain": [
       "<Figure size 640x480 with 0 Axes>"
      ]
     },
     "metadata": {},
     "output_type": "display_data"
    },
    {
     "data": {
      "text/plain": [
       "<Figure size 640x480 with 0 Axes>"
      ]
     },
     "metadata": {},
     "output_type": "display_data"
    },
    {
     "data": {
      "text/plain": [
       "<Figure size 640x480 with 0 Axes>"
      ]
     },
     "metadata": {},
     "output_type": "display_data"
    },
    {
     "data": {
      "text/plain": [
       "<Figure size 640x480 with 0 Axes>"
      ]
     },
     "metadata": {},
     "output_type": "display_data"
    },
    {
     "data": {
      "text/plain": [
       "<Figure size 640x480 with 0 Axes>"
      ]
     },
     "metadata": {},
     "output_type": "display_data"
    },
    {
     "data": {
      "text/plain": [
       "<Figure size 640x480 with 0 Axes>"
      ]
     },
     "metadata": {},
     "output_type": "display_data"
    },
    {
     "data": {
      "text/plain": [
       "<Figure size 640x480 with 0 Axes>"
      ]
     },
     "metadata": {},
     "output_type": "display_data"
    },
    {
     "data": {
      "text/plain": [
       "<Figure size 640x480 with 0 Axes>"
      ]
     },
     "metadata": {},
     "output_type": "display_data"
    },
    {
     "data": {
      "text/plain": [
       "<Figure size 640x480 with 0 Axes>"
      ]
     },
     "metadata": {},
     "output_type": "display_data"
    },
    {
     "data": {
      "text/plain": [
       "<Figure size 640x480 with 0 Axes>"
      ]
     },
     "metadata": {},
     "output_type": "display_data"
    },
    {
     "data": {
      "text/plain": [
       "<Figure size 640x480 with 0 Axes>"
      ]
     },
     "metadata": {},
     "output_type": "display_data"
    },
    {
     "data": {
      "text/plain": [
       "<Figure size 640x480 with 0 Axes>"
      ]
     },
     "metadata": {},
     "output_type": "display_data"
    },
    {
     "data": {
      "text/plain": [
       "<Figure size 640x480 with 0 Axes>"
      ]
     },
     "metadata": {},
     "output_type": "display_data"
    },
    {
     "data": {
      "text/plain": [
       "<Figure size 640x480 with 0 Axes>"
      ]
     },
     "metadata": {},
     "output_type": "display_data"
    },
    {
     "data": {
      "text/plain": [
       "<Figure size 640x480 with 0 Axes>"
      ]
     },
     "metadata": {},
     "output_type": "display_data"
    },
    {
     "data": {
      "text/plain": [
       "<Figure size 640x480 with 0 Axes>"
      ]
     },
     "metadata": {},
     "output_type": "display_data"
    },
    {
     "data": {
      "text/plain": [
       "<Figure size 640x480 with 0 Axes>"
      ]
     },
     "metadata": {},
     "output_type": "display_data"
    },
    {
     "data": {
      "text/plain": [
       "<Figure size 640x480 with 0 Axes>"
      ]
     },
     "metadata": {},
     "output_type": "display_data"
    },
    {
     "data": {
      "text/plain": [
       "<Figure size 640x480 with 0 Axes>"
      ]
     },
     "metadata": {},
     "output_type": "display_data"
    },
    {
     "data": {
      "text/plain": [
       "<Figure size 640x480 with 0 Axes>"
      ]
     },
     "metadata": {},
     "output_type": "display_data"
    },
    {
     "data": {
      "text/plain": [
       "<Figure size 640x480 with 0 Axes>"
      ]
     },
     "metadata": {},
     "output_type": "display_data"
    },
    {
     "data": {
      "text/plain": [
       "<Figure size 640x480 with 0 Axes>"
      ]
     },
     "metadata": {},
     "output_type": "display_data"
    },
    {
     "data": {
      "text/plain": [
       "<Figure size 640x480 with 0 Axes>"
      ]
     },
     "metadata": {},
     "output_type": "display_data"
    },
    {
     "data": {
      "text/plain": [
       "<Figure size 640x480 with 0 Axes>"
      ]
     },
     "metadata": {},
     "output_type": "display_data"
    },
    {
     "data": {
      "text/plain": [
       "<Figure size 640x480 with 0 Axes>"
      ]
     },
     "metadata": {},
     "output_type": "display_data"
    },
    {
     "data": {
      "text/plain": [
       "<Figure size 640x480 with 0 Axes>"
      ]
     },
     "metadata": {},
     "output_type": "display_data"
    },
    {
     "data": {
      "text/plain": [
       "<Figure size 640x480 with 0 Axes>"
      ]
     },
     "metadata": {},
     "output_type": "display_data"
    },
    {
     "data": {
      "text/plain": [
       "<Figure size 640x480 with 0 Axes>"
      ]
     },
     "metadata": {},
     "output_type": "display_data"
    },
    {
     "data": {
      "text/plain": [
       "<Figure size 640x480 with 0 Axes>"
      ]
     },
     "metadata": {},
     "output_type": "display_data"
    },
    {
     "data": {
      "text/plain": [
       "<Figure size 640x480 with 0 Axes>"
      ]
     },
     "metadata": {},
     "output_type": "display_data"
    },
    {
     "data": {
      "text/plain": [
       "<Figure size 640x480 with 0 Axes>"
      ]
     },
     "metadata": {},
     "output_type": "display_data"
    },
    {
     "data": {
      "text/plain": [
       "<Figure size 640x480 with 0 Axes>"
      ]
     },
     "metadata": {},
     "output_type": "display_data"
    },
    {
     "data": {
      "text/plain": [
       "<Figure size 640x480 with 0 Axes>"
      ]
     },
     "metadata": {},
     "output_type": "display_data"
    },
    {
     "data": {
      "text/plain": [
       "<Figure size 640x480 with 0 Axes>"
      ]
     },
     "metadata": {},
     "output_type": "display_data"
    },
    {
     "data": {
      "text/plain": [
       "<Figure size 640x480 with 0 Axes>"
      ]
     },
     "metadata": {},
     "output_type": "display_data"
    },
    {
     "data": {
      "text/plain": [
       "<Figure size 640x480 with 0 Axes>"
      ]
     },
     "metadata": {},
     "output_type": "display_data"
    },
    {
     "data": {
      "text/plain": [
       "<Figure size 640x480 with 0 Axes>"
      ]
     },
     "metadata": {},
     "output_type": "display_data"
    },
    {
     "data": {
      "text/plain": [
       "<Figure size 640x480 with 0 Axes>"
      ]
     },
     "metadata": {},
     "output_type": "display_data"
    },
    {
     "data": {
      "text/plain": [
       "<Figure size 640x480 with 0 Axes>"
      ]
     },
     "metadata": {},
     "output_type": "display_data"
    },
    {
     "data": {
      "text/plain": [
       "<Figure size 640x480 with 0 Axes>"
      ]
     },
     "metadata": {},
     "output_type": "display_data"
    },
    {
     "data": {
      "text/plain": [
       "<Figure size 640x480 with 0 Axes>"
      ]
     },
     "metadata": {},
     "output_type": "display_data"
    },
    {
     "data": {
      "text/plain": [
       "<Figure size 640x480 with 0 Axes>"
      ]
     },
     "metadata": {},
     "output_type": "display_data"
    },
    {
     "data": {
      "text/plain": [
       "<Figure size 640x480 with 0 Axes>"
      ]
     },
     "metadata": {},
     "output_type": "display_data"
    },
    {
     "data": {
      "text/plain": [
       "<Figure size 640x480 with 0 Axes>"
      ]
     },
     "metadata": {},
     "output_type": "display_data"
    },
    {
     "data": {
      "text/plain": [
       "<Figure size 640x480 with 0 Axes>"
      ]
     },
     "metadata": {},
     "output_type": "display_data"
    },
    {
     "data": {
      "text/plain": [
       "<Figure size 640x480 with 0 Axes>"
      ]
     },
     "metadata": {},
     "output_type": "display_data"
    },
    {
     "data": {
      "text/plain": [
       "<Figure size 640x480 with 0 Axes>"
      ]
     },
     "metadata": {},
     "output_type": "display_data"
    },
    {
     "data": {
      "text/plain": [
       "<Figure size 640x480 with 0 Axes>"
      ]
     },
     "metadata": {},
     "output_type": "display_data"
    },
    {
     "data": {
      "text/plain": [
       "<Figure size 640x480 with 0 Axes>"
      ]
     },
     "metadata": {},
     "output_type": "display_data"
    },
    {
     "data": {
      "text/plain": [
       "<Figure size 640x480 with 0 Axes>"
      ]
     },
     "metadata": {},
     "output_type": "display_data"
    },
    {
     "data": {
      "text/plain": [
       "<Figure size 640x480 with 0 Axes>"
      ]
     },
     "metadata": {},
     "output_type": "display_data"
    },
    {
     "data": {
      "text/plain": [
       "<Figure size 640x480 with 0 Axes>"
      ]
     },
     "metadata": {},
     "output_type": "display_data"
    },
    {
     "data": {
      "text/plain": [
       "<Figure size 640x480 with 0 Axes>"
      ]
     },
     "metadata": {},
     "output_type": "display_data"
    },
    {
     "data": {
      "text/plain": [
       "<Figure size 640x480 with 0 Axes>"
      ]
     },
     "metadata": {},
     "output_type": "display_data"
    },
    {
     "data": {
      "text/plain": [
       "<Figure size 640x480 with 0 Axes>"
      ]
     },
     "metadata": {},
     "output_type": "display_data"
    },
    {
     "data": {
      "text/plain": [
       "<Figure size 640x480 with 0 Axes>"
      ]
     },
     "metadata": {},
     "output_type": "display_data"
    },
    {
     "data": {
      "text/plain": [
       "<Figure size 640x480 with 0 Axes>"
      ]
     },
     "metadata": {},
     "output_type": "display_data"
    },
    {
     "data": {
      "text/plain": [
       "<Figure size 640x480 with 0 Axes>"
      ]
     },
     "metadata": {},
     "output_type": "display_data"
    },
    {
     "data": {
      "text/plain": [
       "<Figure size 640x480 with 0 Axes>"
      ]
     },
     "metadata": {},
     "output_type": "display_data"
    },
    {
     "data": {
      "text/plain": [
       "<Figure size 640x480 with 0 Axes>"
      ]
     },
     "metadata": {},
     "output_type": "display_data"
    },
    {
     "data": {
      "text/plain": [
       "<Figure size 640x480 with 0 Axes>"
      ]
     },
     "metadata": {},
     "output_type": "display_data"
    },
    {
     "data": {
      "text/plain": [
       "<Figure size 640x480 with 0 Axes>"
      ]
     },
     "metadata": {},
     "output_type": "display_data"
    },
    {
     "data": {
      "text/plain": [
       "<Figure size 640x480 with 0 Axes>"
      ]
     },
     "metadata": {},
     "output_type": "display_data"
    },
    {
     "data": {
      "text/plain": [
       "<Figure size 640x480 with 0 Axes>"
      ]
     },
     "metadata": {},
     "output_type": "display_data"
    },
    {
     "data": {
      "text/plain": [
       "<Figure size 640x480 with 0 Axes>"
      ]
     },
     "metadata": {},
     "output_type": "display_data"
    },
    {
     "data": {
      "text/plain": [
       "<Figure size 640x480 with 0 Axes>"
      ]
     },
     "metadata": {},
     "output_type": "display_data"
    },
    {
     "data": {
      "text/plain": [
       "<Figure size 640x480 with 0 Axes>"
      ]
     },
     "metadata": {},
     "output_type": "display_data"
    }
   ],
   "source": [
    "import numpy as np\n",
    "import math\n",
    "import matplotlib.pyplot as plt\n",
    "# parameters\n",
    "boxsize = 10\n",
    "N = 20\n",
    "dt = 0.1        # timestep\n",
    "k_particle = 5  # P-P stiffness\n",
    "diameter = 2.0  # P diameter \\sigma\n",
    "k_body = 0.1    # stiffness of spring holding Ps in center of sys\n",
    "\n",
    "\n",
    "# generate Nx2 array-matrix - positions of particles within box\n",
    "pos = (np.random.rand(N, 2) - 0.5) * boxsize\n",
    "vel = np.zeros((N,2))\n",
    "\n",
    "# calculate force between 2 particles\n",
    "def force(i, j):\n",
    "    rij = pos[i] - pos[j]\n",
    "    distance = np.linalg.norm(rij)\n",
    "    if distance > diameter or i == j:\n",
    "        return np.array([0,0])\n",
    "    rij_norm = rij / distance\n",
    "    return k_particle * (diameter - distance) * rij_norm\n",
    "\n",
    "def body_force(i):\n",
    "    return - k_body * pos[i]\n",
    "\n",
    "def timestep(step):\n",
    "    for i in range(N):\n",
    "        pos[i] += 0.5 * dt * vel[i]\n",
    "\n",
    "    forces = np.zeros((N,2))\n",
    "    for i in range(N):\n",
    "        forces[i] += body_force(i)\n",
    "        for j in range(N):\n",
    "            forces[i] += force(i,j)\n",
    "\n",
    "    for i in range(N):\n",
    "        vel[i] += dt * forces[i]\n",
    "\n",
    "    for i in range(N):\n",
    "        pos[i] += 0.5 * dt * vel[i]\n",
    "    \n",
    "    scatter.set_offsets(pos)\n",
    "    plt.draw()\n",
    "    plt.pause(0.01)\n",
    "\n",
    "\n",
    "print(\"Running calculations, please wait!\")\n",
    "plt.clf()\n",
    "plt.xlim(-boxsize, +boxsize)\n",
    "plt.ylim(-boxsize, +boxsize)\n",
    "scatter = plt.scatter(pos[:,0], pos[:,1], s=250)\n",
    "for i in range(500):\n",
    "    timestep(i)"
   ]
  },
  {
   "cell_type": "code",
   "execution_count": null,
   "id": "d7bc0780-9e38-473a-86a6-665b4d59c138",
   "metadata": {},
   "outputs": [],
   "source": []
  }
 ],
 "metadata": {
  "kernelspec": {
   "display_name": "Python 3 (ipykernel)",
   "language": "python",
   "name": "python3"
  },
  "language_info": {
   "codemirror_mode": {
    "name": "ipython",
    "version": 3
   },
   "file_extension": ".py",
   "mimetype": "text/x-python",
   "name": "python",
   "nbconvert_exporter": "python",
   "pygments_lexer": "ipython3",
   "version": "3.12.3"
  }
 },
 "nbformat": 4,
 "nbformat_minor": 5
}
