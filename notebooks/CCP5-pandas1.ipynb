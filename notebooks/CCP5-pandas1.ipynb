{
 "cells": [
  {
   "cell_type": "markdown",
   "metadata": {
    "id": "oMGEOEFZce7Y"
   },
   "source": [
    "# Pandas 1 - Introduction - Importing Data from Local Drive\n",
    "\n",
    "Pandas is a Python package that is used for data processing and analysis.  The key object in Pandas is the **data frame**, which holds information in a form that can be easily filtered, sorted, transformed, plotted, analyzed, etc. from Python.  This notebook will cover some of the basic commands in Pandas.\n",
    "\n",
    "One of the nice features of Pandas is that it can import files of different formats and turn them into a data frame.  These file types include Microsoft Excel, CSV (comma separated values), and JSON (JavaScript Object Notation), and several others.\n",
    "\n",
    "In this worksheet, we will use a CSV file containing data that can be used to plot the functions $\\sin x $, $\\cos x$, and $\\exp(x)$.  Download the file \"functions.csv\" by clicking [here](https://mjksill.github.io/CCP5SummerSchool/data/functions.csv).  This should put a copy of the file in the directory where files are generally downloaded (e.g., in the directory ~/Downloads/).\n",
    "\n",
    "In the remainder of this notebook, we look at a couple different ways to import data files into Google Colab to create a Pandas data frame.  Then, we introduce some of the basic commands that can be used to explore and modify the data frame.  Finally, we give a couple different ways to save data frames.\n"
   ]
  },
  {
   "cell_type": "markdown",
   "metadata": {
    "id": "Oy9zXksgei-b"
   },
   "source": [
    "## Importing files into Google Colab\n",
    "\n",
    "### Reading a local file\n",
    "\n",
    "The first way that you can try to import a data file stored on your computer into Google Colab is to read it directly from your local drive.  To do this, first run the following commands in the code block below:"
   ]
  },
  {
   "cell_type": "code",
   "execution_count": null,
   "metadata": {
    "id": "QqMQ587AEiMe"
   },
   "outputs": [],
   "source": [
    "from google.colab import files\n",
    "\n",
    "\n",
    "uploaded = files.upload()"
   ]
  },
  {
   "cell_type": "markdown",
   "metadata": {
    "id": "9ObwOXDhfJOx"
   },
   "source": [
    "Now, while this is running, left-click the `Browse` button, which will bring up a file selection menu.  Navigate to where the file you want (which in this case is called \"functions.csv\") is located, and then left-click it.  Once you have done that, you will then see in the file appear in the menu in the far left column of the notebook."
   ]
  },
  {
   "cell_type": "markdown",
   "metadata": {
    "id": "zNqQQjRjfGwh"
   },
   "source": [
    "As we have previous done with packages such as `numpy`, we must first import pandas."
   ]
  },
  {
   "cell_type": "code",
   "execution_count": null,
   "metadata": {
    "id": "o573ZLCBE1Qk"
   },
   "outputs": [],
   "source": [
    "import pandas as pd\n",
    "import io\n",
    "\n",
    "df = pd.read_csv(io.BytesIO(uploaded['functions.csv']), skipinitialspace=True)   #This command assigns the data from our imported csv file to a dataframe within our code\n",
    "print(df)"
   ]
  },
  {
   "cell_type": "markdown",
   "metadata": {
    "id": "FH67uGmEjSR5"
   },
   "source": [
    "### Reading a file from Google Drive\n",
    "\n",
    "Another manner to import a data file is to first upload it to Google\n",
    "Drive and then access it from there.  This has the added benefit that\n",
    "you can work with the data from any computer, as long as you have access to your Google account.\n",
    "\n",
    "First upload the file \"functions.csv\", which you should have already downloaded from Myplace, to your Google Drive.  You can put the file in any subfolder you wish.  \n",
    "\n",
    "Now, mount the contents of your Google Drive to Colab by running the following code block:\n"
   ]
  },
  {
   "cell_type": "code",
   "execution_count": null,
   "metadata": {
    "id": "LN6iiqrfZAmX"
   },
   "outputs": [],
   "source": [
    "from google.colab import drive\n",
    "\n",
    "drive.mount('/content/drive')"
   ]
  },
  {
   "cell_type": "markdown",
   "metadata": {
    "id": "y7ajeGOIsBsd"
   },
   "source": [
    "Once you have done that, you can now access any file on your Google\n",
    "Drive from your Jupyter notebook.  \n",
    "\n",
    "Click on the folder icon in the far left column of the notebook.  This should reveal a set of folders.  Navigate to the file you want on Google Drive by clicking on the folder named \"drive\" then \"MyDrive\" and then to the folder where you had uploaded the file \"functions.csv\".\n"
   ]
  },
  {
   "cell_type": "code",
   "execution_count": null,
   "metadata": {
    "id": "SENg_qAja1WJ"
   },
   "outputs": [],
   "source": [
    "import pandas as pd\n",
    "\n",
    "filename = '/content/drive/MyDrive/data/functions.csv'\n",
    "df = pd.read_csv(filename)\n"
   ]
  },
  {
   "cell_type": "markdown",
   "metadata": {
    "id": "bF286mmZvomb"
   },
   "source": [
    "## Basic commands\n",
    "\n",
    "If the previous code blocks have run successfully, we should now have loaded all the data in the file \"functions.csv\" into a Pandas data frame that is named `df`.  To get an overall look at the data frame, we can use the function `describe()`, which gives a table summarizing some of its key properties:"
   ]
  },
  {
   "cell_type": "code",
   "execution_count": null,
   "metadata": {
    "id": "KUhFfOTz_iIi"
   },
   "outputs": [],
   "source": [
    "df.describe()"
   ]
  },
  {
   "cell_type": "markdown",
   "metadata": {
    "id": "wCDATBO0_q-U"
   },
   "source": [
    "The first row of the table gives the names of each of the columns of the data frame.  The second row gives the number of elements in each of the columns.  The third row provides the mean value of all the elements in a column, while the fourth row gives the standard deviation.  Other rows give the minimum and maximum values, in each column, as well as the averages within the 25th, 50th, and 75th percentiles.\n",
    "\n",
    "\n",
    "Other commands/properties include:"
   ]
  },
  {
   "cell_type": "code",
   "execution_count": null,
   "metadata": {
    "id": "NA-LUFR0e1xn"
   },
   "outputs": [],
   "source": [
    "df.head()  # to see the first 5 rows; to see the first n rows, just put the integer n as an argument to the member function head()"
   ]
  },
  {
   "cell_type": "code",
   "execution_count": null,
   "metadata": {
    "id": "PixTynH1fEMk"
   },
   "outputs": [],
   "source": [
    "df.tail() # to see the final 5 rows; to see the final n rows, just put the integer n as an argument to the member function tail()"
   ]
  },
  {
   "cell_type": "code",
   "execution_count": null,
   "metadata": {
    "id": "wHTMM5PCEFrc"
   },
   "outputs": [],
   "source": [
    "df.columns  # returns a list of the name of each column in the data frame"
   ]
  },
  {
   "cell_type": "code",
   "execution_count": null,
   "metadata": {
    "id": "SD1sgWRmELiL"
   },
   "outputs": [],
   "source": [
    "df.shape   # \"shape\" of the data frames, which returns a tuple of the number of rows and columns\n",
    "           # to get the number of rows df.shape[0]\n",
    "           # to get the number of columns df.shape[1]"
   ]
  },
  {
   "cell_type": "code",
   "execution_count": null,
   "metadata": {
    "id": "RRtd25CGEMsO"
   },
   "outputs": [],
   "source": [
    "df['x'].mean()  # mean value of the column \"x\""
   ]
  },
  {
   "cell_type": "code",
   "execution_count": null,
   "metadata": {
    "id": "ao2xT9d8EjkO"
   },
   "outputs": [],
   "source": [
    "df['x'].std()  # standard deviation of the column \"x\""
   ]
  },
  {
   "cell_type": "markdown",
   "metadata": {
    "id": "3EfY3Kq3jfaP"
   },
   "source": [
    "Each column can be accessed from the data frame like a dictionary.  We can plot the data within a data frame using the [`Matplotlib`](https://matplotlib.org/) library, as seen in previous worksheets:"
   ]
  },
  {
   "cell_type": "code",
   "execution_count": null,
   "metadata": {
    "id": "2Xemn-R7Fljl"
   },
   "outputs": [],
   "source": [
    "import matplotlib.pyplot as plt\n",
    "\n",
    "plt.plot(df['x'], df['sin x'], label=r'$\\sin x$')\n",
    "plt.plot(df['x'], df['cos x'], label=r'$\\cos x$')\n",
    "plt.plot(df['x'], df['exp(-x)'], label='$e^{-x}$')\n",
    "plt.xlabel(r'$x$')\n",
    "plt.ylabel(r'function')\n",
    "plt.legend()\n",
    "plt.show()"
   ]
  },
  {
   "cell_type": "markdown",
   "metadata": {
    "id": "RaxaRk5_JGu7"
   },
   "source": [
    "We can also directly plot any columns of the data frame against any other column, using the member function `plot`:"
   ]
  },
  {
   "cell_type": "code",
   "execution_count": null,
   "metadata": {
    "id": "L3u3Awb1E7pS"
   },
   "outputs": [],
   "source": [
    "df.plot(x='x', y=['sin x', 'cos x', 'exp(-x)'])\n",
    "\n"
   ]
  },
  {
   "cell_type": "markdown",
   "metadata": {
    "id": "uoBUrCr0RwT7"
   },
   "source": [
    "We can also plot a histogram of the data in a particular column:"
   ]
  },
  {
   "cell_type": "code",
   "execution_count": null,
   "metadata": {
    "id": "_QMZ-0eBR2GM"
   },
   "outputs": [],
   "source": [
    "df.hist(column='sin x')"
   ]
  },
  {
   "cell_type": "markdown",
   "metadata": {
    "id": "icuSO_9CRcja"
   },
   "source": [
    "## Modifying data frames\n",
    "\n"
   ]
  },
  {
   "cell_type": "markdown",
   "metadata": {
    "id": "MED1AZDFgyB2"
   },
   "source": [
    "Pandas allows us to not only analyze data frames but also to modify them.  \n",
    "\n",
    "We see that the imported data has five columns: the first gives an index, the next gives the values of $x$, while the remaining columns give the values of the various functions at the given value of $x$.\n",
    "\n",
    "The first column is not very useful, so we can simply eliminate it by using the `drop` member function:"
   ]
  },
  {
   "cell_type": "code",
   "execution_count": null,
   "metadata": {
    "id": "GcFKQnc1hm6c"
   },
   "outputs": [],
   "source": [
    "df_new = df.drop(columns=['Unnamed: 0'])\n",
    "\n",
    "print(df_new)"
   ]
  },
  {
   "cell_type": "markdown",
   "metadata": {
    "id": "H2fNMuHif_s7"
   },
   "source": [
    "This does not actually change the data frame `df`, but it returns a data frame, which we put in the variable `df_new`, that does not have the index column.\n",
    "\n",
    "Similarly, we can also eliminate a range of rows by using the `drop` member function:"
   ]
  },
  {
   "cell_type": "code",
   "execution_count": null,
   "metadata": {
    "id": "fyb19N0elOt6"
   },
   "outputs": [],
   "source": [
    "df_new = df.drop(df.index[10:30])  # eliminate rows 10 to 29, where the count starts at 0\n",
    "print(df_new)\n",
    "\n"
   ]
  },
  {
   "cell_type": "markdown",
   "metadata": {
    "id": "pigQ3PoWe3ob"
   },
   "source": [
    "We can add a new column, just by creating a new list and assigning it to the data frame.  For example, let's add a new column called \"quadratic\" given by the square of the value in the column \"x\"."
   ]
  },
  {
   "cell_type": "code",
   "execution_count": null,
   "metadata": {
    "id": "nOmU8optfRdb"
   },
   "outputs": [],
   "source": [
    "df['quadratic'] = [x*x for x in df['x']]\n",
    "print(df)"
   ]
  },
  {
   "cell_type": "markdown",
   "metadata": {
    "id": "4TCCMQCed6LD"
   },
   "source": [
    "We can also filter data frames to focus on the particular data that we are interested in.  Some examples include:"
   ]
  },
  {
   "cell_type": "code",
   "execution_count": null,
   "metadata": {
    "id": "lfQLMHt5f0Ea"
   },
   "outputs": [],
   "source": [
    "df_filter = df[df['x'] < 0.5]\n",
    "print('case 1')\n",
    "print(df_filter)\n",
    "\n",
    "df_filter = df[(df['x'] < 1.0) & (df['x'] > 0.5)]\n",
    "print()\n",
    "print('case 2')\n",
    "print(df_filter)\n",
    "\n",
    "df_filter = df[(df['x'] < 1.0) | (df['x'] > 2.0)]\n",
    "print()\n",
    "print('case 3')\n",
    "print(df_filter)"
   ]
  },
  {
   "cell_type": "markdown",
   "metadata": {
    "id": "0qrk_uWC2-nF"
   },
   "source": [
    "## Exporting data frames\n",
    "\n",
    "\n",
    "In a similar manner that we imported data from Google Drive, we can also export a data frame to a csv file on Google Drive:"
   ]
  },
  {
   "cell_type": "code",
   "execution_count": null,
   "metadata": {
    "id": "Mlc2exWuCpfs"
   },
   "outputs": [],
   "source": [
    "from google.colab import files\n",
    "\n",
    "df.to_csv('junk.csv')\n",
    "files.download('junk.csv')"
   ]
  },
  {
   "cell_type": "markdown",
   "metadata": {
    "id": "jHnzPNQpC9m6"
   },
   "source": []
  },
  {
   "cell_type": "code",
   "execution_count": null,
   "metadata": {
    "id": "FbBe8ihf3MeC"
   },
   "outputs": [],
   "source": [
    "from google.colab import drive\n",
    "\n",
    "drive.mount('/content/drive')"
   ]
  },
  {
   "cell_type": "markdown",
   "metadata": {
    "id": "nxC9nXRi3Tok"
   },
   "source": [
    "If Google Drive has already been mounted, then there is no need to re-run this command.  To export the data frame to a CSV file named \"junk.csv\" in the directory \"./data\"."
   ]
  },
  {
   "cell_type": "code",
   "execution_count": null,
   "metadata": {
    "id": "FOhJ4AhU3xrM"
   },
   "outputs": [],
   "source": [
    "import pandas as pd\n",
    "\n",
    "filename = '/content/drive/MyDrive/data/junk.csv'\n",
    "df.to_csv(filename)"
   ]
  },
  {
   "cell_type": "markdown",
   "metadata": {
    "id": "TQnhw_3gnlkv"
   },
   "source": [
    "## Conclusion\n",
    "\n",
    "In this notebook, we introduced Pandas.  We showed how to import data into a Pandas dataframes, and looked some basic commands.  For more information on Pandas, there are several useful introductory tutorials on the \"intro to pandas section of the [Getting started](https://pandas.pydata.org/docs/getting_started/index.html) page.  For more in-depth material, you can refer to the [Users Guide](https://pandas.pydata.org/docs/user_guide/index.html).  In"
   ]
  }
 ],
 "metadata": {
  "colab": {
   "provenance": [
    {
     "file_id": "https://github.com/mjksill/CP540-online/blob/main/notebooks/python_pandas1.ipynb",
     "timestamp": 1694000823128
    }
   ]
  },
  "kernelspec": {
   "display_name": "Python 3 (ipykernel)",
   "language": "python",
   "name": "python3"
  },
  "language_info": {
   "codemirror_mode": {
    "name": "ipython",
    "version": 3
   },
   "file_extension": ".py",
   "mimetype": "text/x-python",
   "name": "python",
   "nbconvert_exporter": "python",
   "pygments_lexer": "ipython3",
   "version": "3.12.3"
  }
 },
 "nbformat": 4,
 "nbformat_minor": 4
}
