{
 "cells": [
  {
   "cell_type": "markdown",
   "metadata": {
    "id": "llf9LqpZCNdy"
   },
   "source": [
    "# Python Functions\n",
    "\n",
    "In the previous notebook, we looked at [conditional](https://colab.research.google.com/github/mjksill/CCP5SummerSchool/blob/master/notebooks/CCP5-functions.ipynb) statements and making decisions in python.\n",
    "\n",
    "In mathematics, we learned that a function is a map between one set of\n",
    "elements, known as the domain, to another set of elements, known as\n",
    "the range.  Some examples of functions we are familiar with are\n",
    "polynomials and trigometric functions (e.g., sin and cos).  In the\n",
    "case of the cos function, the domain is the set of real numbers and\n",
    "the range is the set of real numbers in the interval between $-1$ and\n",
    "$+1$.\n",
    "\n",
    "Python also has the notion of a function.  We can construct a function\n",
    "using the `def` command.  As an example, let's create a function that\n",
    "takes a number as input and returns the square of the number:"
   ]
  },
  {
   "cell_type": "code",
   "execution_count": null,
   "metadata": {
    "id": "TjrzK_NcCNd0"
   },
   "outputs": [],
   "source": [
    "def func(x):\n",
    "    y = x**2\n",
    "    return y\n",
    "\n",
    "print(func(4.0))\n",
    "\n",
    "\n",
    "z = 7\n",
    "square = func(z)\n",
    "print(square)\n",
    "\n",
    "\n",
    "y = 2\n",
    "print(func(y))"
   ]
  },
  {
   "cell_type": "markdown",
   "metadata": {
    "id": "MR1Z2KUGCNd1"
   },
   "source": [
    "The `def` command defines a function called `func`, which takes a single argument, and then returns the square of that argument, given by the `return` statement.  All the statements that are part of the function must be consistently indented in from the `def` statement.  In order to invoke the function, we just write its name, followed by a set of parentheses that enclose its argument(s).\n"
   ]
  },
  {
   "cell_type": "markdown",
   "metadata": {
    "id": "uP9G3eIiCNd1"
   },
   "source": [
    "## Variable scope\n",
    "\n",
    "The \"scope\" of a variable is the domain in which it applies.  Variables that are \"defined\" within a function are not directly accessible from outside the function.  Even though the variables may have the same name, they are actually distinct.  This can be seen in the final two statements of the above code block.  In the \"main code\", the value of the variable `y` is 2; however, the value of the variable `y` in the function is $2^2=4$, which is the value returned by the function and printed out.  \n",
    "\n",
    "To illustrate this a bit more clearly, see the code below:"
   ]
  },
  {
   "cell_type": "code",
   "execution_count": null,
   "metadata": {
    "id": "UFY8x_d7CNd2"
   },
   "outputs": [],
   "source": [
    "x = 1.0\n",
    "print(f'The value of x is {x} in the main code')\n",
    "\n",
    "def print_me():\n",
    "\n",
    "    x = 17.0\n",
    "    print(f'The value of x is {x} inside the function')\n",
    "    \n",
    "\n",
    "x = 2.0\n",
    "print(f'The value of x is {x} in the main code')    \n",
    "    \n",
    "    \n",
    "print_me()    \n",
    "    \n",
    "x = 5.0\n",
    "print(f'The value of x is {x} in the main code')"
   ]
  },
  {
   "cell_type": "markdown",
   "metadata": {
    "id": "7WqeRC9sCNd2"
   },
   "source": [
    "So we see that the variable `x` outside the function is distinct from the variable `x` inside the function.\n",
    "\n",
    "A final point which might be slightly confusing is that if a variable is not defined (i.e. assigned) inside a function, then it is the same as outside the code block."
   ]
  },
  {
   "cell_type": "code",
   "execution_count": null,
   "metadata": {
    "id": "bHUecvtWCNd2"
   },
   "outputs": [],
   "source": [
    "x = 1.0\n",
    "y = 'hello'\n",
    "print(f'The value of x is {x} in the main code')\n",
    "print(f'The value of y is {y} in the main code')\n",
    "\n",
    "def print_me():\n",
    "\n",
    "    x = 17.0\n",
    "    print(f'The value of x is {x} inside the function')\n",
    "    print(f'The value of y is {y} inside the function')\n",
    "    \n",
    "\n",
    "x = 2.0\n",
    "y = 'good-bye'\n",
    "print(f'The value of x is {x} in the main code')\n",
    "print(f'The value of y is {y} in the main code')\n",
    "    \n",
    "    \n",
    "print_me()    \n",
    "    \n",
    "x = 5.0\n",
    "y = 'hello again'\n",
    "print(f'The value of x is {x} in the main code')\n",
    "print(f'The value of y is {y} in the main code')"
   ]
  },
  {
   "cell_type": "markdown",
   "metadata": {
    "id": "8uRleTK3CNd3"
   },
   "source": [
    "## More specifics on functions\n",
    "\n",
    "In Python, we create a function as follows:"
   ]
  },
  {
   "cell_type": "code",
   "execution_count": null,
   "metadata": {
    "id": "lqIeCRxdCNd3"
   },
   "outputs": [],
   "source": [
    "def foo(arg1, arg2, kwarg1=3, kwarg2=4):\n",
    "    # stuff we want the function to do, e.g.\n",
    "    print(arg1, arg2, kwarg1, kwarg2)"
   ]
  },
  {
   "cell_type": "markdown",
   "metadata": {
    "id": "wR73pUKGCNd4"
   },
   "source": [
    "Let's dissect this a little. The `def` (for define) keyword tells Python what follows is a function. Then we have the function's name (`foo` in this case) followed by the arguments in parentheses. \n",
    "\n",
    "The body of the function is ***indented*** in by a tab or four spaces. (Or 2, Python doesn't care as long as its a consistent number.) Indentation is the way python splits up code into separate pieces. For a function here, the indentation says \"run this indented block with the function name is placed in other places\".\n",
    "\n",
    "A `# comment` is a bit of text that python ignores. A comment is started by writing a hash symbol '#', then anything after that will be ignore by Python. This let's us add in descriptive messages about what our code means.\n",
    "\n",
    "There are two types of function arguments:\n",
    " - Positional arguments\n",
    " - Keyword arguments\n",
    " \n",
    "The former are given in order when calling the function, the latter are given a default value *and don't need to be given when calling*. Positional arguments position is very important, while keyword arguments can be specified by name in any order.\n",
    "\n",
    "**Side note**: Positional arguments and keyword arguments reflect the two core data structures in Python: lists and dictionaries. Positional arguments are just an *unpacked* list, and keyword arguments are just an *unpacked* dictionary. Remember: an unpacked list is just a list without the brackets, same goes for a dictionary."
   ]
  },
  {
   "cell_type": "code",
   "execution_count": null,
   "metadata": {
    "id": "kGoucjoSCNd4"
   },
   "outputs": [],
   "source": [
    "foo(1, 2)\n",
    "foo(5, 6, 7, 8)\n",
    "foo('a', 'b', kwarg1='b', kwarg2='d')\n",
    "foo('A', 'B', kwarg2='D', kwarg1='C')"
   ]
  },
  {
   "cell_type": "markdown",
   "metadata": {
    "id": "deOgXhivCNd5"
   },
   "source": [
    "A function can return values. This lets you write a function to perform a long calculation in a single call:"
   ]
  },
  {
   "cell_type": "code",
   "execution_count": null,
   "metadata": {
    "id": "1fRe2HucCNd5"
   },
   "outputs": [],
   "source": [
    "def long_calc(a, b, c):\n",
    "    return a + b - c\n",
    "\n",
    "print(long_calc(21, 9, 10))"
   ]
  },
  {
   "cell_type": "markdown",
   "metadata": {
    "id": "7aZbnhDkCNd5"
   },
   "source": [
    "Finally, we note that we can return multiple values from a function by just separating them by commas:"
   ]
  },
  {
   "cell_type": "code",
   "execution_count": null,
   "metadata": {
    "id": "NpRlKVzKCNd6"
   },
   "outputs": [],
   "source": [
    "def long_calc2(a, b, c):\n",
    "    return a + b - c, a + b + c\n",
    "\n",
    "out1, out2 = long_calc2(21, 9, 10)\n",
    "print(out1, out2)"
   ]
  },
  {
   "cell_type": "markdown",
   "metadata": {
    "id": "C9j7Pn2oCNd6"
   },
   "source": [
    "We can apply this new knowledge to the familiar example 2.6 from CP101."
   ]
  },
  {
   "cell_type": "markdown",
   "metadata": {
    "id": "ZdUw1YtICNd6"
   },
   "source": [
    "### Example\n",
    "\n",
    "The following is the composition of a gas expressed as a weight percent.  Express the molar composition.\n",
    "\n",
    "\n",
    "| gas | weight % | molecular mass           |\n",
    "|:--- | --- | --- |\n",
    "|             |          | ${\\rm g\\, mol^{-1}}$ |\n",
    "| O$_2$       |     $16.0$ |       $32.0$ |\n",
    "| CO          |     $ 4.0$ |       $28.0$ |\n",
    "| CO$_2$      |     $17.0$ |       $44.0$ |\n",
    "| N$_2$       |     $63.0$ |       $28.0$ |\n"
   ]
  },
  {
   "cell_type": "markdown",
   "metadata": {
    "id": "tUwr0XNPCNd6"
   },
   "source": [
    "First, ignore the data given in the question. We don't want to have to solve a problem twice, so let's write a general function to solve problems of this type.\n",
    "\n",
    "Think about what you do to solve this question, without worrying too much about the actual numbers given in the question.\n",
    "\n",
    "First, we have weight fractions, and we need mol fractions. We're given molecular weights, so that's okay."
   ]
  },
  {
   "cell_type": "code",
   "execution_count": null,
   "metadata": {
    "id": "_u-51j2pCNd6"
   },
   "outputs": [],
   "source": [
    "molecular_weights = [] # something, don't care just yet\n",
    "weight_fractions = [] # something, don't care just yet\n",
    "\n",
    "moles = []\n",
    "for molecular_weight, weight_fraction in zip(molecular_weights, weight_fractions):\n",
    "    moles.append(weight_fraction/molecular_weight)\n",
    "\n",
    "total_moles = sum(moles)"
   ]
  },
  {
   "cell_type": "markdown",
   "metadata": {
    "id": "xEUHj0MLCNd6"
   },
   "source": [
    "Then we calculate the mole percentages from the individual mole values and the total moles.\n",
    "\n",
    "**Note**: `zip` is a handy function that creates a new list (sort of) from other lists where each element of the new list, is a row of elements from the input lists. so `zip(['a', 'b', 'c'], [1, 2, 3])` gives `[('a', 1), ('b', 2), ('c', 3)]`. `zip` is handy for iterating through multiple lists at once."
   ]
  },
  {
   "cell_type": "code",
   "execution_count": null,
   "metadata": {
    "id": "7o00R4QvCNd7"
   },
   "outputs": [],
   "source": [
    "mole_percs = []\n",
    "for mole in moles:\n",
    "    mole_percs.append(mole*100/total_moles)"
   ]
  },
  {
   "cell_type": "markdown",
   "metadata": {
    "id": "0515n5CmCNd7"
   },
   "source": [
    "And that's our answer! The list of mole percentages is what we want. We can now make a function out of all this:"
   ]
  },
  {
   "cell_type": "code",
   "execution_count": null,
   "metadata": {
    "id": "pTxaDO8HCNd7"
   },
   "outputs": [],
   "source": [
    "def wf_to_mf(weight_fractions, molecular_weights):\n",
    "    # function to convert a list of weight fractions\n",
    "    # into mole fractions, given the molecular weights\n",
    "    moles = []\n",
    "    for molecular_weight, weight_fraction in zip(molecular_weights, weight_fractions):\n",
    "        moles.append(weight_fraction/molecular_weight)\n",
    "\n",
    "    total_moles = sum(moles)\n",
    "    \n",
    "    mole_percs = []\n",
    "    for mole in moles:\n",
    "        mole_percs.append(mole*100/total_moles)\n",
    "    \n",
    "    return mole_percs"
   ]
  },
  {
   "cell_type": "markdown",
   "metadata": {
    "id": "3RXLwoGrCNd7"
   },
   "source": [
    "Now we have a function that takes in weight fraction and molecular weight data to return mole fractions.\n",
    "\n",
    "Next step is to organise the question data a little. We're using a dictionary again, but we're organising by molecule in a single `dict` instead of two separate dictionaries."
   ]
  },
  {
   "cell_type": "code",
   "execution_count": null,
   "metadata": {
    "id": "_sJ3QPM3CNd7"
   },
   "outputs": [],
   "source": [
    "data = {}\n",
    "\n",
    "data['O2'] = {'wt':16.0, 'Mw':32.0}\n",
    "data['CO'] = {'wt':4.0, 'Mw':28.0}\n",
    "data['CO2'] = {'wt':14.0, 'Mw':44.0}\n",
    "data['N2'] = {'wt':63.0, 'Mw':28.0}\n",
    "\n",
    "print(data)"
   ]
  },
  {
   "cell_type": "markdown",
   "metadata": {
    "id": "wNZ_EXqgCNd7"
   },
   "source": [
    "### Aside: list comprehension\n",
    "\n",
    "A really nice bit of syntax in Python is the list comprehension. Its a one-line solution to creating a new list, from another list.\n",
    "\n",
    "Here, we have a dictionary of dictionaries, we want to extract the dictionary to a list of weight fractions and another list of molecular weights. We can do this using a list-comprehension as follows:"
   ]
  },
  {
   "cell_type": "code",
   "execution_count": null,
   "metadata": {
    "id": "F92sMHlUCNd7"
   },
   "outputs": [],
   "source": [
    "molecular_weights = [m_data['Mw'] for m_data in data.values()]\n",
    "weight_fractions = [m_data['wt'] for m_data in data.values()]\n",
    "\n",
    "print(molecular_weights, weight_fractions)"
   ]
  },
  {
   "cell_type": "markdown",
   "metadata": {
    "id": "YasnqvPQCNd8"
   },
   "source": [
    "This may look a little complicated but lets break it down. For the line:\n",
    "\n",
    "`molecular_weights = [m_data['Mw'] for m_data in data.values()]`\n",
    " \n",
    "We iterate over each item in the dictionary `data`, and place its value (in this case, a dictionary) inside the temporary variable `m_data`. For the first iteration:\n",
    " \n",
    "`m_data == {'wt':16.0, 'Mw':32.0}`\n",
    "\n",
    " And so to extract the molecular weight, we simply specify a key: `m_data['Mw']`. This molecular weight is then appended to the list `molecular_weights`, and the process is repeated for each item in `data`.\n",
    "\n",
    "Now that we have extracted our lists, we can call our function to solve this:"
   ]
  },
  {
   "cell_type": "code",
   "execution_count": null,
   "metadata": {
    "id": "BWCgTMmoCNd8"
   },
   "outputs": [],
   "source": [
    "mol_percs = wf_to_mf(weight_fractions, molecular_weights)\n",
    "print(mol_percs)"
   ]
  },
  {
   "cell_type": "markdown",
   "metadata": {
    "id": "XVZBj8MDCNd8"
   },
   "source": [
    "But this fiddling about with comprehensions isn't great either... let's write another function! This one only needs to take `data` as input."
   ]
  },
  {
   "cell_type": "code",
   "execution_count": null,
   "metadata": {
    "id": "jzRJ4OdTCNd8"
   },
   "outputs": [],
   "source": [
    "def wf_to_mf_from_data(data):\n",
    "    wfs = [m_data['wt'] for m_data in data.values()]\n",
    "    mws = [m_data['Mw'] for m_data in data.values()]\n",
    "    \n",
    "    mfs = wf_to_mf(wfs, mws)\n",
    "    \n",
    "    return {k:mf for k, mf in zip(data.keys(), mfs)}"
   ]
  },
  {
   "cell_type": "markdown",
   "metadata": {
    "id": "6pYDfNHOCNd8"
   },
   "source": [
    "In this function, we've used a *dictionary comprehension* which does a similar job as a list comprehension, but for dictionaries."
   ]
  },
  {
   "cell_type": "markdown",
   "metadata": {
    "id": "pt9yhWdUCNd8"
   },
   "source": [
    "Solving the question is now as easy as:"
   ]
  },
  {
   "cell_type": "code",
   "execution_count": null,
   "metadata": {
    "id": "L3fP-TT2CNd9"
   },
   "outputs": [],
   "source": [
    "result = wf_to_mf_from_data(data)\n",
    "\n",
    "for gas, mole_fraction in result.items():\n",
    "    print(f'mol% {gas} = {mole_fraction:.2f}%')"
   ]
  },
  {
   "cell_type": "markdown",
   "metadata": {
    "id": "bhZFyEbTCNd9"
   },
   "source": [
    "### Conclusion\n",
    "\n",
    "In this notebook we talked about creating our own functions to make it easier to run sections of code over and over. This allows us to create a toolset we use to solve a problem in a few lines. For example, using the function we created earlier, we can solve a different, but similar, problem:\n",
    "\n",
    "| gas | weight % | molecular mass           |\n",
    "|:--- | --- | --- |\n",
    "|             |          | ${\\rm g\\, mol^{-1}}$ |\n",
    "| O$_2$       |     $16.0$ |       $32.0$ |\n",
    "| CO          |     $ 4.0$ |       $28.0$ |\n",
    "| CO$_2$      |     $17.0$ |       $44.0$ |\n",
    "| N$_2$       |     $63.0$ |       $28.0$ |"
   ]
  },
  {
   "cell_type": "code",
   "execution_count": null,
   "metadata": {
    "id": "X-gqOCmrCNd9"
   },
   "outputs": [],
   "source": [
    "data = {}\n",
    "\n",
    "data['O2'] = {'wt':28.0, 'Mw':32.0}\n",
    "data['CO'] = {'wt':4.0, 'Mw':28.0}\n",
    "data['CO2'] = {'wt':17.0, 'Mw':44.0}\n",
    "data['N2'] = {'wt':51.0, 'Mw':28.0}\n",
    "\n",
    "result = wf_to_mf_from_data(data)\n",
    "\n",
    "for gas, mole_fraction in result.items():\n",
    "    print(f'mol% {gas} = {mole_fraction:.2f}%')"
   ]
  },
  {
   "cell_type": "markdown",
   "metadata": {
    "id": "SRyeog_yCNd9"
   },
   "source": [
    "In the next notebook, we will learn about the python library: [Sympy](https://colab.research.google.com/github/mjksill/CCP5SummerSchool/blob/master/notebooks/CCP5-sympy.ipynb), and solving equations symbolically using python."
   ]
  }
 ],
 "metadata": {
  "colab": {
   "name": "python_functions.ipynb",
   "provenance": []
  },
  "kernelspec": {
   "display_name": "Python 3 (ipykernel)",
   "language": "python",
   "name": "python3"
  },
  "language_info": {
   "codemirror_mode": {
    "name": "ipython",
    "version": 3
   },
   "file_extension": ".py",
   "mimetype": "text/x-python",
   "name": "python",
   "nbconvert_exporter": "python",
   "pygments_lexer": "ipython3",
   "version": "3.12.3"
  }
 },
 "nbformat": 4,
 "nbformat_minor": 4
}
