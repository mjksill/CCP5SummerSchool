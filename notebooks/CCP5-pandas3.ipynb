{
 "cells": [
  {
   "cell_type": "markdown",
   "metadata": {
    "id": "view-in-github"
   },
   "source": [
    "<a href=\"https://colab.research.google.com/github/mjksill/CP540-online/blob/main/notebooks/Pandas_3_Importing_Data_from_Website.ipynb\" target=\"_parent\"><img src=\"https://colab.research.google.com/assets/colab-badge.svg\" alt=\"Open In Colab\"/></a>"
   ]
  },
  {
   "cell_type": "markdown",
   "metadata": {
    "id": "4GBgRsbsKF68"
   },
   "source": [
    "# Importing data into Pandas directly from websites\n",
    "\n",
    "This worksheet will look at using pandas to import data from websites where csv have been uploaded, and build further on the manipulation of data we seen in the previous worksheet. Today we will use data from the [Open Power Systems Data site](https://data.open-power-system-data.org/renewable_power_plants/), which has multiple CSV files for different countries showing their renewable energy power power plants and subsequent capacity.  If you hover over the links for each country, you will see that there is a URL associated with each CSV file.  Instead of downloading the CSV file from the website and then uploading it into Python, we can directly import the data into a Pandas data frame using the URL:"
   ]
  },
  {
   "cell_type": "code",
   "execution_count": 1,
   "metadata": {
    "id": "KfTGjNAIqz-7"
   },
   "outputs": [
    {
     "name": "stdout",
     "output_type": "stream",
     "text": [
      "      electrical_capacity energy_source_level_1 energy_source_level_2  \\\n",
      "0                     9.9      Renewable energy                 Hydro   \n",
      "1                    19.5      Renewable energy                 Hydro   \n",
      "2                    65.0      Renewable energy                 Hydro   \n",
      "3                    32.0      Renewable energy                 Hydro   \n",
      "4                    15.0      Renewable energy                 Hydro   \n",
      "...                   ...                   ...                   ...   \n",
      "2615                  0.5      Renewable energy                 Solar   \n",
      "2616                  0.2      Renewable energy                 Solar   \n",
      "2617                  0.4      Renewable energy                 Solar   \n",
      "2618                  0.5      Renewable energy                 Solar   \n",
      "2619                  5.0      Renewable energy                 Solar   \n",
      "\n",
      "     energy_source_level_3                       technology data_source  \\\n",
      "0                      NaN  Other or unspecified technology        BEIS   \n",
      "1                      NaN  Other or unspecified technology        BEIS   \n",
      "2                      NaN  Other or unspecified technology        BEIS   \n",
      "3                      NaN  Other or unspecified technology        BEIS   \n",
      "4                      NaN  Other or unspecified technology        BEIS   \n",
      "...                    ...                              ...         ...   \n",
      "2615                   NaN                    Photovoltaics        BEIS   \n",
      "2616                   NaN                    Photovoltaics        BEIS   \n",
      "2617                   NaN                    Photovoltaics        BEIS   \n",
      "2618                   NaN                    Photovoltaics        BEIS   \n",
      "2619                   NaN                    Photovoltaics        BEIS   \n",
      "\n",
      "     nuts_1_region nuts_2_region nuts_3_region       lon  ...   country  \\\n",
      "0              UKL          UKL1         UKL12 -4.033500  ...     Wales   \n",
      "1              UKM          UKM6         UKM63 -4.963406  ...  Scotland   \n",
      "2              UKM          UKM6         UKM63 -5.072590  ...  Scotland   \n",
      "3              UKL          UKL1         UKL13 -3.842614  ...     Wales   \n",
      "4              UKM          UKM7         UKM77 -3.740559  ...  Scotland   \n",
      "...            ...           ...           ...       ...  ...       ...   \n",
      "2615           UKD          UKD3         UKD36 -2.489471  ...   England   \n",
      "2616           UKM          UKM7         UKM72 -3.408873  ...  Scotland   \n",
      "2617           UKH          UKH1         UKH12 -0.039911  ...   England   \n",
      "2618           UKE          UKE1         UKE13 -0.045784  ...   England   \n",
      "2619           UKL          UKL1         UKL16 -2.993490  ...     Wales   \n",
      "\n",
      "     commissioning_date solar_mounting_type  chp capacity_individual_turbine  \\\n",
      "0            1906-01-01                 NaN  NaN                         NaN   \n",
      "1            1909-01-01                 NaN  NaN                         NaN   \n",
      "2            1929-01-01                 NaN  NaN                         NaN   \n",
      "3            1938-01-01                 NaN  NaN                         NaN   \n",
      "4            1950-01-01                 NaN  NaN                         NaN   \n",
      "...                 ...                 ...  ...                         ...   \n",
      "2615         2020-03-27                Roof  NaN                         NaN   \n",
      "2616         2020-03-31              Ground  NaN                         NaN   \n",
      "2617         2020-04-02              Ground  NaN                         NaN   \n",
      "2618         2020-06-03                Roof  NaN                         NaN   \n",
      "2619         2020-12-02              Ground  NaN                         NaN   \n",
      "\n",
      "     number_of_turbines                         site_name uk_beis_id  \\\n",
      "0                   NaN                          Cwm Dyli       4882   \n",
      "1                   NaN  Kinlochleven Hydro Power Station        391   \n",
      "2                   NaN                          Lochaber       6601   \n",
      "3                   NaN                         Dolgarrog       4881   \n",
      "4                   NaN                         Pitlochry        394   \n",
      "...                 ...                               ...        ...   \n",
      "2615                NaN              Tesco Crab Tree Lane       7251   \n",
      "2616                NaN                  St Margarets Bay       7267   \n",
      "2617                NaN          Lamp Hill Wimpole Estate       7269   \n",
      "2618                NaN              Hewitts Avenue Tesco       7448   \n",
      "2619                NaN               Mamhilad Solar Farm       5683   \n",
      "\n",
      "                                operator  comment  \n",
      "0                                    RWE      NaN  \n",
      "1        Hydro Plan (on behalf of Alcan)      NaN  \n",
      "2                           GFG Alliance      NaN  \n",
      "3                                    RWE      NaN  \n",
      "4     Scottish and Southern Energy (SSE)      NaN  \n",
      "...                                  ...      ...  \n",
      "2615                        Tesco Stores      NaN  \n",
      "2616                      Scottish Water      NaN  \n",
      "2617                      National Trust      NaN  \n",
      "2618                         Push Energy      NaN  \n",
      "2619                   Active Renewables      NaN  \n",
      "\n",
      "[2620 rows x 25 columns]\n",
      "Index(['electrical_capacity', 'energy_source_level_1', 'energy_source_level_2',\n",
      "       'energy_source_level_3', 'technology', 'data_source', 'nuts_1_region',\n",
      "       'nuts_2_region', 'nuts_3_region', 'lon', 'lat', 'municipality',\n",
      "       'postcode', 'address', 'region', 'country', 'commissioning_date',\n",
      "       'solar_mounting_type', 'chp', 'capacity_individual_turbine',\n",
      "       'number_of_turbines', 'site_name', 'uk_beis_id', 'operator', 'comment'],\n",
      "      dtype='object')\n"
     ]
    }
   ],
   "source": [
    "import pandas as pd\n",
    "import io\n",
    "\n",
    "All_countries = {'Germany' : 'DE',                          # We can create a dictionary for all the possible countries\n",
    "                 'Denmark' : 'DK',\n",
    "                 'France' : 'FR',\n",
    "                 'Poland' : 'PL',\n",
    "                 'United Kingdom' : 'UK',\n",
    "                 'Switzerland' : 'CH',\n",
    "                 'Sweden' : 'SE',\n",
    "                 'Czech Republic' : 'CZ'}\n",
    "\n",
    "Chosen_country = 'United Kingdom'                          # We can then define the country we want to look at\n",
    "Country = All_countries[Chosen_country]                    # This assigns the country code, i.e. 'UK' to Country\n",
    "\n",
    "URL = f'https://data.open-power-system-data.org/renewable_power_plants/2020-08-25/renewable_power_plants_{Country}.csv'\n",
    "                                                            # This can then be used to pull the specific file we want from the website\n",
    "\n",
    "df = pd.read_csv(URL, lineterminator='\\n', skipinitialspace=True)\n",
    "print(df)\n",
    "print(df.columns)\n"
   ]
  },
  {
   "cell_type": "markdown",
   "metadata": {
    "id": "GK8bTK6PPdwS"
   },
   "source": [
    "As we can see this is a large file with many columns that are either not important to us, or not filled with any data. Thus we should look to remove them. Looking at all the headings when opening the csv file, the only columns we want to keep are 'electrical_capacity', 'energy_source_level_2', 'region' and 'country'. Due to `pandas` indexing, these correspond to columns 0, 2, 14 and 15. So we can go ahead and remove all the other unrequired columns."
   ]
  },
  {
   "cell_type": "code",
   "execution_count": null,
   "metadata": {
    "id": "nJWDPLiKj_YY"
   },
   "outputs": [],
   "source": [
    "df = df.drop(df.columns[[1,3,4,5,6,7,8,9,10,11,12,13,16,17,18,19,20,21,22,23,24]], axis=1)\n",
    "\n",
    "print(df)"
   ]
  },
  {
   "cell_type": "markdown",
   "metadata": {
    "id": "e1_CioQrTH0i"
   },
   "source": [
    "Now we need to find all the regions where renewable energy plants are stationed in the UK. This can be done by collecting all the unique regions mentioned in the column and collecting them in a list."
   ]
  },
  {
   "cell_type": "code",
   "execution_count": null,
   "metadata": {
    "id": "qD76NG7cP1H6"
   },
   "outputs": [],
   "source": [
    "region = df['region'].unique().tolist()                        # This collects all different regions in the column 'region', removes any repeated elements,\n",
    "                                                               # and puts the result in a list for us to use\n",
    "print(region)"
   ]
  },
  {
   "cell_type": "markdown",
   "metadata": {
    "id": "G_9bAlR8WZWN"
   },
   "source": [
    "But wait. At the end of the list we can see there is a region called 'nan'. This is not a region, it is what pandas puts at a point in the dataframe when there is missing or no data in the corresponding cell in the csv file. We could leave this in, but it's untidy, so it is better to remove it."
   ]
  },
  {
   "cell_type": "code",
   "execution_count": null,
   "metadata": {
    "id": "tkOh9L4wWDGv"
   },
   "outputs": [],
   "source": [
    "df = df.dropna()                                            # This command will remove rows that are missing data in one or more columns\n",
    "\n",
    "places = df['region'].unique().tolist()                        # We can create a new list, where 'nan' isn't included\n",
    "print(places)"
   ]
  },
  {
   "cell_type": "markdown",
   "metadata": {
    "id": "D4D8KUlkU8cW"
   },
   "source": [
    "Say we now want to find out how much electrical capacity there is in each region of the UK from these renewable energy plants.  We can use a similar method to that used last time when we were calculating the solar energy produced."
   ]
  },
  {
   "cell_type": "code",
   "execution_count": null,
   "metadata": {
    "id": "z0-GnnctpF42"
   },
   "outputs": [],
   "source": [
    "import pylab as plt\n",
    "import numpy as np\n",
    "\n",
    "sumcapacity = []                                            # Create an empty list to collect the summed capacity in\n",
    "\n",
    "for i in places:\n",
    "   sumcapacity.append((df.loc[df['region'] == i, 'electrical_capacity'].sum()))  # This makes use of the Boolean principles,\n",
    "                                                                              # It will sum the electrical capacity and deposit in the list created\n",
    "\n",
    "print(sumcapacity)\n",
    "\n",
    "height = sumcapacity                                        # We can then plot a bar graph to show this data\n",
    "bars = places\n",
    "y_pos = np.arange(len(bars))\n",
    "\n",
    "# Create bars\n",
    "plt.bar(y_pos, height)\n",
    "\n",
    "# Create names on the x-axis\n",
    "plt.xticks(y_pos, bars)\n",
    "plt.xticks(rotation=90)\n",
    "\n",
    "plt.xlabel('Regions')\n",
    "plt.ylabel('Electrical Capacity (MW)')\n",
    "\n",
    "# Show graphic\n",
    "plt.show()"
   ]
  },
  {
   "cell_type": "markdown",
   "metadata": {
    "id": "q5mlU_rVZXnO"
   },
   "source": [
    "We can again use a pie chart to show the share of the UK's capacity between regions."
   ]
  },
  {
   "cell_type": "code",
   "execution_count": null,
   "metadata": {
    "id": "KLi23WHVwuzz"
   },
   "outputs": [],
   "source": [
    "# Create a pieplot\n",
    "plt.pie(sumcapacity, labels=places, labeldistance=1.15);\n",
    "\n",
    "plt.show()"
   ]
  },
  {
   "cell_type": "markdown",
   "metadata": {
    "id": "mj6YuGP9b1Bz"
   },
   "source": [
    "We can also apply filters to extract specific data from the dataframe. So for example, we can filter the data down to only renewable solar sources in Scotland, and find the total capacity for solar energy."
   ]
  },
  {
   "cell_type": "code",
   "execution_count": null,
   "metadata": {
    "id": "21a5h1tObxsX"
   },
   "outputs": [],
   "source": [
    "is_scotland =  df['region']=='Scotland'                     # All the rows which contain 'Scotland' in the region column are collected\n",
    "\n",
    "\n",
    "df_scotland = df[is_scotland]                               # And a new dataframe is made which contains only these rows\n",
    "print(df_scotland)\n",
    "\n",
    "is_solar = df_scotland['energy_source_level_2']=='Solar'    # We repeat this process, although this time we collect all the rows which contain 'solar' in the source column\n",
    "df_scot_solar = df_scotland[is_solar]                       # And a new dataframe is created again\n",
    "print(df_scot_solar)\n",
    "\n",
    "Total = df_scot_solar['electrical_capacity'].sum()          # We can then sum the values in the second data frame created to find a total value for solar capacity\n",
    "print(f'Scotlands electrical capacity from solar sources is {Total} MW')    # And then print this on the sheet\n"
   ]
  },
  {
   "cell_type": "markdown",
   "metadata": {
    "id": "7oa01knEaXhf"
   },
   "source": [
    "The fact that we have written a program to perform the calculation for Scotland's electric capacity from solar sources, allows us to easily perform the same calculation for any other of Scotland's renewable energy sources.  In fact, we can construct a pie chart to see the relative proportions of each type of renewable."
   ]
  },
  {
   "cell_type": "code",
   "execution_count": null,
   "metadata": {
    "id": "kbu6MF1XaYKg"
   },
   "outputs": [],
   "source": [
    "print( df_scotland['energy_source_level_2'].unique().tolist() )\n",
    "\n",
    "renewable_list = df_scotland['energy_source_level_2'].unique().tolist()\n",
    "\n",
    "data_list = []\n",
    "for renewable in renewable_list:\n",
    "  check = df_scotland['energy_source_level_2'] == renewable\n",
    "  tmp = df_scotland[check]\n",
    "  total = tmp['electrical_capacity'].sum()\n",
    "  data_list.append(total)\n",
    "  print(f'{renewable}: {total:.1f} MW')\n",
    "\n",
    "plt.pie(data_list, labels=renewable_list)\n",
    "plt.title('Scotland')\n",
    "plt.show()"
   ]
  },
  {
   "cell_type": "code",
   "execution_count": null,
   "metadata": {
    "id": "KYjZYHo29QoT"
   },
   "outputs": [],
   "source": [
    "print( df_scotland['energy_source_level_2'].unique().tolist() )\n",
    "\n",
    "renewable_list = df_scotland['energy_source_level_2'].unique().tolist()\n",
    "\n",
    "data_list = []\n",
    "for renewable in renewable_list:\n",
    "  check = df_scotland['energy_source_level_2'] == renewable\n",
    "  tmp = df_scotland[check]\n",
    "  total = tmp['electrical_capacity'].sum()\n",
    "  data_list.append(total)\n",
    "  print(f'{renewable}: {total:.1f} MW')\n",
    "\n",
    "plt.bar(renewable_list, data_list)\n",
    "plt.title('Scotland')\n",
    "plt.ylabel('capacity / MW')\n",
    "plt.show()"
   ]
  },
  {
   "cell_type": "markdown",
   "metadata": {
    "id": "2QVIs8krAJS9"
   },
   "source": [
    "In fact, we can repeat the entire process in a fairly simple manner for any country that we wish."
   ]
  },
  {
   "cell_type": "code",
   "execution_count": null,
   "metadata": {
    "id": "424mZsqJ987d"
   },
   "outputs": [],
   "source": [
    "import pandas as pd\n",
    "import io\n",
    "\n",
    "All_countries = {'Germany' : 'DE',                          # We can create a dictionary for all the possible countries\n",
    "                 'Denmark' : 'DK',\n",
    "                 'France' : 'FR',\n",
    "                 'Poland' : 'PL',\n",
    "                 'United Kingdom' : 'UK',\n",
    "                 'Switzerland' : 'CH',\n",
    "                 'Sweden' : 'SE',\n",
    "                 'Czech Republic' : 'CZ'}\n",
    "\n",
    "Chosen_country = 'Germany'                          # We can then define the country we want to look at\n",
    "Country = All_countries[Choosen_country]                    # This assigns the country code, i.e. 'UK' to Country\n",
    "\n",
    "URL = f'https://data.open-power-system-data.org/renewable_power_plants/2020-08-25/renewable_power_plants_{Country}.csv'\n",
    "                                                            # This can then be used to pull the specific file we want from the website\n",
    "\n",
    "df = pd.read_csv(URL, lineterminator='\\n', skipinitialspace=True)\n",
    "\n",
    "renewable_list = df['energy_source_level_2'].unique().tolist()\n",
    "\n",
    "data_list = []\n",
    "for renewable in renewable_list:\n",
    "  check = df['energy_source_level_2'] == renewable\n",
    "  tmp = df[check]\n",
    "  total = tmp['electrical_capacity'].sum()\n",
    "  data_list.append(total)\n",
    "  print(f'{renewable}: {total:.1f} MW')\n",
    "\n",
    "plt.bar(renewable_list, data_list)\n",
    "plt.title(Chosen_country)\n",
    "plt.ylabel('capacity / MW')\n",
    "plt.show()"
   ]
  },
  {
   "cell_type": "markdown",
   "metadata": {
    "id": "oLhKjeFKDECR"
   },
   "source": [
    "In fact, we can put the entire process in a loop to repeat the entire analysis for all the countries available in the website."
   ]
  },
  {
   "cell_type": "code",
   "execution_count": null,
   "metadata": {
    "id": "vxjtmd4bCsfm"
   },
   "outputs": [],
   "source": [
    "import pandas as pd\n",
    "import io\n",
    "\n",
    "All_countries = {'Germany' : 'DE',                          # We can create a dictionary for all the possible countries\n",
    "                 'Denmark' : 'DK',\n",
    "                 'France' : 'FR',\n",
    "                 'Poland' : 'PL',\n",
    "                 'United Kingdom' : 'UK',\n",
    "                 'Switzerland' : 'CH',\n",
    "                 'Sweden' : 'SE',\n",
    "                 'Czech Republic' : 'CZ'}\n",
    "\n",
    "for key, Country in All_countries.items():\n",
    "\n",
    "  print(key)\n",
    "  URL = f'https://data.open-power-system-data.org/renewable_power_plants/2020-08-25/renewable_power_plants_{Country}.csv'\n",
    "  df = pd.read_csv(URL, lineterminator='\\n', skipinitialspace=True)\n",
    "\n",
    "  renewable_list = df['energy_source_level_2'].unique().tolist()\n",
    "\n",
    "  data_list = []\n",
    "  for renewable in renewable_list:\n",
    "    check = df['energy_source_level_2'] == renewable\n",
    "    tmp = df[check]\n",
    "    total = tmp['electrical_capacity'].sum()\n",
    "    data_list.append(total)\n",
    "    print(f'{renewable}: {total:.1f} MW')\n",
    "\n",
    "  plt.bar(renewable_list, data_list)\n",
    "  plt.title(key)\n",
    "  plt.ylabel('capacity / MW')\n",
    "  plt.show()"
   ]
  },
  {
   "cell_type": "markdown",
   "metadata": {
    "id": "Fbzz03XxziiQ"
   },
   "source": [
    "### Conclusion\n",
    "\n",
    "In this notebook, we have seen how to import data directly from a CSV file located on a website.  We have also learned more about filtering manipulating data frames to determine the results we want.  Writing the processing steps in code allowed us to easily repeat any analysis on any data set."
   ]
  }
 ],
 "metadata": {
  "colab": {
   "provenance": [
    {
     "file_id": "1I3S0X-Jsc4u7GsfticEtf2FTKRdE60j0",
     "timestamp": 1694017162083
    }
   ]
  },
  "kernelspec": {
   "display_name": "Python 3 (ipykernel)",
   "language": "python",
   "name": "python3"
  },
  "language_info": {
   "codemirror_mode": {
    "name": "ipython",
    "version": 3
   },
   "file_extension": ".py",
   "mimetype": "text/x-python",
   "name": "python",
   "nbconvert_exporter": "python",
   "pygments_lexer": "ipython3",
   "version": "3.12.3"
  }
 },
 "nbformat": 4,
 "nbformat_minor": 4
}
